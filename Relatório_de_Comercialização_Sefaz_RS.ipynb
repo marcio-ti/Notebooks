{
  "nbformat": 4,
  "nbformat_minor": 0,
  "metadata": {
    "colab": {
      "provenance": []
    },
    "kernelspec": {
      "name": "python3",
      "display_name": "Python 3"
    },
    "language_info": {
      "name": "python"
    }
  },
  "cells": [
    {
      "cell_type": "markdown",
      "source": [
        "# Relatório de Comercialização Sefaz RS 2023\n",
        "---"
      ],
      "metadata": {
        "id": "OrgVx-LVseFB"
      }
    },
    {
      "cell_type": "code",
      "execution_count": null,
      "metadata": {
        "id": "haStH7BWsa8y"
      },
      "outputs": [],
      "source": [
        "import pandas as pd\n",
        "import warnings\n",
        "warnings.filterwarnings('ignore')\n",
        "pd.options.display.float_format = '{:.2f}'.format"
      ]
    },
    {
      "cell_type": "markdown",
      "source": [
        "## Leitura e Primeiro Processamento dos dados de arquivo CSV"
      ],
      "metadata": {
        "id": "w6pJH0BrswTe"
      }
    },
    {
      "cell_type": "code",
      "source": [
        "dados = pd.read_csv(\n",
        "r\"C:\\Users\\marci\\OneDrive\\CEASA\\Fechamento 2023\\dados2023 sem matricula.csv\",\n",
        "sep=\";\",\n",
        "decimal=\",\",\n",
        "thousands=\".\",\n",
        "parse_dates=['data'])"
      ],
      "metadata": {
        "id": "FmYhtcUVstHt"
      },
      "execution_count": null,
      "outputs": []
    },
    {
      "cell_type": "markdown",
      "source": [
        "## Filtragem dos dados"
      ],
      "metadata": {
        "id": "OUDPpktMs2jP"
      }
    },
    {
      "cell_type": "code",
      "source": [
        "#Filtrando o Estado para apenas RS\n",
        "df = dados.loc[dados['estado'] == \"RIO GRANDE DO SUL\"].copy(deep=True)\n",
        "\n",
        "#Deletando as colunas desnecessárias\n",
        "df.drop(columns=['pais','estado','destino','nota_fiscal','unidade','quantidade','peso_kg','cotação','produto','volume'], inplace=True)\n",
        "\n",
        "# Filtrando os dados para apenas Produtores do RS\n",
        "df = df.loc[df['atac_gnp'] == 'GNP']\n",
        "\n",
        "df['data'] = pd.to_datetime(df['data'])\n",
        "df['mes'] = df['data'].dt.month\n",
        "meses_do_ano_nomes = {1:\"Jan\", 2:\"Fev\",3:\"Mar\",4:\"Abr\",5:\"Mai\",6:\"Jun\",7:\"Jul\",8:\"Ago\",9:\"Set\",10:\"Out\",11:\"Nov\",12:\"Dez\"}\n",
        "df[\"mes\"] = df[\"mes\"].map(meses_do_ano_nomes)\n",
        "\n",
        "# Selecionando as colunas necessárias\n",
        "df = df[['mes','procedencia','valor comercializado']]\n",
        "\n",
        "# Agrupando os dados pelo mês e procedência\n",
        "df = df.groupby(['procedencia','mes'])['valor comercializado'].sum().reset_index()"
      ],
      "metadata": {
        "id": "WjiSNK4-s3gl"
      },
      "execution_count": null,
      "outputs": []
    },
    {
      "cell_type": "markdown",
      "source": [
        "## Criando e exportando a tabela"
      ],
      "metadata": {
        "id": "wH7BsEiltAni"
      }
    },
    {
      "cell_type": "code",
      "source": [
        "# Pivotando a tabela\n",
        "df = df.copy(deep=True)\n",
        "df = df.pivot(index='procedencia', columns='mes', values='valor comercializado')\n",
        "\n",
        "# Ajustando a ordem das colunas\n",
        "df = df[['Jan','Fev','Mar','Abr','Mai','Jun','Jul','Ago','Set','Out','Nov','Dez']]\n",
        "\n",
        "# Criando uma Coluna de Totais\n",
        "df['Total'] = df[['Jan','Fev','Mar','Abr','Mai','Jun','Jul','Ago','Set','Out','Nov','Dez']].sum(axis=1)\n",
        "\n",
        "# Melhorando a estilização da tabela\n",
        "df = df.fillna(0)\n",
        "df = df.style.format(precision=2, thousands=\".\", decimal=\",\").background_gradient(cmap='Greens', axis=1)\n",
        "df\n",
        "# df.to_excel(r\"C:\\Users\\marci\\OneDrive\\CEASA\\Fechamento 2023\\2023 ICMS SEFAZ RS.xlsx\")"
      ],
      "metadata": {
        "id": "RDGA2w-3tBlE"
      },
      "execution_count": null,
      "outputs": []
    }
  ]
}