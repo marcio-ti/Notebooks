{
  "nbformat": 4,
  "nbformat_minor": 0,
  "metadata": {
    "colab": {
      "provenance": []
    },
    "kernelspec": {
      "name": "python3",
      "display_name": "Python 3"
    },
    "language_info": {
      "name": "python"
    }
  },
  "cells": [
    {
      "cell_type": "markdown",
      "source": [
        "# Gastos com Educação - Canoas RS\n",
        "---"
      ],
      "metadata": {
        "id": "8TcO3i-WwtMe"
      }
    },
    {
      "cell_type": "markdown",
      "source": [
        "## Importações das Bibliotecas necessárias"
      ],
      "metadata": {
        "id": "gDRYku8twyh7"
      }
    },
    {
      "cell_type": "code",
      "execution_count": null,
      "metadata": {
        "id": "x_61eCdEwrRB"
      },
      "outputs": [],
      "source": [
        "import pandas as pd\n",
        "import warnings\n",
        "import locale\n",
        "from datetime import datetime\n",
        "import matplotlib.pyplot as plt\n",
        "import seaborn as sns\n",
        "from Demos.mmapfile_demo import offset\n",
        "\n",
        "warnings.filterwarnings('ignore')\n",
        "pd.options.display.float_format = '{:.3f}'.format\n",
        "locale.setlocale(locale.LC_ALL, 'pt_BR.UTF-8')"
      ]
    },
    {
      "cell_type": "markdown",
      "source": [
        "## Definições de Design utilizado no Projeto"
      ],
      "metadata": {
        "id": "93_OONGow7cu"
      }
    },
    {
      "cell_type": "code",
      "source": [
        "# Definindo a paleta de cores\n",
        "AZUL1, AZUL2, AZUL3, AZUL4, AZUL5 = '#03045e', '#0077b6', \"#00b4d8\", '#90e0ef', '#CDDBF3'\n",
        "GREEN1, GREEN2,GREEN3,GREEN4, GREEN5 = '#006c00','#077b4d','#32a58b','#15ab92','#9ddbc9'\n",
        "CINZA1, CINZA2, CINZA3, CINZA4, CINZA5 = '#212529', '#495057', '#adb5bd', '#dee2e6', '#f8f9fa'\n",
        "VERMELHO1, LARANJA1, AMARELO1, VERDE1, VERDE2 = '#e76f51', '#f4a261',\t'#e9c46a', '#4c956c', '#2a9d8f'"
      ],
      "metadata": {
        "id": "BtVR7IcaxB9Q"
      },
      "execution_count": null,
      "outputs": []
    },
    {
      "cell_type": "markdown",
      "source": [
        "## Manipulaçã dos dados"
      ],
      "metadata": {
        "id": "l7Ms6KVtxFmg"
      }
    },
    {
      "cell_type": "code",
      "source": [
        "caminho = 'dados/Finbra Despesas Orçamentárias e Por Função.xlsx'\n",
        "dados_desp_orcamentarias = pd.read_excel(caminho, sheet_name='Despesas Orçamentárias')\n",
        "dados_desp_funcao = pd.read_excel(caminho, sheet_name='Despesa por Função')"
      ],
      "metadata": {
        "id": "n8fZkyIKxIex"
      },
      "execution_count": null,
      "outputs": []
    },
    {
      "cell_type": "markdown",
      "source": [
        "### Filtrando os dados"
      ],
      "metadata": {
        "id": "NMKiVT07xKuo"
      }
    },
    {
      "cell_type": "code",
      "source": [
        "df_educacao = dados_desp_funcao[['ANO','DESPESA','Conta','Valor']].copy(deep=True)\n",
        "df_educacao = df_educacao.loc[df_educacao['Conta'] == '12 - Educação']\n",
        "\n",
        "df_educacao_empenhadas = df_educacao.loc[df_educacao['DESPESA'] == 'Despesas Empenhadas']\n",
        "df_educacao_empenhadas.set_index('ANO', inplace=True)\n",
        "\n",
        "df_educacao_liquidadas = df_educacao.loc[df_educacao['DESPESA'] == 'Despesas Liquidadas']\n",
        "df_educacao_liquidadas.set_index('ANO', inplace=True)"
      ],
      "metadata": {
        "id": "ZH5W2mcdxNXG"
      },
      "execution_count": null,
      "outputs": []
    },
    {
      "cell_type": "markdown",
      "source": [
        "## Gráfico de Despesas Empenhadas"
      ],
      "metadata": {
        "id": "dOk3N_hsxSo7"
      }
    },
    {
      "cell_type": "code",
      "source": [
        "cores = []\n",
        "\n",
        "for ano in df_educacao_empenhadas.index:\n",
        "\tif df_educacao_empenhadas.loc[ano, \"Valor\"] == df_educacao_empenhadas['Valor'].max():\n",
        "\t\tcores.append(AZUL2)\n",
        "\telse:\n",
        "\t\tcores.append(AZUL5)\n",
        "\n",
        "fig, ax = plt.subplots(figsize=(10, 4))\n",
        "sns.set_theme(style='white')\n",
        "\n",
        "\n",
        "ax = sns.barplot(data=df_educacao_empenhadas, x=df_educacao_empenhadas.index, y='Valor', palette=cores)\n",
        "\n",
        "ax.set_title(\"Despesas Empenhada com Educação\\n Município de Canoas / RS\", loc=\"left\", fontsize=17, color=CINZA1, pad=20)\n",
        "ax.set_xlabel(\"\")\n",
        "ax.set_ylabel(\"\")\n",
        "ax.xaxis.set_tick_params(labelsize=14, labelcolor=CINZA2)\n",
        "sns.despine(left=True, bottom=True)\n",
        "ax.set_yticklabels([])\n",
        "\n",
        "for i, valor in enumerate(df_educacao_empenhadas['Valor']):\n",
        "    qtd = f'R$ {valor:,.0f}'.replace(',','.')\n",
        "    offset = 1e7\n",
        "    ax.text(x=i, y=valor + offset, s=qtd, color=CINZA2, ha='center', va='center', fontsize=12, fontweight='bold')\n",
        "\n",
        "df_educacao_empenhadas['Diferenca'] = df_educacao_empenhadas['Valor'].diff()\n",
        "media = f'R$ {df_educacao_empenhadas['Diferenca'].mean():,.0f}'.replace(',','.')\n",
        "\n",
        "\n",
        "ax.text(3.5, 340.5e6,\n",
        "        'O aumento das despesas\\n'\n",
        "        f'foi aproximadamente {media}\\n'\n",
        "        'em média no período.',\n",
        "        fontsize=14, linespacing=1.45, color=AZUL2)\n",
        "\n",
        "\n",
        "\n",
        "plt.show()"
      ],
      "metadata": {
        "id": "rWL8eQkDxWAc"
      },
      "execution_count": null,
      "outputs": []
    }
  ]
}