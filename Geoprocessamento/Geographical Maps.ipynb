{
 "cells": [
  {
   "cell_type": "code",
   "metadata": {
    "collapsed": true,
    "ExecuteTime": {
     "end_time": "2025-05-09T14:18:07.628629Z",
     "start_time": "2025-05-09T14:18:06.326929Z"
    }
   },
   "source": [
    "import pandas as pd\n",
    "import geopandas as gpd"
   ],
   "outputs": [],
   "execution_count": 1
  },
  {
   "cell_type": "markdown",
   "source": [
    "Carregando os mapas do Brasil e do Estado do Rio Grande do Sul"
   ],
   "metadata": {
    "collapsed": false
   }
  },
  {
   "cell_type": "code",
   "execution_count": 2,
   "outputs": [
    {
     "data": {
      "text/plain": "       CD_MUN                 NM_MUN SIGLA_UF  AREA_KM2  \\\n0     1100015  Alta Floresta D'Oeste       RO  7067.127   \n1     1100023              Ariquemes       RO  4426.571   \n2     1100031                 Cabixi       RO  1314.352   \n3     1100049                 Cacoal       RO  3793.000   \n4     1100056             Cerejeiras       RO  2783.300   \n...       ...                    ...      ...       ...   \n5567  5222005             Vianópolis       GO   954.115   \n5568  5222054         Vicentinópolis       GO   733.794   \n5569  5222203               Vila Boa       GO  1052.593   \n5570  5222302          Vila Propício       GO  2181.593   \n5571  5300108               Brasília       DF  5760.784   \n\n                                               geometry  \n0     POLYGON ((-62.00806 -12.13379, -62.00784 -12.2...  \n1     POLYGON ((-63.17933 -10.13924, -63.17746 -10.1...  \n2     POLYGON ((-60.52408 -13.32137, -60.37162 -13.3...  \n3     POLYGON ((-61.35502 -11.50452, -61.35524 -11.5...  \n4     POLYGON ((-60.82135 -13.11910, -60.81773 -13.1...  \n...                                                 ...  \n5567  POLYGON ((-48.31126 -16.84221, -48.31170 -16.8...  \n5568  POLYGON ((-49.73613 -17.74427, -49.73624 -17.7...  \n5569  POLYGON ((-47.07780 -15.06364, -47.07799 -15.0...  \n5570  POLYGON ((-48.58713 -15.31847, -48.58714 -15.3...  \n5571  POLYGON ((-48.01472 -16.04996, -48.01573 -16.0...  \n\n[5572 rows x 5 columns]",
      "text/html": "<div>\n<style scoped>\n    .dataframe tbody tr th:only-of-type {\n        vertical-align: middle;\n    }\n\n    .dataframe tbody tr th {\n        vertical-align: top;\n    }\n\n    .dataframe thead th {\n        text-align: right;\n    }\n</style>\n<table border=\"1\" class=\"dataframe\">\n  <thead>\n    <tr style=\"text-align: right;\">\n      <th></th>\n      <th>CD_MUN</th>\n      <th>NM_MUN</th>\n      <th>SIGLA_UF</th>\n      <th>AREA_KM2</th>\n      <th>geometry</th>\n    </tr>\n  </thead>\n  <tbody>\n    <tr>\n      <th>0</th>\n      <td>1100015</td>\n      <td>Alta Floresta D'Oeste</td>\n      <td>RO</td>\n      <td>7067.127</td>\n      <td>POLYGON ((-62.00806 -12.13379, -62.00784 -12.2...</td>\n    </tr>\n    <tr>\n      <th>1</th>\n      <td>1100023</td>\n      <td>Ariquemes</td>\n      <td>RO</td>\n      <td>4426.571</td>\n      <td>POLYGON ((-63.17933 -10.13924, -63.17746 -10.1...</td>\n    </tr>\n    <tr>\n      <th>2</th>\n      <td>1100031</td>\n      <td>Cabixi</td>\n      <td>RO</td>\n      <td>1314.352</td>\n      <td>POLYGON ((-60.52408 -13.32137, -60.37162 -13.3...</td>\n    </tr>\n    <tr>\n      <th>3</th>\n      <td>1100049</td>\n      <td>Cacoal</td>\n      <td>RO</td>\n      <td>3793.000</td>\n      <td>POLYGON ((-61.35502 -11.50452, -61.35524 -11.5...</td>\n    </tr>\n    <tr>\n      <th>4</th>\n      <td>1100056</td>\n      <td>Cerejeiras</td>\n      <td>RO</td>\n      <td>2783.300</td>\n      <td>POLYGON ((-60.82135 -13.11910, -60.81773 -13.1...</td>\n    </tr>\n    <tr>\n      <th>...</th>\n      <td>...</td>\n      <td>...</td>\n      <td>...</td>\n      <td>...</td>\n      <td>...</td>\n    </tr>\n    <tr>\n      <th>5567</th>\n      <td>5222005</td>\n      <td>Vianópolis</td>\n      <td>GO</td>\n      <td>954.115</td>\n      <td>POLYGON ((-48.31126 -16.84221, -48.31170 -16.8...</td>\n    </tr>\n    <tr>\n      <th>5568</th>\n      <td>5222054</td>\n      <td>Vicentinópolis</td>\n      <td>GO</td>\n      <td>733.794</td>\n      <td>POLYGON ((-49.73613 -17.74427, -49.73624 -17.7...</td>\n    </tr>\n    <tr>\n      <th>5569</th>\n      <td>5222203</td>\n      <td>Vila Boa</td>\n      <td>GO</td>\n      <td>1052.593</td>\n      <td>POLYGON ((-47.07780 -15.06364, -47.07799 -15.0...</td>\n    </tr>\n    <tr>\n      <th>5570</th>\n      <td>5222302</td>\n      <td>Vila Propício</td>\n      <td>GO</td>\n      <td>2181.593</td>\n      <td>POLYGON ((-48.58713 -15.31847, -48.58714 -15.3...</td>\n    </tr>\n    <tr>\n      <th>5571</th>\n      <td>5300108</td>\n      <td>Brasília</td>\n      <td>DF</td>\n      <td>5760.784</td>\n      <td>POLYGON ((-48.01472 -16.04996, -48.01573 -16.0...</td>\n    </tr>\n  </tbody>\n</table>\n<p>5572 rows × 5 columns</p>\n</div>"
     },
     "execution_count": 2,
     "metadata": {},
     "output_type": "execute_result"
    }
   ],
   "source": [
    "brasil = gpd.read_file('Geoprocessamento/Dados Geográficos/Geo_municipios_BR.parquet')\n",
    "brasil"
   ],
   "metadata": {
    "collapsed": false,
    "ExecuteTime": {
     "end_time": "2023-07-06T12:32:19.294984800Z",
     "start_time": "2023-07-06T12:31:12.963984100Z"
    }
   }
  },
  {
   "cell_type": "code",
   "execution_count": 12,
   "outputs": [
    {
     "data": {
      "text/plain": "       CD_MUN  NM_MUN SIGLA_UF  AREA_KM2  \\\n3809  3548500  Santos       SP   281.033   \n\n                                               geometry  \n3809  MULTIPOLYGON (((-46.34970 -23.97084, -46.34968...  ",
      "text/html": "<div>\n<style scoped>\n    .dataframe tbody tr th:only-of-type {\n        vertical-align: middle;\n    }\n\n    .dataframe tbody tr th {\n        vertical-align: top;\n    }\n\n    .dataframe thead th {\n        text-align: right;\n    }\n</style>\n<table border=\"1\" class=\"dataframe\">\n  <thead>\n    <tr style=\"text-align: right;\">\n      <th></th>\n      <th>CD_MUN</th>\n      <th>NM_MUN</th>\n      <th>SIGLA_UF</th>\n      <th>AREA_KM2</th>\n      <th>geometry</th>\n    </tr>\n  </thead>\n  <tbody>\n    <tr>\n      <th>3809</th>\n      <td>3548500</td>\n      <td>Santos</td>\n      <td>SP</td>\n      <td>281.033</td>\n      <td>MULTIPOLYGON (((-46.34970 -23.97084, -46.34968...</td>\n    </tr>\n  </tbody>\n</table>\n</div>"
     },
     "execution_count": 12,
     "metadata": {},
     "output_type": "execute_result"
    }
   ],
   "source": [
    "cidade = brasil[brasil['CD_MUN'] == '3548500']\n",
    "cidade"
   ],
   "metadata": {
    "collapsed": false,
    "ExecuteTime": {
     "end_time": "2023-05-25T13:22:27.636257300Z",
     "start_time": "2023-05-25T13:22:27.556259400Z"
    }
   }
  },
  {
   "cell_type": "code",
   "execution_count": 5,
   "outputs": [],
   "source": [
    "rs = gpd.read_file('RS\\RS_Municipios_2022.shp')"
   ],
   "metadata": {
    "collapsed": false,
    "ExecuteTime": {
     "end_time": "2023-06-28T18:39:18.571038400Z",
     "start_time": "2023-06-28T18:39:16.349048700Z"
    }
   }
  },
  {
   "cell_type": "code",
   "execution_count": null,
   "outputs": [],
   "source": [
    "rs.head()"
   ],
   "metadata": {
    "collapsed": false,
    "is_executing": true
   }
  },
  {
   "cell_type": "code",
   "execution_count": null,
   "outputs": [],
   "source": [
    "rs.plot(color=\"white\",edgecolor=\"black\",figsize=(7,7))"
   ],
   "metadata": {
    "collapsed": false
   }
  },
  {
   "cell_type": "code",
   "execution_count": 6,
   "outputs": [
    {
     "data": {
      "text/plain": "<Axes: >"
     },
     "execution_count": 6,
     "metadata": {},
     "output_type": "execute_result"
    },
    {
     "data": {
      "text/plain": "<Figure size 640x480 with 1 Axes>",
      "image/png": "[encoded data removed]"
     },
     "metadata": {},
     "output_type": "display_data"
    }
   ],
   "source": [
    "cidade = rs[rs['NM_MUN'] == 'Porto Alegre']\n",
    "cidade.plot(color=\"blue\")"
   ],
   "metadata": {
    "collapsed": false,
    "ExecuteTime": {
     "end_time": "2023-06-28T18:39:23.773013400Z",
     "start_time": "2023-06-28T18:39:18.578041Z"
    }
   }
  }
 ],
 "metadata": {
  "kernelspec": {
   "display_name": "Python 3",
   "language": "python",
   "name": "python3"
  },
  "language_info": {
   "codemirror_mode": {
    "name": "ipython",
    "version": 2
   },
   "file_extension": ".py",
   "mimetype": "text/x-python",
   "name": "python",
   "nbconvert_exporter": "python",
   "pygments_lexer": "ipython2",
   "version": "2.7.6"
  }
 },
 "nbformat": 4,
 "nbformat_minor": 0
}
