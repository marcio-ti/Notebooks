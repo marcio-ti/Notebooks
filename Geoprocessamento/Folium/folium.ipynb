{
 "cells": [
  {
   "cell_type": "code",
   "execution_count": 1,
   "metadata": {
    "collapsed": true,
    "ExecuteTime": {
     "end_time": "2023-05-23T17:33:59.503694700Z",
     "start_time": "2023-05-23T17:33:57.735684600Z"
    }
   },
   "outputs": [],
   "source": [
    "import folium\n",
    "import pandas as pd"
   ]
  },
  {
   "cell_type": "code",
   "execution_count": 13,
   "outputs": [],
   "source": [
    "ler = pd.read_excel('local.xlsx',sheet_name='dados')"
   ],
   "metadata": {
    "collapsed": false,
    "ExecuteTime": {
     "end_time": "2023-05-18T15:57:42.739044400Z",
     "start_time": "2023-05-18T15:57:42.700624400Z"
    }
   }
  },
  {
   "cell_type": "code",
   "execution_count": 22,
   "outputs": [
    {
     "data": {
      "text/plain": "<folium.folium.Map at 0x2892cbe6020>",
      "text/html": "<div style=\"width:100%;\"><div style=\"position:relative;width:100%;height:0;padding-bottom:60%;\"><span style=\"color:#565656\">Make this Notebook Trusted to load map: File -> Trust Notebook</span><iframe srcdoc=\"&lt;!DOCTYPE html&gt;\n&lt;html&gt;\n&lt;head&gt;\n    \n    &lt;meta http-equiv=&quot;content-type&quot; content=&quot;text/html; charset=UTF-8&quot; /&gt;\n    \n        &lt;script&gt;\n            L_NO_TOUCH = false;\n            L_DISABLE_3D = false;\n        &lt;/script&gt;\n    \n    &lt;style&gt;html, body {width: 100%;height: 100%;margin: 0;padding: 0;}&lt;/style&gt;\n    &lt;style&gt;#map {position:absolute;top:0;bottom:0;right:0;left:0;}&lt;/style&gt;\n    &lt;script src=&quot;https://cdn.jsdelivr.net/npm/leaflet@1.9.3/dist/leaflet.js&quot;&gt;&lt;/script&gt;\n    &lt;script src=&quot;https://code.jquery.com/jquery-1.12.4.min.js&quot;&gt;&lt;/script&gt;\n    &lt;script src=&quot;https://cdn.jsdelivr.net/npm/bootstrap@5.2.2/dist/js/bootstrap.bundle.min.js&quot;&gt;&lt;/script&gt;\n    &lt;script src=&quot;https://cdnjs.cloudflare.com/ajax/libs/Leaflet.awesome-markers/2.0.2/leaflet.awesome-markers.js&quot;&gt;&lt;/script&gt;\n    &lt;link rel=&quot;stylesheet&quot; href=&quot;https://cdn.jsdelivr.net/npm/leaflet@1.9.3/dist/leaflet.css&quot;/&gt;\n    &lt;link rel=&quot;stylesheet&quot; href=&quot;https://cdn.jsdelivr.net/npm/bootstrap@5.2.2/dist/css/bootstrap.min.css&quot;/&gt;\n    &lt;link rel=&quot;stylesheet&quot; href=&quot;https://netdna.bootstrapcdn.com/bootstrap/3.0.0/css/bootstrap.min.css&quot;/&gt;\n    &lt;link rel=&quot;stylesheet&quot; href=&quot;https://cdn.jsdelivr.net/npm/@fortawesome/fontawesome-free@6.2.0/css/all.min.css&quot;/&gt;\n    &lt;link rel=&quot;stylesheet&quot; href=&quot;https://cdnjs.cloudflare.com/ajax/libs/Leaflet.awesome-markers/2.0.2/leaflet.awesome-markers.css&quot;/&gt;\n    &lt;link rel=&quot;stylesheet&quot; href=&quot;https://cdn.jsdelivr.net/gh/python-visualization/folium/folium/templates/leaflet.awesome.rotate.min.css&quot;/&gt;\n    \n            &lt;meta name=&quot;viewport&quot; content=&quot;width=device-width,\n                initial-scale=1.0, maximum-scale=1.0, user-scalable=no&quot; /&gt;\n            &lt;style&gt;\n                #map_bc5600af55e3727bf526e324c70837f2 {\n                    position: relative;\n                    width: 100.0%;\n                    height: 100.0%;\n                    left: 0.0%;\n                    top: 0.0%;\n                }\n                .leaflet-container { font-size: 1rem; }\n            &lt;/style&gt;\n        \n&lt;/head&gt;\n&lt;body&gt;\n    \n    \n            &lt;div class=&quot;folium-map&quot; id=&quot;map_bc5600af55e3727bf526e324c70837f2&quot; &gt;&lt;/div&gt;\n        \n&lt;/body&gt;\n&lt;script&gt;\n    \n    \n            var map_bc5600af55e3727bf526e324c70837f2 = L.map(\n                &quot;map_bc5600af55e3727bf526e324c70837f2&quot;,\n                {\n                    center: [-29.991897, -51.173641],\n                    crs: L.CRS.EPSG3857,\n                    zoom: 10,\n                    zoomControl: true,\n                    preferCanvas: false,\n                }\n            );\n\n            \n\n        \n    \n            var tile_layer_a821adf3847efff8dd9a3776552b7e26 = L.tileLayer(\n                &quot;https://stamen-tiles-{s}.a.ssl.fastly.net/terrain/{z}/{x}/{y}.jpg&quot;,\n                {&quot;attribution&quot;: &quot;Map tiles by \\u003ca target=\\&quot;_blank\\&quot; href=\\&quot;http://stamen.com\\&quot;\\u003eStamen Design\\u003c/a\\u003e, under \\u003ca target=\\&quot;_blank\\&quot; href=\\&quot;http://creativecommons.org/licenses/by/3.0\\&quot;\\u003eCC BY 3.0\\u003c/a\\u003e. Data by \\u0026copy; \\u003ca target=\\&quot;_blank\\&quot; href=\\&quot;http://openstreetmap.org\\&quot;\\u003eOpenStreetMap\\u003c/a\\u003e, under \\u003ca target=\\&quot;_blank\\&quot; href=\\&quot;http://creativecommons.org/licenses/by-sa/3.0\\&quot;\\u003eCC BY SA\\u003c/a\\u003e.&quot;, &quot;detectRetina&quot;: false, &quot;maxNativeZoom&quot;: 18, &quot;maxZoom&quot;: 18, &quot;minZoom&quot;: 0, &quot;noWrap&quot;: false, &quot;opacity&quot;: 1, &quot;subdomains&quot;: &quot;abc&quot;, &quot;tms&quot;: false}\n            ).addTo(map_bc5600af55e3727bf526e324c70837f2);\n        \n    \n            var marker_a6f617f2aee231dae74b5fd1e2b46d7b = L.marker(\n                [-299153779.0, -5117726993.0],\n                {}\n            ).addTo(map_bc5600af55e3727bf526e324c70837f2);\n        \n    \n        var popup_2c5b292f0a50175a5dd4a52ea26f5560 = L.popup({&quot;maxWidth&quot;: &quot;100%&quot;});\n\n        \n            \n                var html_1974c9ab34a092da5d3a2a85386bff83 = $(`&lt;div id=&quot;html_1974c9ab34a092da5d3a2a85386bff83&quot; style=&quot;width: 100.0%; height: 100.0%;&quot;&gt;CANOAS&lt;/div&gt;`)[0];\n                popup_2c5b292f0a50175a5dd4a52ea26f5560.setContent(html_1974c9ab34a092da5d3a2a85386bff83);\n            \n        \n\n        marker_a6f617f2aee231dae74b5fd1e2b46d7b.bindPopup(popup_2c5b292f0a50175a5dd4a52ea26f5560)\n        ;\n\n        \n    \n    \n            var marker_0658b96a5db0b276496e8d2185c4d837 = L.marker(\n                [-3010091665.0, -5118878819.0],\n                {}\n            ).addTo(map_bc5600af55e3727bf526e324c70837f2);\n        \n    \n        var popup_ac3a5c5e0c791bef1da2c1bbb790982c = L.popup({&quot;maxWidth&quot;: &quot;100%&quot;});\n\n        \n            \n                var html_df0e3d54e27dc7951972c6b8d42c3bcf = $(`&lt;div id=&quot;html_df0e3d54e27dc7951972c6b8d42c3bcf&quot; style=&quot;width: 100.0%; height: 100.0%;&quot;&gt;PORTO ALEGRE&lt;/div&gt;`)[0];\n                popup_ac3a5c5e0c791bef1da2c1bbb790982c.setContent(html_df0e3d54e27dc7951972c6b8d42c3bcf);\n            \n        \n\n        marker_0658b96a5db0b276496e8d2185c4d837.bindPopup(popup_ac3a5c5e0c791bef1da2c1bbb790982c)\n        ;\n\n        \n    \n    \n            var marker_40845066bfa4d0fb31886faefe7e901d = L.marker(\n                [-29850698.0, -5118343628.0],\n                {}\n            ).addTo(map_bc5600af55e3727bf526e324c70837f2);\n        \n    \n        var popup_c1482ca8ccbc274526a045b97480cb07 = L.popup({&quot;maxWidth&quot;: &quot;100%&quot;});\n\n        \n            \n                var html_f86019a3e4fd965ddd55a52bc02f510f = $(`&lt;div id=&quot;html_f86019a3e4fd965ddd55a52bc02f510f&quot; style=&quot;width: 100.0%; height: 100.0%;&quot;&gt;ESTEIO&lt;/div&gt;`)[0];\n                popup_c1482ca8ccbc274526a045b97480cb07.setContent(html_f86019a3e4fd965ddd55a52bc02f510f);\n            \n        \n\n        marker_40845066bfa4d0fb31886faefe7e901d.bindPopup(popup_c1482ca8ccbc274526a045b97480cb07)\n        ;\n\n        \n    \n    \n            var marker_e6562c71ad128bb04919b40cb15df9ba = L.marker(\n                [-298197019.0, -511608722.0],\n                {}\n            ).addTo(map_bc5600af55e3727bf526e324c70837f2);\n        \n    \n        var popup_75ad33f27ecc3ed9acbe5b5b01ee0940 = L.popup({&quot;maxWidth&quot;: &quot;100%&quot;});\n\n        \n            \n                var html_1afe29882bd681a8bf28059d04a3a98d = $(`&lt;div id=&quot;html_1afe29882bd681a8bf28059d04a3a98d&quot; style=&quot;width: 100.0%; height: 100.0%;&quot;&gt;SAPUCAIA&lt;/div&gt;`)[0];\n                popup_75ad33f27ecc3ed9acbe5b5b01ee0940.setContent(html_1afe29882bd681a8bf28059d04a3a98d);\n            \n        \n\n        marker_e6562c71ad128bb04919b40cb15df9ba.bindPopup(popup_75ad33f27ecc3ed9acbe5b5b01ee0940)\n        ;\n\n        \n    \n    \n            var marker_40ab46d5125cf40f6c3024bd3ed8359f = L.marker(\n                [-297420897.0, -5116902201.0],\n                {}\n            ).addTo(map_bc5600af55e3727bf526e324c70837f2);\n        \n    \n        var popup_faf510c94b313c41aadb5344a76b2473 = L.popup({&quot;maxWidth&quot;: &quot;100%&quot;});\n\n        \n            \n                var html_c2dbd025f7b4385d97882a8f7f2567f0 = $(`&lt;div id=&quot;html_c2dbd025f7b4385d97882a8f7f2567f0&quot; style=&quot;width: 100.0%; height: 100.0%;&quot;&gt;SÃO LEOPOLDO&lt;/div&gt;`)[0];\n                popup_faf510c94b313c41aadb5344a76b2473.setContent(html_c2dbd025f7b4385d97882a8f7f2567f0);\n            \n        \n\n        marker_40ab46d5125cf40f6c3024bd3ed8359f.bindPopup(popup_faf510c94b313c41aadb5344a76b2473)\n        ;\n\n        \n    \n    \n            var marker_942a2ef94227e9626107abc541a2e6a7 = L.marker(\n                [-300819338.0, -510261927.0],\n                {}\n            ).addTo(map_bc5600af55e3727bf526e324c70837f2);\n        \n    \n        var popup_b7d6c555c59911e5ecaf6fe71b98a55d = L.popup({&quot;maxWidth&quot;: &quot;100%&quot;});\n\n        \n            \n                var html_9af021874c22e4df3fb24a83ca5521fe = $(`&lt;div id=&quot;html_9af021874c22e4df3fb24a83ca5521fe&quot; style=&quot;width: 100.0%; height: 100.0%;&quot;&gt;VIAMAO&lt;/div&gt;`)[0];\n                popup_b7d6c555c59911e5ecaf6fe71b98a55d.setContent(html_9af021874c22e4df3fb24a83ca5521fe);\n            \n        \n\n        marker_942a2ef94227e9626107abc541a2e6a7.bindPopup(popup_b7d6c555c59911e5ecaf6fe71b98a55d)\n        ;\n\n        \n    \n    \n            var marker_9fd2eabf9c4ed390d154dd2c4e51661c = L.marker(\n                [-299189661.0, -5109303276.0],\n                {}\n            ).addTo(map_bc5600af55e3727bf526e324c70837f2);\n        \n    \n        var popup_f11a146088dffb1040bbd65f7df179d2 = L.popup({&quot;maxWidth&quot;: &quot;100%&quot;});\n\n        \n            \n                var html_ef6a2d600e9052f5aa860ce3380e8c31 = $(`&lt;div id=&quot;html_ef6a2d600e9052f5aa860ce3380e8c31&quot; style=&quot;width: 100.0%; height: 100.0%;&quot;&gt;CACHOEIRINHA&lt;/div&gt;`)[0];\n                popup_f11a146088dffb1040bbd65f7df179d2.setContent(html_ef6a2d600e9052f5aa860ce3380e8c31);\n            \n        \n\n        marker_9fd2eabf9c4ed390d154dd2c4e51661c.bindPopup(popup_f11a146088dffb1040bbd65f7df179d2)\n        ;\n\n        \n    \n&lt;/script&gt;\n&lt;/html&gt;\" style=\"position:absolute;width:100%;height:100%;left:0;top:0;border:none !important;\" allowfullscreen webkitallowfullscreen mozallowfullscreen></iframe></div></div>"
     },
     "execution_count": 22,
     "metadata": {},
     "output_type": "execute_result"
    }
   ],
   "source": [
    "mapa = folium.Map(location=[-29.991897, -51.173641],\n",
    "                  tiles='Stamen Terrain',\n",
    "                  zoom_start=10\n",
    "                  )\n",
    "\n",
    "for index, linha in ler.iterrows():\n",
    "    folium.Marker([linha['LAT'],linha['LONG']], popup=linha['CIDADE']).add_to(mapa)\n",
    "\n",
    "\n",
    "mapa"
   ],
   "metadata": {
    "collapsed": false,
    "ExecuteTime": {
     "end_time": "2023-05-18T16:10:49.250614400Z",
     "start_time": "2023-05-18T16:10:49.211839400Z"
    }
   }
  },
  {
   "cell_type": "code",
   "execution_count": 19,
   "outputs": [],
   "source": [
    "mapa.save('index.html')"
   ],
   "metadata": {
    "collapsed": false,
    "ExecuteTime": {
     "end_time": "2023-05-18T16:06:20.823953200Z",
     "start_time": "2023-05-18T16:06:20.780537900Z"
    }
   }
  }
 ],
 "metadata": {
  "kernelspec": {
   "display_name": "Python 3",
   "language": "python",
   "name": "python3"
  },
  "language_info": {
   "codemirror_mode": {
    "name": "ipython",
    "version": 2
   },
   "file_extension": ".py",
   "mimetype": "text/x-python",
   "name": "python",
   "nbconvert_exporter": "python",
   "pygments_lexer": "ipython2",
   "version": "2.7.6"
  }
 },
 "nbformat": 4,
 "nbformat_minor": 0
}
