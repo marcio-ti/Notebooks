{
 "cells": [
  {
   "cell_type": "code",
   "id": "initial_id",
   "metadata": {
    "collapsed": true,
    "ExecuteTime": {
     "end_time": "2025-03-03T19:34:30.469922Z",
     "start_time": "2025-03-03T19:34:20.748822Z"
    }
   },
   "source": "import pandas as pd",
   "outputs": [],
   "execution_count": 1
  },
  {
   "metadata": {},
   "cell_type": "markdown",
   "source": "## Capítulo 5",
   "id": "817cff6a59bcd0d6"
  },
  {
   "metadata": {},
   "cell_type": "markdown",
   "source": "### Trabalhando com datas",
   "id": "33d209a87e201a54"
  },
  {
   "metadata": {
    "ExecuteTime": {
     "end_time": "2025-03-03T19:34:30.731910Z",
     "start_time": "2025-03-03T19:34:30.575163Z"
    }
   },
   "cell_type": "code",
   "source": [
    "dados = pd.read_csv('vendas_produtos.csv')\n",
    "\n",
    "dados"
   ],
   "id": "d73dddf8159cac28",
   "outputs": [
    {
     "data": {
      "text/plain": [
       "           Data;Produto;Volume (kg)\n",
       "0             2022-03-22;Tomate;890\n",
       "1     2022-03-04;Batata Inglesa;680\n",
       "2             2022-05-23;Cebola;796\n",
       "3             2022-07-27;Tomate;519\n",
       "4             2022-04-05;Cebola;100\n",
       "...                             ...\n",
       "7495          2022-07-06;Cebola;319\n",
       "7496          2022-12-27;Cebola;377\n",
       "7497  2022-04-18;Batata Inglesa;175\n",
       "7498          2022-02-01;Cebola;851\n",
       "7499          2022-11-04;Cebola;402\n",
       "\n",
       "[7500 rows x 1 columns]"
      ],
      "text/html": [
       "<div>\n",
       "<style scoped>\n",
       "    .dataframe tbody tr th:only-of-type {\n",
       "        vertical-align: middle;\n",
       "    }\n",
       "\n",
       "    .dataframe tbody tr th {\n",
       "        vertical-align: top;\n",
       "    }\n",
       "\n",
       "    .dataframe thead th {\n",
       "        text-align: right;\n",
       "    }\n",
       "</style>\n",
       "<table border=\"1\" class=\"dataframe\">\n",
       "  <thead>\n",
       "    <tr style=\"text-align: right;\">\n",
       "      <th></th>\n",
       "      <th>Data;Produto;Volume (kg)</th>\n",
       "    </tr>\n",
       "  </thead>\n",
       "  <tbody>\n",
       "    <tr>\n",
       "      <th>0</th>\n",
       "      <td>2022-03-22;Tomate;890</td>\n",
       "    </tr>\n",
       "    <tr>\n",
       "      <th>1</th>\n",
       "      <td>2022-03-04;Batata Inglesa;680</td>\n",
       "    </tr>\n",
       "    <tr>\n",
       "      <th>2</th>\n",
       "      <td>2022-05-23;Cebola;796</td>\n",
       "    </tr>\n",
       "    <tr>\n",
       "      <th>3</th>\n",
       "      <td>2022-07-27;Tomate;519</td>\n",
       "    </tr>\n",
       "    <tr>\n",
       "      <th>4</th>\n",
       "      <td>2022-04-05;Cebola;100</td>\n",
       "    </tr>\n",
       "    <tr>\n",
       "      <th>...</th>\n",
       "      <td>...</td>\n",
       "    </tr>\n",
       "    <tr>\n",
       "      <th>7495</th>\n",
       "      <td>2022-07-06;Cebola;319</td>\n",
       "    </tr>\n",
       "    <tr>\n",
       "      <th>7496</th>\n",
       "      <td>2022-12-27;Cebola;377</td>\n",
       "    </tr>\n",
       "    <tr>\n",
       "      <th>7497</th>\n",
       "      <td>2022-04-18;Batata Inglesa;175</td>\n",
       "    </tr>\n",
       "    <tr>\n",
       "      <th>7498</th>\n",
       "      <td>2022-02-01;Cebola;851</td>\n",
       "    </tr>\n",
       "    <tr>\n",
       "      <th>7499</th>\n",
       "      <td>2022-11-04;Cebola;402</td>\n",
       "    </tr>\n",
       "  </tbody>\n",
       "</table>\n",
       "<p>7500 rows × 1 columns</p>\n",
       "</div>"
      ]
     },
     "execution_count": 2,
     "metadata": {},
     "output_type": "execute_result"
    }
   ],
   "execution_count": 2
  },
  {
   "metadata": {
    "ExecuteTime": {
     "end_time": "2025-03-03T19:34:32.002301Z",
     "start_time": "2025-03-03T19:34:31.976833Z"
    }
   },
   "cell_type": "code",
   "source": [
    "dados = pd.read_csv('vendas_produtos.csv', sep=';')\n",
    "\n",
    "dados"
   ],
   "id": "46e33049a7aafed",
   "outputs": [
    {
     "data": {
      "text/plain": [
       "            Data         Produto  Volume (kg)\n",
       "0     2022-03-22          Tomate          890\n",
       "1     2022-03-04  Batata Inglesa          680\n",
       "2     2022-05-23          Cebola          796\n",
       "3     2022-07-27          Tomate          519\n",
       "4     2022-04-05          Cebola          100\n",
       "...          ...             ...          ...\n",
       "7495  2022-07-06          Cebola          319\n",
       "7496  2022-12-27          Cebola          377\n",
       "7497  2022-04-18  Batata Inglesa          175\n",
       "7498  2022-02-01          Cebola          851\n",
       "7499  2022-11-04          Cebola          402\n",
       "\n",
       "[7500 rows x 3 columns]"
      ],
      "text/html": [
       "<div>\n",
       "<style scoped>\n",
       "    .dataframe tbody tr th:only-of-type {\n",
       "        vertical-align: middle;\n",
       "    }\n",
       "\n",
       "    .dataframe tbody tr th {\n",
       "        vertical-align: top;\n",
       "    }\n",
       "\n",
       "    .dataframe thead th {\n",
       "        text-align: right;\n",
       "    }\n",
       "</style>\n",
       "<table border=\"1\" class=\"dataframe\">\n",
       "  <thead>\n",
       "    <tr style=\"text-align: right;\">\n",
       "      <th></th>\n",
       "      <th>Data</th>\n",
       "      <th>Produto</th>\n",
       "      <th>Volume (kg)</th>\n",
       "    </tr>\n",
       "  </thead>\n",
       "  <tbody>\n",
       "    <tr>\n",
       "      <th>0</th>\n",
       "      <td>2022-03-22</td>\n",
       "      <td>Tomate</td>\n",
       "      <td>890</td>\n",
       "    </tr>\n",
       "    <tr>\n",
       "      <th>1</th>\n",
       "      <td>2022-03-04</td>\n",
       "      <td>Batata Inglesa</td>\n",
       "      <td>680</td>\n",
       "    </tr>\n",
       "    <tr>\n",
       "      <th>2</th>\n",
       "      <td>2022-05-23</td>\n",
       "      <td>Cebola</td>\n",
       "      <td>796</td>\n",
       "    </tr>\n",
       "    <tr>\n",
       "      <th>3</th>\n",
       "      <td>2022-07-27</td>\n",
       "      <td>Tomate</td>\n",
       "      <td>519</td>\n",
       "    </tr>\n",
       "    <tr>\n",
       "      <th>4</th>\n",
       "      <td>2022-04-05</td>\n",
       "      <td>Cebola</td>\n",
       "      <td>100</td>\n",
       "    </tr>\n",
       "    <tr>\n",
       "      <th>...</th>\n",
       "      <td>...</td>\n",
       "      <td>...</td>\n",
       "      <td>...</td>\n",
       "    </tr>\n",
       "    <tr>\n",
       "      <th>7495</th>\n",
       "      <td>2022-07-06</td>\n",
       "      <td>Cebola</td>\n",
       "      <td>319</td>\n",
       "    </tr>\n",
       "    <tr>\n",
       "      <th>7496</th>\n",
       "      <td>2022-12-27</td>\n",
       "      <td>Cebola</td>\n",
       "      <td>377</td>\n",
       "    </tr>\n",
       "    <tr>\n",
       "      <th>7497</th>\n",
       "      <td>2022-04-18</td>\n",
       "      <td>Batata Inglesa</td>\n",
       "      <td>175</td>\n",
       "    </tr>\n",
       "    <tr>\n",
       "      <th>7498</th>\n",
       "      <td>2022-02-01</td>\n",
       "      <td>Cebola</td>\n",
       "      <td>851</td>\n",
       "    </tr>\n",
       "    <tr>\n",
       "      <th>7499</th>\n",
       "      <td>2022-11-04</td>\n",
       "      <td>Cebola</td>\n",
       "      <td>402</td>\n",
       "    </tr>\n",
       "  </tbody>\n",
       "</table>\n",
       "<p>7500 rows × 3 columns</p>\n",
       "</div>"
      ]
     },
     "execution_count": 3,
     "metadata": {},
     "output_type": "execute_result"
    }
   ],
   "execution_count": 3
  },
  {
   "metadata": {
    "ExecuteTime": {
     "end_time": "2025-03-03T19:34:32.404020Z",
     "start_time": "2025-03-03T19:34:32.395379Z"
    }
   },
   "cell_type": "code",
   "source": "dados.dtypes",
   "id": "3f96be8d57112213",
   "outputs": [
    {
     "data": {
      "text/plain": [
       "Data           object\n",
       "Produto        object\n",
       "Volume (kg)     int64\n",
       "dtype: object"
      ]
     },
     "execution_count": 4,
     "metadata": {},
     "output_type": "execute_result"
    }
   ],
   "execution_count": 4
  },
  {
   "metadata": {
    "ExecuteTime": {
     "end_time": "2025-03-03T19:34:32.973014Z",
     "start_time": "2025-03-03T19:34:32.956729Z"
    }
   },
   "cell_type": "code",
   "source": [
    "# Convertendo a coluna Produto para o tipo categórico\n",
    "dados[\"Produto\"] = dados[\"Produto\"].astype(\"category\")\n",
    "\n",
    "# Convertendo a coluna de Volume (kg) par ao tipo ponto flutuante, ou com casas decimais\n",
    "dados[\"Volume (kg)\"] = dados[\"Volume (kg)\"].astype(float)"
   ],
   "id": "dabb8a44437044e6",
   "outputs": [],
   "execution_count": 5
  },
  {
   "metadata": {
    "ExecuteTime": {
     "end_time": "2025-03-03T19:34:33.488224Z",
     "start_time": "2025-03-03T19:34:33.480171Z"
    }
   },
   "cell_type": "code",
   "source": "dados.dtypes",
   "id": "f8e24b902ed7d6d3",
   "outputs": [
    {
     "data": {
      "text/plain": [
       "Data             object\n",
       "Produto        category\n",
       "Volume (kg)     float64\n",
       "dtype: object"
      ]
     },
     "execution_count": 6,
     "metadata": {},
     "output_type": "execute_result"
    }
   ],
   "execution_count": 6
  },
  {
   "metadata": {
    "ExecuteTime": {
     "end_time": "2025-03-03T19:34:53.817633Z",
     "start_time": "2025-03-03T19:34:53.786787Z"
    }
   },
   "cell_type": "code",
   "source": "dados[\"Data\"] = pd.to_datetime(dados[\"Data\"])",
   "id": "1455a83298f7539c",
   "outputs": [],
   "execution_count": 8
  },
  {
   "metadata": {
    "ExecuteTime": {
     "end_time": "2025-03-03T19:34:56.354166Z",
     "start_time": "2025-03-03T19:34:56.346685Z"
    }
   },
   "cell_type": "code",
   "source": "dados.dtypes",
   "id": "dcba5f8d644d1ac9",
   "outputs": [
    {
     "data": {
      "text/plain": [
       "Data           datetime64[ns]\n",
       "Produto              category\n",
       "Volume (kg)           float64\n",
       "dtype: object"
      ]
     },
     "execution_count": 9,
     "metadata": {},
     "output_type": "execute_result"
    }
   ],
   "execution_count": 9
  },
  {
   "metadata": {
    "ExecuteTime": {
     "end_time": "2025-03-03T19:35:17.431964Z",
     "start_time": "2025-03-03T19:35:17.310575Z"
    }
   },
   "cell_type": "code",
   "source": "dados['Ano'] = dados['Data'].dt.year",
   "id": "48b7dd4d9ed51bce",
   "outputs": [],
   "execution_count": 10
  },
  {
   "metadata": {
    "ExecuteTime": {
     "end_time": "2025-03-03T19:36:41.729396Z",
     "start_time": "2025-03-03T19:36:41.723359Z"
    }
   },
   "cell_type": "code",
   "source": "dados['Mês'] = dados['Data'].dt.month",
   "id": "9bea36c73813add",
   "outputs": [],
   "execution_count": 12
  },
  {
   "metadata": {
    "ExecuteTime": {
     "end_time": "2025-03-03T19:36:44.107721Z",
     "start_time": "2025-03-03T19:36:44.101598Z"
    }
   },
   "cell_type": "code",
   "source": "dados['Trimestre'] = dados['Data'].dt.quarter",
   "id": "b695951cf757f44b",
   "outputs": [],
   "execution_count": 13
  },
  {
   "metadata": {
    "ExecuteTime": {
     "end_time": "2025-03-03T19:36:46.796652Z",
     "start_time": "2025-03-03T19:36:46.785901Z"
    }
   },
   "cell_type": "code",
   "source": "dados",
   "id": "cf7b091e171309c",
   "outputs": [
    {
     "data": {
      "text/plain": [
       "           Data         Produto  Volume (kg)   Ano  Mês  Trimestre\n",
       "0    2022-03-22          Tomate        890.0  2022    3          1\n",
       "1    2022-03-04  Batata Inglesa        680.0  2022    3          1\n",
       "2    2022-05-23          Cebola        796.0  2022    5          2\n",
       "3    2022-07-27          Tomate        519.0  2022    7          3\n",
       "4    2022-04-05          Cebola        100.0  2022    4          2\n",
       "...         ...             ...          ...   ...  ...        ...\n",
       "7495 2022-07-06          Cebola        319.0  2022    7          3\n",
       "7496 2022-12-27          Cebola        377.0  2022   12          4\n",
       "7497 2022-04-18  Batata Inglesa        175.0  2022    4          2\n",
       "7498 2022-02-01          Cebola        851.0  2022    2          1\n",
       "7499 2022-11-04          Cebola        402.0  2022   11          4\n",
       "\n",
       "[7500 rows x 6 columns]"
      ],
      "text/html": [
       "<div>\n",
       "<style scoped>\n",
       "    .dataframe tbody tr th:only-of-type {\n",
       "        vertical-align: middle;\n",
       "    }\n",
       "\n",
       "    .dataframe tbody tr th {\n",
       "        vertical-align: top;\n",
       "    }\n",
       "\n",
       "    .dataframe thead th {\n",
       "        text-align: right;\n",
       "    }\n",
       "</style>\n",
       "<table border=\"1\" class=\"dataframe\">\n",
       "  <thead>\n",
       "    <tr style=\"text-align: right;\">\n",
       "      <th></th>\n",
       "      <th>Data</th>\n",
       "      <th>Produto</th>\n",
       "      <th>Volume (kg)</th>\n",
       "      <th>Ano</th>\n",
       "      <th>Mês</th>\n",
       "      <th>Trimestre</th>\n",
       "    </tr>\n",
       "  </thead>\n",
       "  <tbody>\n",
       "    <tr>\n",
       "      <th>0</th>\n",
       "      <td>2022-03-22</td>\n",
       "      <td>Tomate</td>\n",
       "      <td>890.0</td>\n",
       "      <td>2022</td>\n",
       "      <td>3</td>\n",
       "      <td>1</td>\n",
       "    </tr>\n",
       "    <tr>\n",
       "      <th>1</th>\n",
       "      <td>2022-03-04</td>\n",
       "      <td>Batata Inglesa</td>\n",
       "      <td>680.0</td>\n",
       "      <td>2022</td>\n",
       "      <td>3</td>\n",
       "      <td>1</td>\n",
       "    </tr>\n",
       "    <tr>\n",
       "      <th>2</th>\n",
       "      <td>2022-05-23</td>\n",
       "      <td>Cebola</td>\n",
       "      <td>796.0</td>\n",
       "      <td>2022</td>\n",
       "      <td>5</td>\n",
       "      <td>2</td>\n",
       "    </tr>\n",
       "    <tr>\n",
       "      <th>3</th>\n",
       "      <td>2022-07-27</td>\n",
       "      <td>Tomate</td>\n",
       "      <td>519.0</td>\n",
       "      <td>2022</td>\n",
       "      <td>7</td>\n",
       "      <td>3</td>\n",
       "    </tr>\n",
       "    <tr>\n",
       "      <th>4</th>\n",
       "      <td>2022-04-05</td>\n",
       "      <td>Cebola</td>\n",
       "      <td>100.0</td>\n",
       "      <td>2022</td>\n",
       "      <td>4</td>\n",
       "      <td>2</td>\n",
       "    </tr>\n",
       "    <tr>\n",
       "      <th>...</th>\n",
       "      <td>...</td>\n",
       "      <td>...</td>\n",
       "      <td>...</td>\n",
       "      <td>...</td>\n",
       "      <td>...</td>\n",
       "      <td>...</td>\n",
       "    </tr>\n",
       "    <tr>\n",
       "      <th>7495</th>\n",
       "      <td>2022-07-06</td>\n",
       "      <td>Cebola</td>\n",
       "      <td>319.0</td>\n",
       "      <td>2022</td>\n",
       "      <td>7</td>\n",
       "      <td>3</td>\n",
       "    </tr>\n",
       "    <tr>\n",
       "      <th>7496</th>\n",
       "      <td>2022-12-27</td>\n",
       "      <td>Cebola</td>\n",
       "      <td>377.0</td>\n",
       "      <td>2022</td>\n",
       "      <td>12</td>\n",
       "      <td>4</td>\n",
       "    </tr>\n",
       "    <tr>\n",
       "      <th>7497</th>\n",
       "      <td>2022-04-18</td>\n",
       "      <td>Batata Inglesa</td>\n",
       "      <td>175.0</td>\n",
       "      <td>2022</td>\n",
       "      <td>4</td>\n",
       "      <td>2</td>\n",
       "    </tr>\n",
       "    <tr>\n",
       "      <th>7498</th>\n",
       "      <td>2022-02-01</td>\n",
       "      <td>Cebola</td>\n",
       "      <td>851.0</td>\n",
       "      <td>2022</td>\n",
       "      <td>2</td>\n",
       "      <td>1</td>\n",
       "    </tr>\n",
       "    <tr>\n",
       "      <th>7499</th>\n",
       "      <td>2022-11-04</td>\n",
       "      <td>Cebola</td>\n",
       "      <td>402.0</td>\n",
       "      <td>2022</td>\n",
       "      <td>11</td>\n",
       "      <td>4</td>\n",
       "    </tr>\n",
       "  </tbody>\n",
       "</table>\n",
       "<p>7500 rows × 6 columns</p>\n",
       "</div>"
      ]
     },
     "execution_count": 14,
     "metadata": {},
     "output_type": "execute_result"
    }
   ],
   "execution_count": 14
  },
  {
   "metadata": {
    "ExecuteTime": {
     "end_time": "2025-03-03T19:45:15.124614Z",
     "start_time": "2025-03-03T19:45:15.111668Z"
    }
   },
   "cell_type": "code",
   "source": [
    "dados = dados.groupby(['Trimestre','Produto'], observed=True)['Volume (kg)'].sum().reset_index()\n",
    "dados.sort_values(by=['Trimestre','Produto'])"
   ],
   "id": "939d336f36c46419",
   "outputs": [
    {
     "data": {
      "text/plain": [
       "    Trimestre         Produto  Volume (kg)\n",
       "0           1  Batata Inglesa     343710.0\n",
       "1           1          Cebola     329142.0\n",
       "2           1          Tomate     346782.0\n",
       "3           2  Batata Inglesa     343413.0\n",
       "4           2          Cebola     353477.0\n",
       "5           2          Tomate     347720.0\n",
       "6           3  Batata Inglesa     348297.0\n",
       "7           3          Cebola     371984.0\n",
       "8           3          Tomate     349099.0\n",
       "9           4  Batata Inglesa     333944.0\n",
       "10          4          Cebola     343629.0\n",
       "11          4          Tomate     327070.0"
      ],
      "text/html": [
       "<div>\n",
       "<style scoped>\n",
       "    .dataframe tbody tr th:only-of-type {\n",
       "        vertical-align: middle;\n",
       "    }\n",
       "\n",
       "    .dataframe tbody tr th {\n",
       "        vertical-align: top;\n",
       "    }\n",
       "\n",
       "    .dataframe thead th {\n",
       "        text-align: right;\n",
       "    }\n",
       "</style>\n",
       "<table border=\"1\" class=\"dataframe\">\n",
       "  <thead>\n",
       "    <tr style=\"text-align: right;\">\n",
       "      <th></th>\n",
       "      <th>Trimestre</th>\n",
       "      <th>Produto</th>\n",
       "      <th>Volume (kg)</th>\n",
       "    </tr>\n",
       "  </thead>\n",
       "  <tbody>\n",
       "    <tr>\n",
       "      <th>0</th>\n",
       "      <td>1</td>\n",
       "      <td>Batata Inglesa</td>\n",
       "      <td>343710.0</td>\n",
       "    </tr>\n",
       "    <tr>\n",
       "      <th>1</th>\n",
       "      <td>1</td>\n",
       "      <td>Cebola</td>\n",
       "      <td>329142.0</td>\n",
       "    </tr>\n",
       "    <tr>\n",
       "      <th>2</th>\n",
       "      <td>1</td>\n",
       "      <td>Tomate</td>\n",
       "      <td>346782.0</td>\n",
       "    </tr>\n",
       "    <tr>\n",
       "      <th>3</th>\n",
       "      <td>2</td>\n",
       "      <td>Batata Inglesa</td>\n",
       "      <td>343413.0</td>\n",
       "    </tr>\n",
       "    <tr>\n",
       "      <th>4</th>\n",
       "      <td>2</td>\n",
       "      <td>Cebola</td>\n",
       "      <td>353477.0</td>\n",
       "    </tr>\n",
       "    <tr>\n",
       "      <th>5</th>\n",
       "      <td>2</td>\n",
       "      <td>Tomate</td>\n",
       "      <td>347720.0</td>\n",
       "    </tr>\n",
       "    <tr>\n",
       "      <th>6</th>\n",
       "      <td>3</td>\n",
       "      <td>Batata Inglesa</td>\n",
       "      <td>348297.0</td>\n",
       "    </tr>\n",
       "    <tr>\n",
       "      <th>7</th>\n",
       "      <td>3</td>\n",
       "      <td>Cebola</td>\n",
       "      <td>371984.0</td>\n",
       "    </tr>\n",
       "    <tr>\n",
       "      <th>8</th>\n",
       "      <td>3</td>\n",
       "      <td>Tomate</td>\n",
       "      <td>349099.0</td>\n",
       "    </tr>\n",
       "    <tr>\n",
       "      <th>9</th>\n",
       "      <td>4</td>\n",
       "      <td>Batata Inglesa</td>\n",
       "      <td>333944.0</td>\n",
       "    </tr>\n",
       "    <tr>\n",
       "      <th>10</th>\n",
       "      <td>4</td>\n",
       "      <td>Cebola</td>\n",
       "      <td>343629.0</td>\n",
       "    </tr>\n",
       "    <tr>\n",
       "      <th>11</th>\n",
       "      <td>4</td>\n",
       "      <td>Tomate</td>\n",
       "      <td>327070.0</td>\n",
       "    </tr>\n",
       "  </tbody>\n",
       "</table>\n",
       "</div>"
      ]
     },
     "execution_count": 22,
     "metadata": {},
     "output_type": "execute_result"
    }
   ],
   "execution_count": 22
  }
 ],
 "metadata": {
  "kernelspec": {
   "display_name": "Python 3",
   "language": "python",
   "name": "python3"
  },
  "language_info": {
   "codemirror_mode": {
    "name": "ipython",
    "version": 2
   },
   "file_extension": ".py",
   "mimetype": "text/x-python",
   "name": "python",
   "nbconvert_exporter": "python",
   "pygments_lexer": "ipython2",
   "version": "2.7.6"
  }
 },
 "nbformat": 4,
 "nbformat_minor": 5
}
