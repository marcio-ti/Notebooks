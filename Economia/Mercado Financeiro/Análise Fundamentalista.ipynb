{
 "cells": [
  {
   "cell_type": "code",
   "id": "initial_id",
   "metadata": {
    "collapsed": true,
    "ExecuteTime": {
     "end_time": "2025-05-21T18:42:11.552221Z",
     "start_time": "2025-05-21T18:41:57.253114Z"
    }
   },
   "source": [
    "import fundamentus\n",
    "import pandas as pd\n",
    "import numpy as np\n",
    "from pprint import pprint\n"
   ],
   "outputs": [],
   "execution_count": 1
  },
  {
   "metadata": {
    "ExecuteTime": {
     "end_time": "2025-05-21T18:42:11.739464Z",
     "start_time": "2025-05-21T18:42:11.579304Z"
    }
   },
   "cell_type": "code",
   "source": [
    "main_pipeline = fundamentus.Pipeline('AZUL4')\n",
    "response = main_pipeline.get_all_information()"
   ],
   "id": "7447defeeef95e01",
   "outputs": [],
   "execution_count": 2
  },
  {
   "metadata": {
    "ExecuteTime": {
     "end_time": "2025-05-21T18:42:12.866135Z",
     "start_time": "2025-05-21T18:42:12.830674Z"
    }
   },
   "cell_type": "code",
   "source": [
    "# Extract the information from the response.\n",
    "price_information = response.transformed_information['price_information']\n",
    "detailed_information = response.transformed_information['detailed_information']\n",
    "oscillations = response.transformed_information['oscillations']\n",
    "valuation_indicators = response.transformed_information['valuation_indicators']\n",
    "profitability_indicators = response.transformed_information['profitability_indicators']\n",
    "indebtedness_indicators = response.transformed_information['indebtedness_indicators']\n",
    "balance_sheet = response.transformed_information['balance_sheet']\n",
    "income_statement = response.transformed_information['income_statement']"
   ],
   "id": "5bfb1085d68ac839",
   "outputs": [],
   "execution_count": 3
  },
  {
   "metadata": {
    "ExecuteTime": {
     "end_time": "2025-05-21T18:42:12.994742Z",
     "start_time": "2025-05-21T18:42:12.950327Z"
    }
   },
   "cell_type": "code",
   "source": "pprint(balance_sheet)",
   "id": "86b293568c80e5f3",
   "outputs": [
    {
     "name": "stdout",
     "output_type": "stream",
     "text": [
      "{'cash': InformationItem(title='Disponibilidades',\n",
      "                         tooltip='Contas que representam bens numerários '\n",
      "                                 '(Dinheiro).',\n",
      "                         value=Decimal('1601130000')),\n",
      " 'current_assets': InformationItem(title='Ativo circulante',\n",
      "                                   tooltip='Bens ou direitos que podem ser '\n",
      "                                           'convertido em dinheiro em curto '\n",
      "                                           'prazo.',\n",
      "                                   value=Decimal('5960920000')),\n",
      " 'equity': InformationItem(title='Patrimônio líquido',\n",
      "                           tooltip='O patrimônio líquido representa os valores '\n",
      "                                   'que os sócios ou acionistas têm na empresa '\n",
      "                                   'em um determinado momento. No balanço '\n",
      "                                   'patrimonial, a diferença entre o valor dos '\n",
      "                                   'ativos e dos passivos e resultado de '\n",
      "                                   'exercícios futuros representa o PL '\n",
      "                                   '(Patrimônio Líquido), que é o valor '\n",
      "                                   'contábil devido pela pessoa jurídica aos '\n",
      "                                   'sócios ou acionistas.',\n",
      "                           value=Decimal('-28451100000')),\n",
      " 'gross_debt': InformationItem(title='Dívida bruta',\n",
      "                               tooltip='Dívida Bruta é obtida somando-se as '\n",
      "                                       'dívidas de curto e longo prazo mais as '\n",
      "                                       'debêntures de curto e longo prazo.',\n",
      "                               value=Decimal('34693500000')),\n",
      " 'net_debt': InformationItem(title='Dívida líquida',\n",
      "                             tooltip='Dívida Bruta menos Disponibilidades. Se '\n",
      "                                     'este valor é negativo, significa que a '\n",
      "                                     'empresa possui caixa líquido positivo.',\n",
      "                             value=Decimal('33092400000')),\n",
      " 'total_assets': InformationItem(title='Ativo',\n",
      "                                 tooltip='Todos os bens, direitos e valores a '\n",
      "                                         'receber de uma entidade.',\n",
      "                                 value=Decimal('25548700000'))}\n"
     ]
    }
   ],
   "execution_count": 4
  }
 ],
 "metadata": {
  "kernelspec": {
   "display_name": "Python 3",
   "language": "python",
   "name": "python3"
  },
  "language_info": {
   "codemirror_mode": {
    "name": "ipython",
    "version": 2
   },
   "file_extension": ".py",
   "mimetype": "text/x-python",
   "name": "python",
   "nbconvert_exporter": "python",
   "pygments_lexer": "ipython2",
   "version": "2.7.6"
  }
 },
 "nbformat": 4,
 "nbformat_minor": 5
}
