{
 "cells": [
  {
   "metadata": {},
   "cell_type": "markdown",
   "source": [
    "Criar séries temporais de cada região.\n",
    "\n",
    "Aplicar comparações entre elas: qual região teve maior inflação acumulada nos últimos 5 ou 10 anos?"
   ],
   "id": "870d93ee3d36f049"
  },
  {
   "cell_type": "code",
   "execution_count": null,
   "id": "initial_id",
   "metadata": {
    "collapsed": true
   },
   "outputs": [],
   "source": [
    ""
   ]
  }
 ],
 "metadata": {
  "kernelspec": {
   "display_name": "Python 3",
   "language": "python",
   "name": "python3"
  },
  "language_info": {
   "codemirror_mode": {
    "name": "ipython",
    "version": 2
   },
   "file_extension": ".py",
   "mimetype": "text/x-python",
   "name": "python",
   "nbconvert_exporter": "python",
   "pygments_lexer": "ipython2",
   "version": "2.7.6"
  }
 },
 "nbformat": 4,
 "nbformat_minor": 5
}
