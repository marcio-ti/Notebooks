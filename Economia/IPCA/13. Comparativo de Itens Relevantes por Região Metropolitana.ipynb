{
 "cells": [
  {
   "metadata": {},
   "cell_type": "markdown",
   "source": [
    "Objetivo:\n",
    "Analisar quais itens são mais relevantes regionalmente (ex: transporte em SP, alimentação em Belém etc.).\n",
    "\n",
    "Componentes:\n",
    "Calcular o peso e a contribuição de cada grupo por região.\n",
    "\n",
    "Mapear variações estruturais no consumo entre regiões metropolitanas."
   ],
   "id": "65537c363b462b4"
  },
  {
   "cell_type": "code",
   "execution_count": null,
   "id": "initial_id",
   "metadata": {
    "collapsed": true
   },
   "outputs": [],
   "source": [
    ""
   ]
  }
 ],
 "metadata": {
  "kernelspec": {
   "display_name": "Python 3",
   "language": "python",
   "name": "python3"
  },
  "language_info": {
   "codemirror_mode": {
    "name": "ipython",
    "version": 2
   },
   "file_extension": ".py",
   "mimetype": "text/x-python",
   "name": "python",
   "nbconvert_exporter": "python",
   "pygments_lexer": "ipython2",
   "version": "2.7.6"
  }
 },
 "nbformat": 4,
 "nbformat_minor": 5
}
