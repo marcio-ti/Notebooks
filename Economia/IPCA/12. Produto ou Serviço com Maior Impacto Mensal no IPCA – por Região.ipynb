{
 "cells": [
  {
   "metadata": {},
   "cell_type": "markdown",
   "source": [
    "Objetivo:\n",
    "Identificar qual item (produto ou serviço) teve maior impacto no IPCA em cada região e no Brasil.\n",
    "\n",
    "Componentes:\n",
    "Utilizar os dados abertos por item (SIDRA).\n",
    "\n",
    "Calcular a contribuição absoluta (peso x variação) de cada item.\n",
    "\n",
    "Ranquear os principais itens inflacionários por mês.\n",
    "\n",
    "Extra:\n",
    "Comparar se os produtos com maior impacto no Brasil também foram os maiores em cada região (pode haver divergências)."
   ],
   "id": "ae5b75e0ef41e507"
  },
  {
   "cell_type": "code",
   "execution_count": null,
   "id": "initial_id",
   "metadata": {
    "collapsed": true
   },
   "outputs": [],
   "source": [
    ""
   ]
  }
 ],
 "metadata": {
  "kernelspec": {
   "display_name": "Python 3",
   "language": "python",
   "name": "python3"
  },
  "language_info": {
   "codemirror_mode": {
    "name": "ipython",
    "version": 2
   },
   "file_extension": ".py",
   "mimetype": "text/x-python",
   "name": "python",
   "nbconvert_exporter": "python",
   "pygments_lexer": "ipython2",
   "version": "2.7.6"
  }
 },
 "nbformat": 4,
 "nbformat_minor": 5
}
