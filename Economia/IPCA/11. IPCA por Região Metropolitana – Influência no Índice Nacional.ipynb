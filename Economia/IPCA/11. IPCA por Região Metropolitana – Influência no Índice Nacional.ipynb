{
 "cells": [
  {
   "metadata": {},
   "cell_type": "markdown",
   "source": [
    "Objetivo:\n",
    "Identificar quanto cada região metropolitana contribuiu mensalmente para o IPCA Brasil.\n",
    "\n",
    "Componentes:\n",
    "Pegar os pesos regionais (disponíveis no IBGE) e aplicar sobre a variação de cada região.\n",
    "\n",
    "Calcular a contribuição efetiva de cada região no índice geral.\n",
    "\n",
    "Visualizar quais regiões \"puxaram\" a inflação num dado mês ou período.\n",
    "\n",
    "Gráfico sugerido:\n",
    "Gráfico de barras empilhadas (stacked bar) mostrando o peso de cada região na variação mensal do IPCA."
   ],
   "id": "630ad2d4012673b"
  },
  {
   "cell_type": "code",
   "execution_count": null,
   "id": "initial_id",
   "metadata": {
    "collapsed": true
   },
   "outputs": [],
   "source": [
    ""
   ]
  }
 ],
 "metadata": {
  "kernelspec": {
   "display_name": "Python 3",
   "language": "python",
   "name": "python3"
  },
  "language_info": {
   "codemirror_mode": {
    "name": "ipython",
    "version": 2
   },
   "file_extension": ".py",
   "mimetype": "text/x-python",
   "name": "python",
   "nbconvert_exporter": "python",
   "pygments_lexer": "ipython2",
   "version": "2.7.6"
  }
 },
 "nbformat": 4,
 "nbformat_minor": 5
}
