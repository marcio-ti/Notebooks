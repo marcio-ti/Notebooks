{
 "cells": [
  {
   "cell_type": "code",
   "id": "initial_id",
   "metadata": {
    "collapsed": true,
    "ExecuteTime": {
     "end_time": "2025-06-15T00:33:02.398895Z",
     "start_time": "2025-06-15T00:33:02.366142Z"
    }
   },
   "source": [
    "import numpy as np\n",
    "import pandas as pd\n",
    "import sidrapy as sidra\n",
    "from datetime import datetime\n",
    "from dateutil.relativedelta import relativedelta"
   ],
   "outputs": [],
   "execution_count": 11
  },
  {
   "metadata": {
    "ExecuteTime": {
     "end_time": "2025-06-15T00:48:41.764436Z",
     "start_time": "2025-06-15T00:48:41.760363Z"
    }
   },
   "cell_type": "code",
   "source": [
    "def lista_meses(start_date_str: str, qtd_anos: int) -> str:\n",
    "    start_date = datetime.strptime(start_date_str[:10], \"%Y-%m-%d\")\n",
    "    end_date = start_date - relativedelta(years=qtd_anos)\n",
    "\n",
    "    current = end_date\n",
    "    result = []\n",
    "\n",
    "    while current < start_date:\n",
    "        result.append(current.strftime(\"%Y%m\"))\n",
    "        current += relativedelta(months=1)\n",
    "\n",
    "    # Inverter a lista e juntar em uma única string separada por vírgulas\n",
    "    return \", \".join(reversed(result))"
   ],
   "id": "5ba5be732b0b2247",
   "outputs": [],
   "execution_count": 36
  },
  {
   "metadata": {
    "ExecuteTime": {
     "end_time": "2025-06-15T01:08:25.319165Z",
     "start_time": "2025-06-15T01:08:24.775296Z"
    }
   },
   "cell_type": "code",
   "source": [
    "dados_ipca_brasil = sidra.get_table(\n",
    "\ttable_code = \"7060\",             # código da tabela de interesse\n",
    "\tterritorial_level = \"1\",         # nível territorial\n",
    "\tibge_territorial_code = \"all\",   # desagregações desse nível\n",
    "\tvariable = \"63\",                 # variável = IPCA - Variação mensal (%)\n",
    "\tclassification = '315/7169',\n",
    "\tperiod =  lista_meses(str(datetime.now()),3)\n",
    ")\n",
    "dados_ipca_brasil.columns = dados_ipca_brasil.iloc[0]\n",
    "dados_ipca_brasil = dados_ipca_brasil[1:].reset_index(drop=True)\n",
    "dados_ipca_brasil = dados_ipca_brasil.sort_values(by=[\"Mês (Código)\"])\n",
    "dados_ipca_brasil['Data'] = pd.to_datetime(dados_ipca_brasil['Mês (Código)'].astype(str) + '01', format='%Y%m%d')\n",
    "dados_ipca_brasil['Valor'] = dados_ipca_brasil['Valor'].str.replace(',', '.').astype(float)\n",
    "dados_ipca_brasil = dados_ipca_brasil[['Data', 'Valor']].reset_index(drop=True)"
   ],
   "id": "6d94ac37b9a022c3",
   "outputs": [],
   "execution_count": 62
  },
  {
   "metadata": {
    "ExecuteTime": {
     "end_time": "2025-06-15T01:09:03.683418Z",
     "start_time": "2025-06-15T01:09:03.674610Z"
    }
   },
   "cell_type": "code",
   "source": "dados_ipca_brasil.to_json('teste.json')",
   "id": "580a85e8a608f256",
   "outputs": [],
   "execution_count": 64
  }
 ],
 "metadata": {
  "kernelspec": {
   "display_name": "Python 3",
   "language": "python",
   "name": "python3"
  },
  "language_info": {
   "codemirror_mode": {
    "name": "ipython",
    "version": 2
   },
   "file_extension": ".py",
   "mimetype": "text/x-python",
   "name": "python",
   "nbconvert_exporter": "python",
   "pygments_lexer": "ipython2",
   "version": "2.7.6"
  }
 },
 "nbformat": 4,
 "nbformat_minor": 5
}
