{
 "cells": [
  {
   "metadata": {},
   "cell_type": "markdown",
   "source": [
    "Analisar quais itens ou grupos puxaram a inflação em determinado mês.\n",
    "\n",
    "Exemplo: quanto do IPCA de março/2024 veio de Transportes?"
   ],
   "id": "beaed94ad6f1859b"
  },
  {
   "cell_type": "code",
   "execution_count": null,
   "id": "initial_id",
   "metadata": {
    "collapsed": true
   },
   "outputs": [],
   "source": [
    ""
   ]
  }
 ],
 "metadata": {
  "kernelspec": {
   "display_name": "Python 3",
   "language": "python",
   "name": "python3"
  },
  "language_info": {
   "codemirror_mode": {
    "name": "ipython",
    "version": 2
   },
   "file_extension": ".py",
   "mimetype": "text/x-python",
   "name": "python",
   "nbconvert_exporter": "python",
   "pygments_lexer": "ipython2",
   "version": "2.7.6"
  }
 },
 "nbformat": 4,
 "nbformat_minor": 5
}
