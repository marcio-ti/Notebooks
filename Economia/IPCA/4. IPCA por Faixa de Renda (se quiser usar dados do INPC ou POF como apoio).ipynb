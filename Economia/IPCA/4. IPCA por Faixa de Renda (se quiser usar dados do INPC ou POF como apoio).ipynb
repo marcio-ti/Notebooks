{
 "cells": [
  {
   "metadata": {},
   "cell_type": "markdown",
   "source": [
    "Analisar o impacto da inflação em diferentes faixas de renda (trabalhador assalariado, aposentado, etc.).\n",
    "\n",
    "Isso exige certo cruzamento, mas é riquíssimo em termos de interpretação econômica."
   ],
   "id": "52be3fe4a5557aa6"
  },
  {
   "cell_type": "code",
   "execution_count": null,
   "id": "initial_id",
   "metadata": {
    "collapsed": true
   },
   "outputs": [],
   "source": [
    ""
   ]
  }
 ],
 "metadata": {
  "kernelspec": {
   "display_name": "Python 3",
   "language": "python",
   "name": "python3"
  },
  "language_info": {
   "codemirror_mode": {
    "name": "ipython",
    "version": 2
   },
   "file_extension": ".py",
   "mimetype": "text/x-python",
   "name": "python",
   "nbconvert_exporter": "python",
   "pygments_lexer": "ipython2",
   "version": "2.7.6"
  }
 },
 "nbformat": 4,
 "nbformat_minor": 5
}
