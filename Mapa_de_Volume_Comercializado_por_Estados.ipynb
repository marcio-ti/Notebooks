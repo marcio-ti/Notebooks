{
  "nbformat": 4,
  "nbformat_minor": 0,
  "metadata": {
    "colab": {
      "provenance": []
    },
    "kernelspec": {
      "name": "python3",
      "display_name": "Python 3"
    },
    "language_info": {
      "name": "python"
    }
  },
  "cells": [
    {
      "cell_type": "markdown",
      "source": [
        "# Mapa de Volume Comercializado por Estados\n",
        "---"
      ],
      "metadata": {
        "id": "4rjOPfZouz2a"
      }
    },
    {
      "cell_type": "code",
      "execution_count": null,
      "metadata": {
        "id": "Fd1J4rf6ubvP"
      },
      "outputs": [],
      "source": []
    }
  ]
}