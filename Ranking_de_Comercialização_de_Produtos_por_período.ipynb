{
  "nbformat": 4,
  "nbformat_minor": 0,
  "metadata": {
    "colab": {
      "provenance": []
    },
    "kernelspec": {
      "name": "python3",
      "display_name": "Python 3"
    },
    "language_info": {
      "name": "python"
    }
  },
  "cells": [
    {
      "cell_type": "markdown",
      "source": [
        "# Ranking de Comercialização de Produtos por período\n",
        "---"
      ],
      "metadata": {
        "id": "aPuNnPlxtzbC"
      }
    },
    {
      "cell_type": "code",
      "execution_count": null,
      "metadata": {
        "id": "fNkZoqN0tyB1"
      },
      "outputs": [],
      "source": []
    }
  ]
}