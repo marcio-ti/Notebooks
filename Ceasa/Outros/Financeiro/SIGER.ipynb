{
 "cells": [
  {
   "cell_type": "code",
   "id": "initial_id",
   "metadata": {
    "collapsed": true,
    "ExecuteTime": {
     "end_time": "2025-01-23T13:58:57.241534Z",
     "start_time": "2025-01-23T13:58:56.062574Z"
    }
   },
   "source": "import pandas as pd",
   "outputs": [],
   "execution_count": 1
  },
  {
   "metadata": {
    "ExecuteTime": {
     "end_time": "2025-01-23T13:58:58.163457Z",
     "start_time": "2025-01-23T13:58:57.278554Z"
    }
   },
   "cell_type": "code",
   "source": [
    "# Ler o arquivo Excel\n",
    "df_grouped = pd.read_excel('agrupando.xlsx')\n",
    "\n",
    "# Converter todos os valores da coluna 'box' para strings e preencher NaN com uma string vazia\n",
    "df_grouped['box'] = df_grouped['box'].fillna('').astype(str)\n",
    "\n",
    "# Agrupar por 'razao social' e concatenar 'box'\n",
    "df_grouped = df_grouped.groupby(['matricula','nome'])['box'].apply(lambda x: ' '.join(x)).reset_index()\n",
    "\n",
    "df_grouped\n"
   ],
   "id": "18807b160db13396",
   "outputs": [
    {
     "data": {
      "text/plain": [
       "     matricula                                      nome  \\\n",
       "0     100004.0                    LUIZ CARLOS DALL'AGNOL   \n",
       "1     100010.0                     ANGELO AUGUSTO WELTER   \n",
       "2     100037.0                        YOSHIHIRO TAKEUCHI   \n",
       "3     100041.0                              TADASHI SADA   \n",
       "4     100171.0                               SUNAO MAEDA   \n",
       "..         ...                                       ...   \n",
       "781  7100801.0                        GRUPO VIZ. ZUCATTI   \n",
       "782  7100802.0                       GRUPO VIZ. TRIVELIN   \n",
       "783  7500017.0  BANCO DO ESTADO DO RIO GRANDE DO SUL S/A   \n",
       "784  7500018.0                       BANCO DO BRASIL S/A   \n",
       "785  7500019.0         TECNOLOGIA BANCARIA S.A. - TECBAN   \n",
       "\n",
       "                                              box  \n",
       "0                                    Pav:D Box:72  \n",
       "1                                    Pav:E Box:41  \n",
       "2                                    Pav:I Box:47  \n",
       "3                                    Pav:C Box:60  \n",
       "4                                    Pav:E Box:52  \n",
       "..                                            ...  \n",
       "781                                  Pav:H Box:22  \n",
       "782                                  Pav:F Box:56  \n",
       "783  Pav:CUP Box:14 Pav:CUP Box:15 Pav:CUP Box:16  \n",
       "784  Pav:CUP Box:10 Pav:CUP Box:10 Pav:CUP Box:12  \n",
       "785                                                \n",
       "\n",
       "[786 rows x 3 columns]"
      ],
      "text/html": [
       "<div>\n",
       "<style scoped>\n",
       "    .dataframe tbody tr th:only-of-type {\n",
       "        vertical-align: middle;\n",
       "    }\n",
       "\n",
       "    .dataframe tbody tr th {\n",
       "        vertical-align: top;\n",
       "    }\n",
       "\n",
       "    .dataframe thead th {\n",
       "        text-align: right;\n",
       "    }\n",
       "</style>\n",
       "<table border=\"1\" class=\"dataframe\">\n",
       "  <thead>\n",
       "    <tr style=\"text-align: right;\">\n",
       "      <th></th>\n",
       "      <th>matricula</th>\n",
       "      <th>nome</th>\n",
       "      <th>box</th>\n",
       "    </tr>\n",
       "  </thead>\n",
       "  <tbody>\n",
       "    <tr>\n",
       "      <th>0</th>\n",
       "      <td>100004.0</td>\n",
       "      <td>LUIZ CARLOS DALL'AGNOL</td>\n",
       "      <td>Pav:D Box:72</td>\n",
       "    </tr>\n",
       "    <tr>\n",
       "      <th>1</th>\n",
       "      <td>100010.0</td>\n",
       "      <td>ANGELO AUGUSTO WELTER</td>\n",
       "      <td>Pav:E Box:41</td>\n",
       "    </tr>\n",
       "    <tr>\n",
       "      <th>2</th>\n",
       "      <td>100037.0</td>\n",
       "      <td>YOSHIHIRO TAKEUCHI</td>\n",
       "      <td>Pav:I Box:47</td>\n",
       "    </tr>\n",
       "    <tr>\n",
       "      <th>3</th>\n",
       "      <td>100041.0</td>\n",
       "      <td>TADASHI SADA</td>\n",
       "      <td>Pav:C Box:60</td>\n",
       "    </tr>\n",
       "    <tr>\n",
       "      <th>4</th>\n",
       "      <td>100171.0</td>\n",
       "      <td>SUNAO MAEDA</td>\n",
       "      <td>Pav:E Box:52</td>\n",
       "    </tr>\n",
       "    <tr>\n",
       "      <th>...</th>\n",
       "      <td>...</td>\n",
       "      <td>...</td>\n",
       "      <td>...</td>\n",
       "    </tr>\n",
       "    <tr>\n",
       "      <th>781</th>\n",
       "      <td>7100801.0</td>\n",
       "      <td>GRUPO VIZ. ZUCATTI</td>\n",
       "      <td>Pav:H Box:22</td>\n",
       "    </tr>\n",
       "    <tr>\n",
       "      <th>782</th>\n",
       "      <td>7100802.0</td>\n",
       "      <td>GRUPO VIZ. TRIVELIN</td>\n",
       "      <td>Pav:F Box:56</td>\n",
       "    </tr>\n",
       "    <tr>\n",
       "      <th>783</th>\n",
       "      <td>7500017.0</td>\n",
       "      <td>BANCO DO ESTADO DO RIO GRANDE DO SUL S/A</td>\n",
       "      <td>Pav:CUP Box:14 Pav:CUP Box:15 Pav:CUP Box:16</td>\n",
       "    </tr>\n",
       "    <tr>\n",
       "      <th>784</th>\n",
       "      <td>7500018.0</td>\n",
       "      <td>BANCO DO BRASIL S/A</td>\n",
       "      <td>Pav:CUP Box:10 Pav:CUP Box:10 Pav:CUP Box:12</td>\n",
       "    </tr>\n",
       "    <tr>\n",
       "      <th>785</th>\n",
       "      <td>7500019.0</td>\n",
       "      <td>TECNOLOGIA BANCARIA S.A. - TECBAN</td>\n",
       "      <td></td>\n",
       "    </tr>\n",
       "  </tbody>\n",
       "</table>\n",
       "<p>786 rows × 3 columns</p>\n",
       "</div>"
      ]
     },
     "execution_count": 2,
     "metadata": {},
     "output_type": "execute_result"
    }
   ],
   "execution_count": 2
  },
  {
   "metadata": {
    "ExecuteTime": {
     "end_time": "2025-01-23T13:59:03.228834Z",
     "start_time": "2025-01-23T13:59:03.062349Z"
    }
   },
   "cell_type": "code",
   "source": [
    "import pandas as pd\n",
    "import re\n",
    "\n",
    "# Lendo o arquivo Excel\n",
    "siger = pd.read_excel('siger.xlsx')\n",
    "\n",
    "# Ajustando os valores na coluna 'box' para o formato desejado com regex\n",
    "def format_box_value(x):\n",
    "\tif not isinstance(x, str):\n",
    "\t\tx = str(x)\n",
    "\tpattern = re.compile(r'(Pav:\\w+ Box:\\d+)')\n",
    "\tmatches = pattern.findall(x)\n",
    "\tif matches:\n",
    "\t\treturn matches\n",
    "\telse:\n",
    "\t\treturn ['']\n",
    "\n",
    "siger = siger.set_index(['matricula'])['box'].apply(format_box_value).explode().reset_index(name='box')\n",
    "\n",
    "# Exibindo o resultado\n",
    "print(siger)\n"
   ],
   "id": "89d724b11178221a",
   "outputs": [
    {
     "name": "stdout",
     "output_type": "stream",
     "text": [
      "      matricula             box\n",
      "0     7500019.0    Pav:B2 Box:1\n",
      "1     7500018.0  Pav:CUP Box:10\n",
      "2     7500018.0  Pav:CUP Box:11\n",
      "3     7500018.0  Pav:CUP Box:12\n",
      "4     7500017.0  Pav:CUP Box:14\n",
      "...         ...             ...\n",
      "1179        NaN                \n",
      "1180        NaN                \n",
      "1181        NaN                \n",
      "1182        NaN                \n",
      "1183        NaN                \n",
      "\n",
      "[1184 rows x 2 columns]\n"
     ]
    }
   ],
   "execution_count": 3
  },
  {
   "metadata": {
    "ExecuteTime": {
     "end_time": "2025-01-23T14:06:30.085018Z",
     "start_time": "2025-01-23T14:05:42.135842Z"
    }
   },
   "cell_type": "code",
   "source": [
    "import pandas as pd\n",
    "import re\n",
    "\n",
    "# Lendo o arquivo Excel\n",
    "teste = pd.read_excel('teste.xlsx')\n",
    "\n",
    "# Ajustando os valores na coluna 'box' para o formato desejado com regex\n",
    "def format_box_value(x):\n",
    "\tif not isinstance(x, str):\n",
    "\t\tx = str(x)\n",
    "\tpattern = re.compile(r'(Pav:\\w+ Box:\\d+)')\n",
    "\tmatches = pattern.findall(x)\n",
    "\tif matches:\n",
    "\t\treturn matches\n",
    "\telse:\n",
    "\t\treturn ['Formato Incorreto']\n",
    "\n",
    "# Ajustando os valores na coluna 'box'\n",
    "teste = teste.set_index(['matricula'])['box'].apply(format_box_value).explode().reset_index(name='box')\n",
    "\n",
    "# Exibindo o resultado\n",
    "print(teste)\n"
   ],
   "id": "5c2a6d2093c53071",
   "outputs": [
    {
     "name": "stdout",
     "output_type": "stream",
     "text": [
      "     matricula                box\n",
      "0          NaN  Formato Incorreto\n",
      "1    7500019.0  Formato Incorreto\n",
      "2          NaN  Formato Incorreto\n",
      "3    7500018.0     Pav:CUP Box:10\n",
      "4    7500018.0     Pav:CUP Box:10\n",
      "..         ...                ...\n",
      "792   113863.0      Pav:SOM Box:8\n",
      "793   113863.0      Pav:SOM Box:9\n",
      "794        NaN  Formato Incorreto\n",
      "795   100176.0       Pav:A8 Box:6\n",
      "796   100176.0       Pav:A8 Box:7\n",
      "\n",
      "[797 rows x 2 columns]\n"
     ]
    }
   ],
   "execution_count": 5
  },
  {
   "metadata": {
    "ExecuteTime": {
     "end_time": "2025-01-23T14:06:46.886026Z",
     "start_time": "2025-01-23T14:06:46.846044Z"
    }
   },
   "cell_type": "code",
   "source": [
    "df_merged = pd.merge(teste, siger, on=['matricula', 'box'], how='outer', indicator=True)\n",
    "df_merged['_merge'] = df_merged['_merge'].replace({'right_only': 'siger', 'left_only': 'atualizados', 'both': 'iguais'})\n",
    "\n",
    "# Filtrar as diferenças\n",
    "diferencas = df_merged[df_merged['_merge'] != 'both']\n"
   ],
   "id": "f73773975c173d2c",
   "outputs": [
    {
     "name": "stderr",
     "output_type": "stream",
     "text": [
      "C:\\Users\\divtec-dados\\AppData\\Local\\Temp\\ipykernel_504\\3725066816.py:2: FutureWarning: The behavior of Series.replace (and DataFrame.replace) with CategoricalDtype is deprecated. In a future version, replace will only be used for cases that preserve the categories. To change the categories, use ser.cat.rename_categories instead.\n",
      "  df_merged['_merge'] = df_merged['_merge'].replace({'right_only': 'siger', 'left_only': 'atualizados', 'both': 'iguais'})\n"
     ]
    }
   ],
   "execution_count": 7
  },
  {
   "metadata": {
    "ExecuteTime": {
     "end_time": "2025-01-23T14:06:52.858647Z",
     "start_time": "2025-01-23T14:06:52.834440Z"
    }
   },
   "cell_type": "code",
   "source": "diferencas",
   "id": "36111975389ed9b",
   "outputs": [
    {
     "data": {
      "text/plain": [
       "      matricula            box _merge\n",
       "0      100003.0                 siger\n",
       "1      100010.0  Pav:B2 Box:41  siger\n",
       "2      100037.0  Pav:B2 Box:47  siger\n",
       "3      100041.0  Pav:B2 Box:60  siger\n",
       "4      100171.0  Pav:B2 Box:52  siger\n",
       "...         ...            ...    ...\n",
       "1661        NaN  Pav:SOM Box:8  siger\n",
       "1662        NaN  Pav:SOM Box:9  siger\n",
       "1663        NaN  Pav:TC Box:32  siger\n",
       "1664        NaN  Pav:TC Box:33  siger\n",
       "1665        NaN  Pav:TC Box:34  siger\n",
       "\n",
       "[1666 rows x 3 columns]"
      ],
      "text/html": [
       "<div>\n",
       "<style scoped>\n",
       "    .dataframe tbody tr th:only-of-type {\n",
       "        vertical-align: middle;\n",
       "    }\n",
       "\n",
       "    .dataframe tbody tr th {\n",
       "        vertical-align: top;\n",
       "    }\n",
       "\n",
       "    .dataframe thead th {\n",
       "        text-align: right;\n",
       "    }\n",
       "</style>\n",
       "<table border=\"1\" class=\"dataframe\">\n",
       "  <thead>\n",
       "    <tr style=\"text-align: right;\">\n",
       "      <th></th>\n",
       "      <th>matricula</th>\n",
       "      <th>box</th>\n",
       "      <th>_merge</th>\n",
       "    </tr>\n",
       "  </thead>\n",
       "  <tbody>\n",
       "    <tr>\n",
       "      <th>0</th>\n",
       "      <td>100003.0</td>\n",
       "      <td></td>\n",
       "      <td>siger</td>\n",
       "    </tr>\n",
       "    <tr>\n",
       "      <th>1</th>\n",
       "      <td>100010.0</td>\n",
       "      <td>Pav:B2 Box:41</td>\n",
       "      <td>siger</td>\n",
       "    </tr>\n",
       "    <tr>\n",
       "      <th>2</th>\n",
       "      <td>100037.0</td>\n",
       "      <td>Pav:B2 Box:47</td>\n",
       "      <td>siger</td>\n",
       "    </tr>\n",
       "    <tr>\n",
       "      <th>3</th>\n",
       "      <td>100041.0</td>\n",
       "      <td>Pav:B2 Box:60</td>\n",
       "      <td>siger</td>\n",
       "    </tr>\n",
       "    <tr>\n",
       "      <th>4</th>\n",
       "      <td>100171.0</td>\n",
       "      <td>Pav:B2 Box:52</td>\n",
       "      <td>siger</td>\n",
       "    </tr>\n",
       "    <tr>\n",
       "      <th>...</th>\n",
       "      <td>...</td>\n",
       "      <td>...</td>\n",
       "      <td>...</td>\n",
       "    </tr>\n",
       "    <tr>\n",
       "      <th>1661</th>\n",
       "      <td>NaN</td>\n",
       "      <td>Pav:SOM Box:8</td>\n",
       "      <td>siger</td>\n",
       "    </tr>\n",
       "    <tr>\n",
       "      <th>1662</th>\n",
       "      <td>NaN</td>\n",
       "      <td>Pav:SOM Box:9</td>\n",
       "      <td>siger</td>\n",
       "    </tr>\n",
       "    <tr>\n",
       "      <th>1663</th>\n",
       "      <td>NaN</td>\n",
       "      <td>Pav:TC Box:32</td>\n",
       "      <td>siger</td>\n",
       "    </tr>\n",
       "    <tr>\n",
       "      <th>1664</th>\n",
       "      <td>NaN</td>\n",
       "      <td>Pav:TC Box:33</td>\n",
       "      <td>siger</td>\n",
       "    </tr>\n",
       "    <tr>\n",
       "      <th>1665</th>\n",
       "      <td>NaN</td>\n",
       "      <td>Pav:TC Box:34</td>\n",
       "      <td>siger</td>\n",
       "    </tr>\n",
       "  </tbody>\n",
       "</table>\n",
       "<p>1666 rows × 3 columns</p>\n",
       "</div>"
      ]
     },
     "execution_count": 8,
     "metadata": {},
     "output_type": "execute_result"
    }
   ],
   "execution_count": 8
  },
  {
   "metadata": {
    "ExecuteTime": {
     "end_time": "2025-01-23T14:07:09.189060Z",
     "start_time": "2025-01-23T14:07:08.208729Z"
    }
   },
   "cell_type": "code",
   "source": "diferencas.to_excel('Verificação SIGER 2.xlsx', index=False)",
   "id": "36bd4efbc9f1633b",
   "outputs": [],
   "execution_count": 9
  }
 ],
 "metadata": {
  "kernelspec": {
   "display_name": "Python 3",
   "language": "python",
   "name": "python3"
  },
  "language_info": {
   "codemirror_mode": {
    "name": "ipython",
    "version": 2
   },
   "file_extension": ".py",
   "mimetype": "text/x-python",
   "name": "python",
   "nbconvert_exporter": "python",
   "pygments_lexer": "ipython2",
   "version": "2.7.6"
  }
 },
 "nbformat": 4,
 "nbformat_minor": 5
}
