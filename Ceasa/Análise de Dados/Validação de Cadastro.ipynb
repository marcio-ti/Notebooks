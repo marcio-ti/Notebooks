{
 "cells": [
  {
   "cell_type": "code",
   "id": "initial_id",
   "metadata": {
    "collapsed": true,
    "ExecuteTime": {
     "end_time": "2024-08-05T14:43:18.223943Z",
     "start_time": "2024-08-05T14:43:07.553807Z"
    }
   },
   "source": [
    "import pandas as pd\n",
    "import warnings\n",
    "warnings.filterwarnings('ignore')"
   ],
   "outputs": [],
   "execution_count": 1
  },
  {
   "metadata": {
    "ExecuteTime": {
     "end_time": "2024-08-05T14:43:18.274896Z",
     "start_time": "2024-08-05T14:43:18.223943Z"
    }
   },
   "cell_type": "code",
   "source": [
    "df = pd.read_csv('PRODUTORES.csv', sep=',')\n",
    "df['CPF'] = df['CPF'].astype('str')\n",
    "df['MATRICULA'] = df['MATRICULA'].astype('str')\n",
    "df = df.loc[:, ~df.columns.str.contains('^Unnamed')]\n"
   ],
   "id": "738b6a738f13b3e7",
   "outputs": [],
   "execution_count": 2
  },
  {
   "metadata": {
    "ExecuteTime": {
     "end_time": "2024-08-05T14:43:18.339894Z",
     "start_time": "2024-08-05T14:43:18.274896Z"
    }
   },
   "cell_type": "code",
   "source": [
    "# Identificando as linhas duplicadas no DataFrame\n",
    "duplicatas = df['NOME - RAZÃO SOCIAL'].duplicated(keep=False)\n",
    "\n",
    "# Selecionando as linhas duplicadas com base no resultado anterior\n",
    "linhas_duplicadas = df[duplicatas]\n",
    "\n",
    "linhas_duplicadas"
   ],
   "id": "5edc27b7f8193a76",
   "outputs": [
    {
     "data": {
      "text/plain": [
       "     MATRICULA       NOME - RAZÃO SOCIAL            CPF SITUAÇÃO  \\\n",
       "54    100376.0       JUAREZ LUIZ ESSVEIN            nan      NaN   \n",
       "67    100495.0  ALZIDIO MEDEIROS DA SILV            nan      NaN   \n",
       "77    100586.0      LUCIANO OVALHE NUNES            nan      NaN   \n",
       "89    100692.0        JOSE VOLMIR HAUSER            nan      NaN   \n",
       "90    100694.0     IVANIR ALCEU PIEROZAN            nan      NaN   \n",
       "...        ...                       ...            ...      ...   \n",
       "1913  116661.0      ADRIANO JOSE CALSING  82838917072.0    ATIVO   \n",
       "1915  116664.0  SANTA LUZIA DA LUZ LEFFA            nan      NaN   \n",
       "1929  116701.0   JANILDO DA LUZ SCHWANCK            nan      NaN   \n",
       "1932  116705.0            TAKAHIRO GENBA   2818268036.0    ATIVO   \n",
       "1934  116713.0     LISANDRO DA ROSA KHUN            nan      NaN   \n",
       "\n",
       "      GNP-P MATRICULA GRUPO DE VIZINHANÇA  \n",
       "54                NaN                 NaN  \n",
       "67                NaN                 NaN  \n",
       "77                NaN                 NaN  \n",
       "89                NaN                 NaN  \n",
       "90                NaN                 NaN  \n",
       "...               ...                 ...  \n",
       "1913              NaN                 NaN  \n",
       "1915              NaN                 NaN  \n",
       "1929              NaN                 NaN  \n",
       "1932              NaN                 NaN  \n",
       "1934              NaN                 NaN  \n",
       "\n",
       "[146 rows x 6 columns]"
      ],
      "text/html": [
       "<div>\n",
       "<style scoped>\n",
       "    .dataframe tbody tr th:only-of-type {\n",
       "        vertical-align: middle;\n",
       "    }\n",
       "\n",
       "    .dataframe tbody tr th {\n",
       "        vertical-align: top;\n",
       "    }\n",
       "\n",
       "    .dataframe thead th {\n",
       "        text-align: right;\n",
       "    }\n",
       "</style>\n",
       "<table border=\"1\" class=\"dataframe\">\n",
       "  <thead>\n",
       "    <tr style=\"text-align: right;\">\n",
       "      <th></th>\n",
       "      <th>MATRICULA</th>\n",
       "      <th>NOME - RAZÃO SOCIAL</th>\n",
       "      <th>CPF</th>\n",
       "      <th>SITUAÇÃO</th>\n",
       "      <th>GNP-P MATRICULA</th>\n",
       "      <th>GRUPO DE VIZINHANÇA</th>\n",
       "    </tr>\n",
       "  </thead>\n",
       "  <tbody>\n",
       "    <tr>\n",
       "      <th>54</th>\n",
       "      <td>100376.0</td>\n",
       "      <td>JUAREZ LUIZ ESSVEIN</td>\n",
       "      <td>nan</td>\n",
       "      <td>NaN</td>\n",
       "      <td>NaN</td>\n",
       "      <td>NaN</td>\n",
       "    </tr>\n",
       "    <tr>\n",
       "      <th>67</th>\n",
       "      <td>100495.0</td>\n",
       "      <td>ALZIDIO MEDEIROS DA SILV</td>\n",
       "      <td>nan</td>\n",
       "      <td>NaN</td>\n",
       "      <td>NaN</td>\n",
       "      <td>NaN</td>\n",
       "    </tr>\n",
       "    <tr>\n",
       "      <th>77</th>\n",
       "      <td>100586.0</td>\n",
       "      <td>LUCIANO OVALHE NUNES</td>\n",
       "      <td>nan</td>\n",
       "      <td>NaN</td>\n",
       "      <td>NaN</td>\n",
       "      <td>NaN</td>\n",
       "    </tr>\n",
       "    <tr>\n",
       "      <th>89</th>\n",
       "      <td>100692.0</td>\n",
       "      <td>JOSE VOLMIR HAUSER</td>\n",
       "      <td>nan</td>\n",
       "      <td>NaN</td>\n",
       "      <td>NaN</td>\n",
       "      <td>NaN</td>\n",
       "    </tr>\n",
       "    <tr>\n",
       "      <th>90</th>\n",
       "      <td>100694.0</td>\n",
       "      <td>IVANIR ALCEU PIEROZAN</td>\n",
       "      <td>nan</td>\n",
       "      <td>NaN</td>\n",
       "      <td>NaN</td>\n",
       "      <td>NaN</td>\n",
       "    </tr>\n",
       "    <tr>\n",
       "      <th>...</th>\n",
       "      <td>...</td>\n",
       "      <td>...</td>\n",
       "      <td>...</td>\n",
       "      <td>...</td>\n",
       "      <td>...</td>\n",
       "      <td>...</td>\n",
       "    </tr>\n",
       "    <tr>\n",
       "      <th>1913</th>\n",
       "      <td>116661.0</td>\n",
       "      <td>ADRIANO JOSE CALSING</td>\n",
       "      <td>82838917072.0</td>\n",
       "      <td>ATIVO</td>\n",
       "      <td>NaN</td>\n",
       "      <td>NaN</td>\n",
       "    </tr>\n",
       "    <tr>\n",
       "      <th>1915</th>\n",
       "      <td>116664.0</td>\n",
       "      <td>SANTA LUZIA DA LUZ LEFFA</td>\n",
       "      <td>nan</td>\n",
       "      <td>NaN</td>\n",
       "      <td>NaN</td>\n",
       "      <td>NaN</td>\n",
       "    </tr>\n",
       "    <tr>\n",
       "      <th>1929</th>\n",
       "      <td>116701.0</td>\n",
       "      <td>JANILDO DA LUZ SCHWANCK</td>\n",
       "      <td>nan</td>\n",
       "      <td>NaN</td>\n",
       "      <td>NaN</td>\n",
       "      <td>NaN</td>\n",
       "    </tr>\n",
       "    <tr>\n",
       "      <th>1932</th>\n",
       "      <td>116705.0</td>\n",
       "      <td>TAKAHIRO GENBA</td>\n",
       "      <td>2818268036.0</td>\n",
       "      <td>ATIVO</td>\n",
       "      <td>NaN</td>\n",
       "      <td>NaN</td>\n",
       "    </tr>\n",
       "    <tr>\n",
       "      <th>1934</th>\n",
       "      <td>116713.0</td>\n",
       "      <td>LISANDRO DA ROSA KHUN</td>\n",
       "      <td>nan</td>\n",
       "      <td>NaN</td>\n",
       "      <td>NaN</td>\n",
       "      <td>NaN</td>\n",
       "    </tr>\n",
       "  </tbody>\n",
       "</table>\n",
       "<p>146 rows × 6 columns</p>\n",
       "</div>"
      ]
     },
     "execution_count": 3,
     "metadata": {},
     "output_type": "execute_result"
    }
   ],
   "execution_count": 3
  },
  {
   "metadata": {
    "ExecuteTime": {
     "end_time": "2024-08-05T14:44:17.089692Z",
     "start_time": "2024-08-05T14:44:16.797735Z"
    }
   },
   "cell_type": "code",
   "source": "linhas_duplicadas.to_excel('lista_duplicados.xlsx', index=False)",
   "id": "6d0bc333b3c437ef",
   "outputs": [],
   "execution_count": 4
  }
 ],
 "metadata": {
  "kernelspec": {
   "display_name": "Python 3",
   "language": "python",
   "name": "python3"
  },
  "language_info": {
   "codemirror_mode": {
    "name": "ipython",
    "version": 2
   },
   "file_extension": ".py",
   "mimetype": "text/x-python",
   "name": "python",
   "nbconvert_exporter": "python",
   "pygments_lexer": "ipython2",
   "version": "2.7.6"
  }
 },
 "nbformat": 4,
 "nbformat_minor": 5
}
