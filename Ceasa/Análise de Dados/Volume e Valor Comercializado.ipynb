{
 "cells": [
  {
   "cell_type": "code",
   "id": "initial_id",
   "metadata": {
    "collapsed": true,
    "ExecuteTime": {
     "end_time": "2024-09-17T18:45:04.810052Z",
     "start_time": "2024-09-17T18:45:04.794492Z"
    }
   },
   "source": [
    "import pandas as pd\n",
    "import warnings\n",
    "import locale\n",
    "\n",
    "warnings.filterwarnings('ignore')\n",
    "pd.options.display.float_format = '{:.3f}'.format\n",
    "locale.setlocale(locale.LC_ALL, 'pt_BR.UTF-8')"
   ],
   "outputs": [
    {
     "data": {
      "text/plain": [
       "'pt_BR.UTF-8'"
      ]
     },
     "execution_count": 2,
     "metadata": {},
     "output_type": "execute_result"
    }
   ],
   "execution_count": 2
  },
  {
   "metadata": {
    "SqlCellData": {
     "data_source_name": "MySQL LocalWeb",
     "variableName$1": "notas"
    },
    "ExecuteTime": {
     "end_time": "2024-09-17T18:55:40.282494Z",
     "start_time": "2024-09-17T18:55:35.500067Z"
    }
   },
   "cell_type": "code",
   "source": [
    "%%sql\n",
    "SELECT\n",
    "    divtec_notasfiscais.data,\n",
    "    divtec_notasfiscais.produto,\n",
    "    round(sum(divtec_notasfiscais.volume),2) as volume_produto_dia\n",
    "FROM\n",
    "    divtec_notasfiscais\n",
    "WHERE data >='2024-08-01' and data <='2024-08-31'\n",
    "GROUP BY\n",
    "    divtec_notasfiscais.produto,\n",
    "    divtec_notasfiscais.data,\n",
    "    divtec_notasfiscais.volume"
   ],
   "id": "81f6a539f8464dc",
   "outputs": [
    {
     "data": {
      "text/plain": [
       "             data        produto  volume_produto_dia\n",
       "0      2024-08-01  00101-ABACATE               9.000\n",
       "1      2024-08-01  00101-ABACATE              54.000\n",
       "2      2024-08-01  00101-ABACATE              72.000\n",
       "3      2024-08-01  00101-ABACATE              54.000\n",
       "4      2024-08-01  00101-ABACATE              80.000\n",
       "...           ...            ...                 ...\n",
       "18844  2024-08-23     ZAMIOCULCA               8.000\n",
       "18845  2024-08-26     ZAMIOCULCA               8.000\n",
       "18846  2024-08-26     ZAMIOCULCA              36.000\n",
       "18847  2024-08-27     ZAMIOCULCA               8.000\n",
       "18848  2024-08-30     ZAMIOCULCA              12.000\n",
       "\n",
       "[18849 rows x 3 columns]"
      ],
      "text/html": [
       "<div>\n",
       "<style scoped>\n",
       "    .dataframe tbody tr th:only-of-type {\n",
       "        vertical-align: middle;\n",
       "    }\n",
       "\n",
       "    .dataframe tbody tr th {\n",
       "        vertical-align: top;\n",
       "    }\n",
       "\n",
       "    .dataframe thead th {\n",
       "        text-align: right;\n",
       "    }\n",
       "</style>\n",
       "<table border=\"1\" class=\"dataframe\">\n",
       "  <thead>\n",
       "    <tr style=\"text-align: right;\">\n",
       "      <th></th>\n",
       "      <th>data</th>\n",
       "      <th>produto</th>\n",
       "      <th>volume_produto_dia</th>\n",
       "    </tr>\n",
       "  </thead>\n",
       "  <tbody>\n",
       "    <tr>\n",
       "      <th>0</th>\n",
       "      <td>2024-08-01</td>\n",
       "      <td>00101-ABACATE</td>\n",
       "      <td>9.000</td>\n",
       "    </tr>\n",
       "    <tr>\n",
       "      <th>1</th>\n",
       "      <td>2024-08-01</td>\n",
       "      <td>00101-ABACATE</td>\n",
       "      <td>54.000</td>\n",
       "    </tr>\n",
       "    <tr>\n",
       "      <th>2</th>\n",
       "      <td>2024-08-01</td>\n",
       "      <td>00101-ABACATE</td>\n",
       "      <td>72.000</td>\n",
       "    </tr>\n",
       "    <tr>\n",
       "      <th>3</th>\n",
       "      <td>2024-08-01</td>\n",
       "      <td>00101-ABACATE</td>\n",
       "      <td>54.000</td>\n",
       "    </tr>\n",
       "    <tr>\n",
       "      <th>4</th>\n",
       "      <td>2024-08-01</td>\n",
       "      <td>00101-ABACATE</td>\n",
       "      <td>80.000</td>\n",
       "    </tr>\n",
       "    <tr>\n",
       "      <th>...</th>\n",
       "      <td>...</td>\n",
       "      <td>...</td>\n",
       "      <td>...</td>\n",
       "    </tr>\n",
       "    <tr>\n",
       "      <th>18844</th>\n",
       "      <td>2024-08-23</td>\n",
       "      <td>ZAMIOCULCA</td>\n",
       "      <td>8.000</td>\n",
       "    </tr>\n",
       "    <tr>\n",
       "      <th>18845</th>\n",
       "      <td>2024-08-26</td>\n",
       "      <td>ZAMIOCULCA</td>\n",
       "      <td>8.000</td>\n",
       "    </tr>\n",
       "    <tr>\n",
       "      <th>18846</th>\n",
       "      <td>2024-08-26</td>\n",
       "      <td>ZAMIOCULCA</td>\n",
       "      <td>36.000</td>\n",
       "    </tr>\n",
       "    <tr>\n",
       "      <th>18847</th>\n",
       "      <td>2024-08-27</td>\n",
       "      <td>ZAMIOCULCA</td>\n",
       "      <td>8.000</td>\n",
       "    </tr>\n",
       "    <tr>\n",
       "      <th>18848</th>\n",
       "      <td>2024-08-30</td>\n",
       "      <td>ZAMIOCULCA</td>\n",
       "      <td>12.000</td>\n",
       "    </tr>\n",
       "  </tbody>\n",
       "</table>\n",
       "<p>18849 rows × 3 columns</p>\n",
       "</div>"
      ]
     },
     "execution_count": 11,
     "metadata": {},
     "output_type": "execute_result"
    }
   ],
   "execution_count": 11
  },
  {
   "metadata": {
    "ExecuteTime": {
     "end_time": "2024-09-17T19:04:13.586917Z",
     "start_time": "2024-09-17T19:04:00.140304Z"
    }
   },
   "cell_type": "code",
   "source": [
    "dados_2024 = pd.read_excel('Janeiro 2024.xlsx')\n",
    "dados_2024 = dados_2024[['data', 'produto', 'VOLUME']]\n",
    "dados_2024.rename(columns={'VOLUME':'volume_produto_dia'}, inplace=True)\n",
    "dados_2024['data'] = dados_2024['data'].astype('datetime64[ns]')"
   ],
   "id": "b058cbd2fcf8840c",
   "outputs": [],
   "execution_count": 49
  },
  {
   "metadata": {
    "ExecuteTime": {
     "end_time": "2024-09-17T19:04:14.511417Z",
     "start_time": "2024-09-17T19:04:14.497051Z"
    }
   },
   "cell_type": "code",
   "source": "dados_2024.head()",
   "id": "88ff6a0a30844e20",
   "outputs": [
    {
     "data": {
      "text/plain": [
       "        data        produto  volume_produto_dia\n",
       "0 2024-01-02  00101-ABACATE              36.000\n",
       "1 2024-01-02  00101-ABACATE              90.000\n",
       "2 2024-01-02  00101-ABACATE             100.000\n",
       "3 2024-01-02  00101-ABACATE             108.000\n",
       "4 2024-01-02  00101-ABACATE             180.000"
      ],
      "text/html": [
       "<div>\n",
       "<style scoped>\n",
       "    .dataframe tbody tr th:only-of-type {\n",
       "        vertical-align: middle;\n",
       "    }\n",
       "\n",
       "    .dataframe tbody tr th {\n",
       "        vertical-align: top;\n",
       "    }\n",
       "\n",
       "    .dataframe thead th {\n",
       "        text-align: right;\n",
       "    }\n",
       "</style>\n",
       "<table border=\"1\" class=\"dataframe\">\n",
       "  <thead>\n",
       "    <tr style=\"text-align: right;\">\n",
       "      <th></th>\n",
       "      <th>data</th>\n",
       "      <th>produto</th>\n",
       "      <th>volume_produto_dia</th>\n",
       "    </tr>\n",
       "  </thead>\n",
       "  <tbody>\n",
       "    <tr>\n",
       "      <th>0</th>\n",
       "      <td>2024-01-02</td>\n",
       "      <td>00101-ABACATE</td>\n",
       "      <td>36.000</td>\n",
       "    </tr>\n",
       "    <tr>\n",
       "      <th>1</th>\n",
       "      <td>2024-01-02</td>\n",
       "      <td>00101-ABACATE</td>\n",
       "      <td>90.000</td>\n",
       "    </tr>\n",
       "    <tr>\n",
       "      <th>2</th>\n",
       "      <td>2024-01-02</td>\n",
       "      <td>00101-ABACATE</td>\n",
       "      <td>100.000</td>\n",
       "    </tr>\n",
       "    <tr>\n",
       "      <th>3</th>\n",
       "      <td>2024-01-02</td>\n",
       "      <td>00101-ABACATE</td>\n",
       "      <td>108.000</td>\n",
       "    </tr>\n",
       "    <tr>\n",
       "      <th>4</th>\n",
       "      <td>2024-01-02</td>\n",
       "      <td>00101-ABACATE</td>\n",
       "      <td>180.000</td>\n",
       "    </tr>\n",
       "  </tbody>\n",
       "</table>\n",
       "</div>"
      ]
     },
     "execution_count": 50,
     "metadata": {},
     "output_type": "execute_result"
    }
   ],
   "execution_count": 50
  },
  {
   "metadata": {
    "SqlCellData": {
     "data_source_name": "MySQL LocalWeb",
     "variableName$1": "cotacao"
    },
    "ExecuteTime": {
     "end_time": "2024-09-17T19:17:11.594521Z",
     "start_time": "2024-09-17T19:17:10.063995800Z"
    }
   },
   "cell_type": "code",
   "source": [
    "%%sql\n",
    "CALL CotacaoEmQuilogramasPorPeriodo('2024-01-01','2024-02-01');"
   ],
   "id": "b66cb0c13891e6d3",
   "outputs": [
    {
     "data": {
      "text/plain": [
       "            data                         produto unidade  peso em Kg  \\\n",
       "0     2024-01-04                   00101-ABACATE      KG       1.000   \n",
       "1     2024-01-04    00201-ABACAXI CAIENA (HAWAI)     UND       1.800   \n",
       "2     2024-01-04            00202-ABACAXI PEROLA     UND       1.300   \n",
       "3     2024-01-04    00203-ABACAXI TERRA DE AREIA     UND       0.400   \n",
       "4     2024-01-04           00301-AMEIXA NACIONAL      KG       1.000   \n",
       "...          ...                             ...     ...         ...   \n",
       "1557  2024-01-30        54601-ROSA VERMELHA 20UN     MOL       0.566   \n",
       "1558  2024-01-30               54701-MOSQUITINHO     MOL       0.300   \n",
       "1559  2024-01-30  54801-VERDES (SAMAMBAIA PRETA)     MOL       0.500   \n",
       "1560  2024-01-30        54901-ROSA COLORIDA 20UN     MOL       0.600   \n",
       "1561  2024-01-30            54950-ROSA IMPORTADA     MOL       0.600   \n",
       "\n",
       "      mais_frequente  Preço por Kg  \n",
       "0              5.000         5.000  \n",
       "1              9.000         5.000  \n",
       "2              8.000         6.150  \n",
       "3              4.500        11.250  \n",
       "4              8.000         8.000  \n",
       "...              ...           ...  \n",
       "1557          40.000        70.670  \n",
       "1558          29.000        96.670  \n",
       "1559          15.000        30.000  \n",
       "1560          40.000        66.670  \n",
       "1561         220.000       366.670  \n",
       "\n",
       "[1562 rows x 6 columns]"
      ],
      "text/html": [
       "<div>\n",
       "<style scoped>\n",
       "    .dataframe tbody tr th:only-of-type {\n",
       "        vertical-align: middle;\n",
       "    }\n",
       "\n",
       "    .dataframe tbody tr th {\n",
       "        vertical-align: top;\n",
       "    }\n",
       "\n",
       "    .dataframe thead th {\n",
       "        text-align: right;\n",
       "    }\n",
       "</style>\n",
       "<table border=\"1\" class=\"dataframe\">\n",
       "  <thead>\n",
       "    <tr style=\"text-align: right;\">\n",
       "      <th></th>\n",
       "      <th>data</th>\n",
       "      <th>produto</th>\n",
       "      <th>unidade</th>\n",
       "      <th>peso em Kg</th>\n",
       "      <th>mais_frequente</th>\n",
       "      <th>Preço por Kg</th>\n",
       "    </tr>\n",
       "  </thead>\n",
       "  <tbody>\n",
       "    <tr>\n",
       "      <th>0</th>\n",
       "      <td>2024-01-04</td>\n",
       "      <td>00101-ABACATE</td>\n",
       "      <td>KG</td>\n",
       "      <td>1.000</td>\n",
       "      <td>5.000</td>\n",
       "      <td>5.000</td>\n",
       "    </tr>\n",
       "    <tr>\n",
       "      <th>1</th>\n",
       "      <td>2024-01-04</td>\n",
       "      <td>00201-ABACAXI CAIENA (HAWAI)</td>\n",
       "      <td>UND</td>\n",
       "      <td>1.800</td>\n",
       "      <td>9.000</td>\n",
       "      <td>5.000</td>\n",
       "    </tr>\n",
       "    <tr>\n",
       "      <th>2</th>\n",
       "      <td>2024-01-04</td>\n",
       "      <td>00202-ABACAXI PEROLA</td>\n",
       "      <td>UND</td>\n",
       "      <td>1.300</td>\n",
       "      <td>8.000</td>\n",
       "      <td>6.150</td>\n",
       "    </tr>\n",
       "    <tr>\n",
       "      <th>3</th>\n",
       "      <td>2024-01-04</td>\n",
       "      <td>00203-ABACAXI TERRA DE AREIA</td>\n",
       "      <td>UND</td>\n",
       "      <td>0.400</td>\n",
       "      <td>4.500</td>\n",
       "      <td>11.250</td>\n",
       "    </tr>\n",
       "    <tr>\n",
       "      <th>4</th>\n",
       "      <td>2024-01-04</td>\n",
       "      <td>00301-AMEIXA NACIONAL</td>\n",
       "      <td>KG</td>\n",
       "      <td>1.000</td>\n",
       "      <td>8.000</td>\n",
       "      <td>8.000</td>\n",
       "    </tr>\n",
       "    <tr>\n",
       "      <th>...</th>\n",
       "      <td>...</td>\n",
       "      <td>...</td>\n",
       "      <td>...</td>\n",
       "      <td>...</td>\n",
       "      <td>...</td>\n",
       "      <td>...</td>\n",
       "    </tr>\n",
       "    <tr>\n",
       "      <th>1557</th>\n",
       "      <td>2024-01-30</td>\n",
       "      <td>54601-ROSA VERMELHA 20UN</td>\n",
       "      <td>MOL</td>\n",
       "      <td>0.566</td>\n",
       "      <td>40.000</td>\n",
       "      <td>70.670</td>\n",
       "    </tr>\n",
       "    <tr>\n",
       "      <th>1558</th>\n",
       "      <td>2024-01-30</td>\n",
       "      <td>54701-MOSQUITINHO</td>\n",
       "      <td>MOL</td>\n",
       "      <td>0.300</td>\n",
       "      <td>29.000</td>\n",
       "      <td>96.670</td>\n",
       "    </tr>\n",
       "    <tr>\n",
       "      <th>1559</th>\n",
       "      <td>2024-01-30</td>\n",
       "      <td>54801-VERDES (SAMAMBAIA PRETA)</td>\n",
       "      <td>MOL</td>\n",
       "      <td>0.500</td>\n",
       "      <td>15.000</td>\n",
       "      <td>30.000</td>\n",
       "    </tr>\n",
       "    <tr>\n",
       "      <th>1560</th>\n",
       "      <td>2024-01-30</td>\n",
       "      <td>54901-ROSA COLORIDA 20UN</td>\n",
       "      <td>MOL</td>\n",
       "      <td>0.600</td>\n",
       "      <td>40.000</td>\n",
       "      <td>66.670</td>\n",
       "    </tr>\n",
       "    <tr>\n",
       "      <th>1561</th>\n",
       "      <td>2024-01-30</td>\n",
       "      <td>54950-ROSA IMPORTADA</td>\n",
       "      <td>MOL</td>\n",
       "      <td>0.600</td>\n",
       "      <td>220.000</td>\n",
       "      <td>366.670</td>\n",
       "    </tr>\n",
       "  </tbody>\n",
       "</table>\n",
       "<p>1562 rows × 6 columns</p>\n",
       "</div>"
      ]
     },
     "execution_count": 114,
     "metadata": {},
     "output_type": "execute_result"
    }
   ],
   "execution_count": 114
  },
  {
   "metadata": {
    "ExecuteTime": {
     "end_time": "2024-09-17T19:18:06.468471Z",
     "start_time": "2024-09-17T19:18:06.122036Z"
    }
   },
   "cell_type": "code",
   "source": "cotacao[['data','produto','Preço por Kg']].to_excel('cotação Jan 2024.xlsx', index=False)",
   "id": "f9cd971f1909d67b",
   "outputs": [],
   "execution_count": 115
  },
  {
   "metadata": {
    "ExecuteTime": {
     "end_time": "2024-09-17T19:14:57.024128Z",
     "start_time": "2024-09-17T19:14:57.013507Z"
    }
   },
   "cell_type": "code",
   "source": "cotacao['data'] = cotacao['data'].astype('datetime64[ns]') ",
   "id": "2ace0a5b85087e16",
   "outputs": [],
   "execution_count": 98
  },
  {
   "metadata": {
    "ExecuteTime": {
     "end_time": "2024-09-17T19:14:59.140504Z",
     "start_time": "2024-09-17T19:14:59.128866Z"
    }
   },
   "cell_type": "code",
   "source": [
    "cotacao = cotacao.groupby(['produto','unidade'])['mais_frequente'].mean().reset_index()\n",
    "cotacao.rename(columns={'mais_frequente':'Preço por Kg'},inplace=True)"
   ],
   "id": "e4d56bbbc26b0696",
   "outputs": [],
   "execution_count": 99
  },
  {
   "metadata": {
    "ExecuteTime": {
     "end_time": "2024-09-17T19:15:01.329949Z",
     "start_time": "2024-09-17T19:15:01.315354Z"
    }
   },
   "cell_type": "code",
   "source": [
    "# notas = notas.copy(deep=True)\n",
    "notas = dados_2024\n",
    "notas = notas.groupby(['produto'])['volume_produto_dia'].sum().reset_index()"
   ],
   "id": "f7a155a3c8c896fc",
   "outputs": [],
   "execution_count": 100
  },
  {
   "metadata": {
    "ExecuteTime": {
     "end_time": "2024-09-17T19:15:42.397120Z",
     "start_time": "2024-09-17T19:15:42.388298Z"
    }
   },
   "cell_type": "code",
   "source": "volume = notas.merge(cotacao, on=['produto'])",
   "id": "dc743080e8d0b821",
   "outputs": [],
   "execution_count": 106
  },
  {
   "metadata": {
    "ExecuteTime": {
     "end_time": "2024-09-17T19:15:45.498814Z",
     "start_time": "2024-09-17T19:15:45.492928Z"
    }
   },
   "cell_type": "code",
   "source": "volume = volume[['produto','volume_produto_dia','Preço por Kg']]",
   "id": "9b4373ded565528",
   "outputs": [],
   "execution_count": 107
  },
  {
   "metadata": {
    "ExecuteTime": {
     "end_time": "2024-09-17T19:15:47.171810Z",
     "start_time": "2024-09-17T19:15:47.163423Z"
    }
   },
   "cell_type": "code",
   "source": [
    "volume['total'] = volume['volume_produto_dia'] * volume['Preço por Kg']\n",
    "produtos = volume.copy(deep=True)"
   ],
   "id": "dad44ea01a8bf2b0",
   "outputs": [],
   "execution_count": 108
  },
  {
   "metadata": {
    "ExecuteTime": {
     "end_time": "2024-09-17T19:15:49.035068Z",
     "start_time": "2024-09-17T19:15:49.026750Z"
    }
   },
   "cell_type": "code",
   "source": [
    "volume = volume[['produto','volume_produto_dia','total']]\n",
    "produtos = produtos[['produto','volume_produto_dia','total']]"
   ],
   "id": "dbeb549712c599d1",
   "outputs": [],
   "execution_count": 109
  },
  {
   "metadata": {
    "ExecuteTime": {
     "end_time": "2024-09-17T19:15:51.547569Z",
     "start_time": "2024-09-17T19:15:51.534985Z"
    }
   },
   "cell_type": "code",
   "source": "volume.loc[volume['total'].isnull()]",
   "id": "c6680a0ed1798e5f",
   "outputs": [
    {
     "data": {
      "text/plain": [
       "Empty DataFrame\n",
       "Columns: [produto, volume_produto_dia, total]\n",
       "Index: []"
      ],
      "text/html": [
       "<div>\n",
       "<style scoped>\n",
       "    .dataframe tbody tr th:only-of-type {\n",
       "        vertical-align: middle;\n",
       "    }\n",
       "\n",
       "    .dataframe tbody tr th {\n",
       "        vertical-align: top;\n",
       "    }\n",
       "\n",
       "    .dataframe thead th {\n",
       "        text-align: right;\n",
       "    }\n",
       "</style>\n",
       "<table border=\"1\" class=\"dataframe\">\n",
       "  <thead>\n",
       "    <tr style=\"text-align: right;\">\n",
       "      <th></th>\n",
       "      <th>produto</th>\n",
       "      <th>volume_produto_dia</th>\n",
       "      <th>total</th>\n",
       "    </tr>\n",
       "  </thead>\n",
       "  <tbody>\n",
       "  </tbody>\n",
       "</table>\n",
       "</div>"
      ]
     },
     "execution_count": 110,
     "metadata": {},
     "output_type": "execute_result"
    }
   ],
   "execution_count": 110
  },
  {
   "metadata": {
    "ExecuteTime": {
     "end_time": "2024-09-17T19:15:55.447478Z",
     "start_time": "2024-09-17T19:15:55.439962Z"
    }
   },
   "cell_type": "code",
   "source": [
    "volume.rename(columns={'volume_produto_dia':'volume','total':'valor comercializado'},inplace=True)\n",
    "produtos.rename(columns={'volume_produto_dia':'volume','total':'valor comercializado'},inplace=True)"
   ],
   "id": "e63c7195eae6b64f",
   "outputs": [],
   "execution_count": 111
  },
  {
   "metadata": {
    "ExecuteTime": {
     "end_time": "2024-09-17T19:16:20.550806Z",
     "start_time": "2024-09-17T19:16:20.538633Z"
    }
   },
   "cell_type": "code",
   "source": "volume[['volume','valor comercializado']].sum()",
   "id": "2a109f8e645446e6",
   "outputs": [
    {
     "data": {
      "text/plain": [
       "volume                  46614800.505\n",
       "valor comercializado   421941936.924\n",
       "dtype: float64"
      ]
     },
     "execution_count": 113,
     "metadata": {},
     "output_type": "execute_result"
    }
   ],
   "execution_count": 113
  },
  {
   "metadata": {
    "ExecuteTime": {
     "end_time": "2024-09-17T19:05:08.895485Z",
     "start_time": "2024-09-17T19:05:08.878542Z"
    }
   },
   "cell_type": "code",
   "source": [
    "volume_valor_por_dia = volume.groupby(['data'])[['volume','valor comercializado']].sum()\n",
    "volume_valor_por_dia"
   ],
   "id": "bd892d47e6231fbd",
   "outputs": [
    {
     "data": {
      "text/plain": [
       "                volume  valor comercializado\n",
       "data                                        \n",
       "2024-01-04 2940109.186          15945225.560\n",
       "2024-01-09 2448727.128          13009814.451\n",
       "2024-01-11 2868816.665          14324314.331\n",
       "2024-01-16 2241549.356          10801518.294\n",
       "2024-01-18 4948436.888          24098182.630\n",
       "2024-01-23 2683752.584          12256027.571\n",
       "2024-01-25 2421898.067          12044143.985\n",
       "2024-01-30 2341573.995          11651459.079"
      ],
      "text/html": [
       "<div>\n",
       "<style scoped>\n",
       "    .dataframe tbody tr th:only-of-type {\n",
       "        vertical-align: middle;\n",
       "    }\n",
       "\n",
       "    .dataframe tbody tr th {\n",
       "        vertical-align: top;\n",
       "    }\n",
       "\n",
       "    .dataframe thead th {\n",
       "        text-align: right;\n",
       "    }\n",
       "</style>\n",
       "<table border=\"1\" class=\"dataframe\">\n",
       "  <thead>\n",
       "    <tr style=\"text-align: right;\">\n",
       "      <th></th>\n",
       "      <th>volume</th>\n",
       "      <th>valor comercializado</th>\n",
       "    </tr>\n",
       "    <tr>\n",
       "      <th>data</th>\n",
       "      <th></th>\n",
       "      <th></th>\n",
       "    </tr>\n",
       "  </thead>\n",
       "  <tbody>\n",
       "    <tr>\n",
       "      <th>2024-01-04</th>\n",
       "      <td>2940109.186</td>\n",
       "      <td>15945225.560</td>\n",
       "    </tr>\n",
       "    <tr>\n",
       "      <th>2024-01-09</th>\n",
       "      <td>2448727.128</td>\n",
       "      <td>13009814.451</td>\n",
       "    </tr>\n",
       "    <tr>\n",
       "      <th>2024-01-11</th>\n",
       "      <td>2868816.665</td>\n",
       "      <td>14324314.331</td>\n",
       "    </tr>\n",
       "    <tr>\n",
       "      <th>2024-01-16</th>\n",
       "      <td>2241549.356</td>\n",
       "      <td>10801518.294</td>\n",
       "    </tr>\n",
       "    <tr>\n",
       "      <th>2024-01-18</th>\n",
       "      <td>4948436.888</td>\n",
       "      <td>24098182.630</td>\n",
       "    </tr>\n",
       "    <tr>\n",
       "      <th>2024-01-23</th>\n",
       "      <td>2683752.584</td>\n",
       "      <td>12256027.571</td>\n",
       "    </tr>\n",
       "    <tr>\n",
       "      <th>2024-01-25</th>\n",
       "      <td>2421898.067</td>\n",
       "      <td>12044143.985</td>\n",
       "    </tr>\n",
       "    <tr>\n",
       "      <th>2024-01-30</th>\n",
       "      <td>2341573.995</td>\n",
       "      <td>11651459.079</td>\n",
       "    </tr>\n",
       "  </tbody>\n",
       "</table>\n",
       "</div>"
      ]
     },
     "execution_count": 61,
     "metadata": {},
     "output_type": "execute_result"
    }
   ],
   "execution_count": 61
  },
  {
   "metadata": {
    "ExecuteTime": {
     "end_time": "2024-09-17T19:00:28.719326Z",
     "start_time": "2024-09-17T19:00:28.452416Z"
    }
   },
   "cell_type": "code",
   "source": "volume_valor_por_dia.to_excel('volume e valor Janeiro 2024.xlsx')",
   "id": "8f214cfd0d761744",
   "outputs": [],
   "execution_count": 42
  },
  {
   "metadata": {},
   "cell_type": "code",
   "source": [
    "produtos = produtos.groupby(['produto'])[['volume','valor comercializado']].sum().reset_index()\n",
    "produtos"
   ],
   "id": "e0713df2da135a56",
   "outputs": [],
   "execution_count": null
  },
  {
   "metadata": {},
   "cell_type": "code",
   "source": [
    "produtos = produtos.sort_values(by=['valor comercializado'],ascending=False)\n",
    "produtos.to_excel('produtos 09-09 até 13-09.xlsx')"
   ],
   "id": "d9ec644ee9eab343",
   "outputs": [],
   "execution_count": null
  }
 ],
 "metadata": {
  "kernelspec": {
   "display_name": "Python 3",
   "language": "python",
   "name": "python3"
  },
  "language_info": {
   "codemirror_mode": {
    "name": "ipython",
    "version": 2
   },
   "file_extension": ".py",
   "mimetype": "text/x-python",
   "name": "python",
   "nbconvert_exporter": "python",
   "pygments_lexer": "ipython2",
   "version": "2.7.6"
  }
 },
 "nbformat": 4,
 "nbformat_minor": 5
}
