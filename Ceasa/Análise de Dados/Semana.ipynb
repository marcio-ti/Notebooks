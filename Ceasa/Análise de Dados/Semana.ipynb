{
 "cells": [
  {
   "cell_type": "code",
   "id": "initial_id",
   "metadata": {
    "collapsed": true
   },
   "source": [
    "import pandas as pd\n",
    "import warnings\n",
    "import locale\n",
    "import matplotlib.pyplot as plt\n",
    "import seaborn as sns\n",
    "import plotly.express as px\n",
    "import plotly.graph_objects as go\n",
    "import unicodedata\n",
    "import numpy as np\n",
    "import geopandas as gpd\n",
    "from datetime import datetime\n",
    "import matplotlib.dates as mdates\n",
    "import matplotlib.ticker as ticker\n",
    "\n",
    "warnings.filterwarnings('ignore')\n",
    "pd.options.display.float_format = '{:.3f}'.format\n",
    "locale.setlocale(locale.LC_ALL, 'pt_BR.UTF-8')\n",
    "plt.rcParams['figure.figsize'] = [10, 6]"
   ],
   "outputs": [],
   "execution_count": null
  },
  {
   "metadata": {
    "SqlCellData": {
     "data_source_name": "MySQL LocalWeb",
     "variableName$1": "df"
    }
   },
   "cell_type": "code",
   "source": [
    "%%sql\n",
    "SELECT \n",
    "    data, \n",
    "    numeroNotaFiscal, \n",
    "    destino, \n",
    "    procedencia, \n",
    "    cad_cidades.estado as estado,\n",
    "    produto, \n",
    "    unidade, \n",
    "    unidade_peso, \n",
    "    quantidade, \n",
    "    volume,\n",
    "    cad_usuarios.tipo,\n",
    "    nome_usuario_sistema\n",
    "FROM \n",
    "    divtec_notasfiscais\n",
    "LEFT JOIN\n",
    "    cad_usuarios\n",
    "        ON cad_usuarios.matricula_nome = divtec_notasfiscais.destino\n",
    "LEFT JOIN\n",
    "    cad_cidades ON divtec_notasfiscais.procedencia = cad_cidades.cidade\n",
    "WHERE data >= '2024-09-16' and data < '2024-09-20'"
   ],
   "id": "3b38a50f6227faae",
   "outputs": [],
   "execution_count": null
  },
  {
   "metadata": {},
   "cell_type": "markdown",
   "source": "### Cotação",
   "id": "139fe5178296dbd1"
  },
  {
   "metadata": {
    "SqlCellData": {
     "data_source_name": "MySQL LocalWeb",
     "variableName$1": "df_cotacao"
    }
   },
   "cell_type": "code",
   "source": [
    "%%sql\n",
    "CALL cotacaoEmQuilogramasPorPeriodo('2024-09-16','2024-09-19')"
   ],
   "id": "b6871331d9cf79d",
   "outputs": [],
   "execution_count": null
  },
  {
   "metadata": {},
   "cell_type": "code",
   "source": "df_cotacao.rename(columns={'Preço por Kg':'preco'}, inplace=True)",
   "id": "57d7a9b1837011df",
   "outputs": [],
   "execution_count": null
  },
  {
   "metadata": {},
   "cell_type": "code",
   "source": [
    "dados = df.merge(right=df_cotacao, on=['produto','data'], how='left')\n",
    "dados = dados[['data','destino','procedencia','estado','produto','volume','tipo','preco']]\n",
    "dados"
   ],
   "id": "8c2154026888f9c6",
   "outputs": [],
   "execution_count": null
  },
  {
   "metadata": {},
   "cell_type": "markdown",
   "source": "Listando as linhas com dados faltantes referente a preços",
   "id": "9bf5518ef9adcdd3"
  },
  {
   "metadata": {},
   "cell_type": "code",
   "source": "dados[['data','produto','preco']].loc[dados['preco'].isnull()]",
   "id": "b3baf673324405d9",
   "outputs": [],
   "execution_count": null
  },
  {
   "metadata": {},
   "cell_type": "code",
   "source": [
    "dados['valor'] = dados['volume'] * dados['preco']\n",
    "dados['data'] = dados['data'].astype('datetime64[ns]')"
   ],
   "id": "aff51961784407b5",
   "outputs": [],
   "execution_count": null
  },
  {
   "metadata": {},
   "cell_type": "code",
   "source": "dados",
   "id": "e9ef73f5aceb1029",
   "outputs": [],
   "execution_count": null
  },
  {
   "metadata": {},
   "cell_type": "markdown",
   "source": [
    "## Análise\n",
    "<hr>"
   ],
   "id": "940155ecad1947b"
  },
  {
   "metadata": {},
   "cell_type": "markdown",
   "source": "### Qual foi o volume e valor comercializado por Produtores e Atacadistas na semana?",
   "id": "5c84158709c9c130"
  },
  {
   "metadata": {},
   "cell_type": "markdown",
   "source": "<strong><i>ATACADISTAS</i></strong>",
   "id": "75808e84362aec59"
  },
  {
   "metadata": {},
   "cell_type": "code",
   "source": [
    "dados_atacadistas = dados.copy(deep=True)\n",
    "dados_atacadistas = dados_atacadistas.loc[dados_atacadistas['tipo'] == 'ATACADISTA']"
   ],
   "id": "c1a883305d6816b6",
   "outputs": [],
   "execution_count": null
  },
  {
   "metadata": {},
   "cell_type": "code",
   "source": "dados_atacadistas = dados_atacadistas.groupby(['data'])[['volume','valor']].sum().reset_index()",
   "id": "ad73848cb60a124b",
   "outputs": [],
   "execution_count": null
  },
  {
   "metadata": {},
   "cell_type": "markdown",
   "source": "Gráfico de Volume",
   "id": "d86771c716ba284d"
  },
  {
   "metadata": {},
   "cell_type": "code",
   "source": [
    "def format_decimal(x, pos):\n",
    "\treturn f'{x:.2f} kg'.replace('.', ',')\n",
    "\n",
    "fig, ax = plt.subplots()\n",
    "sns.set_theme(style=\"white\")\n",
    "\n",
    "# Gerando o gráfico de colunas\n",
    "ax = sns.barplot(x=\"data\", y=\"volume\", data=dados_atacadistas, palette=\"Blues\", ci=None)\n",
    "\n",
    "sns.despine(bottom=True, left=True)\n",
    "\n",
    "title_font = {'fontsize': 16, 'fontweight': 'bold', 'color': 'gray'}\n",
    "ax.set_title(\"Volume Comercializado por Atacadistas no período\\n16/09 a 19/09\", pad=20, fontdict=title_font, loc='left')\n",
    "ax.set_xlabel(\"\")\n",
    "ax.set_ylabel(\"\")\n",
    "ax.set_yticklabels(\"\")\n",
    "\n",
    "# Set x-axis tick labels to day of month\n",
    "labels = [16,17,18,19]\n",
    "ax.set_xticklabels(labels)\n",
    "\n",
    "for p in ax.patches:\n",
    "\tvolume = p.get_height()\n",
    "\tax.text(p.get_x() + p.get_width()/2, volume, f'{volume:,.2f} kg'.replace(',', 'v').replace('.', ',').replace('v', '.'), ha='center', va='bottom', color='grey', fontsize=12, fontweight='bold')\n",
    "\n",
    "\n",
    "plt.tight_layout()\n",
    "plt.show()"
   ],
   "id": "a58b67c7c94d8858",
   "outputs": [],
   "execution_count": null
  },
  {
   "metadata": {},
   "cell_type": "code",
   "source": "",
   "id": "3ba7febcaa0c19fa",
   "outputs": [],
   "execution_count": null
  },
  {
   "metadata": {},
   "cell_type": "markdown",
   "source": "Gráfico de Valor",
   "id": "477b1102d2f291ec"
  },
  {
   "metadata": {},
   "cell_type": "code",
   "source": [
    "def format_decimal(x, pos):\n",
    "\treturn f'R$ {x:.2f} kg'.replace('.', ',')\n",
    "\n",
    "fig, ax = plt.subplots()\n",
    "sns.set_theme(style=\"white\")\n",
    "\n",
    "# Gerando o gráfico de colunas\n",
    "ax = sns.barplot(x=\"data\", y=\"valor\", data=dados_atacadistas, palette='Greens', ci=None)\n",
    "\n",
    "sns.despine(bottom=True, left=True)\n",
    "\n",
    "title_font = {'fontsize': 16, 'fontweight': 'bold', 'color': 'gray'}\n",
    "ax.set_title(\"Valor Comercializado por Atacadistas no período\\n16/09 a 19/09\", pad=20, fontdict=title_font, loc='left')\n",
    "ax.set_xlabel(\"\")\n",
    "ax.set_ylabel(\"\")\n",
    "ax.set_yticklabels(\"\")\n",
    "\n",
    "# Set x-axis tick labels to day of month\n",
    "labels = [16,17,18,19]\n",
    "ax.set_xticklabels(labels)\n",
    "\n",
    "for p in ax.patches:\n",
    "\tvalor = p.get_height()\n",
    "\tax.text(p.get_x() + p.get_width()/2, valor, f'R$ {valor:,.2f}'.replace(',', 'v').replace('.', ',').replace('v', '.'), ha='center', va='bottom', color='grey', fontsize=12, fontweight='bold')\n",
    "\n",
    "\n",
    "plt.tight_layout()\n",
    "plt.show()"
   ],
   "id": "c3b816fdd8ce38e6",
   "outputs": [],
   "execution_count": null
  },
  {
   "metadata": {},
   "cell_type": "markdown",
   "source": "<strong><i>PRODUTORES</i></strong>",
   "id": "c2d3e240ad22a22f"
  },
  {
   "metadata": {},
   "cell_type": "code",
   "source": [
    "dados_produtores = dados.copy(deep=True)\n",
    "dados_produtores = dados_produtores.loc[dados_produtores['tipo'] == 'PRODUTOR']"
   ],
   "id": "4f7736007083c970",
   "outputs": [],
   "execution_count": null
  },
  {
   "metadata": {},
   "cell_type": "code",
   "source": "dados_produtores = dados_produtores.groupby(['data'])[['volume','valor']].sum().reset_index()",
   "id": "fdadcb3b603200f6",
   "outputs": [],
   "execution_count": null
  },
  {
   "metadata": {},
   "cell_type": "code",
   "source": [
    "def format_decimal(x, pos):\n",
    "\treturn f'{x:.2f} kg'.replace('.', ',')\n",
    "\n",
    "fig, ax = plt.subplots()\n",
    "sns.set_theme(style=\"white\")\n",
    "\n",
    "# Gerando o gráfico de colunas\n",
    "ax = sns.barplot(x=\"data\", y=\"volume\", data=dados_produtores, palette=\"Blues\", ci=None)\n",
    "\n",
    "sns.despine(bottom=True, left=True)\n",
    "\n",
    "title_font = {'fontsize': 16, 'fontweight': 'bold', 'color': 'gray'}\n",
    "ax.set_title(\"Volume Comercializado por Produtores no período\\n16/09 a 19/09\", pad=20, fontdict=title_font, loc='left')\n",
    "ax.set_xlabel(\"\")\n",
    "ax.set_ylabel(\"\")\n",
    "ax.set_yticklabels(\"\")\n",
    "\n",
    "# Set x-axis tick labels to day of month\n",
    "labels = [16,17,18,19]\n",
    "ax.set_xticklabels(labels)\n",
    "\n",
    "for p in ax.patches:\n",
    "\tvolume = p.get_height()\n",
    "\tax.text(p.get_x() + p.get_width()/2, volume, f'{volume:,.2f} kg'.replace(',', '.'), ha='center', va='bottom', color='grey', fontsize=12, fontweight='bold')\n",
    "\n",
    "\n",
    "plt.tight_layout()\n",
    "plt.show()"
   ],
   "id": "35ce295c35def4ca",
   "outputs": [],
   "execution_count": null
  },
  {
   "metadata": {},
   "cell_type": "code",
   "source": [
    "def format_decimal(x, pos):\n",
    "\treturn f'R$ {x:.2f} kg'.replace('.', ',')\n",
    "\n",
    "fig, ax = plt.subplots()\n",
    "sns.set_theme(style=\"white\")\n",
    "\n",
    "# Gerando o gráfico de colunas\n",
    "ax = sns.barplot(x=\"data\", y=\"valor\", data=dados_produtores, palette='Greens', ci=None)\n",
    "\n",
    "sns.despine(bottom=True, left=True)\n",
    "\n",
    "title_font = {'fontsize': 16, 'fontweight': 'bold', 'color': 'gray'}\n",
    "ax.set_title(\"Valor Comercializado por Produtores no período\\n16/09 a 19/09\", pad=20, fontdict=title_font, loc='left')\n",
    "ax.set_xlabel(\"\")\n",
    "ax.set_ylabel(\"\")\n",
    "ax.set_yticklabels(\"\")\n",
    "\n",
    "# Set x-axis tick labels to day of month\n",
    "labels = [16,17,18,19]\n",
    "ax.set_xticklabels(labels)\n",
    "\n",
    "for p in ax.patches:\n",
    "\tvalor = p.get_height()\n",
    "\tax.text(p.get_x() + p.get_width()/2, valor, f'R$ {valor:,.2f}'.replace(',', 'v').replace('.', ',').replace('v', '.'), ha='center', va='bottom', color='grey', fontsize=12, fontweight='bold')\n",
    "\n",
    "\n",
    "plt.tight_layout()\n",
    "plt.show()"
   ],
   "id": "e6014fb2f3311593",
   "outputs": [],
   "execution_count": null
  },
  {
   "metadata": {},
   "cell_type": "markdown",
   "source": "### Qual os 5 produtos com maior volume comercializado e valor? (Atacadistas, Produtores e no geral)",
   "id": "7f9133e3aa819e1a"
  },
  {
   "metadata": {},
   "cell_type": "code",
   "source": [
    "dados_diario = dados.copy(deep=True)\n",
    "dados_diario = dados_diario.groupby(['data'])[['volume', 'valor']].sum().reset_index()"
   ],
   "id": "9b1fa0f5935efb8c",
   "outputs": [],
   "execution_count": null
  },
  {
   "metadata": {},
   "cell_type": "code",
   "source": [
    "def format_decimal(x, pos):\n",
    "\treturn f'{x:.2f} kg'.replace('.', ',')\n",
    "\n",
    "fig, ax = plt.subplots()\n",
    "sns.set_theme(style=\"white\")\n",
    "\n",
    "# Gerando o gráfico de colunas\n",
    "ax = sns.barplot(x=\"data\", y=\"volume\", data=dados_diario, palette=\"Reds\", ci=None)\n",
    "\n",
    "sns.despine(bottom=True, left=True)\n",
    "\n",
    "title_font = {'fontsize': 16, 'fontweight': 'bold', 'color': 'gray'}\n",
    "ax.set_title(\"Volume Comercializado no período\\n16/09 a 19/09\", pad=20, fontdict=title_font, loc='left')\n",
    "ax.set_xlabel(\"\")\n",
    "ax.set_ylabel(\"\")\n",
    "ax.set_yticklabels(\"\")\n",
    "\n",
    "# Set x-axis tick labels to day of month\n",
    "labels = ['Segunda','Terça','Quarta','Quinta']\n",
    "ax.set_xticklabels(labels)\n",
    "\n",
    "for p in ax.patches:\n",
    "\tvolume = p.get_height()\n",
    "\tax.text(p.get_x() + p.get_width()/2, volume, f'{volume:,.2f} kg'.replace(',', '.'), ha='center', va='bottom', color='grey', fontsize=12, fontweight='bold')\n",
    "\n",
    "\n",
    "plt.tight_layout()\n",
    "plt.show()"
   ],
   "id": "d35a8ef3fc6be6e2",
   "outputs": [],
   "execution_count": null
  },
  {
   "metadata": {},
   "cell_type": "code",
   "source": [
    "def format_decimal(x, pos):\n",
    "\treturn f'R$ {x:.2f} kg'.replace('.', ',')\n",
    "\n",
    "fig, ax = plt.subplots()\n",
    "sns.set_theme(style=\"white\")\n",
    "\n",
    "# Gerando o gráfico de colunas\n",
    "ax = sns.barplot(x=\"data\", y=\"valor\", data=dados_diario, palette='Greys', ci=None)\n",
    "\n",
    "sns.despine(bottom=True, left=True)\n",
    "\n",
    "title_font = {'fontsize': 16, 'fontweight': 'bold', 'color': 'gray'}\n",
    "ax.set_title(\"Valor Comercializado por Produtores no período\\n16/09 a 19/09\", pad=20, fontdict=title_font, loc='left')\n",
    "ax.set_xlabel(\"\")\n",
    "ax.set_ylabel(\"\")\n",
    "ax.set_yticklabels(\"\")\n",
    "\n",
    "# Set x-axis tick labels to day of month\n",
    "labels = ['Segunda','Terça','Quarta','Quinta']\n",
    "ax.set_xticklabels(labels)\n",
    "\n",
    "for p in ax.patches:\n",
    "\tvalor = p.get_height()\n",
    "\tax.text(p.get_x() + p.get_width()/2, valor, f'R$ {valor:,.2f}'.replace(',', 'v').replace('.', ',').replace('v', '.'), ha='center', va='bottom', color='grey', fontsize=12, fontweight='bold')\n",
    "\n",
    "\n",
    "plt.tight_layout()\n",
    "plt.show()"
   ],
   "id": "2c853866e5922b71",
   "outputs": [],
   "execution_count": null
  },
  {
   "metadata": {},
   "cell_type": "markdown",
   "source": "### Qual o volume e valor comercializado por produto",
   "id": "84014e8702445b85"
  },
  {
   "metadata": {},
   "cell_type": "code",
   "source": [
    "dados_produtos = dados.copy(deep=True)\n",
    "dados_produtos = dados_produtos.groupby(['produto'])[['volume','valor']]\n"
   ],
   "id": "4531424e22566b57",
   "outputs": [],
   "execution_count": null
  },
  {
   "metadata": {},
   "cell_type": "code",
   "source": "",
   "id": "adc49f1d5e8a4adf",
   "outputs": [],
   "execution_count": null
  },
  {
   "metadata": {},
   "cell_type": "code",
   "source": [
    "def format_decimal(x, pos):\n",
    "\treturn f'{x:.2f} kg'.replace('.', ',')\n",
    "\n",
    "fig, ax = plt.subplots()\n",
    "sns.set_theme(style=\"white\")\n",
    "\n",
    "# Gerando o gráfico de colunas\n",
    "ax = sns.barplot(x=\"data\", y=\"volume\", data=dados_diario, palette=\"Reds\", ci=None)\n",
    "\n",
    "sns.despine(bottom=True, left=True)\n",
    "\n",
    "title_font = {'fontsize': 16, 'fontweight': 'bold', 'color': 'gray'}\n",
    "ax.set_title(\"Volume Comercializado no período\\n16/09 a 19/09\", pad=20, fontdict=title_font, loc='left')\n",
    "ax.set_xlabel(\"\")\n",
    "ax.set_ylabel(\"\")\n",
    "ax.set_yticklabels(\"\")\n",
    "\n",
    "# Set x-axis tick labels to day of month\n",
    "labels = ['Segunda','Terça','Quarta','Quinta']\n",
    "ax.set_xticklabels(labels)\n",
    "\n",
    "for p in ax.patches:\n",
    "\tvolume = p.get_height()\n",
    "\tax.text(p.get_x() + p.get_width()/2, volume, f'{volume:,.2f} kg'.replace(',', '.'), ha='center', va='bottom', color='grey', fontsize=12, fontweight='bold')\n",
    "\n",
    "\n",
    "plt.tight_layout()\n",
    "plt.show()"
   ],
   "id": "e41561e70fdffbea",
   "outputs": [],
   "execution_count": null
  }
 ],
 "metadata": {
  "kernelspec": {
   "display_name": "Python 3",
   "language": "python",
   "name": "python3"
  },
  "language_info": {
   "codemirror_mode": {
    "name": "ipython",
    "version": 2
   },
   "file_extension": ".py",
   "mimetype": "text/x-python",
   "name": "python",
   "nbconvert_exporter": "python",
   "pygments_lexer": "ipython2",
   "version": "2.7.6"
  }
 },
 "nbformat": 4,
 "nbformat_minor": 5
}
