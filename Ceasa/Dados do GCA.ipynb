{
 "cells": [
  {
   "cell_type": "code",
   "id": "initial_id",
   "metadata": {
    "collapsed": true,
    "ExecuteTime": {
     "end_time": "2025-05-09T15:03:24.472709Z",
     "start_time": "2025-05-09T15:03:23.413155Z"
    }
   },
   "source": [
    "import pandas as pd\n",
    "from pprint import pprint\n",
    "import warnings\n",
    "import locale\n",
    "import re\n",
    "import unicodedata\n",
    "\n",
    "warnings.filterwarnings('ignore')\n",
    "locale.setlocale(locale.LC_ALL, 'pt_BR.UTF-8')\n",
    "pd.options.display.float_format = '{:.3f}'.format\n",
    "\n",
    "caminho = \"Dados/Dados_de_cadastro_GCA.parquet\"\n",
    "df = pd.read_parquet(caminho)\n",
    "\n",
    "def substituir_caracteres(texto, ajustes):\n",
    "\tfor original, novo in ajustes.items():\n",
    "\t\ttexto = texto.replace(original, novo)\n",
    "\treturn texto\n",
    "\n",
    "\n",
    "def encontrar_valor(x, valor_busca, ajustes_textos):\n",
    "\ttry:\n",
    "\t\tx = substituir_caracteres(str(x).upper().strip(), ajustes_textos)\n",
    "\t\treturn valor_busca in x\n",
    "\texcept Exception:\n",
    "\t\treturn False"
   ],
   "outputs": [],
   "execution_count": 43
  },
  {
   "metadata": {
    "ExecuteTime": {
     "end_time": "2025-05-09T15:04:02.739725Z",
     "start_time": "2025-05-09T15:04:02.731818Z"
    }
   },
   "cell_type": "code",
   "source": "pessoa = 'JOCEMAR CATUZZO'",
   "id": "883cac54555c28b3",
   "outputs": [],
   "execution_count": 44
  },
  {
   "metadata": {
    "ExecuteTime": {
     "end_time": "2025-05-09T15:04:19.343798Z",
     "start_time": "2025-05-09T15:04:05.533386Z"
    }
   },
   "cell_type": "code",
   "source": [
    "ajustes_textos = {}\n",
    "\n",
    "valor_busca = pessoa.upper().strip()\n",
    "\n",
    "resultado = df.astype(str).applymap(lambda x: encontrar_valor(x, valor_busca, ajustes_textos))\n",
    "linhas_com_valor = df[resultado.any(axis=1)]\n",
    "\n",
    "colunas_chave = ['nome', 'matricula', 'cpf_cnpj', 'data_nascimento', 'nome_mae', 'nome_pai', 'cod_municipio_desc']\n",
    "colunas_exibir = ['nome', 'matricula', 'data_nascimento', 'cpf_cnpj', 'data_cadastro', 'nome_mae', 'nome_pai',\n",
    "\t\t\t\t  'cod_municipio_desc']\n",
    "\n",
    "pesquisa = linhas_com_valor.drop_duplicates(subset=colunas_chave)\n",
    "pesquisa['data_nascimento'] = pesquisa['data_nascimento'].astype(str)\n",
    "\n",
    "resultado_final = pesquisa[colunas_exibir]\n",
    "\n",
    "resultado_final"
   ],
   "id": "bf1ba99c095e7870",
   "outputs": [
    {
     "data": {
      "text/plain": [
       "                  nome matricula data_nascimento     cpf_cnpj data_cadastro  \\\n",
       "8677   JOCEMAR CATUZZO    100763        50919760  72119780072      12052000   \n",
       "19285  JOCEMAR CATUZZO    309367        50919760  72119780072      20082015   \n",
       "23922  JOCEMAR CATUZZO    500919        50919760  72119780072       2102012   \n",
       "28541  JOCEMAR CATUZZO    309230        50919760  72119780072      24042015   \n",
       "31499  JOCEMAR CATUZZO    115472        50919760  72119780072       8012016   \n",
       "\n",
       "                       nome_mae          nome_pai cod_municipio_desc  \n",
       "8677   CLAUDINA CANTELE CATUZZO  WALDEMAR CATUZZO      CAXIAS DO SUL  \n",
       "19285  CLAUDINA CANTELE CATUZZO  WALDEMAR CATUZZO      CAXIAS DO SUL  \n",
       "23922  CLAUDINA CANTELE CATUZZO  WALDEMAR CATUZZO      CAXIAS DO SUL  \n",
       "28541  CLAUDINA CANTELE CATUZZO  WALDEMAR CATUZZO      CAXIAS DO SUL  \n",
       "31499  CLAUDINA CANTELE CATUZZO  WALDEMAR CATUZZO      CAXIAS DO SUL  "
      ],
      "text/html": [
       "<div>\n",
       "<style scoped>\n",
       "    .dataframe tbody tr th:only-of-type {\n",
       "        vertical-align: middle;\n",
       "    }\n",
       "\n",
       "    .dataframe tbody tr th {\n",
       "        vertical-align: top;\n",
       "    }\n",
       "\n",
       "    .dataframe thead th {\n",
       "        text-align: right;\n",
       "    }\n",
       "</style>\n",
       "<table border=\"1\" class=\"dataframe\">\n",
       "  <thead>\n",
       "    <tr style=\"text-align: right;\">\n",
       "      <th></th>\n",
       "      <th>nome</th>\n",
       "      <th>matricula</th>\n",
       "      <th>data_nascimento</th>\n",
       "      <th>cpf_cnpj</th>\n",
       "      <th>data_cadastro</th>\n",
       "      <th>nome_mae</th>\n",
       "      <th>nome_pai</th>\n",
       "      <th>cod_municipio_desc</th>\n",
       "    </tr>\n",
       "  </thead>\n",
       "  <tbody>\n",
       "    <tr>\n",
       "      <th>8677</th>\n",
       "      <td>JOCEMAR CATUZZO</td>\n",
       "      <td>100763</td>\n",
       "      <td>50919760</td>\n",
       "      <td>72119780072</td>\n",
       "      <td>12052000</td>\n",
       "      <td>CLAUDINA CANTELE CATUZZO</td>\n",
       "      <td>WALDEMAR CATUZZO</td>\n",
       "      <td>CAXIAS DO SUL</td>\n",
       "    </tr>\n",
       "    <tr>\n",
       "      <th>19285</th>\n",
       "      <td>JOCEMAR CATUZZO</td>\n",
       "      <td>309367</td>\n",
       "      <td>50919760</td>\n",
       "      <td>72119780072</td>\n",
       "      <td>20082015</td>\n",
       "      <td>CLAUDINA CANTELE CATUZZO</td>\n",
       "      <td>WALDEMAR CATUZZO</td>\n",
       "      <td>CAXIAS DO SUL</td>\n",
       "    </tr>\n",
       "    <tr>\n",
       "      <th>23922</th>\n",
       "      <td>JOCEMAR CATUZZO</td>\n",
       "      <td>500919</td>\n",
       "      <td>50919760</td>\n",
       "      <td>72119780072</td>\n",
       "      <td>2102012</td>\n",
       "      <td>CLAUDINA CANTELE CATUZZO</td>\n",
       "      <td>WALDEMAR CATUZZO</td>\n",
       "      <td>CAXIAS DO SUL</td>\n",
       "    </tr>\n",
       "    <tr>\n",
       "      <th>28541</th>\n",
       "      <td>JOCEMAR CATUZZO</td>\n",
       "      <td>309230</td>\n",
       "      <td>50919760</td>\n",
       "      <td>72119780072</td>\n",
       "      <td>24042015</td>\n",
       "      <td>CLAUDINA CANTELE CATUZZO</td>\n",
       "      <td>WALDEMAR CATUZZO</td>\n",
       "      <td>CAXIAS DO SUL</td>\n",
       "    </tr>\n",
       "    <tr>\n",
       "      <th>31499</th>\n",
       "      <td>JOCEMAR CATUZZO</td>\n",
       "      <td>115472</td>\n",
       "      <td>50919760</td>\n",
       "      <td>72119780072</td>\n",
       "      <td>8012016</td>\n",
       "      <td>CLAUDINA CANTELE CATUZZO</td>\n",
       "      <td>WALDEMAR CATUZZO</td>\n",
       "      <td>CAXIAS DO SUL</td>\n",
       "    </tr>\n",
       "  </tbody>\n",
       "</table>\n",
       "</div>"
      ]
     },
     "execution_count": 45,
     "metadata": {},
     "output_type": "execute_result"
    }
   ],
   "execution_count": 45
  }
 ],
 "metadata": {
  "kernelspec": {
   "display_name": "Python 3",
   "language": "python",
   "name": "python3"
  },
  "language_info": {
   "codemirror_mode": {
    "name": "ipython",
    "version": 2
   },
   "file_extension": ".py",
   "mimetype": "text/x-python",
   "name": "python",
   "nbconvert_exporter": "python",
   "pygments_lexer": "ipython2",
   "version": "2.7.6"
  }
 },
 "nbformat": 4,
 "nbformat_minor": 5
}
