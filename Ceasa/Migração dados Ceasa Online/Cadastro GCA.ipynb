{
 "cells": [
  {
   "cell_type": "code",
   "id": "initial_id",
   "metadata": {
    "collapsed": true,
    "ExecuteTime": {
     "end_time": "2025-03-12T18:39:14.824406Z",
     "start_time": "2025-03-12T18:39:14.818801Z"
    }
   },
   "source": [
    "import pandas as pd\n",
    "import warnings\n",
    "\n",
    "warnings.filterwarnings('ignore')"
   ],
   "outputs": [],
   "execution_count": 12
  },
  {
   "metadata": {
    "ExecuteTime": {
     "end_time": "2025-03-12T18:35:01.068153Z",
     "start_time": "2025-03-12T18:35:01.057722Z"
    }
   },
   "cell_type": "code",
   "source": [
    "ajustes_textos = {\n",
    "\t'ÃƑ': 'A',\n",
    "\t'Ã': 'A',\n",
    "\t'‡': 'C',\n",
    "\t'Ç': 'C'\n",
    "}\n",
    "\n",
    "def substituir_caracteres(texto, ajustes):\n",
    "\tfor chave, valor in ajustes.items():\n",
    "\t\ttexto = re.sub(chave, valor, texto)\n",
    "\treturn texto\n",
    "\n",
    "def encontrar_valor(x):\n",
    "\ttry:\n",
    "\t\tx = x.upper().strip()\n",
    "\t\tx = substituir_caracteres(x, ajustes_textos)\n",
    "\t\treturn valor_a_pesquisar in str(x)\n",
    "\texcept Exception as e:\n",
    "\t\tpass"
   ],
   "id": "79ed76822a5f3c45",
   "outputs": [],
   "execution_count": 3
  },
  {
   "metadata": {
    "ExecuteTime": {
     "end_time": "2025-03-12T18:41:06.716866Z",
     "start_time": "2025-03-12T18:41:06.704525Z"
    }
   },
   "cell_type": "code",
   "source": [
    "caminho = 'Dados de Cadastro.csv'\n",
    "encodings = [\"utf-8\",\"utf-8-sig\", \"iso-8859-1\", \"latin1\", \"cp1252\"]\n",
    "df = None  # Inicializamos a variável df\n",
    "\n",
    "for encoding in encodings:\n",
    "    try:\n",
    "        df = pd.read_csv(caminho, encoding=encoding, sep=';')\n",
    "        print(f\"Successfully read the file with encoding: {encoding}\")\n",
    "        display(df)\n",
    "        break  # Se for bem-sucedido, saia do loop\n",
    "    except Exception as e:\n",
    "        print(f\"Failed to read the file with encoding: {encoding}\\nError: {e}\")\n",
    "\n",
    "if df is not None:\n",
    "    print(\"DataFrame carregado com sucesso!\")\n",
    "else:\n",
    "    print(\"Falha ao carregar o DataFrame com os encodings fornecidos.\")\n"
   ],
   "id": "11ee3afc6a81788c",
   "outputs": [
    {
     "name": "stdout",
     "output_type": "stream",
     "text": [
      "Failed to read the file with encoding: utf-8\n",
      "Error: [Errno 2] No such file or directory: 'Dados de Cadastro.csv'\n",
      "Failed to read the file with encoding: utf-8-sig\n",
      "Error: [Errno 2] No such file or directory: 'Dados de Cadastro.csv'\n",
      "Failed to read the file with encoding: iso-8859-1\n",
      "Error: [Errno 2] No such file or directory: 'Dados de Cadastro.csv'\n",
      "Failed to read the file with encoding: latin1\n",
      "Error: [Errno 2] No such file or directory: 'Dados de Cadastro.csv'\n",
      "Failed to read the file with encoding: cp1252\n",
      "Error: [Errno 2] No such file or directory: 'Dados de Cadastro.csv'\n",
      "Falha ao carregar o DataFrame com os encodings fornecidos.\n"
     ]
    }
   ],
   "execution_count": 15
  },
  {
   "metadata": {
    "ExecuteTime": {
     "end_time": "2025-03-12T18:40:54.109848Z",
     "start_time": "2025-03-12T18:40:54.098122Z"
    }
   },
   "cell_type": "code",
   "source": "df",
   "id": "19f2350084ec7863",
   "outputs": [],
   "execution_count": 14
  }
 ],
 "metadata": {
  "kernelspec": {
   "display_name": "Python 3",
   "language": "python",
   "name": "python3"
  },
  "language_info": {
   "codemirror_mode": {
    "name": "ipython",
    "version": 2
   },
   "file_extension": ".py",
   "mimetype": "text/x-python",
   "name": "python",
   "nbconvert_exporter": "python",
   "pygments_lexer": "ipython2",
   "version": "2.7.6"
  }
 },
 "nbformat": 4,
 "nbformat_minor": 5
}
