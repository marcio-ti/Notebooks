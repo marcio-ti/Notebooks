{
 "cells": [
  {
   "cell_type": "code",
   "id": "initial_id",
   "metadata": {
    "collapsed": true,
    "ExecuteTime": {
     "end_time": "2025-04-22T12:15:39.500298Z",
     "start_time": "2025-04-22T12:15:39.492798Z"
    }
   },
   "source": [
    "import pandas as pd\n",
    "import warnings\n",
    "\n",
    "warnings.filterwarnings('ignore')\n",
    "pd.options.display.float_format = '{:,.2f}'.format"
   ],
   "outputs": [],
   "execution_count": 2
  },
  {
   "metadata": {
    "SqlCellData": {
     "data_source_name": "MySQL LocalWeb",
     "variableName$1": "df"
    },
    "ExecuteTime": {
     "end_time": "2025-04-22T12:28:52.509060500Z",
     "start_time": "2025-04-22T12:16:59.267057800Z"
    }
   },
   "cell_type": "code",
   "source": [
    "%%sql\n",
    "SELECT\n",
    "    divtec_old_notas_fiscais.data,\n",
    "    divtec_old_notas_fiscais.nota_fiscal,\n",
    "    divtec_old_notas_fiscais.procedencia,\n",
    "    divtec_old_notas_fiscais.destino,\n",
    "    divtec_old_notas_fiscais.matricula,\n",
    "    divtec_old_notas_fiscais.produto,\n",
    "    divtec_old_notas_fiscais.unidade,\n",
    "    CASE\n",
    "        WHEN divtec_old_notas_fiscais.unidade = 0 THEN 'KG'\n",
    "        WHEN divtec_old_notas_fiscais.unidade = 1 THEN 'CX'\n",
    "        WHEN divtec_old_notas_fiscais.unidade = 2 THEN 'CXT'\n",
    "        WHEN divtec_old_notas_fiscais.unidade = 3 THEN 'DZ'\n",
    "        WHEN divtec_old_notas_fiscais.unidade = 4 THEN 'ENG'\n",
    "        WHEN divtec_old_notas_fiscais.unidade = 5 THEN 'MOL'\n",
    "        WHEN divtec_old_notas_fiscais.unidade = 6 THEN 'SCL'\n",
    "        WHEN divtec_old_notas_fiscais.unidade = 7 THEN 'SACO'\n",
    "        WHEN divtec_old_notas_fiscais.unidade = 8 THEN 'UND'\n",
    "        WHEN divtec_old_notas_fiscais.unidade = 9 THEN 'OUTROS'\n",
    "    END AS unidade_str,\n",
    "    divtec_old_notas_fiscais.quantidade,\n",
    "    divtec_pesos_produtos_pivot.valor as peso_relativo,\n",
    "    (divtec_old_notas_fiscais.quantidade * divtec_pesos_produtos_pivot.valor) as volume\n",
    "FROM\n",
    "    divtec_old_notas_fiscais\n",
    "LEFT JOIN\n",
    "        divtec_pesos_produtos_pivot ON divtec_old_notas_fiscais.produto = divtec_pesos_produtos_pivot.produto\n",
    "        AND\n",
    "        divtec_pesos_produtos_pivot.tipo = divtec_old_notas_fiscais.unidade\n",
    "WHERE EXTRACT(Year from data) = 2018\n",
    "ORDER BY divtec_old_notas_fiscais.data, divtec_old_notas_fiscais.destino, divtec_old_notas_fiscais.procedencia, divtec_old_notas_fiscais.produto\n",
    "LIMIT 1000;"
   ],
   "id": "e5a88601303d2dfb",
   "execution_count": 3,
   "outputs": []
  },
  {
   "metadata": {
    "SqlCellData": {
     "data_source_name": "MySQL LocalWeb",
     "variableName$1": "df_ibge"
    }
   },
   "cell_type": "code",
   "outputs": [],
   "execution_count": null,
   "source": [
    "%%sql\n",
    "SELECT\n",
    "    ibge,\n",
    "    cidade AS procedencia\n",
    "FROM cad_cidades\n",
    "ORDER BY ibge;"
   ],
   "id": "da2a139cb201835b"
  },
  {
   "metadata": {},
   "cell_type": "code",
   "outputs": [],
   "execution_count": null,
   "source": [
    "df_merged = pd.merge(left=df_nf, right=df_ibge, how='left', on='procedencia')\n",
    "df_merged"
   ],
   "id": "9e9ce5943d3d46ae"
  },
  {
   "metadata": {},
   "cell_type": "code",
   "outputs": [],
   "execution_count": null,
   "source": [
    "df_nf.to_parquet('Notas Fiscais 2018 - 2023.parquet')\n",
    "# df_nf = pd.read_parquet('Notas Fiscais 2018 - 2023.parquet')\n",
    "df_nf.head()"
   ],
   "id": "d3b5bee916bfb67e"
  }
 ],
 "metadata": {
  "kernelspec": {
   "display_name": "Python 3",
   "language": "python",
   "name": "python3"
  },
  "language_info": {
   "codemirror_mode": {
    "name": "ipython",
    "version": 2
   },
   "file_extension": ".py",
   "mimetype": "text/x-python",
   "name": "python",
   "nbconvert_exporter": "python",
   "pygments_lexer": "ipython2",
   "version": "2.7.6"
  }
 },
 "nbformat": 4,
 "nbformat_minor": 5
}
