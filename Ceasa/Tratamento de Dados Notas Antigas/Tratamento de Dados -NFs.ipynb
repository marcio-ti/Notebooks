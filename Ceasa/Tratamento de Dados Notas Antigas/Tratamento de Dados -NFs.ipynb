{
 "cells": [
  {
   "cell_type": "code",
   "id": "initial_id",
   "metadata": {
    "ExecuteTime": {
     "end_time": "2024-04-24T16:51:58.850806Z",
     "start_time": "2024-04-24T16:51:58.845759Z"
    }
   },
   "source": [
    "import pandas as pd\n",
    "import json\n",
    "import re"
   ],
   "outputs": [],
   "execution_count": 50
  },
  {
   "cell_type": "markdown",
   "id": "3c1942862323b0ed",
   "metadata": {},
   "source": [
    "Funções de Validação"
   ]
  },
  {
   "cell_type": "code",
   "id": "1068657214a805de",
   "metadata": {
    "ExecuteTime": {
     "end_time": "2024-04-24T16:54:34.179762Z",
     "start_time": "2024-04-24T16:54:34.147892Z"
    }
   },
   "source": [
    "def validacao_df_importacao(arquivo_excel):\n",
    "    df = pd.read_excel( f'Arquivos/{arquivo_excel}.xlsx', sheet_name='lancamentos' )\n",
    "    # Manipulação das Colunas e dos dados\n",
    "    df['procedencia'] = df['procedencia'].astype( str )  # Define como string\n",
    "    df['procedencia'] = df['procedencia'].str.strip()  # Retira os espaços de ambos os lados\n",
    "    df['procedencia'] = df['procedencia'].apply( lambda x: x.upper() )  # Torna todas as letras maiúsculas\n",
    "\n",
    "    df['destino'] = df['destino'].astype( str )  # Define como string\n",
    "    df['destino'] = df['destino'].str.strip()  # Retira os espaços de ambos os lados\n",
    "    df['destino'] = df['destino'].apply( lambda x: x.upper() )  # Torna todas as letras maiúsculas\n",
    "\n",
    "    df['produto'] = df['produto'].astype( str )  # Define como string\n",
    "    df['produto'] = df['produto'].str.strip()  # Retira os espaços de ambos os lados\n",
    "    df['produto'] = df['produto'].apply( lambda x: x.upper() )  # Torna todas as letras maiúsculas\n",
    "    df['produto'] = df['produto'].apply( lambda x: x.replace( '\\\\', '/' ) )\n",
    "\n",
    "\n",
    "    # Abre o arquivo Json de procedências e salva em uma variável\n",
    "    with open( 'dicionario_procedencia.json', 'r', encoding='utf-8' ) as arquivo_json:\n",
    "        dicionario_procedencia = json.load( arquivo_json )\n",
    "    for cidade, valor in dicionario_procedencia.items():\n",
    "        df.loc[df['procedencia'] == cidade, 'procedencia'] = valor\n",
    "    # ----------------------------------------------------------------------------\n",
    "    # Abre o arquivo Json de produtos e salva em uma variável\n",
    "    with open( 'dicionario_produtos.json', 'r', encoding='utf-8' ) as arquivo_produtos_json:\n",
    "        dicionario_produtos = json.load( arquivo_produtos_json )\n",
    "    for produto, valor in dicionario_produtos.items():\n",
    "        df.loc[df['produto'] == produto, 'produto'] = valor\n",
    "\n",
    "    # Abre o arquivo Json de produtos e salva em uma variável\n",
    "    with open( 'dicionario_destinos.json', 'r', encoding='utf-8' ) as arquivo_destino_json:\n",
    "        dicionario_destino = json.load( arquivo_destino_json )\n",
    "    for destino, valor in dicionario_produtos.items():\n",
    "        df.loc[df['destino'] == destino, 'destino'] = valor\n",
    "\n",
    "    return df\n",
    "\n",
    "def lista_cidades_com_erros(df):\n",
    "    '''\n",
    "        Verifica se alguma cidade da coluna procedência não está na lista de procedências\n",
    "    '''\n",
    "    df_verificacao = df['procedencia'].loc[~df['procedencia'].str.contains( r'(', regex=False )].unique()\n",
    "    lista_erros_cidades = []\n",
    "    if df_verificacao.size == 0:\n",
    "        return print( 'Tudo certo por aqui!' )\n",
    "    else:\n",
    "        lista = list( df['procedencia'].loc[~df['procedencia'].str.contains( r'(', regex=False )].unique() ) \n",
    "        for elemento in lista:\n",
    "            lista_erros_cidades.append(elemento)\n",
    "        return lista_erros_cidades\n",
    "\n",
    "def lista_produtos_com_erros(df):\n",
    "    '''\n",
    "        Verifica se algum produto não está na listagem padronizada\n",
    "    '''\n",
    "    lista_produtos = []\n",
    "    lista_para_ajustes = []\n",
    "\n",
    "    with open( 'lista_produtos.txt', 'r' ) as lista_txt:\n",
    "        for item in lista_txt:\n",
    "            texto = item.strip()  # Remove newline characters\n",
    "            lista_produtos.append( texto )\n",
    "\n",
    "    for item in df['produto']:\n",
    "        if item not in lista_produtos:\n",
    "            lista_para_ajustes.append( item )\n",
    "\n",
    "    lista_para_ajustes = set( lista_para_ajustes )\n",
    "    lista_para_ajustes = list( lista_para_ajustes )\n",
    "    if len( lista_para_ajustes ) == 0:\n",
    "        return print( \"Lista vazia, parabéns!\" )\n",
    "    else:\n",
    "        return print( lista_para_ajustes )\n",
    "\n",
    "def lista_destinos_com_erros(df):\n",
    "    df['destino'] = df['destino'].apply( lambda x: re.sub( \"'\", \" \", x ) )\n",
    "    df['atac_gnp'] = df['destino'].apply(lambda x: 'GNP' if x.startswith('01') else 'ATACADISTA' )\n",
    "    df['atac_gnp'] = df['destino'].apply(lambda x: 'ATACADISTA' if x.startswith('5') else 'GNP' )\n",
    "    return print( 'Todos os apóstrofos foram retirados e os dados foram separados entre Atacadistas ou '\n",
    "                  'Produtores' )\n",
    "\n",
    "def gera_excel_tratado(df):\n",
    "    df['data'] = df['data'].astype( str )\n",
    "    df.to_excel( 'Arquivos/dados_tratados.xlsx', index=False )\n",
    "    return print( f'Arquivo gerado com sucesso!' )\n",
    "\n",
    "def volume_produtos(dataframe):\n",
    "    pass"
   ],
   "outputs": [],
   "execution_count": 55
  },
  {
   "metadata": {},
   "cell_type": "markdown",
   "source": "Input dos dados",
   "id": "90df42af88115048"
  },
  {
   "cell_type": "code",
   "id": "a6eec271d9b2ce92",
   "metadata": {
    "jupyter": {
     "outputs_hidden": false
    },
    "ExecuteTime": {
     "end_time": "2024-04-24T16:55:32.023406Z",
     "start_time": "2024-04-24T16:54:38.177112Z"
    }
   },
   "source": [
    "dataframe = validacao_df_importacao( 'dados_input' )"
   ],
   "outputs": [],
   "execution_count": 56
  },
  {
   "metadata": {},
   "cell_type": "markdown",
   "source": "Validando as procedências",
   "id": "1cb714dbde160e27"
  },
  {
   "cell_type": "code",
   "id": "6b4fb8aa5dbeb5e4",
   "metadata": {
    "scrolled": true,
    "ExecuteTime": {
     "end_time": "2024-04-24T16:55:32.050711Z",
     "start_time": "2024-04-24T16:55:32.026547Z"
    }
   },
   "source": [
    "lista_cidades_com_erros( dataframe )"
   ],
   "outputs": [
    {
     "name": "stdout",
     "output_type": "stream",
     "text": [
      "Tudo certo por aqui!\n"
     ]
    }
   ],
   "execution_count": 57
  },
  {
   "metadata": {},
   "cell_type": "markdown",
   "source": "Validando os Produtos",
   "id": "c5b48a627ed369cd"
  },
  {
   "cell_type": "code",
   "id": "5f0a409d6c68bed7",
   "metadata": {
    "ExecuteTime": {
     "end_time": "2024-04-24T16:55:32.126774Z",
     "start_time": "2024-04-24T16:55:32.052737Z"
    }
   },
   "source": [
    "lista_produtos_com_erros( dataframe )"
   ],
   "outputs": [
    {
     "name": "stdout",
     "output_type": "stream",
     "text": [
      "Lista vazia, parabéns!\n"
     ]
    }
   ],
   "execution_count": 58
  },
  {
   "metadata": {},
   "cell_type": "markdown",
   "source": "Validando os nomes dos Destinatários das Mercadorias",
   "id": "c8e444bc0b5c8de7"
  },
  {
   "cell_type": "code",
   "id": "47af9b1e9c266318",
   "metadata": {
    "jupyter": {
     "outputs_hidden": false
    },
    "ExecuteTime": {
     "end_time": "2024-04-24T16:57:01.359960Z",
     "start_time": "2024-04-24T16:57:01.234556Z"
    }
   },
   "source": [
    "lista_destinos_com_erros( dataframe )"
   ],
   "outputs": [
    {
     "name": "stdout",
     "output_type": "stream",
     "text": [
      "Todos os apóstrofos foram retirados e os dados foram separados entre Atacadistas ou Produtores\n"
     ]
    }
   ],
   "execution_count": 59
  },
  {
   "metadata": {},
   "cell_type": "markdown",
   "source": "Inserindo dados de peso e criando a coluna de Volume Comercializado",
   "id": "620a0e378f90ada0"
  },
  {
   "metadata": {
    "ExecuteTime": {
     "end_time": "2024-04-24T16:57:04.360697Z",
     "start_time": "2024-04-24T16:57:04.327070Z"
    }
   },
   "cell_type": "code",
   "source": "dataframe.head()",
   "id": "f285b7227c3738d9",
   "outputs": [
    {
     "data": {
      "text/plain": [
       "        data  nota_fiscal                        procedencia  \\\n",
       "0 2024-01-02       272762  0143128-SAO SEBASTIAO DO CAI (RS)   \n",
       "1 2024-01-02        39306              0143278-HARMONIA (RS)   \n",
       "2 2024-01-02       769016           0143045-FARROUPILHA (RS)   \n",
       "3 2024-01-02        39303              0143278-HARMONIA (RS)   \n",
       "4 2024-01-02        39305              0143278-HARMONIA (RS)   \n",
       "\n",
       "                            destino     matricula        produto  unidade  \\\n",
       "0   5500358-COM.DE LARANJAS VALE DO  901805890001  00101-ABACATE        0   \n",
       "1   5501008-COMERCIO DE FRUTAS METZ   11213060001  00101-ABACATE        0   \n",
       "2  5500022-SILVESTRIN IMPORTADORA D  944963530002  00101-ABACATE        0   \n",
       "3   5501008-COMERCIO DE FRUTAS METZ   11213060001  00101-ABACATE        0   \n",
       "4   5501008-COMERCIO DE FRUTAS METZ   11213060001  00101-ABACATE        0   \n",
       "\n",
       "   quantidade    atac_gnp  \n",
       "0          36  ATACADISTA  \n",
       "1          90  ATACADISTA  \n",
       "2         100  ATACADISTA  \n",
       "3         108  ATACADISTA  \n",
       "4         180  ATACADISTA  "
      ],
      "text/html": [
       "<div>\n",
       "<style scoped>\n",
       "    .dataframe tbody tr th:only-of-type {\n",
       "        vertical-align: middle;\n",
       "    }\n",
       "\n",
       "    .dataframe tbody tr th {\n",
       "        vertical-align: top;\n",
       "    }\n",
       "\n",
       "    .dataframe thead th {\n",
       "        text-align: right;\n",
       "    }\n",
       "</style>\n",
       "<table border=\"1\" class=\"dataframe\">\n",
       "  <thead>\n",
       "    <tr style=\"text-align: right;\">\n",
       "      <th></th>\n",
       "      <th>data</th>\n",
       "      <th>nota_fiscal</th>\n",
       "      <th>procedencia</th>\n",
       "      <th>destino</th>\n",
       "      <th>matricula</th>\n",
       "      <th>produto</th>\n",
       "      <th>unidade</th>\n",
       "      <th>quantidade</th>\n",
       "      <th>atac_gnp</th>\n",
       "    </tr>\n",
       "  </thead>\n",
       "  <tbody>\n",
       "    <tr>\n",
       "      <th>0</th>\n",
       "      <td>2024-01-02</td>\n",
       "      <td>272762</td>\n",
       "      <td>0143128-SAO SEBASTIAO DO CAI (RS)</td>\n",
       "      <td>5500358-COM.DE LARANJAS VALE DO</td>\n",
       "      <td>901805890001</td>\n",
       "      <td>00101-ABACATE</td>\n",
       "      <td>0</td>\n",
       "      <td>36</td>\n",
       "      <td>ATACADISTA</td>\n",
       "    </tr>\n",
       "    <tr>\n",
       "      <th>1</th>\n",
       "      <td>2024-01-02</td>\n",
       "      <td>39306</td>\n",
       "      <td>0143278-HARMONIA (RS)</td>\n",
       "      <td>5501008-COMERCIO DE FRUTAS METZ</td>\n",
       "      <td>11213060001</td>\n",
       "      <td>00101-ABACATE</td>\n",
       "      <td>0</td>\n",
       "      <td>90</td>\n",
       "      <td>ATACADISTA</td>\n",
       "    </tr>\n",
       "    <tr>\n",
       "      <th>2</th>\n",
       "      <td>2024-01-02</td>\n",
       "      <td>769016</td>\n",
       "      <td>0143045-FARROUPILHA (RS)</td>\n",
       "      <td>5500022-SILVESTRIN IMPORTADORA D</td>\n",
       "      <td>944963530002</td>\n",
       "      <td>00101-ABACATE</td>\n",
       "      <td>0</td>\n",
       "      <td>100</td>\n",
       "      <td>ATACADISTA</td>\n",
       "    </tr>\n",
       "    <tr>\n",
       "      <th>3</th>\n",
       "      <td>2024-01-02</td>\n",
       "      <td>39303</td>\n",
       "      <td>0143278-HARMONIA (RS)</td>\n",
       "      <td>5501008-COMERCIO DE FRUTAS METZ</td>\n",
       "      <td>11213060001</td>\n",
       "      <td>00101-ABACATE</td>\n",
       "      <td>0</td>\n",
       "      <td>108</td>\n",
       "      <td>ATACADISTA</td>\n",
       "    </tr>\n",
       "    <tr>\n",
       "      <th>4</th>\n",
       "      <td>2024-01-02</td>\n",
       "      <td>39305</td>\n",
       "      <td>0143278-HARMONIA (RS)</td>\n",
       "      <td>5501008-COMERCIO DE FRUTAS METZ</td>\n",
       "      <td>11213060001</td>\n",
       "      <td>00101-ABACATE</td>\n",
       "      <td>0</td>\n",
       "      <td>180</td>\n",
       "      <td>ATACADISTA</td>\n",
       "    </tr>\n",
       "  </tbody>\n",
       "</table>\n",
       "</div>"
      ]
     },
     "execution_count": 60,
     "metadata": {},
     "output_type": "execute_result"
    }
   ],
   "execution_count": 60
  },
  {
   "metadata": {},
   "cell_type": "markdown",
   "source": "Exportando os dados",
   "id": "e97071a65e51fe02"
  },
  {
   "cell_type": "code",
   "id": "55ec8824d1d1950d",
   "metadata": {
    "ExecuteTime": {
     "end_time": "2024-04-24T16:57:24.004754Z",
     "start_time": "2024-04-24T16:57:11.981624Z"
    }
   },
   "source": [
    "gera_excel_tratado( dataframe )"
   ],
   "outputs": [
    {
     "name": "stdout",
     "output_type": "stream",
     "text": [
      "Arquivo gerado com sucesso!\n"
     ]
    }
   ],
   "execution_count": 61
  }
 ],
 "metadata": {
  "kernelspec": {
   "display_name": "Python 3 (ipykernel)",
   "language": "python",
   "name": "python3"
  },
  "language_info": {
   "codemirror_mode": {
    "name": "ipython",
    "version": 3
   },
   "file_extension": ".py",
   "mimetype": "text/x-python",
   "name": "python",
   "nbconvert_exporter": "python",
   "pygments_lexer": "ipython3",
   "version": "3.11.8"
  }
 },
 "nbformat": 4,
 "nbformat_minor": 5
}
