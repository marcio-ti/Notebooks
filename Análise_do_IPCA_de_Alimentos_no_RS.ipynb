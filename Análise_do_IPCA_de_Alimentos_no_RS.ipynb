{
  "nbformat": 4,
  "nbformat_minor": 0,
  "metadata": {
    "colab": {
      "provenance": []
    },
    "kernelspec": {
      "name": "python3",
      "display_name": "Python 3"
    },
    "language_info": {
      "name": "python"
    }
  },
  "cells": [
    {
      "cell_type": "markdown",
      "source": [
        "# Análise do IPCA de Alimentos no RS\n",
        "---"
      ],
      "metadata": {
        "id": "QZfiOa_Tz0Ds"
      }
    },
    {
      "cell_type": "code",
      "execution_count": null,
      "metadata": {
        "id": "86-t32hdzqp5"
      },
      "outputs": [],
      "source": []
    }
  ]
}