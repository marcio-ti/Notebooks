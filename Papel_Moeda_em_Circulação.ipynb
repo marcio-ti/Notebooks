{
 "nbformat": 4,
 "nbformat_minor": 0,
 "metadata": {
  "colab": {
   "provenance": []
  },
  "kernelspec": {
   "name": "python3",
   "display_name": "Python 3"
  },
  "language_info": {
   "name": "python"
  }
 },
 "cells": [
  {
   "cell_type": "markdown",
   "source": [
    "# Papel Moeda em Circulação\n",
    "---"
   ],
   "metadata": {
    "id": "oyTULWfdvDBg"
   }
  },
  {
   "cell_type": "code",
   "metadata": {
    "id": "073FRY8gvBD1",
    "jupyter": {
     "is_executing": true
    }
   },
   "source": [
    "from bcb import currency\n",
    "from bcb import sgs\n",
    "from bcb import Expectativas\n",
    "\n",
    "from datetime import date\n",
    "import pandas as pd\n",
    "import matplotlib.pyplot as plt\n",
    "import seaborn as sns"
   ],
   "outputs": [],
   "execution_count": null
  },
  {
   "cell_type": "markdown",
   "source": [
    "## Consulta dos Dados"
   ],
   "metadata": {
    "id": "JP8gTOPVvZ9o"
   }
  },
  {
   "cell_type": "code",
   "source": [
    "# moeda_em_circulacao = sgs.get({'Moeda': 1780}, start='2002-01-01', end=date.today())\n",
    "# moeda_em_circulacao.head()\n",
    "\n",
    "dados_sgs = sgs.get(\n",
    "    codes = {\"Moeda\": 1780},\n",
    "    start = \"2020-01-01\",\n",
    "    end = date.today()\n",
    ")\n",
    "dados_sgs"
   ],
   "metadata": {
    "id": "aM8rTx7TvGxL",
    "ExecuteTime": {
     "end_time": "2025-04-10T11:56:11.687539Z",
     "start_time": "2025-04-10T11:56:10.095433Z"
    }
   },
   "outputs": [
    {
     "ename": "Exception",
     "evalue": "Download error: code = 1780",
     "output_type": "error",
     "traceback": [
      "\u001B[31m---------------------------------------------------------------------------\u001B[39m",
      "\u001B[31mException\u001B[39m                                 Traceback (most recent call last)",
      "\u001B[36mCell\u001B[39m\u001B[36m \u001B[39m\u001B[32mIn[2]\u001B[39m\u001B[32m, line 1\u001B[39m\n\u001B[32m----> \u001B[39m\u001B[32m1\u001B[39m moeda_em_circulacao = \u001B[43msgs\u001B[49m\u001B[43m.\u001B[49m\u001B[43mget\u001B[49m\u001B[43m(\u001B[49m\u001B[43m{\u001B[49m\u001B[33;43m'\u001B[39;49m\u001B[33;43mMoeda\u001B[39;49m\u001B[33;43m'\u001B[39;49m\u001B[43m:\u001B[49m\u001B[43m \u001B[49m\u001B[32;43m1780\u001B[39;49m\u001B[43m}\u001B[49m\u001B[43m,\u001B[49m\u001B[43m \u001B[49m\u001B[43mstart\u001B[49m\u001B[43m=\u001B[49m\u001B[33;43m'\u001B[39;49m\u001B[33;43m2002-01-01\u001B[39;49m\u001B[33;43m'\u001B[39;49m\u001B[43m,\u001B[49m\u001B[43m \u001B[49m\u001B[43mend\u001B[49m\u001B[43m=\u001B[49m\u001B[43mdate\u001B[49m\u001B[43m.\u001B[49m\u001B[43mtoday\u001B[49m\u001B[43m(\u001B[49m\u001B[43m)\u001B[49m\u001B[43m)\u001B[49m\n\u001B[32m      2\u001B[39m moeda_em_circulacao.head()\n",
      "\u001B[36mFile \u001B[39m\u001B[32m~\\DataspellProjects\\Notebooks\\venv\\Lib\\site-packages\\bcb\\sgs\\__init__.py:122\u001B[39m, in \u001B[36mget\u001B[39m\u001B[34m(codes, start, end, last, multi, freq)\u001B[39m\n\u001B[32m    120\u001B[39m res = requests.get(urd[\u001B[33m\"\u001B[39m\u001B[33murl\u001B[39m\u001B[33m\"\u001B[39m], params=urd[\u001B[33m\"\u001B[39m\u001B[33mpayload\u001B[39m\u001B[33m\"\u001B[39m])\n\u001B[32m    121\u001B[39m \u001B[38;5;28;01mif\u001B[39;00m res.status_code != \u001B[32m200\u001B[39m:\n\u001B[32m--> \u001B[39m\u001B[32m122\u001B[39m     \u001B[38;5;28;01mraise\u001B[39;00m \u001B[38;5;167;01mException\u001B[39;00m(\u001B[33m\"\u001B[39m\u001B[33mDownload error: code = \u001B[39m\u001B[38;5;132;01m{}\u001B[39;00m\u001B[33m\"\u001B[39m.format(code.value))\n\u001B[32m    123\u001B[39m df = pd.read_json(StringIO(res.text))\n\u001B[32m    124\u001B[39m df = _format_df(df, code, freq)\n",
      "\u001B[31mException\u001B[39m: Download error: code = 1780"
     ]
    }
   ],
   "execution_count": 2
  },
  {
   "cell_type": "code",
   "source": [
    "sns.set_theme(style=\"white\")\n",
    "fig, ax = plt.subplots(figsize=(18, 6))\n",
    "\n",
    "ax = sns.lineplot(data=moeda_em_circulacao, x=moeda_em_circulacao.index , y='Moeda' ,ax=ax)\n",
    "sns.despine(bottom=True, left=True)\n",
    "plt.title(\"Moeda em Circulação\", fontsize=18, pad=20)\n",
    "\n",
    "ax.axvspan('2003-01-01', '2010-12-31', color='#F7DC6F', alpha=0.25, label='Governo Lula')\n",
    "ax.axvspan('2011-01-01', '2016-12-31', color='#E74C3C', alpha=0.15, label='Governo Dilma')\n",
    "ax.axvspan('2017-01-01', '2018-12-31', color='#58D68D', alpha=0.20, label='Governo Temer')\n",
    "ax.axvspan('2019-01-01', '2022-12-31', color='#AAB7B8', alpha=0.20, label='Governo Bolsonaro')\n",
    "ax.axvspan('2020-02-28', '2022-04-22', color='#7D3C98', alpha=0.15, label='Pandemia Covid-19')\n",
    "\n",
    "plt.legend(loc='best')\n",
    "plt.show()"
   ],
   "metadata": {
    "id": "6BTC1Q__vd_J"
   },
   "execution_count": null,
   "outputs": []
  }
 ]
}
