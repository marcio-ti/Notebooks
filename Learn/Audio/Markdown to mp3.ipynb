{
 "cells": [
  {
   "cell_type": "code",
   "id": "initial_id",
   "metadata": {
    "collapsed": true,
    "ExecuteTime": {
     "end_time": "2025-02-06T00:38:03.663528Z",
     "start_time": "2025-02-06T00:38:02.735905Z"
    }
   },
   "source": [
    "import markdown\n",
    "import pyttsx3\n",
    "import re\n",
    "\n",
    "# Função para converter o conteúdo do Markdown em um formato de texto fluído\n",
    "def markdown_to_text(markdown_file):\n",
    "\twith open(markdown_file, 'r', encoding='utf-8') as file:\n",
    "\t\tmd_content = file.read()\n",
    "\n",
    "\t# Converte o conteúdo Markdown em HTML\n",
    "\thtml_content = markdown.markdown(md_content)\n",
    "\n",
    "\t# Substitui as tags Markdown por uma leitura mais fluída\n",
    "\ttext = html_content\n",
    "\n",
    "\t# Vamos lidar com os títulos (como ###, ##, etc.)\n",
    "\ttext = re.sub(r'<h([1-6])>(.*?)</h\\1>', lambda match: f'\\n{\"#\"*int(match.group(1))} {match.group(2)}\\n', text)\n",
    "\n",
    "\t# Vamos remover as tags HTML e retornar apenas o texto\n",
    "\ttext = re.sub(r'<[^>]+>', '', text)\n",
    "\n",
    "\treturn text\n",
    "\n",
    "# Função para converter o texto em áudio\n",
    "def text_to_audio(text):\n",
    "\t# Inicializa o pyttsx3\n",
    "\tengine = pyttsx3.init()\n",
    "\n",
    "\t# Configurações de voz (opcional)\n",
    "\tvoices = engine.getProperty('voices')\n",
    "\tengine.setProperty('voice', voices[0].id)  # Usa a voz padrão\n",
    "\n",
    "\t# Configura a velocidade da fala (opcional)\n",
    "\tengine.setProperty('rate', 180)  # A velocidade padrão é 200\n",
    "\n",
    "\t# Converte o texto em áudio e salva o arquivo\n",
    "\tengine.save_to_file(text, 'output_audio.mp3')  # Salva o áudio em um arquivo\n",
    "\tengine.runAndWait()\n",
    "\n",
    "if __name__ == \"__main__\":\n",
    "\tmarkdown_file = 'texto.md'  # Substitua pelo caminho do seu arquivo Markdown\n",
    "\ttexto = markdown_to_text(markdown_file)\n",
    "\ttext_to_audio(texto)\n",
    "\tprint(\"Áudio gerado com sucesso!\")\n"
   ],
   "outputs": [
    {
     "name": "stdout",
     "output_type": "stream",
     "text": [
      "Áudio gerado com sucesso!\n"
     ]
    }
   ],
   "execution_count": 4
  }
 ],
 "metadata": {
  "kernelspec": {
   "display_name": "Python 3",
   "language": "python",
   "name": "python3"
  },
  "language_info": {
   "codemirror_mode": {
    "name": "ipython",
    "version": 2
   },
   "file_extension": ".py",
   "mimetype": "text/x-python",
   "name": "python",
   "nbconvert_exporter": "python",
   "pygments_lexer": "ipython2",
   "version": "2.7.6"
  }
 },
 "nbformat": 4,
 "nbformat_minor": 5
}
