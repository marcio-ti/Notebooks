{
 "cells": [
  {
   "metadata": {},
   "cell_type": "markdown",
   "source": [
    "**Exercícios sobre Gráficos de Linhas com Matplotlib e Seaborn**\n",
    "\n",
    "### **Nível Básico**\n",
    "\n",
    "1. Crie um gráfico de linha simples usando Matplotlib para representar a variação de temperatura ao longo de uma semana.\n",
    "2. Use Seaborn para criar um gráfico de linha mostrando o crescimento populacional ao longo de 10 anos.\n",
    "3. Adicione títulos e rótulos aos eixos em um gráfico de linha com Matplotlib.\n",
    "4. Personalize a cor e o estilo de linha de um gráfico usando Seaborn.\n",
    "5. Plote várias séries de dados em um único gráfico de linha com Matplotlib, diferenciando-as com cores.\n",
    "6. Use Seaborn para criar um gráfico de linha com intervalos de confiança baseados em dados simulados.\n",
    "7. Adicione uma legenda a um gráfico de linha com Matplotlib para identificar diferentes séries de dados.\n",
    "8. Use Seaborn para criar um gráfico de linha com uma grade de fundo para melhorar a visualização.\n",
    "9. Exporte um gráfico de linha gerado com Matplotlib para um arquivo de imagem.\n",
    "10. Ajuste os limites dos eixos de um gráfico de linha em Matplotlib.\n",
    "\n",
    "### **Nível Intermediário**\n",
    "\n",
    "11. Crie um gráfico de linha com Seaborn para comparar as vendas de dois produtos ao longo de 12 meses.\n",
    "12. Personalize os marcadores em um gráfico de linha com Matplotlib.\n",
    "13. Use Seaborn para criar um gráfico de linha com dados categóricos no eixo x.\n",
    "14. Plote dados de um arquivo CSV em um gráfico de linha com Matplotlib.\n",
    "15. Adicione anotações em pontos específicos de um gráfico de linha com Matplotlib para destacar eventos importantes.\n",
    "16. Use Seaborn para criar um gráfico de linha com uma paleta de cores personalizada.\n",
    "17. Adicione linhas de grade verticais e horizontais a um gráfico de linha em Matplotlib.\n",
    "18. Crie um gráfico de linha em Seaborn com dados agrupados por uma categoria.\n",
    "19. Adicione uma sombra ou área preenchida abaixo de uma linha para destacar a tendência em um gráfico de Matplotlib.\n",
    "20. Plote os dados de um DataFrame pandas diretamente em um gráfico de linha usando Seaborn.\n",
    "\n",
    "### **Nível Avançado**\n",
    "\n",
    "21. Use Matplotlib para criar um gráfico de linha que mostre múltiplas escalas no eixo y (eixos duplos).\n",
    "22. Crie um gráfico de linha com Seaborn, incluindo rótulos rotacionados no eixo x para melhorar a legibilidade.\n",
    "23. Adicione uma linha de tendência (trendline) a um gráfico de linha com Matplotlib.\n",
    "24. Use Seaborn para criar gráficos de linha múltiplos, organizados em uma grade por categorias.\n",
    "25. Adicione anotações automáticas com base em valores extremos de um gráfico de linha com Matplotlib.\n",
    "26. Combine gráficos de linha e dispersão em uma única visualização usando Seaborn.\n",
    "27. Crie um gráfico de linha com Matplotlib destacando feriados ou eventos relevantes com áreas sombreadas.\n",
    "28. Personalize o formato dos valores no eixo y de um gráfico de linha com Matplotlib para exibir valores monetários.\n",
    "29. Use Seaborn para criar gráficos de linha que representem diferentes cenários de previsão com áreas de incerteza.\n",
    "30. Plote um gráfico de linha com dados acumulativos ao longo do tempo em Matplotlib.\n",
    "\n",
    "### **Desafios Finais**\n",
    "\n",
    "1. Crie um gráfico de linha com Matplotlib que conte uma história sobre a evolução das vendas ao longo de um ano, destacando os períodos de alta e baixa com anotações e cores.\n",
    "2. Use Seaborn para criar um gráfico de linha que mostre tendências de longo prazo em dados históricos, com diferentes estilos para cada década.\n",
    "3. Desenvolva um gráfico de linha interativo em Matplotlib, onde o usuário possa selecionar o intervalo de dados exibido (utilizando widgets como sliders).\n",
    "4. Combine gráficos de linha e barras em uma única figura para representar dois tipos diferentes de dados relacionados.\n",
    "5. Crie um gráfico de linha com Seaborn que destaque a sazonalidade dos dados, usando diferentes cores para cada estação do ano.\n",
    "6. Desenvolva um gráfico de linha que compare dados reais com dados previstos, destacando as discrepâncias com anotações.\n",
    "7. Use Matplotlib para criar um gráfico de linha com várias séries e um menu de legendas interativo para ativar/desativar as séries exibidas.\n",
    "8. Construa uma visualização com Seaborn que destaque o impacto de um evento específico no comportamento de uma série temporal.\n",
    "9. Crie um gráfico de linha com Matplotlib que mostre tendências de consumo de energia, utilizando cores para representar diferentes tipos de fonte de energia.\n",
    "10. Elabore um gráfico de linha com Seaborn que mostre a evolução da inflação e da taxa de juros ao longo de uma década, utilizando boas práticas de storytelling para contextualizar os dados.\n",
    "\n"
   ],
   "id": "fea1a7d494f638d1"
  },
  {
   "metadata": {},
   "cell_type": "code",
   "outputs": [],
   "execution_count": null,
   "source": "",
   "id": "5a3a79880cbd003c"
  }
 ],
 "metadata": {
  "kernelspec": {
   "display_name": "Python 3",
   "language": "python",
   "name": "python3"
  },
  "language_info": {
   "codemirror_mode": {
    "name": "ipython",
    "version": 2
   },
   "file_extension": ".py",
   "mimetype": "text/x-python",
   "name": "python",
   "nbconvert_exporter": "python",
   "pygments_lexer": "ipython2",
   "version": "2.7.6"
  }
 },
 "nbformat": 4,
 "nbformat_minor": 5
}
