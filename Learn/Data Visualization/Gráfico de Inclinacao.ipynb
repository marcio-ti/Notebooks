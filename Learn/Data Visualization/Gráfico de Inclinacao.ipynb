{
 "cells": [
  {
   "metadata": {
    "ExecuteTime": {
     "end_time": "2025-01-20T21:23:33.793024Z",
     "start_time": "2025-01-20T21:23:33.776746Z"
    }
   },
   "cell_type": "code",
   "source": [
    "# Definindo a paleta de cores\n",
    "AZUL1, AZUL2, AZUL3, AZUL4, AZUL5, AZUL6 = '#174A7E', '#4A81BF', \"#6495ED\", '#2596BE', '#94AFC5', '#CDDBF3'\n",
    "CINZA1, CINZA2, CINZA3, CINZA4, CINZA5, BRANCO = '#231F20', '#414040', '#555655', '#A6A6A5', '#BFBEBE', '#FFFFFF'\n",
    "VERMELHO1, VERMELHO2, LARANJA1 = '#C3514E',\t'#E6BAB7',\t'#F79747'\n",
    "VERDE1, VERDE2, VERDE3 = '#0C8040',\t'#9ABB59', '#9ECCB3'"
   ],
   "id": "6c013325e152bc88",
   "outputs": [],
   "execution_count": 12
  },
  {
   "cell_type": "code",
   "id": "initial_id",
   "metadata": {
    "collapsed": true,
    "ExecuteTime": {
     "end_time": "2025-01-20T21:23:38.758466Z",
     "start_time": "2025-01-20T21:23:38.581279Z"
    }
   },
   "source": [
    "# Importando as bibliotecas\n",
    "import matplotlib.pyplot as plt\n",
    "\n",
    "# Área do gráfico e tema da visualização\n",
    "fig, ax1 = plt.subplots(figsize=(7,7))\n",
    "\n",
    "# Definindo as cores do gráfico\n",
    "cores = [VERDE3, VERMELHO2, AZUL3, LARANJA1, CINZA4]\n",
    "\n",
    "# O seaborn possui uma função chamada pointplot() que pode gerar um gráfico deste tipo\n",
    "# mas para termos liberdade na criação do nosso gráfico vamos optar por contruí-lo\n",
    "# por meio do matplotlib usando axis duplos partilhando o eixo x e os mesmos limites em y\n",
    "ax2 = ax1.twinx()\n",
    "ax1.set_ylim([0,35])\n",
    "ax2.set_ylim([0,35])\n",
    "\n",
    "# Gerando o gráfico de inclinação (pontos + curva + texto)\n",
    "for i in range(5):\n",
    "\t# Adicionando o ponto inicial e final\n",
    "\tax1.scatter(x = df_agro_slope.index, y = df_agro_slope.iloc[:,i], color = cores[i], s = 50)\n",
    "\n",
    "\t# Adicionando a inclinação\n",
    "\tax1.plot(df_agro_slope.index, df_agro_slope.iloc[:,i], color = cores[i], lw = 3)\n",
    "\n",
    "\t# Adicionando as regiões no label\n",
    "\tax1.text(x = 2024, y = df_agro_slope.iloc[-1,i], s = df_agro_slope.columns[i],\n",
    "\t\t\t fontsize=15, fontweight = 'bold', linespacing=1.5, color=cores[i], va='center')\n",
    "\n",
    "# Personalizando o gráfico\n",
    "ax1.set_title('PIB relativo à agropecuária nas regiões do Brasil', fontsize = 18, color = CINZA1, loc='left', pad = 40)\n",
    "ax1.text(0, 1.05, \"Comparação entre os anos de 2002 e 2020 (%)\", transform=ax1.transAxes, color= CINZA3, fontsize=12, ha='left', va='center')\n",
    "\n",
    "# Configurando o gráfico com parâmetros que potencializam a visualização dos dados\n",
    "\n",
    "# Retirando os ticks do eixo y de ambos os lados e as bordas exceto a da base\n",
    "ax1.tick_params(left = False)\n",
    "ax1.spines[[\"top\", \"left\", \"right\"]].set_visible(False)\n",
    "ax2.tick_params(right = False)\n",
    "ax2.set_frame_on(False)\n",
    "\n",
    "# Ajustando as propriedades do eixo y da esquerda\n",
    "plt.setp(ax1, xticks=[2002, 2020], xticklabels = [\"2002\", \"2020\"],\n",
    "\t\t yticks = df_agro_slope.iloc[0,:],\n",
    "\t\t yticklabels = [f'{str(valor)}%' if i!= 3 else f'{str(valor)}%\\n\\n' for i, valor in enumerate(df_agro_slope.iloc[0,:])]\n",
    "\t\t )\n",
    "\n",
    "# Ajustando as propriedades do eixo y da direita\n",
    "plt.setp(ax2, yticks = df_agro_slope.iloc[1,:],\n",
    "\t\t yticklabels = [f'{str(valor)}%' for i, valor in enumerate(df_agro_slope.iloc[1,:])])\n",
    "\n",
    "# Ajustando propriedades dos dois eixos y\n",
    "for ax in (ax1, ax2):\n",
    "\tfor i, item in enumerate(ax.get_yticklabels()):\n",
    "\t\titem.set_fontsize(14)\n",
    "\t\titem.set_fontweight('bold')\n",
    "\t\titem.set_color(cores[i])\n",
    "\n",
    "# Ajustando propriedades do eixo x\n",
    "ax1.xaxis.set_tick_params(labelsize=14, labelcolor=CINZA3)\n",
    "ax1.spines['bottom'].set_color(CINZA3)\n",
    "\n",
    "plt.show()"
   ],
   "outputs": [
    {
     "ename": "NameError",
     "evalue": "name 'df_agro_slope' is not defined",
     "output_type": "error",
     "traceback": [
      "\u001B[1;31m---------------------------------------------------------------------------\u001B[0m",
      "\u001B[1;31mNameError\u001B[0m                                 Traceback (most recent call last)",
      "Cell \u001B[1;32mIn[13], line 20\u001B[0m\n\u001B[0;32m     17\u001B[0m \u001B[38;5;66;03m# Gerando o gráfico de inclinação (pontos + curva + texto)\u001B[39;00m\n\u001B[0;32m     18\u001B[0m \u001B[38;5;28;01mfor\u001B[39;00m i \u001B[38;5;129;01min\u001B[39;00m \u001B[38;5;28mrange\u001B[39m(\u001B[38;5;241m5\u001B[39m):\n\u001B[0;32m     19\u001B[0m \t\u001B[38;5;66;03m# Adicionando o ponto inicial e final\u001B[39;00m\n\u001B[1;32m---> 20\u001B[0m \tax1\u001B[38;5;241m.\u001B[39mscatter(x \u001B[38;5;241m=\u001B[39m \u001B[43mdf_agro_slope\u001B[49m\u001B[38;5;241m.\u001B[39mindex, y \u001B[38;5;241m=\u001B[39m df_agro_slope\u001B[38;5;241m.\u001B[39miloc[:,i], color \u001B[38;5;241m=\u001B[39m cores[i], s \u001B[38;5;241m=\u001B[39m \u001B[38;5;241m50\u001B[39m)\n\u001B[0;32m     22\u001B[0m \t\u001B[38;5;66;03m# Adicionando a inclinação\u001B[39;00m\n\u001B[0;32m     23\u001B[0m \tax1\u001B[38;5;241m.\u001B[39mplot(df_agro_slope\u001B[38;5;241m.\u001B[39mindex, df_agro_slope\u001B[38;5;241m.\u001B[39miloc[:,i], color \u001B[38;5;241m=\u001B[39m cores[i], lw \u001B[38;5;241m=\u001B[39m \u001B[38;5;241m3\u001B[39m)\n",
      "\u001B[1;31mNameError\u001B[0m: name 'df_agro_slope' is not defined"
     ]
    },
    {
     "data": {
      "text/plain": [
       "<Figure size 700x700 with 2 Axes>"
      ],
      "image/png": "[encoded data removed]"
     },
     "metadata": {},
     "output_type": "display_data"
    }
   ],
   "execution_count": 13
  },
  {
   "metadata": {},
   "cell_type": "code",
   "outputs": [],
   "execution_count": null,
   "source": "",
   "id": "290e3c65bf05dcdb"
  }
 ],
 "metadata": {
  "kernelspec": {
   "display_name": "Python 3",
   "language": "python",
   "name": "python3"
  },
  "language_info": {
   "codemirror_mode": {
    "name": "ipython",
    "version": 2
   },
   "file_extension": ".py",
   "mimetype": "text/x-python",
   "name": "python",
   "nbconvert_exporter": "python",
   "pygments_lexer": "ipython2",
   "version": "2.7.6"
  }
 },
 "nbformat": 4,
 "nbformat_minor": 5
}
