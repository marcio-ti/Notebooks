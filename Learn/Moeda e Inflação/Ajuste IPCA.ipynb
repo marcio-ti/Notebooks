{
 "cells": [
  {
   "cell_type": "code",
   "id": "initial_id",
   "metadata": {
    "collapsed": true,
    "ExecuteTime": {
     "end_time": "2025-01-14T15:45:10.584444Z",
     "start_time": "2025-01-14T15:44:56.764299Z"
    }
   },
   "source": [
    "import pandas as pd\n",
    "import bcb\n",
    "import requests\n",
    "import matplotlib.pyplot as plt\n",
    "import seaborn as sns\n",
    "import datetime\n",
    "import warnings\n",
    "warnings.filterwarnings('ignore')"
   ],
   "outputs": [],
   "execution_count": 2
  },
  {
   "metadata": {
    "ExecuteTime": {
     "end_time": "2025-01-14T15:45:36.543035Z",
     "start_time": "2025-01-14T15:45:27.521860Z"
    }
   },
   "cell_type": "code",
   "source": [
    "# Função para obter os índices de correção entre duas datas\n",
    "def obter_indices_correcao(data_inicio, data_fim, codigo_serie):\n",
    "\turl = f'https://api.bcb.gov.br/dados/serie/bcdata.sgs.{codigo_serie}/dados?formato=json&dataInicial={data_inicio}&dataFinal={data_fim}'\n",
    "\n",
    "\ttry:\n",
    "\t\tresponse = requests.get(url)\n",
    "\t\tresponse.raise_for_status()  # Verifica se a requisição teve sucesso\n",
    "\t\tdata = response.json()\n",
    "\n",
    "\t\t# Convertendo os dados para um DataFrame\n",
    "\t\tdf = pd.DataFrame(data)\n",
    "\t\tdf['data'] = pd.to_datetime(df['data'], format='%d/%m/%Y')\n",
    "\t\tdf['valor'] = pd.to_numeric(df['valor'])\n",
    "\t\treturn df\n",
    "\n",
    "\texcept requests.exceptions.HTTPError as http_err:\n",
    "\t\tprint(f'HTTP error occurred: {http_err}')  # Exibe o erro HTTP\n",
    "\texcept requests.exceptions.RequestException as req_err:\n",
    "\t\tprint(f'Other error occurred: {req_err}')  # Exibe outros erros de requisição\n",
    "\texcept ValueError as val_err:\n",
    "\t\tprint(f'Value error: {val_err}')  # Exibe erros de valor, como JSONDecodeError\n",
    "\treturn pd.DataFrame()  # Retorna um DataFrame vazio em caso de erro\n",
    "\n",
    "# Função para calcular o índice de correção\n",
    "def calcular_indice_correcao(df):\n",
    "\tdf['fator'] = 1 + df['valor'] / 100  # Converte índices percentuais em fatores\n",
    "\tfator_acumulado = df['fator'].prod()  # Multiplica todos os fatores\n",
    "\treturn fator_acumulado\n",
    "\n",
    "# Lista de datas iniciais\n",
    "datas_iniciais = '01/01/2024'\n",
    "data_fim = '31/01/2025'\n",
    "codigo_serie = '433'  # Exemplo de código de série (Índice Nacional de Preços ao Consumidor Amplo - IPCA)\n",
    "\n",
    "# Lista para armazenar os resultados\n",
    "resultados = []\n",
    "\n",
    "# Loop através das datas iniciais\n",
    "for data_inicio in datas_iniciais:\n",
    "\tindices_correcao = obter_indices_correcao(data_inicio, data_fim, codigo_serie)\n",
    "\tif not indices_correcao.empty:\n",
    "\t\tindice_correcao = calcular_indice_correcao(indices_correcao)\n",
    "\t\tresultados.append({'data_inicial': data_inicio, 'indice_correcao': f\"{indice_correcao:.10f}\"})\n",
    "\telse:\n",
    "\t\tprint(f\"Não foi possível obter os índices de correção para o período começando em {data_inicio}.\")\n",
    "\n",
    "# Criar um DataFrame com os resultados\n",
    "df_resultados = pd.DataFrame(resultados)\n",
    "\n",
    "# Exibir o DataFrame de resultados\n",
    "df_resultados\n"
   ],
   "id": "a773a9a4a1b9163f",
   "outputs": [
    {
     "name": "stdout",
     "output_type": "stream",
     "text": [
      "HTTP error occurred: 400 Client Error: Bad Request for url: https://api.bcb.gov.br/dados/serie/bcdata.sgs.433/dados?formato=json&dataInicial=0&dataFinal=31/01/2025\n",
      "Não foi possível obter os índices de correção para o período começando em 0.\n",
      "Other error occurred: Expecting value: line 1 column 1 (char 0)\n",
      "Não foi possível obter os índices de correção para o período começando em 1.\n",
      "HTTP error occurred: 400 Client Error: Bad Request for url: https://api.bcb.gov.br/dados/serie/bcdata.sgs.433/dados?formato=json&dataInicial=/&dataFinal=31/01/2025\n",
      "Não foi possível obter os índices de correção para o período começando em /.\n",
      "HTTP error occurred: 400 Client Error: Bad Request for url: https://api.bcb.gov.br/dados/serie/bcdata.sgs.433/dados?formato=json&dataInicial=0&dataFinal=31/01/2025\n",
      "Não foi possível obter os índices de correção para o período começando em 0.\n",
      "HTTP error occurred: 400 Client Error: Bad Request for url: https://api.bcb.gov.br/dados/serie/bcdata.sgs.433/dados?formato=json&dataInicial=1&dataFinal=31/01/2025\n",
      "Não foi possível obter os índices de correção para o período começando em 1.\n",
      "HTTP error occurred: 400 Client Error: Bad Request for url: https://api.bcb.gov.br/dados/serie/bcdata.sgs.433/dados?formato=json&dataInicial=/&dataFinal=31/01/2025\n",
      "Não foi possível obter os índices de correção para o período começando em /.\n",
      "HTTP error occurred: 400 Client Error: Bad Request for url: https://api.bcb.gov.br/dados/serie/bcdata.sgs.433/dados?formato=json&dataInicial=2&dataFinal=31/01/2025\n",
      "Não foi possível obter os índices de correção para o período começando em 2.\n",
      "HTTP error occurred: 400 Client Error: Bad Request for url: https://api.bcb.gov.br/dados/serie/bcdata.sgs.433/dados?formato=json&dataInicial=0&dataFinal=31/01/2025\n",
      "Não foi possível obter os índices de correção para o período começando em 0.\n",
      "HTTP error occurred: 400 Client Error: Bad Request for url: https://api.bcb.gov.br/dados/serie/bcdata.sgs.433/dados?formato=json&dataInicial=2&dataFinal=31/01/2025\n",
      "Não foi possível obter os índices de correção para o período começando em 2.\n",
      "HTTP error occurred: 400 Client Error: Bad Request for url: https://api.bcb.gov.br/dados/serie/bcdata.sgs.433/dados?formato=json&dataInicial=4&dataFinal=31/01/2025\n",
      "Não foi possível obter os índices de correção para o período começando em 4.\n"
     ]
    },
    {
     "data": {
      "text/plain": [
       "Empty DataFrame\n",
       "Columns: []\n",
       "Index: []"
      ],
      "text/html": [
       "<div>\n",
       "<style scoped>\n",
       "    .dataframe tbody tr th:only-of-type {\n",
       "        vertical-align: middle;\n",
       "    }\n",
       "\n",
       "    .dataframe tbody tr th {\n",
       "        vertical-align: top;\n",
       "    }\n",
       "\n",
       "    .dataframe thead th {\n",
       "        text-align: right;\n",
       "    }\n",
       "</style>\n",
       "<table border=\"1\" class=\"dataframe\">\n",
       "  <thead>\n",
       "    <tr style=\"text-align: right;\">\n",
       "      <th></th>\n",
       "    </tr>\n",
       "  </thead>\n",
       "  <tbody>\n",
       "  </tbody>\n",
       "</table>\n",
       "</div>"
      ]
     },
     "execution_count": 3,
     "metadata": {},
     "output_type": "execute_result"
    }
   ],
   "execution_count": 3
  }
 ],
 "metadata": {
  "kernelspec": {
   "display_name": "Python 3",
   "language": "python",
   "name": "python3"
  },
  "language_info": {
   "codemirror_mode": {
    "name": "ipython",
    "version": 2
   },
   "file_extension": ".py",
   "mimetype": "text/x-python",
   "name": "python",
   "nbconvert_exporter": "python",
   "pygments_lexer": "ipython2",
   "version": "2.7.6"
  }
 },
 "nbformat": 4,
 "nbformat_minor": 5
}
