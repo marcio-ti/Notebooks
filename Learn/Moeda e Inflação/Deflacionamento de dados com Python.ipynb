{
 "cells": [
  {
   "metadata": {},
   "cell_type": "markdown",
   "source": [
    "Aqui estão 20 exercícios que combinam o uso de pandas, sidrapy, matplotlib e seaborn, focados no deflacionamento de dados pelo índice inflacionário:\n",
    "\n",
    "---\n",
    "\n",
    "### **Exercícios com pandas e sidrapy**\n",
    "\n",
    "1. Use a biblioteca **sidrapy** para obter os dados do IPCA (Índice Nacional de Preços ao Consumidor Amplo) mensal dos últimos 10 anos. Organize os dados em um DataFrame com colunas `data`, `indice` e `variação percentual`.\n",
    "\n",
    "2. Calcule a inflação acumulada (em termos percentuais) ao longo de cada ano com base nos dados obtidos no exercício anterior.\n",
    "\n",
    "3. Baixe os dados de um produto específico do setor agropecuário no Brasil utilizando **sidrapy**, e importe para um DataFrame pandas.\n",
    "\n",
    "4. Crie uma nova coluna no DataFrame dos preços do produto obtido anteriormente com o preço deflacionado para valores de janeiro de 2023.\n",
    "\n",
    "5. Utilize os dados de inflação acumulada e dos preços deflacionados para calcular o poder de compra de R$ 1.000 ao longo de um período de 5 anos.\n",
    "\n",
    "6. Filtre os dados de inflação mensal de um estado específico e compare com os dados nacionais.\n",
    "\n",
    "7. Usando os dados do IPCA, crie uma tabela que mostre o impacto da inflação em diferentes grupos de produtos (como alimentos, energia, transporte) ao longo de um ano.\n",
    "\n",
    "8. Combine os dados de inflação com os preços médios de produtos agropecuários em um único DataFrame e analise como a inflação afeta os preços ao longo do tempo.\n",
    "\n",
    "9. Crie uma função em Python que aceite como entrada o preço nominal de um produto, a data de referência e uma data-alvo e retorne o preço deflacionado.\n",
    "\n",
    "10. Calcule a média mensal dos índices inflacionários dos últimos 5 anos e armazene o resultado em um novo DataFrame.\n",
    "\n",
    "---\n",
    "\n",
    "### **Exercícios com matplotlib e seaborn**\n",
    "\n",
    "11. Crie um gráfico de linha usando **matplotlib** para visualizar o IPCA mensal dos últimos 10 anos.\n",
    "\n",
    "12. Utilize **seaborn** para criar um gráfico de barras empilhadas que mostre a contribuição dos diferentes grupos de produtos para a inflação em um determinado ano.\n",
    "\n",
    "13. Com base nos preços deflacionados dos produtos agropecuários, crie um gráfico de dispersão para comparar o preço nominal e o preço deflacionado ao longo do tempo.\n",
    "\n",
    "14. Use **matplotlib** para criar uma comparação gráfica entre a inflação acumulada e os preços nominais de um produto específico em um período de 3 anos.\n",
    "\n",
    "15. Usando **seaborn**, crie um heatmap que mostre a variação mensal da inflação para diferentes estados brasileiros.\n",
    "\n",
    "16. Plote um boxplot com **seaborn** para mostrar a variação dos índices inflacionários mensais ao longo dos últimos 5 anos.\n",
    "\n",
    "17. Crie um gráfico de linhas múltiplas que mostre o preço nominal e o preço deflacionado de um produto agropecuário para diferentes estados ao longo do tempo.\n",
    "\n",
    "18. Utilize **matplotlib** para criar um gráfico de área que mostre a inflação acumulada de diferentes grupos de produtos ao longo de 10 anos.\n",
    "\n",
    "19. Usando **seaborn**, crie um violin plot para comparar a distribuição de preços deflacionados de diferentes produtos agropecuários.\n",
    "\n",
    "20. Crie um gráfico de barras horizontais em **matplotlib** para exibir o impacto percentual da inflação sobre o preço de um produto entre dois períodos.\n",
    "\n",
    "---\n",
    "\n",
    "Esses exercícios foram projetados para cobrir desde tarefas básicas até análises mais complexas, integrando manipulação de dados, uso de APIs e visualizações gráficas. Se precisar de mais exercícios ou de ajustes nos níveis de dificuldade, é só pedir!#%% md\n"
   ],
   "id": "d28a714a57693a0e"
  },
  {
   "metadata": {},
   "cell_type": "code",
   "outputs": [],
   "execution_count": null,
   "source": "",
   "id": "aea2ca28f3baea5e"
  }
 ],
 "metadata": {
  "kernelspec": {
   "display_name": "Python 3",
   "language": "python",
   "name": "python3"
  },
  "language_info": {
   "codemirror_mode": {
    "name": "ipython",
    "version": 2
   },
   "file_extension": ".py",
   "mimetype": "text/x-python",
   "name": "python",
   "nbconvert_exporter": "python",
   "pygments_lexer": "ipython2",
   "version": "2.7.6"
  }
 },
 "nbformat": 4,
 "nbformat_minor": 5
}
