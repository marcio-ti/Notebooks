{
 "cells": [
  {
   "cell_type": "code",
   "id": "initial_id",
   "metadata": {
    "collapsed": true
   },
   "source": [
    "import pandas as pd\n",
    "import bcb\n",
    "import requests\n",
    "import matplotlib.pyplot as plt\n",
    "import seaborn as sns\n",
    "import datetime\n",
    "import warnings\n",
    "warnings.filterwarnings('ignore')"
   ],
   "outputs": [],
   "execution_count": null
  },
  {
   "metadata": {},
   "cell_type": "code",
   "source": "df = pd.read_excel('CEPEA_20241115084958.xls')",
   "id": "7007d5f7b31253f",
   "outputs": [],
   "execution_count": null
  },
  {
   "metadata": {
    "ExecuteTime": {
     "end_time": "2024-11-15T15:22:55.441945Z",
     "start_time": "2024-11-15T15:22:55.418213Z"
    }
   },
   "cell_type": "code",
   "source": "df['Data'] = pd.to_datetime(df['Data'], format=\"%d/%m/%Y\")",
   "id": "592a06df9fba8b67",
   "outputs": [],
   "execution_count": 24
  },
  {
   "metadata": {
    "ExecuteTime": {
     "end_time": "2024-11-15T15:23:02.204040Z",
     "start_time": "2024-11-15T15:23:02.169107Z"
    }
   },
   "cell_type": "code",
   "source": "df['Ano_mes'] = df['Data'].apply(lambda x: x.strftime('01/%m/%Y'))",
   "id": "65c8c548f44b5893",
   "outputs": [],
   "execution_count": 25
  },
  {
   "metadata": {
    "ExecuteTime": {
     "end_time": "2024-11-15T15:23:13.480890Z",
     "start_time": "2024-11-15T15:23:13.476355Z"
    }
   },
   "cell_type": "code",
   "source": [
    "lista_datas = list(df['Ano_mes'].unique())\n",
    "lista_datas.remove('01/11/2024')"
   ],
   "id": "cd8d1bc001d5cf3b",
   "outputs": [],
   "execution_count": 26
  },
  {
   "metadata": {
    "ExecuteTime": {
     "end_time": "2024-11-15T15:23:42.514326Z",
     "start_time": "2024-11-15T15:23:42.504599Z"
    }
   },
   "cell_type": "code",
   "source": "df['Ano_mes'] = df['Ano_mes'].astype('datetime64[ns]')",
   "id": "557b62391b9218cd",
   "outputs": [],
   "execution_count": 27
  },
  {
   "metadata": {
    "ExecuteTime": {
     "end_time": "2024-11-15T15:23:48.505407Z",
     "start_time": "2024-11-15T15:23:48.485128Z"
    }
   },
   "cell_type": "code",
   "source": "df",
   "id": "2f58d0b7c9bd6e1f",
   "outputs": [
    {
     "data": {
      "text/plain": [
       "           Data  À vista R$  À vista US$    Ano_mes\n",
       "0    1997-07-23       26.67        24.65 1997-01-07\n",
       "1    1997-07-24       26.67        24.65 1997-01-07\n",
       "2    1997-07-25       26.71        24.68 1997-01-07\n",
       "3    1997-07-28       26.74        24.70 1997-01-07\n",
       "4    1997-07-29       26.77        24.72 1997-01-07\n",
       "...         ...         ...          ...        ...\n",
       "6793 2024-11-08      329.05        57.20 2024-01-11\n",
       "6794 2024-11-11      334.60        57.98 2024-01-11\n",
       "6795 2024-11-12      335.15        58.11 2024-01-11\n",
       "6796 2024-11-13      339.60        58.57 2024-01-11\n",
       "6797 2024-11-14      342.20        59.21 2024-01-11\n",
       "\n",
       "[6798 rows x 4 columns]"
      ],
      "text/html": [
       "<div>\n",
       "<style scoped>\n",
       "    .dataframe tbody tr th:only-of-type {\n",
       "        vertical-align: middle;\n",
       "    }\n",
       "\n",
       "    .dataframe tbody tr th {\n",
       "        vertical-align: top;\n",
       "    }\n",
       "\n",
       "    .dataframe thead th {\n",
       "        text-align: right;\n",
       "    }\n",
       "</style>\n",
       "<table border=\"1\" class=\"dataframe\">\n",
       "  <thead>\n",
       "    <tr style=\"text-align: right;\">\n",
       "      <th></th>\n",
       "      <th>Data</th>\n",
       "      <th>À vista R$</th>\n",
       "      <th>À vista US$</th>\n",
       "      <th>Ano_mes</th>\n",
       "    </tr>\n",
       "  </thead>\n",
       "  <tbody>\n",
       "    <tr>\n",
       "      <th>0</th>\n",
       "      <td>1997-07-23</td>\n",
       "      <td>26.67</td>\n",
       "      <td>24.65</td>\n",
       "      <td>1997-01-07</td>\n",
       "    </tr>\n",
       "    <tr>\n",
       "      <th>1</th>\n",
       "      <td>1997-07-24</td>\n",
       "      <td>26.67</td>\n",
       "      <td>24.65</td>\n",
       "      <td>1997-01-07</td>\n",
       "    </tr>\n",
       "    <tr>\n",
       "      <th>2</th>\n",
       "      <td>1997-07-25</td>\n",
       "      <td>26.71</td>\n",
       "      <td>24.68</td>\n",
       "      <td>1997-01-07</td>\n",
       "    </tr>\n",
       "    <tr>\n",
       "      <th>3</th>\n",
       "      <td>1997-07-28</td>\n",
       "      <td>26.74</td>\n",
       "      <td>24.70</td>\n",
       "      <td>1997-01-07</td>\n",
       "    </tr>\n",
       "    <tr>\n",
       "      <th>4</th>\n",
       "      <td>1997-07-29</td>\n",
       "      <td>26.77</td>\n",
       "      <td>24.72</td>\n",
       "      <td>1997-01-07</td>\n",
       "    </tr>\n",
       "    <tr>\n",
       "      <th>...</th>\n",
       "      <td>...</td>\n",
       "      <td>...</td>\n",
       "      <td>...</td>\n",
       "      <td>...</td>\n",
       "    </tr>\n",
       "    <tr>\n",
       "      <th>6793</th>\n",
       "      <td>2024-11-08</td>\n",
       "      <td>329.05</td>\n",
       "      <td>57.20</td>\n",
       "      <td>2024-01-11</td>\n",
       "    </tr>\n",
       "    <tr>\n",
       "      <th>6794</th>\n",
       "      <td>2024-11-11</td>\n",
       "      <td>334.60</td>\n",
       "      <td>57.98</td>\n",
       "      <td>2024-01-11</td>\n",
       "    </tr>\n",
       "    <tr>\n",
       "      <th>6795</th>\n",
       "      <td>2024-11-12</td>\n",
       "      <td>335.15</td>\n",
       "      <td>58.11</td>\n",
       "      <td>2024-01-11</td>\n",
       "    </tr>\n",
       "    <tr>\n",
       "      <th>6796</th>\n",
       "      <td>2024-11-13</td>\n",
       "      <td>339.60</td>\n",
       "      <td>58.57</td>\n",
       "      <td>2024-01-11</td>\n",
       "    </tr>\n",
       "    <tr>\n",
       "      <th>6797</th>\n",
       "      <td>2024-11-14</td>\n",
       "      <td>342.20</td>\n",
       "      <td>59.21</td>\n",
       "      <td>2024-01-11</td>\n",
       "    </tr>\n",
       "  </tbody>\n",
       "</table>\n",
       "<p>6798 rows × 4 columns</p>\n",
       "</div>"
      ]
     },
     "execution_count": 28,
     "metadata": {},
     "output_type": "execute_result"
    }
   ],
   "execution_count": 28
  },
  {
   "metadata": {},
   "cell_type": "markdown",
   "source": "## Gráfico do Preço do Boi Gordo em Reais sem o Ajuste do IPCA",
   "id": "3581db0b751f6252"
  },
  {
   "metadata": {
    "ExecuteTime": {
     "end_time": "2024-11-15T15:24:04.082136Z",
     "start_time": "2024-11-15T15:24:03.850439Z"
    }
   },
   "cell_type": "code",
   "source": "df['À vista R$'].plot(kind='line')",
   "id": "e84f5ff5fdc85845",
   "outputs": [
    {
     "data": {
      "text/plain": [
       "<Axes: >"
      ]
     },
     "execution_count": 29,
     "metadata": {},
     "output_type": "execute_result"
    },
    {
     "data": {
      "text/plain": [
       "<Figure size 640x480 with 1 Axes>"
      ],
      "image/png": "[encoded data removed]"
     },
     "metadata": {},
     "output_type": "display_data"
    }
   ],
   "execution_count": 29
  },
  {
   "metadata": {},
   "cell_type": "markdown",
   "source": "## Ajuste do IPCA",
   "id": "cc9452379ccffb80"
  },
  {
   "metadata": {
    "ExecuteTime": {
     "end_time": "2024-11-15T15:31:40.038378Z",
     "start_time": "2024-11-15T15:28:09.474357Z"
    }
   },
   "cell_type": "code",
   "source": [
    "# Função para obter os índices de correção entre duas datas\n",
    "def obter_indices_correcao(data_inicio, data_fim, codigo_serie):\n",
    "\turl = f'https://api.bcb.gov.br/dados/serie/bcdata.sgs.{codigo_serie}/dados?formato=json&dataInicial={data_inicio}&dataFinal={data_fim}'\n",
    "\n",
    "\ttry:\n",
    "\t\tresponse = requests.get(url)\n",
    "\t\tresponse.raise_for_status()  # Verifica se a requisição teve sucesso\n",
    "\t\tdata = response.json()\n",
    "\n",
    "\t\t# Convertendo os dados para um DataFrame\n",
    "\t\tdf = pd.DataFrame(data)\n",
    "\t\tdf['data'] = pd.to_datetime(df['data'], format='%d/%m/%Y')\n",
    "\t\tdf['valor'] = pd.to_numeric(df['valor'])\n",
    "\t\treturn df\n",
    "\n",
    "\texcept requests.exceptions.HTTPError as http_err:\n",
    "\t\tprint(f'HTTP error occurred: {http_err}')  # Exibe o erro HTTP\n",
    "\texcept requests.exceptions.RequestException as req_err:\n",
    "\t\tprint(f'Other error occurred: {req_err}')  # Exibe outros erros de requisição\n",
    "\texcept ValueError as val_err:\n",
    "\t\tprint(f'Value error: {val_err}')  # Exibe erros de valor, como JSONDecodeError\n",
    "\treturn pd.DataFrame()  # Retorna um DataFrame vazio em caso de erro\n",
    "\n",
    "# Função para calcular o índice de correção\n",
    "def calcular_indice_correcao(df):\n",
    "\tdf['fator'] = 1 + df['valor'] / 100  # Converte índices percentuais em fatores\n",
    "\tfator_acumulado = df['fator'].prod()  # Multiplica todos os fatores\n",
    "\treturn fator_acumulado\n",
    "\n",
    "# Lista de datas iniciais\n",
    "datas_iniciais = lista_datas\n",
    "data_fim = '31/10/2024'\n",
    "codigo_serie = '433'  # Exemplo de código de série (Índice Nacional de Preços ao Consumidor Amplo - IPCA)\n",
    "\n",
    "# Lista para armazenar os resultados\n",
    "resultados = []\n",
    "\n",
    "# Loop através das datas iniciais\n",
    "for data_inicio in datas_iniciais:\n",
    "\tindices_correcao = obter_indices_correcao(data_inicio, data_fim, codigo_serie)\n",
    "\tif not indices_correcao.empty:\n",
    "\t\tindice_correcao = calcular_indice_correcao(indices_correcao)\n",
    "\t\tresultados.append({'data_inicial': data_inicio, 'indice_correcao': f\"{indice_correcao:.10f}\"})\n",
    "\telse:\n",
    "\t\tprint(f\"Não foi possível obter os índices de correção para o período começando em {data_inicio}.\")\n",
    "\n",
    "# Criar um DataFrame com os resultados\n",
    "df_resultados = pd.DataFrame(resultados)\n",
    "\n",
    "# Exibir o DataFrame de resultados\n",
    "df_resultados\n"
   ],
   "id": "ed068d3cb6ad332",
   "outputs": [
    {
     "name": "stdout",
     "output_type": "stream",
     "text": [
      "Other error occurred: Expecting value: line 1 column 1 (char 0)\n",
      "Não foi possível obter os índices de correção para o período começando em 01/03/2010.\n",
      "Other error occurred: Expecting value: line 1 column 1 (char 0)\n",
      "Não foi possível obter os índices de correção para o período começando em 01/03/2011.\n",
      "Other error occurred: Expecting value: line 1 column 1 (char 0)\n",
      "Não foi possível obter os índices de correção para o período começando em 01/09/2011.\n",
      "Other error occurred: Expecting value: line 1 column 1 (char 0)\n",
      "Não foi possível obter os índices de correção para o período começando em 01/06/2015.\n",
      "Other error occurred: Expecting value: line 1 column 1 (char 0)\n",
      "Não foi possível obter os índices de correção para o período começando em 01/12/2015.\n",
      "Other error occurred: Expecting value: line 1 column 1 (char 0)\n",
      "Não foi possível obter os índices de correção para o período começando em 01/03/2016.\n",
      "Other error occurred: Expecting value: line 1 column 1 (char 0)\n",
      "Não foi possível obter os índices de correção para o período começando em 01/11/2017.\n"
     ]
    },
    {
     "data": {
      "text/plain": [
       "    data_inicial indice_correcao\n",
       "0     01/07/1997    4.9589746350\n",
       "1     01/08/1997    4.9480888396\n",
       "2     01/09/1997    4.9490786553\n",
       "3     01/10/1997    4.9461109887\n",
       "4     01/11/1997    4.9347610383\n",
       "..           ...             ...\n",
       "316   01/06/2024    1.0157886470\n",
       "317   01/07/2024    1.0136599611\n",
       "318   01/08/2024    1.0098226351\n",
       "319   01/09/2024    1.0100246400\n",
       "320   01/10/2024    1.0056000000\n",
       "\n",
       "[321 rows x 2 columns]"
      ],
      "text/html": [
       "<div>\n",
       "<style scoped>\n",
       "    .dataframe tbody tr th:only-of-type {\n",
       "        vertical-align: middle;\n",
       "    }\n",
       "\n",
       "    .dataframe tbody tr th {\n",
       "        vertical-align: top;\n",
       "    }\n",
       "\n",
       "    .dataframe thead th {\n",
       "        text-align: right;\n",
       "    }\n",
       "</style>\n",
       "<table border=\"1\" class=\"dataframe\">\n",
       "  <thead>\n",
       "    <tr style=\"text-align: right;\">\n",
       "      <th></th>\n",
       "      <th>data_inicial</th>\n",
       "      <th>indice_correcao</th>\n",
       "    </tr>\n",
       "  </thead>\n",
       "  <tbody>\n",
       "    <tr>\n",
       "      <th>0</th>\n",
       "      <td>01/07/1997</td>\n",
       "      <td>4.9589746350</td>\n",
       "    </tr>\n",
       "    <tr>\n",
       "      <th>1</th>\n",
       "      <td>01/08/1997</td>\n",
       "      <td>4.9480888396</td>\n",
       "    </tr>\n",
       "    <tr>\n",
       "      <th>2</th>\n",
       "      <td>01/09/1997</td>\n",
       "      <td>4.9490786553</td>\n",
       "    </tr>\n",
       "    <tr>\n",
       "      <th>3</th>\n",
       "      <td>01/10/1997</td>\n",
       "      <td>4.9461109887</td>\n",
       "    </tr>\n",
       "    <tr>\n",
       "      <th>4</th>\n",
       "      <td>01/11/1997</td>\n",
       "      <td>4.9347610383</td>\n",
       "    </tr>\n",
       "    <tr>\n",
       "      <th>...</th>\n",
       "      <td>...</td>\n",
       "      <td>...</td>\n",
       "    </tr>\n",
       "    <tr>\n",
       "      <th>316</th>\n",
       "      <td>01/06/2024</td>\n",
       "      <td>1.0157886470</td>\n",
       "    </tr>\n",
       "    <tr>\n",
       "      <th>317</th>\n",
       "      <td>01/07/2024</td>\n",
       "      <td>1.0136599611</td>\n",
       "    </tr>\n",
       "    <tr>\n",
       "      <th>318</th>\n",
       "      <td>01/08/2024</td>\n",
       "      <td>1.0098226351</td>\n",
       "    </tr>\n",
       "    <tr>\n",
       "      <th>319</th>\n",
       "      <td>01/09/2024</td>\n",
       "      <td>1.0100246400</td>\n",
       "    </tr>\n",
       "    <tr>\n",
       "      <th>320</th>\n",
       "      <td>01/10/2024</td>\n",
       "      <td>1.0056000000</td>\n",
       "    </tr>\n",
       "  </tbody>\n",
       "</table>\n",
       "<p>321 rows × 2 columns</p>\n",
       "</div>"
      ]
     },
     "execution_count": 34,
     "metadata": {},
     "output_type": "execute_result"
    }
   ],
   "execution_count": 34
  },
  {
   "metadata": {
    "ExecuteTime": {
     "end_time": "2024-11-15T15:31:44.022884Z",
     "start_time": "2024-11-15T15:31:40.118154Z"
    }
   },
   "cell_type": "code",
   "source": [
    "resultado = df_resultados.copy(deep=True)\n",
    "resultado['data_inicial'] = resultado['data_inicial'].astype('datetime64[ns]')\n",
    "resultado['Ano_mes'] = df_resultados['Ano_mes'].astype('datetime64[ns]')"
   ],
   "id": "29fbec0cd28e4008",
   "outputs": [
    {
     "ename": "KeyError",
     "evalue": "'Ano_mes'",
     "output_type": "error",
     "traceback": [
      "\u001B[1;31m---------------------------------------------------------------------------\u001B[0m",
      "\u001B[1;31mKeyError\u001B[0m                                  Traceback (most recent call last)",
      "File \u001B[1;32m~\\DataspellProjects\\DataScience\\venv\\Lib\\site-packages\\pandas\\core\\indexes\\base.py:3805\u001B[0m, in \u001B[0;36mIndex.get_loc\u001B[1;34m(self, key)\u001B[0m\n\u001B[0;32m   3804\u001B[0m \u001B[38;5;28;01mtry\u001B[39;00m:\n\u001B[1;32m-> 3805\u001B[0m     \u001B[38;5;28;01mreturn\u001B[39;00m \u001B[38;5;28;43mself\u001B[39;49m\u001B[38;5;241;43m.\u001B[39;49m\u001B[43m_engine\u001B[49m\u001B[38;5;241;43m.\u001B[39;49m\u001B[43mget_loc\u001B[49m\u001B[43m(\u001B[49m\u001B[43mcasted_key\u001B[49m\u001B[43m)\u001B[49m\n\u001B[0;32m   3806\u001B[0m \u001B[38;5;28;01mexcept\u001B[39;00m \u001B[38;5;167;01mKeyError\u001B[39;00m \u001B[38;5;28;01mas\u001B[39;00m err:\n",
      "File \u001B[1;32mindex.pyx:167\u001B[0m, in \u001B[0;36mpandas._libs.index.IndexEngine.get_loc\u001B[1;34m()\u001B[0m\n",
      "File \u001B[1;32mindex.pyx:196\u001B[0m, in \u001B[0;36mpandas._libs.index.IndexEngine.get_loc\u001B[1;34m()\u001B[0m\n",
      "File \u001B[1;32mpandas\\\\_libs\\\\hashtable_class_helper.pxi:7081\u001B[0m, in \u001B[0;36mpandas._libs.hashtable.PyObjectHashTable.get_item\u001B[1;34m()\u001B[0m\n",
      "File \u001B[1;32mpandas\\\\_libs\\\\hashtable_class_helper.pxi:7089\u001B[0m, in \u001B[0;36mpandas._libs.hashtable.PyObjectHashTable.get_item\u001B[1;34m()\u001B[0m\n",
      "\u001B[1;31mKeyError\u001B[0m: 'Ano_mes'",
      "\nThe above exception was the direct cause of the following exception:\n",
      "\u001B[1;31mKeyError\u001B[0m                                  Traceback (most recent call last)",
      "Cell \u001B[1;32mIn[35], line 4\u001B[0m\n\u001B[0;32m      2\u001B[0m resultado[\u001B[38;5;124m'\u001B[39m\u001B[38;5;124mdata_inicial\u001B[39m\u001B[38;5;124m'\u001B[39m] \u001B[38;5;241m=\u001B[39m resultado[\u001B[38;5;124m'\u001B[39m\u001B[38;5;124mdata_inicial\u001B[39m\u001B[38;5;124m'\u001B[39m]\u001B[38;5;241m.\u001B[39mastype(\u001B[38;5;124m'\u001B[39m\u001B[38;5;124mdatetime64[ns]\u001B[39m\u001B[38;5;124m'\u001B[39m)\n\u001B[0;32m      3\u001B[0m resultado[\u001B[38;5;124m'\u001B[39m\u001B[38;5;124mAno_mes\u001B[39m\u001B[38;5;124m'\u001B[39m] \u001B[38;5;241m=\u001B[39m resultado[\u001B[38;5;124m'\u001B[39m\u001B[38;5;124mdata_inicial\u001B[39m\u001B[38;5;124m'\u001B[39m]\u001B[38;5;241m.\u001B[39mapply(\u001B[38;5;28;01mlambda\u001B[39;00m x: x\u001B[38;5;241m.\u001B[39mstrftime(\u001B[38;5;124m'\u001B[39m\u001B[38;5;132;01m%d\u001B[39;00m\u001B[38;5;124m/\u001B[39m\u001B[38;5;124m%\u001B[39m\u001B[38;5;124mm/\u001B[39m\u001B[38;5;124m%\u001B[39m\u001B[38;5;124mY\u001B[39m\u001B[38;5;124m'\u001B[39m))\n\u001B[1;32m----> 4\u001B[0m resultado[\u001B[38;5;124m'\u001B[39m\u001B[38;5;124mAno_mes\u001B[39m\u001B[38;5;124m'\u001B[39m] \u001B[38;5;241m=\u001B[39m \u001B[43mdf_resultados\u001B[49m\u001B[43m[\u001B[49m\u001B[38;5;124;43m'\u001B[39;49m\u001B[38;5;124;43mAno_mes\u001B[39;49m\u001B[38;5;124;43m'\u001B[39;49m\u001B[43m]\u001B[49m\u001B[38;5;241m.\u001B[39mastype(\u001B[38;5;124m'\u001B[39m\u001B[38;5;124mdatetime64[ns]\u001B[39m\u001B[38;5;124m'\u001B[39m)\n",
      "File \u001B[1;32m~\\DataspellProjects\\DataScience\\venv\\Lib\\site-packages\\pandas\\core\\frame.py:4102\u001B[0m, in \u001B[0;36mDataFrame.__getitem__\u001B[1;34m(self, key)\u001B[0m\n\u001B[0;32m   4100\u001B[0m \u001B[38;5;28;01mif\u001B[39;00m \u001B[38;5;28mself\u001B[39m\u001B[38;5;241m.\u001B[39mcolumns\u001B[38;5;241m.\u001B[39mnlevels \u001B[38;5;241m>\u001B[39m \u001B[38;5;241m1\u001B[39m:\n\u001B[0;32m   4101\u001B[0m     \u001B[38;5;28;01mreturn\u001B[39;00m \u001B[38;5;28mself\u001B[39m\u001B[38;5;241m.\u001B[39m_getitem_multilevel(key)\n\u001B[1;32m-> 4102\u001B[0m indexer \u001B[38;5;241m=\u001B[39m \u001B[38;5;28;43mself\u001B[39;49m\u001B[38;5;241;43m.\u001B[39;49m\u001B[43mcolumns\u001B[49m\u001B[38;5;241;43m.\u001B[39;49m\u001B[43mget_loc\u001B[49m\u001B[43m(\u001B[49m\u001B[43mkey\u001B[49m\u001B[43m)\u001B[49m\n\u001B[0;32m   4103\u001B[0m \u001B[38;5;28;01mif\u001B[39;00m is_integer(indexer):\n\u001B[0;32m   4104\u001B[0m     indexer \u001B[38;5;241m=\u001B[39m [indexer]\n",
      "File \u001B[1;32m~\\DataspellProjects\\DataScience\\venv\\Lib\\site-packages\\pandas\\core\\indexes\\base.py:3812\u001B[0m, in \u001B[0;36mIndex.get_loc\u001B[1;34m(self, key)\u001B[0m\n\u001B[0;32m   3807\u001B[0m     \u001B[38;5;28;01mif\u001B[39;00m \u001B[38;5;28misinstance\u001B[39m(casted_key, \u001B[38;5;28mslice\u001B[39m) \u001B[38;5;129;01mor\u001B[39;00m (\n\u001B[0;32m   3808\u001B[0m         \u001B[38;5;28misinstance\u001B[39m(casted_key, abc\u001B[38;5;241m.\u001B[39mIterable)\n\u001B[0;32m   3809\u001B[0m         \u001B[38;5;129;01mand\u001B[39;00m \u001B[38;5;28many\u001B[39m(\u001B[38;5;28misinstance\u001B[39m(x, \u001B[38;5;28mslice\u001B[39m) \u001B[38;5;28;01mfor\u001B[39;00m x \u001B[38;5;129;01min\u001B[39;00m casted_key)\n\u001B[0;32m   3810\u001B[0m     ):\n\u001B[0;32m   3811\u001B[0m         \u001B[38;5;28;01mraise\u001B[39;00m InvalidIndexError(key)\n\u001B[1;32m-> 3812\u001B[0m     \u001B[38;5;28;01mraise\u001B[39;00m \u001B[38;5;167;01mKeyError\u001B[39;00m(key) \u001B[38;5;28;01mfrom\u001B[39;00m \u001B[38;5;21;01merr\u001B[39;00m\n\u001B[0;32m   3813\u001B[0m \u001B[38;5;28;01mexcept\u001B[39;00m \u001B[38;5;167;01mTypeError\u001B[39;00m:\n\u001B[0;32m   3814\u001B[0m     \u001B[38;5;66;03m# If we have a listlike key, _check_indexing_error will raise\u001B[39;00m\n\u001B[0;32m   3815\u001B[0m     \u001B[38;5;66;03m#  InvalidIndexError. Otherwise we fall through and re-raise\u001B[39;00m\n\u001B[0;32m   3816\u001B[0m     \u001B[38;5;66;03m#  the TypeError.\u001B[39;00m\n\u001B[0;32m   3817\u001B[0m     \u001B[38;5;28mself\u001B[39m\u001B[38;5;241m.\u001B[39m_check_indexing_error(key)\n",
      "\u001B[1;31mKeyError\u001B[0m: 'Ano_mes'"
     ]
    }
   ],
   "execution_count": 35
  },
  {
   "metadata": {
    "ExecuteTime": {
     "end_time": "2024-11-15T15:27:32.945028Z",
     "start_time": "2024-11-15T15:27:32.897443Z"
    }
   },
   "cell_type": "code",
   "source": "df_resultados",
   "id": "bba0fdd8e3c468e7",
   "outputs": [
    {
     "data": {
      "text/plain": [
       "    data_inicial indice_correcao     Ano_mes\n",
       "0     1997-01-07    4.9589746350  07/01/1997\n",
       "1     1997-01-08    4.9480888396  08/01/1997\n",
       "2     1997-01-09    4.9490786553  09/01/1997\n",
       "3     1997-01-10    4.9461109887  10/01/1997\n",
       "4     1997-01-11    4.9347610383  11/01/1997\n",
       "..           ...             ...         ...\n",
       "322   2024-01-06    1.0157886470  06/01/2024\n",
       "323   2024-01-07    1.0136599611  07/01/2024\n",
       "324   2024-01-08    1.0098226351  08/01/2024\n",
       "325   2024-01-09    1.0100246400  09/01/2024\n",
       "326   2024-01-10    1.0056000000  10/01/2024\n",
       "\n",
       "[327 rows x 3 columns]"
      ],
      "text/html": [
       "<div>\n",
       "<style scoped>\n",
       "    .dataframe tbody tr th:only-of-type {\n",
       "        vertical-align: middle;\n",
       "    }\n",
       "\n",
       "    .dataframe tbody tr th {\n",
       "        vertical-align: top;\n",
       "    }\n",
       "\n",
       "    .dataframe thead th {\n",
       "        text-align: right;\n",
       "    }\n",
       "</style>\n",
       "<table border=\"1\" class=\"dataframe\">\n",
       "  <thead>\n",
       "    <tr style=\"text-align: right;\">\n",
       "      <th></th>\n",
       "      <th>data_inicial</th>\n",
       "      <th>indice_correcao</th>\n",
       "      <th>Ano_mes</th>\n",
       "    </tr>\n",
       "  </thead>\n",
       "  <tbody>\n",
       "    <tr>\n",
       "      <th>0</th>\n",
       "      <td>1997-01-07</td>\n",
       "      <td>4.9589746350</td>\n",
       "      <td>07/01/1997</td>\n",
       "    </tr>\n",
       "    <tr>\n",
       "      <th>1</th>\n",
       "      <td>1997-01-08</td>\n",
       "      <td>4.9480888396</td>\n",
       "      <td>08/01/1997</td>\n",
       "    </tr>\n",
       "    <tr>\n",
       "      <th>2</th>\n",
       "      <td>1997-01-09</td>\n",
       "      <td>4.9490786553</td>\n",
       "      <td>09/01/1997</td>\n",
       "    </tr>\n",
       "    <tr>\n",
       "      <th>3</th>\n",
       "      <td>1997-01-10</td>\n",
       "      <td>4.9461109887</td>\n",
       "      <td>10/01/1997</td>\n",
       "    </tr>\n",
       "    <tr>\n",
       "      <th>4</th>\n",
       "      <td>1997-01-11</td>\n",
       "      <td>4.9347610383</td>\n",
       "      <td>11/01/1997</td>\n",
       "    </tr>\n",
       "    <tr>\n",
       "      <th>...</th>\n",
       "      <td>...</td>\n",
       "      <td>...</td>\n",
       "      <td>...</td>\n",
       "    </tr>\n",
       "    <tr>\n",
       "      <th>322</th>\n",
       "      <td>2024-01-06</td>\n",
       "      <td>1.0157886470</td>\n",
       "      <td>06/01/2024</td>\n",
       "    </tr>\n",
       "    <tr>\n",
       "      <th>323</th>\n",
       "      <td>2024-01-07</td>\n",
       "      <td>1.0136599611</td>\n",
       "      <td>07/01/2024</td>\n",
       "    </tr>\n",
       "    <tr>\n",
       "      <th>324</th>\n",
       "      <td>2024-01-08</td>\n",
       "      <td>1.0098226351</td>\n",
       "      <td>08/01/2024</td>\n",
       "    </tr>\n",
       "    <tr>\n",
       "      <th>325</th>\n",
       "      <td>2024-01-09</td>\n",
       "      <td>1.0100246400</td>\n",
       "      <td>09/01/2024</td>\n",
       "    </tr>\n",
       "    <tr>\n",
       "      <th>326</th>\n",
       "      <td>2024-01-10</td>\n",
       "      <td>1.0056000000</td>\n",
       "      <td>10/01/2024</td>\n",
       "    </tr>\n",
       "  </tbody>\n",
       "</table>\n",
       "<p>327 rows × 3 columns</p>\n",
       "</div>"
      ]
     },
     "execution_count": 33,
     "metadata": {},
     "output_type": "execute_result"
    }
   ],
   "execution_count": 33
  },
  {
   "metadata": {},
   "cell_type": "code",
   "source": "dados = df.merge(df_resultados, on='Ano_mes', how='left')",
   "id": "30e69b9e3a5dd1c3",
   "outputs": [],
   "execution_count": null
  },
  {
   "metadata": {},
   "cell_type": "code",
   "source": "dados",
   "id": "daf0b414497997c1",
   "outputs": [],
   "execution_count": null
  }
 ],
 "metadata": {
  "kernelspec": {
   "display_name": "Python 3",
   "language": "python",
   "name": "python3"
  },
  "language_info": {
   "codemirror_mode": {
    "name": "ipython",
    "version": 2
   },
   "file_extension": ".py",
   "mimetype": "text/x-python",
   "name": "python",
   "nbconvert_exporter": "python",
   "pygments_lexer": "ipython2",
   "version": "2.7.6"
  }
 },
 "nbformat": 4,
 "nbformat_minor": 5
}
