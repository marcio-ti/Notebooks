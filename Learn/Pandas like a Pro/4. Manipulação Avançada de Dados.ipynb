{
 "cells": [
  {
   "metadata": {},
   "cell_type": "markdown",
   "source": [
    "## **4. Manipulação Avançada de Dados**\n",
    "- Separação e junção de dados (`split()`, `str.join()`, `concat()`, `merge()`)\n",
    "- Combinação de DataFrames (`combine_first()`, `update()`)\n",
    "- Alteração dinâmica de valores com **condições** (`np.where()`, `mask()`, `where()`)\n",
    "- Uso de **funções personalizadas** para manipulação avançada"
   ],
   "id": "a3cd07a005f10a9b"
  },
  {
   "metadata": {},
   "cell_type": "code",
   "outputs": [],
   "execution_count": null,
   "source": "",
   "id": "b15e2a4834bc7c5c"
  }
 ],
 "metadata": {
  "kernelspec": {
   "display_name": "Python 3",
   "language": "python",
   "name": "python3"
  },
  "language_info": {
   "codemirror_mode": {
    "name": "ipython",
    "version": 2
   },
   "file_extension": ".py",
   "mimetype": "text/x-python",
   "name": "python",
   "nbconvert_exporter": "python",
   "pygments_lexer": "ipython2",
   "version": "2.7.6"
  }
 },
 "nbformat": 4,
 "nbformat_minor": 5
}
