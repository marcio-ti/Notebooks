{
 "cells": [
  {
   "metadata": {},
   "cell_type": "markdown",
   "source": [
    "## **1. Fundamentos do Pandas**\n",
    "- Estruturas de dados: `Series`, `DataFrame`, `Index`, `MultiIndex`\n",
    "- Criando DataFrames (`dict`, `listas`, `arrays`, `csv`, `json`, `excel`, `sql`)\n",
    "- Trabalhando com listas e dicionários (`from_dict()`, `explode()`, `to_dict()`)\n",
    "- Índices e colunas (`set_index()`, `reset_index()`, `rename()`)\n",
    "- Tipos de dados (`dtypes`, `convert_dtypes()`, `astype()`)"
   ],
   "id": "d703d8d5232c17ef"
  },
  {
   "metadata": {
    "ExecuteTime": {
     "end_time": "2025-02-06T17:54:11.688728Z",
     "start_time": "2025-02-06T17:54:10.194749Z"
    }
   },
   "cell_type": "code",
   "source": [
    "from random import randint\n",
    "import pandas as pd\n",
    "import numpy as np\n",
    "from itertools import product"
   ],
   "id": "eb2bff6d15c9a6c8",
   "outputs": [],
   "execution_count": 1
  },
  {
   "metadata": {},
   "cell_type": "markdown",
   "source": "---",
   "id": "18b1b387193b7bf2"
  },
  {
   "metadata": {},
   "cell_type": "markdown",
   "source": "# Exercícios - Fundamentos do Pandas",
   "id": "a7df01d75313f7ca"
  },
  {
   "metadata": {},
   "cell_type": "markdown",
   "source": [
    "## **1.1 Estruturas de Dados: `Series`, `DataFrame`, `Index`, `MultiIndex`**\n",
    "\n",
    "1. Crie uma `Series` a partir de uma lista de números inteiros de 1 a 10 e exiba suas propriedades (`index`, `values`, `dtype`).\n"
   ],
   "id": "dee843ee4398b4ad"
  },
  {
   "metadata": {
    "ExecuteTime": {
     "end_time": "2025-02-05T15:34:58.477456Z",
     "start_time": "2025-02-05T15:34:58.463048Z"
    }
   },
   "cell_type": "code",
   "source": [
    "lista = [randint(1, 30) for _ in range(10)]\n",
    "\n",
    "serie_x = pd.Series(lista)\n",
    "\n",
    "serie_x.dtypes"
   ],
   "id": "3e0a02d94de938ea",
   "outputs": [
    {
     "data": {
      "text/plain": [
       "dtype('int64')"
      ]
     },
     "execution_count": 5,
     "metadata": {},
     "output_type": "execute_result"
    }
   ],
   "execution_count": 5
  },
  {
   "metadata": {},
   "cell_type": "markdown",
   "source": "2. Construa uma `Series` a partir de um dicionário, onde as chaves são nomes de frutas e os valores são seus preços.",
   "id": "ff2d9f74e7bd48a4"
  },
  {
   "metadata": {
    "ExecuteTime": {
     "end_time": "2025-02-05T15:37:45.971686Z",
     "start_time": "2025-02-05T15:37:45.957325Z"
    }
   },
   "cell_type": "code",
   "source": [
    "frutas = {\n",
    "\t\"Tomate\": 2.00,\n",
    "\t\"Batata Inglesa\": 1.89,\n",
    "\t\"Morango\": 12\n",
    "}\n",
    "\n",
    "lista_horti = pd.Series(data=frutas.values(), index=frutas.keys(), dtype='float', name='Preços')\n",
    "lista_horti"
   ],
   "id": "9a8bfe04ff047a22",
   "outputs": [
    {
     "data": {
      "text/plain": [
       "Tomate             2.00\n",
       "Batata Inglesa     1.89\n",
       "Morango           12.00\n",
       "Name: Preços, dtype: float64"
      ]
     },
     "execution_count": 7,
     "metadata": {},
     "output_type": "execute_result"
    }
   ],
   "execution_count": 7
  },
  {
   "metadata": {},
   "cell_type": "markdown",
   "source": "3. Crie um `DataFrame` com três colunas (`Nome`, `Idade`, `Profissão`) e pelo menos cinco registros.",
   "id": "da4b2c8f418601d6"
  },
  {
   "metadata": {
    "ExecuteTime": {
     "end_time": "2025-02-05T15:40:37.685280Z",
     "start_time": "2025-02-05T15:40:37.663763Z"
    }
   },
   "cell_type": "code",
   "source": [
    "df = pd.DataFrame(\n",
    "\tdata=[('Márcio', 35, 'Economista'), ('Patrícia', 34, 'Professora')],\n",
    "\tcolumns=['Nome', 'Idade', 'Profissão']\n",
    ")\n",
    "df"
   ],
   "id": "e932a3720d23ec40",
   "outputs": [
    {
     "data": {
      "text/plain": [
       "       Nome  Idade   Profissão\n",
       "0    Márcio     35  Economista\n",
       "1  Patrícia     34  Professora"
      ],
      "text/html": [
       "<div>\n",
       "<style scoped>\n",
       "    .dataframe tbody tr th:only-of-type {\n",
       "        vertical-align: middle;\n",
       "    }\n",
       "\n",
       "    .dataframe tbody tr th {\n",
       "        vertical-align: top;\n",
       "    }\n",
       "\n",
       "    .dataframe thead th {\n",
       "        text-align: right;\n",
       "    }\n",
       "</style>\n",
       "<table border=\"1\" class=\"dataframe\">\n",
       "  <thead>\n",
       "    <tr style=\"text-align: right;\">\n",
       "      <th></th>\n",
       "      <th>Nome</th>\n",
       "      <th>Idade</th>\n",
       "      <th>Profissão</th>\n",
       "    </tr>\n",
       "  </thead>\n",
       "  <tbody>\n",
       "    <tr>\n",
       "      <th>0</th>\n",
       "      <td>Márcio</td>\n",
       "      <td>35</td>\n",
       "      <td>Economista</td>\n",
       "    </tr>\n",
       "    <tr>\n",
       "      <th>1</th>\n",
       "      <td>Patrícia</td>\n",
       "      <td>34</td>\n",
       "      <td>Professora</td>\n",
       "    </tr>\n",
       "  </tbody>\n",
       "</table>\n",
       "</div>"
      ]
     },
     "execution_count": 9,
     "metadata": {},
     "output_type": "execute_result"
    }
   ],
   "execution_count": 9
  },
  {
   "metadata": {},
   "cell_type": "markdown",
   "source": "4. Extraia os índices de um `DataFrame` e os transforme em uma lista.",
   "id": "e379401d782a7b9"
  },
  {
   "metadata": {
    "ExecuteTime": {
     "end_time": "2025-02-05T15:43:33.726890Z",
     "start_time": "2025-02-05T15:43:33.716433Z"
    }
   },
   "cell_type": "code",
   "source": [
    "indices = [x for x in df.index]\n",
    "print(indices)"
   ],
   "id": "ab2aaf8471613796",
   "outputs": [
    {
     "name": "stdout",
     "output_type": "stream",
     "text": [
      "[0, 1]\n"
     ]
    }
   ],
   "execution_count": 10
  },
  {
   "metadata": {},
   "cell_type": "markdown",
   "source": "5. Crie um `MultiIndex` a partir de duas listas: uma com nomes de cidades e outra com anos.",
   "id": "6260d3e8304bc870"
  },
  {
   "metadata": {
    "ExecuteTime": {
     "end_time": "2025-02-05T15:53:29.716941Z",
     "start_time": "2025-02-05T15:53:29.687349Z"
    }
   },
   "cell_type": "code",
   "source": [
    "lista_cidades = ['Canoas', 'Porto Alegre', 'Caxias do Sul']\n",
    "lista_anos = [2020, 2021, 2022, 2023, 2024, 2025]\n",
    "lista_valores = [randint(1, 20) for x in range(1, len(lista_cidades) * len(lista_anos) + 1)]\n",
    "\n",
    "index = pd.MultiIndex.from_tuples(product(lista_cidades, lista_anos))\n",
    "\n",
    "df_2 = pd.DataFrame(\n",
    "\tdata=lista_valores,\n",
    "\tindex=index,\n",
    "\tcolumns=['Valores']\n",
    ")\n",
    "df_2"
   ],
   "id": "9a971023614d6d56",
   "outputs": [
    {
     "data": {
      "text/plain": [
       "                    Valores\n",
       "Canoas        2020       20\n",
       "              2021        9\n",
       "              2022        2\n",
       "              2023       15\n",
       "              2024       18\n",
       "              2025       14\n",
       "Porto Alegre  2020        4\n",
       "              2021       19\n",
       "              2022       13\n",
       "              2023        1\n",
       "              2024        5\n",
       "              2025       10\n",
       "Caxias do Sul 2020       11\n",
       "              2021        1\n",
       "              2022       14\n",
       "              2023        3\n",
       "              2024        8\n",
       "              2025       12"
      ],
      "text/html": [
       "<div>\n",
       "<style scoped>\n",
       "    .dataframe tbody tr th:only-of-type {\n",
       "        vertical-align: middle;\n",
       "    }\n",
       "\n",
       "    .dataframe tbody tr th {\n",
       "        vertical-align: top;\n",
       "    }\n",
       "\n",
       "    .dataframe thead th {\n",
       "        text-align: right;\n",
       "    }\n",
       "</style>\n",
       "<table border=\"1\" class=\"dataframe\">\n",
       "  <thead>\n",
       "    <tr style=\"text-align: right;\">\n",
       "      <th></th>\n",
       "      <th></th>\n",
       "      <th>Valores</th>\n",
       "    </tr>\n",
       "  </thead>\n",
       "  <tbody>\n",
       "    <tr>\n",
       "      <th rowspan=\"6\" valign=\"top\">Canoas</th>\n",
       "      <th>2020</th>\n",
       "      <td>20</td>\n",
       "    </tr>\n",
       "    <tr>\n",
       "      <th>2021</th>\n",
       "      <td>9</td>\n",
       "    </tr>\n",
       "    <tr>\n",
       "      <th>2022</th>\n",
       "      <td>2</td>\n",
       "    </tr>\n",
       "    <tr>\n",
       "      <th>2023</th>\n",
       "      <td>15</td>\n",
       "    </tr>\n",
       "    <tr>\n",
       "      <th>2024</th>\n",
       "      <td>18</td>\n",
       "    </tr>\n",
       "    <tr>\n",
       "      <th>2025</th>\n",
       "      <td>14</td>\n",
       "    </tr>\n",
       "    <tr>\n",
       "      <th rowspan=\"6\" valign=\"top\">Porto Alegre</th>\n",
       "      <th>2020</th>\n",
       "      <td>4</td>\n",
       "    </tr>\n",
       "    <tr>\n",
       "      <th>2021</th>\n",
       "      <td>19</td>\n",
       "    </tr>\n",
       "    <tr>\n",
       "      <th>2022</th>\n",
       "      <td>13</td>\n",
       "    </tr>\n",
       "    <tr>\n",
       "      <th>2023</th>\n",
       "      <td>1</td>\n",
       "    </tr>\n",
       "    <tr>\n",
       "      <th>2024</th>\n",
       "      <td>5</td>\n",
       "    </tr>\n",
       "    <tr>\n",
       "      <th>2025</th>\n",
       "      <td>10</td>\n",
       "    </tr>\n",
       "    <tr>\n",
       "      <th rowspan=\"6\" valign=\"top\">Caxias do Sul</th>\n",
       "      <th>2020</th>\n",
       "      <td>11</td>\n",
       "    </tr>\n",
       "    <tr>\n",
       "      <th>2021</th>\n",
       "      <td>1</td>\n",
       "    </tr>\n",
       "    <tr>\n",
       "      <th>2022</th>\n",
       "      <td>14</td>\n",
       "    </tr>\n",
       "    <tr>\n",
       "      <th>2023</th>\n",
       "      <td>3</td>\n",
       "    </tr>\n",
       "    <tr>\n",
       "      <th>2024</th>\n",
       "      <td>8</td>\n",
       "    </tr>\n",
       "    <tr>\n",
       "      <th>2025</th>\n",
       "      <td>12</td>\n",
       "    </tr>\n",
       "  </tbody>\n",
       "</table>\n",
       "</div>"
      ]
     },
     "execution_count": 22,
     "metadata": {},
     "output_type": "execute_result"
    }
   ],
   "execution_count": 22
  },
  {
   "metadata": {},
   "cell_type": "markdown",
   "source": "6. Crie um `DataFrame` usando um `MultiIndex` e preencha com valores numéricos aleatórios.",
   "id": "ada1c373d760a91b"
  },
  {
   "metadata": {
    "ExecuteTime": {
     "end_time": "2025-02-05T15:54:28.794061Z",
     "start_time": "2025-02-05T15:54:28.773374Z"
    }
   },
   "cell_type": "code",
   "source": [
    "lista_cidades = ['Canoas', 'Porto Alegre', 'Caxias do Sul']\n",
    "lista_anos = [2020, 2021, 2022, 2023, 2024, 2025]\n",
    "lista_valores = [randint(1, 20) for x in range(1, len(lista_cidades) * len(lista_anos) + 1)]\n",
    "\n",
    "index = pd.MultiIndex.from_tuples(product(lista_cidades, lista_anos))\n",
    "\n",
    "df_2 = pd.DataFrame(\n",
    "\tdata=lista_valores,\n",
    "\tindex=index,\n",
    "\tcolumns=['Valores']\n",
    ")\n",
    "df_2"
   ],
   "id": "c9f2dffe4dffcf83",
   "outputs": [
    {
     "data": {
      "text/plain": [
       "                    Valores\n",
       "Canoas        2020       18\n",
       "              2021       10\n",
       "              2022       16\n",
       "              2023        3\n",
       "              2024       12\n",
       "              2025       17\n",
       "Porto Alegre  2020        3\n",
       "              2021        5\n",
       "              2022        6\n",
       "              2023       17\n",
       "              2024        3\n",
       "              2025       14\n",
       "Caxias do Sul 2020       13\n",
       "              2021       10\n",
       "              2022       20\n",
       "              2023       13\n",
       "              2024        7\n",
       "              2025       19"
      ],
      "text/html": [
       "<div>\n",
       "<style scoped>\n",
       "    .dataframe tbody tr th:only-of-type {\n",
       "        vertical-align: middle;\n",
       "    }\n",
       "\n",
       "    .dataframe tbody tr th {\n",
       "        vertical-align: top;\n",
       "    }\n",
       "\n",
       "    .dataframe thead th {\n",
       "        text-align: right;\n",
       "    }\n",
       "</style>\n",
       "<table border=\"1\" class=\"dataframe\">\n",
       "  <thead>\n",
       "    <tr style=\"text-align: right;\">\n",
       "      <th></th>\n",
       "      <th></th>\n",
       "      <th>Valores</th>\n",
       "    </tr>\n",
       "  </thead>\n",
       "  <tbody>\n",
       "    <tr>\n",
       "      <th rowspan=\"6\" valign=\"top\">Canoas</th>\n",
       "      <th>2020</th>\n",
       "      <td>18</td>\n",
       "    </tr>\n",
       "    <tr>\n",
       "      <th>2021</th>\n",
       "      <td>10</td>\n",
       "    </tr>\n",
       "    <tr>\n",
       "      <th>2022</th>\n",
       "      <td>16</td>\n",
       "    </tr>\n",
       "    <tr>\n",
       "      <th>2023</th>\n",
       "      <td>3</td>\n",
       "    </tr>\n",
       "    <tr>\n",
       "      <th>2024</th>\n",
       "      <td>12</td>\n",
       "    </tr>\n",
       "    <tr>\n",
       "      <th>2025</th>\n",
       "      <td>17</td>\n",
       "    </tr>\n",
       "    <tr>\n",
       "      <th rowspan=\"6\" valign=\"top\">Porto Alegre</th>\n",
       "      <th>2020</th>\n",
       "      <td>3</td>\n",
       "    </tr>\n",
       "    <tr>\n",
       "      <th>2021</th>\n",
       "      <td>5</td>\n",
       "    </tr>\n",
       "    <tr>\n",
       "      <th>2022</th>\n",
       "      <td>6</td>\n",
       "    </tr>\n",
       "    <tr>\n",
       "      <th>2023</th>\n",
       "      <td>17</td>\n",
       "    </tr>\n",
       "    <tr>\n",
       "      <th>2024</th>\n",
       "      <td>3</td>\n",
       "    </tr>\n",
       "    <tr>\n",
       "      <th>2025</th>\n",
       "      <td>14</td>\n",
       "    </tr>\n",
       "    <tr>\n",
       "      <th rowspan=\"6\" valign=\"top\">Caxias do Sul</th>\n",
       "      <th>2020</th>\n",
       "      <td>13</td>\n",
       "    </tr>\n",
       "    <tr>\n",
       "      <th>2021</th>\n",
       "      <td>10</td>\n",
       "    </tr>\n",
       "    <tr>\n",
       "      <th>2022</th>\n",
       "      <td>20</td>\n",
       "    </tr>\n",
       "    <tr>\n",
       "      <th>2023</th>\n",
       "      <td>13</td>\n",
       "    </tr>\n",
       "    <tr>\n",
       "      <th>2024</th>\n",
       "      <td>7</td>\n",
       "    </tr>\n",
       "    <tr>\n",
       "      <th>2025</th>\n",
       "      <td>19</td>\n",
       "    </tr>\n",
       "  </tbody>\n",
       "</table>\n",
       "</div>"
      ]
     },
     "execution_count": 23,
     "metadata": {},
     "output_type": "execute_result"
    }
   ],
   "execution_count": 23
  },
  {
   "metadata": {},
   "cell_type": "markdown",
   "source": "7. Converta um `MultiIndex` em colunas de um `DataFrame` e depois volte para `MultiIndex`.",
   "id": "f1ed10218e58c789"
  },
  {
   "metadata": {
    "ExecuteTime": {
     "end_time": "2025-02-05T19:19:11.903227Z",
     "start_time": "2025-02-05T19:19:11.878592Z"
    }
   },
   "cell_type": "code",
   "source": [
    "lista_cidades = ['Canoas', 'Porto Alegre', 'Caxias do Sul']\n",
    "lista_anos = [2020, 2021, 2022, 2023, 2024, 2025]\n",
    "lista_valores = [randint(1, 20) for x in range(1, len(lista_cidades) * len(lista_anos) + 1)]\n",
    "\n",
    "index = pd.MultiIndex.from_tuples(product(lista_cidades, lista_anos))\n",
    "\n",
    "df_2 = pd.DataFrame(\n",
    "\tdata=lista_valores,\n",
    "\tindex=index,\n",
    "\tcolumns=['Valores']\n",
    ")\n",
    "df_2"
   ],
   "id": "15204a3cc653511e",
   "outputs": [
    {
     "data": {
      "text/plain": [
       "                    Valores\n",
       "Canoas        2020        2\n",
       "              2021        2\n",
       "              2022       18\n",
       "              2023       18\n",
       "              2024       20\n",
       "              2025        9\n",
       "Porto Alegre  2020       10\n",
       "              2021        9\n",
       "              2022        7\n",
       "              2023       19\n",
       "              2024       14\n",
       "              2025        4\n",
       "Caxias do Sul 2020        6\n",
       "              2021       14\n",
       "              2022       14\n",
       "              2023        7\n",
       "              2024       20\n",
       "              2025       14"
      ],
      "text/html": [
       "<div>\n",
       "<style scoped>\n",
       "    .dataframe tbody tr th:only-of-type {\n",
       "        vertical-align: middle;\n",
       "    }\n",
       "\n",
       "    .dataframe tbody tr th {\n",
       "        vertical-align: top;\n",
       "    }\n",
       "\n",
       "    .dataframe thead th {\n",
       "        text-align: right;\n",
       "    }\n",
       "</style>\n",
       "<table border=\"1\" class=\"dataframe\">\n",
       "  <thead>\n",
       "    <tr style=\"text-align: right;\">\n",
       "      <th></th>\n",
       "      <th></th>\n",
       "      <th>Valores</th>\n",
       "    </tr>\n",
       "  </thead>\n",
       "  <tbody>\n",
       "    <tr>\n",
       "      <th rowspan=\"6\" valign=\"top\">Canoas</th>\n",
       "      <th>2020</th>\n",
       "      <td>2</td>\n",
       "    </tr>\n",
       "    <tr>\n",
       "      <th>2021</th>\n",
       "      <td>2</td>\n",
       "    </tr>\n",
       "    <tr>\n",
       "      <th>2022</th>\n",
       "      <td>18</td>\n",
       "    </tr>\n",
       "    <tr>\n",
       "      <th>2023</th>\n",
       "      <td>18</td>\n",
       "    </tr>\n",
       "    <tr>\n",
       "      <th>2024</th>\n",
       "      <td>20</td>\n",
       "    </tr>\n",
       "    <tr>\n",
       "      <th>2025</th>\n",
       "      <td>9</td>\n",
       "    </tr>\n",
       "    <tr>\n",
       "      <th rowspan=\"6\" valign=\"top\">Porto Alegre</th>\n",
       "      <th>2020</th>\n",
       "      <td>10</td>\n",
       "    </tr>\n",
       "    <tr>\n",
       "      <th>2021</th>\n",
       "      <td>9</td>\n",
       "    </tr>\n",
       "    <tr>\n",
       "      <th>2022</th>\n",
       "      <td>7</td>\n",
       "    </tr>\n",
       "    <tr>\n",
       "      <th>2023</th>\n",
       "      <td>19</td>\n",
       "    </tr>\n",
       "    <tr>\n",
       "      <th>2024</th>\n",
       "      <td>14</td>\n",
       "    </tr>\n",
       "    <tr>\n",
       "      <th>2025</th>\n",
       "      <td>4</td>\n",
       "    </tr>\n",
       "    <tr>\n",
       "      <th rowspan=\"6\" valign=\"top\">Caxias do Sul</th>\n",
       "      <th>2020</th>\n",
       "      <td>6</td>\n",
       "    </tr>\n",
       "    <tr>\n",
       "      <th>2021</th>\n",
       "      <td>14</td>\n",
       "    </tr>\n",
       "    <tr>\n",
       "      <th>2022</th>\n",
       "      <td>14</td>\n",
       "    </tr>\n",
       "    <tr>\n",
       "      <th>2023</th>\n",
       "      <td>7</td>\n",
       "    </tr>\n",
       "    <tr>\n",
       "      <th>2024</th>\n",
       "      <td>20</td>\n",
       "    </tr>\n",
       "    <tr>\n",
       "      <th>2025</th>\n",
       "      <td>14</td>\n",
       "    </tr>\n",
       "  </tbody>\n",
       "</table>\n",
       "</div>"
      ]
     },
     "execution_count": 7,
     "metadata": {},
     "output_type": "execute_result"
    }
   ],
   "execution_count": 7
  },
  {
   "metadata": {
    "ExecuteTime": {
     "end_time": "2025-02-05T19:19:14.578204Z",
     "start_time": "2025-02-05T19:19:14.559053Z"
    }
   },
   "cell_type": "code",
   "source": [
    "df_2 = df_2.reset_index()\n",
    "df_2"
   ],
   "id": "663a1870ffa7aed3",
   "outputs": [
    {
     "data": {
      "text/plain": [
       "          level_0  level_1  Valores\n",
       "0          Canoas     2020        2\n",
       "1          Canoas     2021        2\n",
       "2          Canoas     2022       18\n",
       "3          Canoas     2023       18\n",
       "4          Canoas     2024       20\n",
       "5          Canoas     2025        9\n",
       "6    Porto Alegre     2020       10\n",
       "7    Porto Alegre     2021        9\n",
       "8    Porto Alegre     2022        7\n",
       "9    Porto Alegre     2023       19\n",
       "10   Porto Alegre     2024       14\n",
       "11   Porto Alegre     2025        4\n",
       "12  Caxias do Sul     2020        6\n",
       "13  Caxias do Sul     2021       14\n",
       "14  Caxias do Sul     2022       14\n",
       "15  Caxias do Sul     2023        7\n",
       "16  Caxias do Sul     2024       20\n",
       "17  Caxias do Sul     2025       14"
      ],
      "text/html": [
       "<div>\n",
       "<style scoped>\n",
       "    .dataframe tbody tr th:only-of-type {\n",
       "        vertical-align: middle;\n",
       "    }\n",
       "\n",
       "    .dataframe tbody tr th {\n",
       "        vertical-align: top;\n",
       "    }\n",
       "\n",
       "    .dataframe thead th {\n",
       "        text-align: right;\n",
       "    }\n",
       "</style>\n",
       "<table border=\"1\" class=\"dataframe\">\n",
       "  <thead>\n",
       "    <tr style=\"text-align: right;\">\n",
       "      <th></th>\n",
       "      <th>level_0</th>\n",
       "      <th>level_1</th>\n",
       "      <th>Valores</th>\n",
       "    </tr>\n",
       "  </thead>\n",
       "  <tbody>\n",
       "    <tr>\n",
       "      <th>0</th>\n",
       "      <td>Canoas</td>\n",
       "      <td>2020</td>\n",
       "      <td>2</td>\n",
       "    </tr>\n",
       "    <tr>\n",
       "      <th>1</th>\n",
       "      <td>Canoas</td>\n",
       "      <td>2021</td>\n",
       "      <td>2</td>\n",
       "    </tr>\n",
       "    <tr>\n",
       "      <th>2</th>\n",
       "      <td>Canoas</td>\n",
       "      <td>2022</td>\n",
       "      <td>18</td>\n",
       "    </tr>\n",
       "    <tr>\n",
       "      <th>3</th>\n",
       "      <td>Canoas</td>\n",
       "      <td>2023</td>\n",
       "      <td>18</td>\n",
       "    </tr>\n",
       "    <tr>\n",
       "      <th>4</th>\n",
       "      <td>Canoas</td>\n",
       "      <td>2024</td>\n",
       "      <td>20</td>\n",
       "    </tr>\n",
       "    <tr>\n",
       "      <th>5</th>\n",
       "      <td>Canoas</td>\n",
       "      <td>2025</td>\n",
       "      <td>9</td>\n",
       "    </tr>\n",
       "    <tr>\n",
       "      <th>6</th>\n",
       "      <td>Porto Alegre</td>\n",
       "      <td>2020</td>\n",
       "      <td>10</td>\n",
       "    </tr>\n",
       "    <tr>\n",
       "      <th>7</th>\n",
       "      <td>Porto Alegre</td>\n",
       "      <td>2021</td>\n",
       "      <td>9</td>\n",
       "    </tr>\n",
       "    <tr>\n",
       "      <th>8</th>\n",
       "      <td>Porto Alegre</td>\n",
       "      <td>2022</td>\n",
       "      <td>7</td>\n",
       "    </tr>\n",
       "    <tr>\n",
       "      <th>9</th>\n",
       "      <td>Porto Alegre</td>\n",
       "      <td>2023</td>\n",
       "      <td>19</td>\n",
       "    </tr>\n",
       "    <tr>\n",
       "      <th>10</th>\n",
       "      <td>Porto Alegre</td>\n",
       "      <td>2024</td>\n",
       "      <td>14</td>\n",
       "    </tr>\n",
       "    <tr>\n",
       "      <th>11</th>\n",
       "      <td>Porto Alegre</td>\n",
       "      <td>2025</td>\n",
       "      <td>4</td>\n",
       "    </tr>\n",
       "    <tr>\n",
       "      <th>12</th>\n",
       "      <td>Caxias do Sul</td>\n",
       "      <td>2020</td>\n",
       "      <td>6</td>\n",
       "    </tr>\n",
       "    <tr>\n",
       "      <th>13</th>\n",
       "      <td>Caxias do Sul</td>\n",
       "      <td>2021</td>\n",
       "      <td>14</td>\n",
       "    </tr>\n",
       "    <tr>\n",
       "      <th>14</th>\n",
       "      <td>Caxias do Sul</td>\n",
       "      <td>2022</td>\n",
       "      <td>14</td>\n",
       "    </tr>\n",
       "    <tr>\n",
       "      <th>15</th>\n",
       "      <td>Caxias do Sul</td>\n",
       "      <td>2023</td>\n",
       "      <td>7</td>\n",
       "    </tr>\n",
       "    <tr>\n",
       "      <th>16</th>\n",
       "      <td>Caxias do Sul</td>\n",
       "      <td>2024</td>\n",
       "      <td>20</td>\n",
       "    </tr>\n",
       "    <tr>\n",
       "      <th>17</th>\n",
       "      <td>Caxias do Sul</td>\n",
       "      <td>2025</td>\n",
       "      <td>14</td>\n",
       "    </tr>\n",
       "  </tbody>\n",
       "</table>\n",
       "</div>"
      ]
     },
     "execution_count": 8,
     "metadata": {},
     "output_type": "execute_result"
    }
   ],
   "execution_count": 8
  },
  {
   "metadata": {
    "ExecuteTime": {
     "end_time": "2025-02-05T19:22:59.654253Z",
     "start_time": "2025-02-05T19:22:59.630815Z"
    }
   },
   "cell_type": "code",
   "source": [
    "index_2 = pd.MultiIndex.from_frame(df_2[['level_0', 'level_1']])\n",
    "\n",
    "df_2 = pd.DataFrame(data=df_2['Valores'].to_list(), index=index_2, columns=['Valores'])\n",
    "df_2"
   ],
   "id": "42e8f0dc84de4c28",
   "outputs": [
    {
     "data": {
      "text/plain": [
       "                       Valores\n",
       "level_0       level_1         \n",
       "Canoas        2020           2\n",
       "              2021           2\n",
       "              2022          18\n",
       "              2023          18\n",
       "              2024          20\n",
       "              2025           9\n",
       "Porto Alegre  2020          10\n",
       "              2021           9\n",
       "              2022           7\n",
       "              2023          19\n",
       "              2024          14\n",
       "              2025           4\n",
       "Caxias do Sul 2020           6\n",
       "              2021          14\n",
       "              2022          14\n",
       "              2023           7\n",
       "              2024          20\n",
       "              2025          14"
      ],
      "text/html": [
       "<div>\n",
       "<style scoped>\n",
       "    .dataframe tbody tr th:only-of-type {\n",
       "        vertical-align: middle;\n",
       "    }\n",
       "\n",
       "    .dataframe tbody tr th {\n",
       "        vertical-align: top;\n",
       "    }\n",
       "\n",
       "    .dataframe thead th {\n",
       "        text-align: right;\n",
       "    }\n",
       "</style>\n",
       "<table border=\"1\" class=\"dataframe\">\n",
       "  <thead>\n",
       "    <tr style=\"text-align: right;\">\n",
       "      <th></th>\n",
       "      <th></th>\n",
       "      <th>Valores</th>\n",
       "    </tr>\n",
       "    <tr>\n",
       "      <th>level_0</th>\n",
       "      <th>level_1</th>\n",
       "      <th></th>\n",
       "    </tr>\n",
       "  </thead>\n",
       "  <tbody>\n",
       "    <tr>\n",
       "      <th rowspan=\"6\" valign=\"top\">Canoas</th>\n",
       "      <th>2020</th>\n",
       "      <td>2</td>\n",
       "    </tr>\n",
       "    <tr>\n",
       "      <th>2021</th>\n",
       "      <td>2</td>\n",
       "    </tr>\n",
       "    <tr>\n",
       "      <th>2022</th>\n",
       "      <td>18</td>\n",
       "    </tr>\n",
       "    <tr>\n",
       "      <th>2023</th>\n",
       "      <td>18</td>\n",
       "    </tr>\n",
       "    <tr>\n",
       "      <th>2024</th>\n",
       "      <td>20</td>\n",
       "    </tr>\n",
       "    <tr>\n",
       "      <th>2025</th>\n",
       "      <td>9</td>\n",
       "    </tr>\n",
       "    <tr>\n",
       "      <th rowspan=\"6\" valign=\"top\">Porto Alegre</th>\n",
       "      <th>2020</th>\n",
       "      <td>10</td>\n",
       "    </tr>\n",
       "    <tr>\n",
       "      <th>2021</th>\n",
       "      <td>9</td>\n",
       "    </tr>\n",
       "    <tr>\n",
       "      <th>2022</th>\n",
       "      <td>7</td>\n",
       "    </tr>\n",
       "    <tr>\n",
       "      <th>2023</th>\n",
       "      <td>19</td>\n",
       "    </tr>\n",
       "    <tr>\n",
       "      <th>2024</th>\n",
       "      <td>14</td>\n",
       "    </tr>\n",
       "    <tr>\n",
       "      <th>2025</th>\n",
       "      <td>4</td>\n",
       "    </tr>\n",
       "    <tr>\n",
       "      <th rowspan=\"6\" valign=\"top\">Caxias do Sul</th>\n",
       "      <th>2020</th>\n",
       "      <td>6</td>\n",
       "    </tr>\n",
       "    <tr>\n",
       "      <th>2021</th>\n",
       "      <td>14</td>\n",
       "    </tr>\n",
       "    <tr>\n",
       "      <th>2022</th>\n",
       "      <td>14</td>\n",
       "    </tr>\n",
       "    <tr>\n",
       "      <th>2023</th>\n",
       "      <td>7</td>\n",
       "    </tr>\n",
       "    <tr>\n",
       "      <th>2024</th>\n",
       "      <td>20</td>\n",
       "    </tr>\n",
       "    <tr>\n",
       "      <th>2025</th>\n",
       "      <td>14</td>\n",
       "    </tr>\n",
       "  </tbody>\n",
       "</table>\n",
       "</div>"
      ]
     },
     "execution_count": 11,
     "metadata": {},
     "output_type": "execute_result"
    }
   ],
   "execution_count": 11
  },
  {
   "metadata": {},
   "cell_type": "markdown",
   "source": [
    "## **1.2 Criando DataFrames (`dict`, `listas`, `arrays`, `csv`, `json`, `excel`, `sql`)**\n",
    "\n",
    "8. Crie um `DataFrame` a partir de um dicionário contendo os nomes de três produtos, seus preços e quantidades em estoque."
   ],
   "id": "e8a1a3aab41dfa2c"
  },
  {
   "metadata": {
    "ExecuteTime": {
     "end_time": "2025-02-06T17:58:51.484580Z",
     "start_time": "2025-02-06T17:58:51.437468Z"
    }
   },
   "cell_type": "code",
   "source": [
    "dicionario = {\n",
    "\t\"Produtos\": ['Tomate', 'Batata inglesa', 'Cebola'],\n",
    "\t\"Preços\": [2.00, 2.20, 2.00],\n",
    "\t\"Quantidade\": [200, 100, 150]\n",
    "}\n",
    "\n",
    "df = pd.DataFrame.from_dict(dicionario)\n",
    "df"
   ],
   "id": "8a9d3828a2b20a79",
   "outputs": [
    {
     "data": {
      "text/plain": [
       "         Produtos  Preços  Quantidade\n",
       "0          Tomate     2.0         200\n",
       "1  Batata inglesa     2.2         100\n",
       "2          Cebola     2.0         150"
      ],
      "text/html": [
       "<div>\n",
       "<style scoped>\n",
       "    .dataframe tbody tr th:only-of-type {\n",
       "        vertical-align: middle;\n",
       "    }\n",
       "\n",
       "    .dataframe tbody tr th {\n",
       "        vertical-align: top;\n",
       "    }\n",
       "\n",
       "    .dataframe thead th {\n",
       "        text-align: right;\n",
       "    }\n",
       "</style>\n",
       "<table border=\"1\" class=\"dataframe\">\n",
       "  <thead>\n",
       "    <tr style=\"text-align: right;\">\n",
       "      <th></th>\n",
       "      <th>Produtos</th>\n",
       "      <th>Preços</th>\n",
       "      <th>Quantidade</th>\n",
       "    </tr>\n",
       "  </thead>\n",
       "  <tbody>\n",
       "    <tr>\n",
       "      <th>0</th>\n",
       "      <td>Tomate</td>\n",
       "      <td>2.0</td>\n",
       "      <td>200</td>\n",
       "    </tr>\n",
       "    <tr>\n",
       "      <th>1</th>\n",
       "      <td>Batata inglesa</td>\n",
       "      <td>2.2</td>\n",
       "      <td>100</td>\n",
       "    </tr>\n",
       "    <tr>\n",
       "      <th>2</th>\n",
       "      <td>Cebola</td>\n",
       "      <td>2.0</td>\n",
       "      <td>150</td>\n",
       "    </tr>\n",
       "  </tbody>\n",
       "</table>\n",
       "</div>"
      ]
     },
     "execution_count": 2,
     "metadata": {},
     "output_type": "execute_result"
    }
   ],
   "execution_count": 2
  },
  {
   "metadata": {},
   "cell_type": "markdown",
   "source": "9. Utilize `numpy` para criar um `DataFrame` contendo uma matriz 5x3 de números aleatórios.",
   "id": "7a5fef1d739c1d97"
  },
  {
   "metadata": {
    "ExecuteTime": {
     "end_time": "2025-02-16T12:17:42.106665Z",
     "start_time": "2025-02-16T12:17:42.089584Z"
    }
   },
   "cell_type": "code",
   "source": [
    "import numpy as np\n",
    "import pandas as pd\n",
    "\n",
    "x = np.array([[1, 2, 3], [2, 3, 4], [6, 5, 4], [8, 7, 7], [6, 9, 3]], dtype='int')\n",
    "x = pd.DataFrame(x)\n",
    "x = x.rename(columns={0: 'A', 1: 'B', 2: 'C'})\n",
    "x"
   ],
   "id": "cda8d233ab55fe93",
   "outputs": [
    {
     "data": {
      "text/plain": [
       "   A  B  C\n",
       "0  1  2  3\n",
       "1  2  3  4\n",
       "2  6  5  4\n",
       "3  8  7  7\n",
       "4  6  9  3"
      ],
      "text/html": [
       "<div>\n",
       "<style scoped>\n",
       "    .dataframe tbody tr th:only-of-type {\n",
       "        vertical-align: middle;\n",
       "    }\n",
       "\n",
       "    .dataframe tbody tr th {\n",
       "        vertical-align: top;\n",
       "    }\n",
       "\n",
       "    .dataframe thead th {\n",
       "        text-align: right;\n",
       "    }\n",
       "</style>\n",
       "<table border=\"1\" class=\"dataframe\">\n",
       "  <thead>\n",
       "    <tr style=\"text-align: right;\">\n",
       "      <th></th>\n",
       "      <th>A</th>\n",
       "      <th>B</th>\n",
       "      <th>C</th>\n",
       "    </tr>\n",
       "  </thead>\n",
       "  <tbody>\n",
       "    <tr>\n",
       "      <th>0</th>\n",
       "      <td>1</td>\n",
       "      <td>2</td>\n",
       "      <td>3</td>\n",
       "    </tr>\n",
       "    <tr>\n",
       "      <th>1</th>\n",
       "      <td>2</td>\n",
       "      <td>3</td>\n",
       "      <td>4</td>\n",
       "    </tr>\n",
       "    <tr>\n",
       "      <th>2</th>\n",
       "      <td>6</td>\n",
       "      <td>5</td>\n",
       "      <td>4</td>\n",
       "    </tr>\n",
       "    <tr>\n",
       "      <th>3</th>\n",
       "      <td>8</td>\n",
       "      <td>7</td>\n",
       "      <td>7</td>\n",
       "    </tr>\n",
       "    <tr>\n",
       "      <th>4</th>\n",
       "      <td>6</td>\n",
       "      <td>9</td>\n",
       "      <td>3</td>\n",
       "    </tr>\n",
       "  </tbody>\n",
       "</table>\n",
       "</div>"
      ]
     },
     "execution_count": 8,
     "metadata": {},
     "output_type": "execute_result"
    }
   ],
   "execution_count": 8
  },
  {
   "metadata": {},
   "cell_type": "markdown",
   "source": "10. Leia um arquivo CSV contendo informações sobre vendas e exiba as cinco primeiras linhas.",
   "id": "d70bf42c6e16fadc"
  },
  {
   "metadata": {
    "ExecuteTime": {
     "end_time": "2025-02-16T12:22:22.723101Z",
     "start_time": "2025-02-16T12:22:22.704404Z"
    }
   },
   "cell_type": "code",
   "source": [
    "vendas = pd.read_csv('auxiliar/vendas.csv')\n",
    "vendas.head(5)"
   ],
   "id": "43e4041067e0961",
   "outputs": [
    {
     "data": {
      "text/plain": [
       "         Data Produto  Valor\n",
       "0  2022-02-02  Tomate    2.0\n",
       "1  2022-02-03  Batata    3.0\n",
       "2  2022-02-04  Cebola    2.0\n",
       "3  2022-02-05  Tomate    4.0\n",
       "4  2022-02-02  Batata    3.0"
      ],
      "text/html": [
       "<div>\n",
       "<style scoped>\n",
       "    .dataframe tbody tr th:only-of-type {\n",
       "        vertical-align: middle;\n",
       "    }\n",
       "\n",
       "    .dataframe tbody tr th {\n",
       "        vertical-align: top;\n",
       "    }\n",
       "\n",
       "    .dataframe thead th {\n",
       "        text-align: right;\n",
       "    }\n",
       "</style>\n",
       "<table border=\"1\" class=\"dataframe\">\n",
       "  <thead>\n",
       "    <tr style=\"text-align: right;\">\n",
       "      <th></th>\n",
       "      <th>Data</th>\n",
       "      <th>Produto</th>\n",
       "      <th>Valor</th>\n",
       "    </tr>\n",
       "  </thead>\n",
       "  <tbody>\n",
       "    <tr>\n",
       "      <th>0</th>\n",
       "      <td>2022-02-02</td>\n",
       "      <td>Tomate</td>\n",
       "      <td>2.0</td>\n",
       "    </tr>\n",
       "    <tr>\n",
       "      <th>1</th>\n",
       "      <td>2022-02-03</td>\n",
       "      <td>Batata</td>\n",
       "      <td>3.0</td>\n",
       "    </tr>\n",
       "    <tr>\n",
       "      <th>2</th>\n",
       "      <td>2022-02-04</td>\n",
       "      <td>Cebola</td>\n",
       "      <td>2.0</td>\n",
       "    </tr>\n",
       "    <tr>\n",
       "      <th>3</th>\n",
       "      <td>2022-02-05</td>\n",
       "      <td>Tomate</td>\n",
       "      <td>4.0</td>\n",
       "    </tr>\n",
       "    <tr>\n",
       "      <th>4</th>\n",
       "      <td>2022-02-02</td>\n",
       "      <td>Batata</td>\n",
       "      <td>3.0</td>\n",
       "    </tr>\n",
       "  </tbody>\n",
       "</table>\n",
       "</div>"
      ]
     },
     "execution_count": 10,
     "metadata": {},
     "output_type": "execute_result"
    }
   ],
   "execution_count": 10
  },
  {
   "metadata": {},
   "cell_type": "markdown",
   "source": "11. Salve um `DataFrame` em formato JSON e depois carregue novamente.",
   "id": "c59191a04ed9151b"
  },
  {
   "metadata": {
    "ExecuteTime": {
     "end_time": "2025-02-16T12:23:02.555146Z",
     "start_time": "2025-02-16T12:23:02.545936Z"
    }
   },
   "cell_type": "code",
   "source": "vendas.to_json('auxiliar/vendas.json')",
   "id": "9119b074db7ea7ac",
   "outputs": [],
   "execution_count": 11
  },
  {
   "metadata": {
    "ExecuteTime": {
     "end_time": "2025-02-16T12:23:30.637055Z",
     "start_time": "2025-02-16T12:23:30.588496Z"
    }
   },
   "cell_type": "code",
   "source": [
    "x = pd.read_json('auxiliar/vendas.json')\n",
    "x"
   ],
   "id": "68d70d204122f7d",
   "outputs": [
    {
     "data": {
      "text/plain": [
       "         Data Produto  Valor\n",
       "0  2022-02-02  Tomate    2.0\n",
       "1  2022-02-03  Batata    3.0\n",
       "2  2022-02-04  Cebola    2.0\n",
       "3  2022-02-05  Tomate    4.0\n",
       "4  2022-02-02  Batata    3.0\n",
       "5  2022-02-03  Cebola    2.0\n",
       "6  2022-02-04  Tomate    1.5\n",
       "7  2022-02-05  Batata    1.8\n",
       "8  2022-02-02  Cebola    2.1\n",
       "9  2022-02-02  Tomate    2.2"
      ],
      "text/html": [
       "<div>\n",
       "<style scoped>\n",
       "    .dataframe tbody tr th:only-of-type {\n",
       "        vertical-align: middle;\n",
       "    }\n",
       "\n",
       "    .dataframe tbody tr th {\n",
       "        vertical-align: top;\n",
       "    }\n",
       "\n",
       "    .dataframe thead th {\n",
       "        text-align: right;\n",
       "    }\n",
       "</style>\n",
       "<table border=\"1\" class=\"dataframe\">\n",
       "  <thead>\n",
       "    <tr style=\"text-align: right;\">\n",
       "      <th></th>\n",
       "      <th>Data</th>\n",
       "      <th>Produto</th>\n",
       "      <th>Valor</th>\n",
       "    </tr>\n",
       "  </thead>\n",
       "  <tbody>\n",
       "    <tr>\n",
       "      <th>0</th>\n",
       "      <td>2022-02-02</td>\n",
       "      <td>Tomate</td>\n",
       "      <td>2.0</td>\n",
       "    </tr>\n",
       "    <tr>\n",
       "      <th>1</th>\n",
       "      <td>2022-02-03</td>\n",
       "      <td>Batata</td>\n",
       "      <td>3.0</td>\n",
       "    </tr>\n",
       "    <tr>\n",
       "      <th>2</th>\n",
       "      <td>2022-02-04</td>\n",
       "      <td>Cebola</td>\n",
       "      <td>2.0</td>\n",
       "    </tr>\n",
       "    <tr>\n",
       "      <th>3</th>\n",
       "      <td>2022-02-05</td>\n",
       "      <td>Tomate</td>\n",
       "      <td>4.0</td>\n",
       "    </tr>\n",
       "    <tr>\n",
       "      <th>4</th>\n",
       "      <td>2022-02-02</td>\n",
       "      <td>Batata</td>\n",
       "      <td>3.0</td>\n",
       "    </tr>\n",
       "    <tr>\n",
       "      <th>5</th>\n",
       "      <td>2022-02-03</td>\n",
       "      <td>Cebola</td>\n",
       "      <td>2.0</td>\n",
       "    </tr>\n",
       "    <tr>\n",
       "      <th>6</th>\n",
       "      <td>2022-02-04</td>\n",
       "      <td>Tomate</td>\n",
       "      <td>1.5</td>\n",
       "    </tr>\n",
       "    <tr>\n",
       "      <th>7</th>\n",
       "      <td>2022-02-05</td>\n",
       "      <td>Batata</td>\n",
       "      <td>1.8</td>\n",
       "    </tr>\n",
       "    <tr>\n",
       "      <th>8</th>\n",
       "      <td>2022-02-02</td>\n",
       "      <td>Cebola</td>\n",
       "      <td>2.1</td>\n",
       "    </tr>\n",
       "    <tr>\n",
       "      <th>9</th>\n",
       "      <td>2022-02-02</td>\n",
       "      <td>Tomate</td>\n",
       "      <td>2.2</td>\n",
       "    </tr>\n",
       "  </tbody>\n",
       "</table>\n",
       "</div>"
      ]
     },
     "execution_count": 12,
     "metadata": {},
     "output_type": "execute_result"
    }
   ],
   "execution_count": 12
  },
  {
   "metadata": {},
   "cell_type": "markdown",
   "source": "12. Conecte-se a um banco de dados SQLite e carregue uma tabela como um `DataFrame`.",
   "id": "32f67afec70bd86e"
  },
  {
   "metadata": {
    "ExecuteTime": {
     "end_time": "2025-02-16T12:45:39.989423Z",
     "start_time": "2025-02-16T12:45:39.972212Z"
    }
   },
   "cell_type": "code",
   "source": [
    "import sqlite3 as sql\n",
    "\n",
    "conn = sql.connect('auxiliar/vendas.db')\n",
    "\n",
    "conn.close()"
   ],
   "id": "e048e1a650651d5b",
   "outputs": [],
   "execution_count": 1
  },
  {
   "metadata": {
    "ExecuteTime": {
     "end_time": "2025-02-16T12:45:52.663114Z",
     "start_time": "2025-02-16T12:45:52.630341Z"
    }
   },
   "cell_type": "code",
   "source": [
    "conn = sql.connect('auxiliar/vendas.db')\n",
    "cursor = conn.cursor()\n",
    "\n",
    "cursor.execute(\"\"\"\n",
    "\tCREATE TABLE vendas(\n",
    " \tid INTEGER NOT NULL PRIMARY KEY AUTOINCREMENT,\n",
    "\tdata date NOT NULL,\n",
    "\tproduto varchar(20) NOT NULL,\n",
    "\tvalor real\n",
    "\t);\n",
    "\"\"\")\n",
    "conn.close()"
   ],
   "id": "669a1c0728e05185",
   "outputs": [],
   "execution_count": 2
  },
  {
   "metadata": {
    "ExecuteTime": {
     "end_time": "2025-02-16T12:52:18.755731Z",
     "start_time": "2025-02-16T12:52:18.721388Z"
    }
   },
   "cell_type": "code",
   "source": [
    "conn = sql.connect('auxiliar/vendas.db')\n",
    "cursor = conn.cursor()\n",
    "\n",
    "cursor.execute(\"\"\"INSERT INTO vendas (data, produto, valor) VALUES ('2022-02-02', 'Tomate', 2.90)\"\"\")\n",
    "cursor.execute(\"\"\"INSERT INTO vendas (data, produto, valor) VALUES ('2022-02-02', 'Batata', 2.75)\"\"\")\n",
    "cursor.execute(\"\"\"INSERT INTO vendas (data, produto, valor) VALUES ('2022-02-03', 'Tomate', 2.8)\"\"\")\n",
    "cursor.execute(\"\"\"INSERT INTO vendas (data, produto, valor) VALUES ('2022-02-03', 'Batata', 2.5)\"\"\")\n",
    "cursor.execute(\"\"\"INSERT INTO vendas (data, produto, valor) VALUES ('2022-02-04', 'Tomate', 3.00)\"\"\")\n",
    "\n",
    "conn.commit()\n",
    "conn.close()"
   ],
   "id": "5b70f3a2fc6f76ce",
   "outputs": [],
   "execution_count": 18
  },
  {
   "metadata": {
    "ExecuteTime": {
     "end_time": "2025-02-16T12:54:09.690394Z",
     "start_time": "2025-02-16T12:54:06.086591Z"
    }
   },
   "cell_type": "code",
   "source": [
    "import pandas as pd\n",
    "conn = sql.connect('auxiliar/vendas.db')\n",
    "\n",
    "cursor = conn.cursor()\n",
    "cursor.execute(\"\"\"SELECT * FROM vendas\"\"\")\n",
    "\n",
    "x = cursor.fetchall()\n",
    "\n",
    "x = pd.DataFrame(x)\n",
    "conn.close()\n",
    "\n",
    "x"
   ],
   "id": "c81d339d91b360a0",
   "outputs": [
    {
     "data": {
      "text/plain": [
       "   0           1       2     3\n",
       "0  1  2022-02-02  Tomate  2.90\n",
       "1  2  2022-02-02  Batata  2.75\n",
       "2  3  2022-02-03  Tomate  2.80\n",
       "3  4  2022-02-03  Batata  2.50\n",
       "4  5  2022-02-04  Tomate  3.00"
      ],
      "text/html": [
       "<div>\n",
       "<style scoped>\n",
       "    .dataframe tbody tr th:only-of-type {\n",
       "        vertical-align: middle;\n",
       "    }\n",
       "\n",
       "    .dataframe tbody tr th {\n",
       "        vertical-align: top;\n",
       "    }\n",
       "\n",
       "    .dataframe thead th {\n",
       "        text-align: right;\n",
       "    }\n",
       "</style>\n",
       "<table border=\"1\" class=\"dataframe\">\n",
       "  <thead>\n",
       "    <tr style=\"text-align: right;\">\n",
       "      <th></th>\n",
       "      <th>0</th>\n",
       "      <th>1</th>\n",
       "      <th>2</th>\n",
       "      <th>3</th>\n",
       "    </tr>\n",
       "  </thead>\n",
       "  <tbody>\n",
       "    <tr>\n",
       "      <th>0</th>\n",
       "      <td>1</td>\n",
       "      <td>2022-02-02</td>\n",
       "      <td>Tomate</td>\n",
       "      <td>2.90</td>\n",
       "    </tr>\n",
       "    <tr>\n",
       "      <th>1</th>\n",
       "      <td>2</td>\n",
       "      <td>2022-02-02</td>\n",
       "      <td>Batata</td>\n",
       "      <td>2.75</td>\n",
       "    </tr>\n",
       "    <tr>\n",
       "      <th>2</th>\n",
       "      <td>3</td>\n",
       "      <td>2022-02-03</td>\n",
       "      <td>Tomate</td>\n",
       "      <td>2.80</td>\n",
       "    </tr>\n",
       "    <tr>\n",
       "      <th>3</th>\n",
       "      <td>4</td>\n",
       "      <td>2022-02-03</td>\n",
       "      <td>Batata</td>\n",
       "      <td>2.50</td>\n",
       "    </tr>\n",
       "    <tr>\n",
       "      <th>4</th>\n",
       "      <td>5</td>\n",
       "      <td>2022-02-04</td>\n",
       "      <td>Tomate</td>\n",
       "      <td>3.00</td>\n",
       "    </tr>\n",
       "  </tbody>\n",
       "</table>\n",
       "</div>"
      ]
     },
     "execution_count": 21,
     "metadata": {},
     "output_type": "execute_result"
    }
   ],
   "execution_count": 21
  },
  {
   "metadata": {},
   "cell_type": "markdown",
   "source": "14. Crie um `DataFrame` a partir de uma lista de listas representando notas de alunos em diferentes disciplinas.",
   "id": "3a000e570f8ffdcf"
  },
  {
   "metadata": {
    "ExecuteTime": {
     "end_time": "2025-02-16T13:09:58.632851Z",
     "start_time": "2025-02-16T13:09:58.624142Z"
    }
   },
   "cell_type": "code",
   "source": [
    "import pandas as pd\n",
    "lista_de_listas = [['Tomate',2.3],['Batata inglesa',2.2], ['Cebola',1.8]]\n",
    "lista = pd.DataFrame(lista_de_listas, columns=['Produtos', 'Valor'])\n",
    "\n",
    "lista"
   ],
   "id": "7c5be00e3638b845",
   "outputs": [
    {
     "data": {
      "text/plain": [
       "         Produtos  Valor\n",
       "0          Tomate    2.3\n",
       "1  Batata inglesa    2.2\n",
       "2          Cebola    1.8"
      ],
      "text/html": [
       "<div>\n",
       "<style scoped>\n",
       "    .dataframe tbody tr th:only-of-type {\n",
       "        vertical-align: middle;\n",
       "    }\n",
       "\n",
       "    .dataframe tbody tr th {\n",
       "        vertical-align: top;\n",
       "    }\n",
       "\n",
       "    .dataframe thead th {\n",
       "        text-align: right;\n",
       "    }\n",
       "</style>\n",
       "<table border=\"1\" class=\"dataframe\">\n",
       "  <thead>\n",
       "    <tr style=\"text-align: right;\">\n",
       "      <th></th>\n",
       "      <th>Produtos</th>\n",
       "      <th>Valor</th>\n",
       "    </tr>\n",
       "  </thead>\n",
       "  <tbody>\n",
       "    <tr>\n",
       "      <th>0</th>\n",
       "      <td>Tomate</td>\n",
       "      <td>2.3</td>\n",
       "    </tr>\n",
       "    <tr>\n",
       "      <th>1</th>\n",
       "      <td>Batata inglesa</td>\n",
       "      <td>2.2</td>\n",
       "    </tr>\n",
       "    <tr>\n",
       "      <th>2</th>\n",
       "      <td>Cebola</td>\n",
       "      <td>1.8</td>\n",
       "    </tr>\n",
       "  </tbody>\n",
       "</table>\n",
       "</div>"
      ]
     },
     "execution_count": 23,
     "metadata": {},
     "output_type": "execute_result"
    }
   ],
   "execution_count": 23
  },
  {
   "metadata": {},
   "cell_type": "markdown",
   "source": "13. Escreva um `DataFrame` em um arquivo Excel e depois carregue-o de volta.",
   "id": "2f0ba2d19ae235f8"
  },
  {
   "metadata": {
    "ExecuteTime": {
     "end_time": "2025-02-16T13:14:37.352621Z",
     "start_time": "2025-02-16T13:14:36.846989Z"
    }
   },
   "cell_type": "code",
   "source": [
    "import pandas as pd\n",
    "lista_de_listas = [['Tomate',2.3],['Batata inglesa',2.2], ['Cebola',1.8]]\n",
    "lista = pd.DataFrame(lista_de_listas, columns=['Produtos', 'Valor'])\n",
    "\n",
    "lista.to_excel('auxiliar/vendas.xlsx', index=False)"
   ],
   "id": "6fcaf9ccc599c1ff",
   "outputs": [],
   "execution_count": 25
  },
  {
   "metadata": {
    "ExecuteTime": {
     "end_time": "2025-02-16T13:15:23.435518Z",
     "start_time": "2025-02-16T13:15:08.629580Z"
    }
   },
   "cell_type": "code",
   "source": [
    "x = pd.read_excel('auxiliar/vendas.xlsx')\n",
    "x"
   ],
   "id": "1280df457230a453",
   "outputs": [
    {
     "data": {
      "text/plain": [
       "         Produtos  Valor\n",
       "0          Tomate    2.3\n",
       "1  Batata inglesa    2.2\n",
       "2          Cebola    1.8"
      ],
      "text/html": [
       "<div>\n",
       "<style scoped>\n",
       "    .dataframe tbody tr th:only-of-type {\n",
       "        vertical-align: middle;\n",
       "    }\n",
       "\n",
       "    .dataframe tbody tr th {\n",
       "        vertical-align: top;\n",
       "    }\n",
       "\n",
       "    .dataframe thead th {\n",
       "        text-align: right;\n",
       "    }\n",
       "</style>\n",
       "<table border=\"1\" class=\"dataframe\">\n",
       "  <thead>\n",
       "    <tr style=\"text-align: right;\">\n",
       "      <th></th>\n",
       "      <th>Produtos</th>\n",
       "      <th>Valor</th>\n",
       "    </tr>\n",
       "  </thead>\n",
       "  <tbody>\n",
       "    <tr>\n",
       "      <th>0</th>\n",
       "      <td>Tomate</td>\n",
       "      <td>2.3</td>\n",
       "    </tr>\n",
       "    <tr>\n",
       "      <th>1</th>\n",
       "      <td>Batata inglesa</td>\n",
       "      <td>2.2</td>\n",
       "    </tr>\n",
       "    <tr>\n",
       "      <th>2</th>\n",
       "      <td>Cebola</td>\n",
       "      <td>1.8</td>\n",
       "    </tr>\n",
       "  </tbody>\n",
       "</table>\n",
       "</div>"
      ]
     },
     "execution_count": 26,
     "metadata": {},
     "output_type": "execute_result"
    }
   ],
   "execution_count": 26
  },
  {
   "metadata": {},
   "cell_type": "markdown",
   "source": [
    "## **1.3 Trabalhando com listas e dicionários (`from_dict()`, `explode()`, `to_dict()`)**\n",
    "\n",
    "15. Converta um dicionário contendo listas como valores em um `DataFrame` usando `from_dict()`."
   ],
   "id": "44d09f7069175f76"
  },
  {
   "metadata": {
    "ExecuteTime": {
     "end_time": "2025-02-05T19:37:46.125280Z",
     "start_time": "2025-02-05T19:37:46.111555Z"
    }
   },
   "cell_type": "code",
   "source": [
    "dicionario_listas = {\n",
    "\t\"Nomes\": ['Márcio', 'Patrícia', 'Lorenzo', 'Lucas'],\n",
    "\t\"Idades\": [35, 34, 9, 6]\n",
    "}\n",
    "df_familia = pd.DataFrame.from_dict(dicionario_listas)\n",
    "\n",
    "df_familia"
   ],
   "id": "59f109f5d7c3e636",
   "outputs": [
    {
     "data": {
      "text/plain": [
       "      Nomes  Idades\n",
       "0    Márcio      35\n",
       "1  Pareícia      34\n",
       "2   Lorenzo       9\n",
       "3     Lucas       6"
      ],
      "text/html": [
       "<div>\n",
       "<style scoped>\n",
       "    .dataframe tbody tr th:only-of-type {\n",
       "        vertical-align: middle;\n",
       "    }\n",
       "\n",
       "    .dataframe tbody tr th {\n",
       "        vertical-align: top;\n",
       "    }\n",
       "\n",
       "    .dataframe thead th {\n",
       "        text-align: right;\n",
       "    }\n",
       "</style>\n",
       "<table border=\"1\" class=\"dataframe\">\n",
       "  <thead>\n",
       "    <tr style=\"text-align: right;\">\n",
       "      <th></th>\n",
       "      <th>Nomes</th>\n",
       "      <th>Idades</th>\n",
       "    </tr>\n",
       "  </thead>\n",
       "  <tbody>\n",
       "    <tr>\n",
       "      <th>0</th>\n",
       "      <td>Márcio</td>\n",
       "      <td>35</td>\n",
       "    </tr>\n",
       "    <tr>\n",
       "      <th>1</th>\n",
       "      <td>Pareícia</td>\n",
       "      <td>34</td>\n",
       "    </tr>\n",
       "    <tr>\n",
       "      <th>2</th>\n",
       "      <td>Lorenzo</td>\n",
       "      <td>9</td>\n",
       "    </tr>\n",
       "    <tr>\n",
       "      <th>3</th>\n",
       "      <td>Lucas</td>\n",
       "      <td>6</td>\n",
       "    </tr>\n",
       "  </tbody>\n",
       "</table>\n",
       "</div>"
      ]
     },
     "execution_count": 13,
     "metadata": {},
     "output_type": "execute_result"
    }
   ],
   "execution_count": 13
  },
  {
   "metadata": {},
   "cell_type": "markdown",
   "source": "16. Transforme um `DataFrame` em um dicionário usando `to_dict()`, com o formato `'records'`.",
   "id": "e031c8686b70673e"
  },
  {
   "metadata": {
    "ExecuteTime": {
     "end_time": "2025-02-05T19:38:48.483088Z",
     "start_time": "2025-02-05T19:38:48.470105Z"
    }
   },
   "cell_type": "code",
   "source": "df_familia.to_dict(orient='records')",
   "id": "af5373e69e8ce6bf",
   "outputs": [
    {
     "data": {
      "text/plain": [
       "[{'Nomes': 'Márcio', 'Idades': 35},\n",
       " {'Nomes': 'Pareícia', 'Idades': 34},\n",
       " {'Nomes': 'Lorenzo', 'Idades': 9},\n",
       " {'Nomes': 'Lucas', 'Idades': 6}]"
      ]
     },
     "execution_count": 14,
     "metadata": {},
     "output_type": "execute_result"
    }
   ],
   "execution_count": 14
  },
  {
   "metadata": {},
   "cell_type": "markdown",
   "source": "17. Crie um `DataFrame` onde uma coluna contém listas e use `explode()` para separá-las em linhas distintas.",
   "id": "d7da8c20e9937e67"
  },
  {
   "metadata": {
    "ExecuteTime": {
     "end_time": "2025-02-05T19:41:41.299616Z",
     "start_time": "2025-02-05T19:41:41.283005Z"
    }
   },
   "cell_type": "code",
   "source": [
    "dicionario_listas = {\n",
    "\t\"Nomes\": ['Márcio', 'Patrícia', 'Lorenzo', 'Lucas'],\n",
    "\t\"Idades\": [35, 34, 9, 6]\n",
    "}\n",
    "df_familia = pd.DataFrame.from_dict(dicionario_listas)\n",
    "\n",
    "x = df_familia.explode(column='Idades')\n",
    "print(x)"
   ],
   "id": "5b5f8ebc25f545be",
   "outputs": [
    {
     "name": "stdout",
     "output_type": "stream",
     "text": [
      "      Nomes  Idades\n",
      "0    Márcio      35\n",
      "1  Patrícia      34\n",
      "2   Lorenzo       9\n",
      "3     Lucas       6\n"
     ]
    }
   ],
   "execution_count": 18
  },
  {
   "metadata": {},
   "cell_type": "markdown",
   "source": "18. Crie uma coluna que contenha listas de hobbies e expanda essas listas em linhas separadas.",
   "id": "3fba1cafbd7c2c32"
  },
  {
   "metadata": {},
   "cell_type": "code",
   "outputs": [],
   "execution_count": null,
   "source": "",
   "id": "e4b095c18e708c7a"
  },
  {
   "metadata": {},
   "cell_type": "markdown",
   "source": "19. Extraia os valores únicos de uma coluna de listas antes e depois de utilizar `explode()`.",
   "id": "10b00f7225c21084"
  },
  {
   "metadata": {},
   "cell_type": "code",
   "outputs": [],
   "execution_count": null,
   "source": "",
   "id": "37d7cfdd53f79e08"
  },
  {
   "metadata": {},
   "cell_type": "markdown",
   "source": "20. Utilize `to_dict()` para transformar um `DataFrame` em um dicionário indexado pela coluna \"ID\".",
   "id": "a820e153a9c93900"
  },
  {
   "metadata": {},
   "cell_type": "code",
   "outputs": [],
   "execution_count": null,
   "source": "",
   "id": "ff06189020aeb274"
  },
  {
   "metadata": {},
   "cell_type": "markdown",
   "source": [
    "## **1.4 Índices e Colunas (`set_index()`, `reset_index()`, `rename()`)**\n",
    "\n",
    "21. Defina uma coluna específica de um `DataFrame` como índice."
   ],
   "id": "cfe5a9ed8faf02b4"
  },
  {
   "metadata": {
    "ExecuteTime": {
     "end_time": "2025-02-16T13:18:33.828825Z",
     "start_time": "2025-02-16T13:18:33.819842Z"
    }
   },
   "cell_type": "code",
   "source": [
    "import pandas as pd\n",
    "lista_idades = {\n",
    "\t\"Nome\":['Márcio','Patrícia', 'Lorenzo', 'Lucas'],\n",
    "\t\"Idades\":[35, 34, 9, 6]\n",
    "}\n",
    "\n",
    "lista_idades = pd.DataFrame(lista_idades, columns=['Nome', 'Idades']).set_index('Nome')\n",
    "lista_idades"
   ],
   "id": "bc6d270749fe5188",
   "outputs": [
    {
     "data": {
      "text/plain": [
       "          Idades\n",
       "Nome            \n",
       "Márcio        35\n",
       "Patrícia      34\n",
       "Lorenzo        9\n",
       "Lucas          6"
      ],
      "text/html": [
       "<div>\n",
       "<style scoped>\n",
       "    .dataframe tbody tr th:only-of-type {\n",
       "        vertical-align: middle;\n",
       "    }\n",
       "\n",
       "    .dataframe tbody tr th {\n",
       "        vertical-align: top;\n",
       "    }\n",
       "\n",
       "    .dataframe thead th {\n",
       "        text-align: right;\n",
       "    }\n",
       "</style>\n",
       "<table border=\"1\" class=\"dataframe\">\n",
       "  <thead>\n",
       "    <tr style=\"text-align: right;\">\n",
       "      <th></th>\n",
       "      <th>Idades</th>\n",
       "    </tr>\n",
       "    <tr>\n",
       "      <th>Nome</th>\n",
       "      <th></th>\n",
       "    </tr>\n",
       "  </thead>\n",
       "  <tbody>\n",
       "    <tr>\n",
       "      <th>Márcio</th>\n",
       "      <td>35</td>\n",
       "    </tr>\n",
       "    <tr>\n",
       "      <th>Patrícia</th>\n",
       "      <td>34</td>\n",
       "    </tr>\n",
       "    <tr>\n",
       "      <th>Lorenzo</th>\n",
       "      <td>9</td>\n",
       "    </tr>\n",
       "    <tr>\n",
       "      <th>Lucas</th>\n",
       "      <td>6</td>\n",
       "    </tr>\n",
       "  </tbody>\n",
       "</table>\n",
       "</div>"
      ]
     },
     "execution_count": 29,
     "metadata": {},
     "output_type": "execute_result"
    }
   ],
   "execution_count": 29
  },
  {
   "metadata": {},
   "cell_type": "markdown",
   "source": "22. Resete o índice de um `DataFrame` e transforme o índice antigo em uma coluna.",
   "id": "9a5c0aa6ffba2767"
  },
  {
   "metadata": {
    "ExecuteTime": {
     "end_time": "2025-02-16T13:18:56.864762Z",
     "start_time": "2025-02-16T13:18:56.853794Z"
    }
   },
   "cell_type": "code",
   "source": [
    "import pandas as pd\n",
    "lista_idades = {\n",
    "\t\"Nome\":['Márcio','Patrícia', 'Lorenzo', 'Lucas'],\n",
    "\t\"Idades\":[35, 34, 9, 6]\n",
    "}\n",
    "\n",
    "lista_idades = pd.DataFrame(lista_idades, columns=['Nome', 'Idades']).set_index('Nome')\n",
    "lista_idades = lista_idades.reset_index()\n",
    "lista_idades"
   ],
   "id": "2f1bb1b9c13961c6",
   "outputs": [
    {
     "data": {
      "text/plain": [
       "       Nome  Idades\n",
       "0    Márcio      35\n",
       "1  Patrícia      34\n",
       "2   Lorenzo       9\n",
       "3     Lucas       6"
      ],
      "text/html": [
       "<div>\n",
       "<style scoped>\n",
       "    .dataframe tbody tr th:only-of-type {\n",
       "        vertical-align: middle;\n",
       "    }\n",
       "\n",
       "    .dataframe tbody tr th {\n",
       "        vertical-align: top;\n",
       "    }\n",
       "\n",
       "    .dataframe thead th {\n",
       "        text-align: right;\n",
       "    }\n",
       "</style>\n",
       "<table border=\"1\" class=\"dataframe\">\n",
       "  <thead>\n",
       "    <tr style=\"text-align: right;\">\n",
       "      <th></th>\n",
       "      <th>Nome</th>\n",
       "      <th>Idades</th>\n",
       "    </tr>\n",
       "  </thead>\n",
       "  <tbody>\n",
       "    <tr>\n",
       "      <th>0</th>\n",
       "      <td>Márcio</td>\n",
       "      <td>35</td>\n",
       "    </tr>\n",
       "    <tr>\n",
       "      <th>1</th>\n",
       "      <td>Patrícia</td>\n",
       "      <td>34</td>\n",
       "    </tr>\n",
       "    <tr>\n",
       "      <th>2</th>\n",
       "      <td>Lorenzo</td>\n",
       "      <td>9</td>\n",
       "    </tr>\n",
       "    <tr>\n",
       "      <th>3</th>\n",
       "      <td>Lucas</td>\n",
       "      <td>6</td>\n",
       "    </tr>\n",
       "  </tbody>\n",
       "</table>\n",
       "</div>"
      ]
     },
     "execution_count": 30,
     "metadata": {},
     "output_type": "execute_result"
    }
   ],
   "execution_count": 30
  },
  {
   "metadata": {},
   "cell_type": "markdown",
   "source": "23. Renomeie todas as colunas de um `DataFrame` para letras maiúsculas.",
   "id": "361bb1993ecee611"
  },
  {
   "metadata": {
    "ExecuteTime": {
     "end_time": "2025-02-16T13:29:13.085446Z",
     "start_time": "2025-02-16T13:29:13.075276Z"
    }
   },
   "cell_type": "code",
   "source": [
    "import pandas as pd\n",
    "\n",
    "lista_idades = {\n",
    "\t\"Nome\": ['Márcio', 'Patrícia', 'Lorenzo', 'Lucas'],\n",
    "\t\"Idades\": [35, 34, 9, 6]\n",
    "}\n",
    "\n",
    "lista_idades = pd.DataFrame(lista_idades, columns=['Nome', 'Idades'])\n",
    "lista_idades = lista_idades.rename(columns={col: col.capitalize() for col in lista_idades.columns})\n",
    "lista_idades"
   ],
   "id": "6a54058e9aa4a9a8",
   "outputs": [
    {
     "data": {
      "text/plain": [
       "       Nome  Idades\n",
       "0    Márcio      35\n",
       "1  Patrícia      34\n",
       "2   Lorenzo       9\n",
       "3     Lucas       6"
      ],
      "text/html": [
       "<div>\n",
       "<style scoped>\n",
       "    .dataframe tbody tr th:only-of-type {\n",
       "        vertical-align: middle;\n",
       "    }\n",
       "\n",
       "    .dataframe tbody tr th {\n",
       "        vertical-align: top;\n",
       "    }\n",
       "\n",
       "    .dataframe thead th {\n",
       "        text-align: right;\n",
       "    }\n",
       "</style>\n",
       "<table border=\"1\" class=\"dataframe\">\n",
       "  <thead>\n",
       "    <tr style=\"text-align: right;\">\n",
       "      <th></th>\n",
       "      <th>Nome</th>\n",
       "      <th>Idades</th>\n",
       "    </tr>\n",
       "  </thead>\n",
       "  <tbody>\n",
       "    <tr>\n",
       "      <th>0</th>\n",
       "      <td>Márcio</td>\n",
       "      <td>35</td>\n",
       "    </tr>\n",
       "    <tr>\n",
       "      <th>1</th>\n",
       "      <td>Patrícia</td>\n",
       "      <td>34</td>\n",
       "    </tr>\n",
       "    <tr>\n",
       "      <th>2</th>\n",
       "      <td>Lorenzo</td>\n",
       "      <td>9</td>\n",
       "    </tr>\n",
       "    <tr>\n",
       "      <th>3</th>\n",
       "      <td>Lucas</td>\n",
       "      <td>6</td>\n",
       "    </tr>\n",
       "  </tbody>\n",
       "</table>\n",
       "</div>"
      ]
     },
     "execution_count": 36,
     "metadata": {},
     "output_type": "execute_result"
    }
   ],
   "execution_count": 36
  },
  {
   "metadata": {},
   "cell_type": "markdown",
   "source": "24. Renomeie apenas a terceira coluna de um `DataFrame` para \"Categoria\".",
   "id": "c23c9784d615180a"
  },
  {
   "metadata": {
    "ExecuteTime": {
     "end_time": "2025-02-16T13:33:07.386177Z",
     "start_time": "2025-02-16T13:33:07.362002Z"
    }
   },
   "cell_type": "code",
   "source": [
    "import pandas as pd\n",
    "\n",
    "lista_idades = {\n",
    "\t\"Nome\": ['Márcio', 'Patrícia', 'Lorenzo', 'Lucas'],\n",
    "\t\"Idades\": [35, 34, 9, 6],\n",
    "\t\"Cor\": ['Azul', 'Rosa', 'Preto', 'Roxo']\n",
    "}\n",
    "\n",
    "lista_idades = pd.DataFrame(lista_idades, columns=['Nome', 'Idades', 'Cor'])\n",
    "lista_idades = lista_idades.rename(columns={col: col.upper() for col in lista_idades.columns})\n",
    "lista_idades = lista_idades.rename(columns={'COR': 'CATEGORIA'})\n",
    "print(lista_idades)\n"
   ],
   "id": "3beb2b3a271d9b64",
   "outputs": [
    {
     "name": "stdout",
     "output_type": "stream",
     "text": [
      "       NOME  IDADES CATEGORIA\n",
      "0    Márcio      35      Azul\n",
      "1  Patrícia      34      Rosa\n",
      "2   Lorenzo       9     Preto\n",
      "3     Lucas       6      Roxo\n"
     ]
    }
   ],
   "execution_count": 44
  },
  {
   "metadata": {},
   "cell_type": "markdown",
   "source": "25. Substitua todos os espaços nos nomes das colunas de um `DataFrame` por underscores.",
   "id": "8c731e6e3fe15cef"
  },
  {
   "metadata": {
    "ExecuteTime": {
     "end_time": "2025-02-16T13:39:33.660021Z",
     "start_time": "2025-02-16T13:39:33.640176Z"
    }
   },
   "cell_type": "code",
   "source": [
    "import pandas as pd\n",
    "import re\n",
    "\n",
    "lista_idades = {\n",
    "\t\"Nome pessoais\": ['Márcio', 'Patrícia', 'Lorenzo', 'Lucas'],\n",
    "\t\"Idades de cada\": [35, 34, 9, 6],\n",
    "\t\"Cor preferida\": ['Azul', 'Rosa', 'Preto', 'Roxo']\n",
    "}\n",
    "\n",
    "lista_idades = pd.DataFrame(lista_idades)\n",
    "lista_idades = lista_idades.rename(columns={col: re.sub(' ','_',col) for col in lista_idades.columns})\n",
    "lista_idades = lista_idades.rename(columns={col: re.sub('[pP]','$',col) for col in lista_idades.columns})\n",
    "lista_idades = lista_idades.rename(columns={col: re.sub('[aA]','@',col) for col in lista_idades.columns})\n",
    "\n",
    "lista_idades\n"
   ],
   "id": "160145ab2d7ca6b2",
   "outputs": [
    {
     "data": {
      "text/plain": [
       "  Nome_$esso@is  Id@des_de_c@d@ Cor_$referid@\n",
       "0        Márcio              35          Azul\n",
       "1      Patrícia              34          Rosa\n",
       "2       Lorenzo               9         Preto\n",
       "3         Lucas               6          Roxo"
      ],
      "text/html": [
       "<div>\n",
       "<style scoped>\n",
       "    .dataframe tbody tr th:only-of-type {\n",
       "        vertical-align: middle;\n",
       "    }\n",
       "\n",
       "    .dataframe tbody tr th {\n",
       "        vertical-align: top;\n",
       "    }\n",
       "\n",
       "    .dataframe thead th {\n",
       "        text-align: right;\n",
       "    }\n",
       "</style>\n",
       "<table border=\"1\" class=\"dataframe\">\n",
       "  <thead>\n",
       "    <tr style=\"text-align: right;\">\n",
       "      <th></th>\n",
       "      <th>Nome_$esso@is</th>\n",
       "      <th>Id@des_de_c@d@</th>\n",
       "      <th>Cor_$referid@</th>\n",
       "    </tr>\n",
       "  </thead>\n",
       "  <tbody>\n",
       "    <tr>\n",
       "      <th>0</th>\n",
       "      <td>Márcio</td>\n",
       "      <td>35</td>\n",
       "      <td>Azul</td>\n",
       "    </tr>\n",
       "    <tr>\n",
       "      <th>1</th>\n",
       "      <td>Patrícia</td>\n",
       "      <td>34</td>\n",
       "      <td>Rosa</td>\n",
       "    </tr>\n",
       "    <tr>\n",
       "      <th>2</th>\n",
       "      <td>Lorenzo</td>\n",
       "      <td>9</td>\n",
       "      <td>Preto</td>\n",
       "    </tr>\n",
       "    <tr>\n",
       "      <th>3</th>\n",
       "      <td>Lucas</td>\n",
       "      <td>6</td>\n",
       "      <td>Roxo</td>\n",
       "    </tr>\n",
       "  </tbody>\n",
       "</table>\n",
       "</div>"
      ]
     },
     "execution_count": 54,
     "metadata": {},
     "output_type": "execute_result"
    }
   ],
   "execution_count": 54
  },
  {
   "metadata": {},
   "cell_type": "markdown",
   "source": "26. Utilize `set_index()` em mais de uma coluna simultaneamente e exiba o `DataFrame` resultante.",
   "id": "6c62c989ee2d7413"
  },
  {
   "metadata": {
    "ExecuteTime": {
     "end_time": "2025-02-16T20:08:15.425814Z",
     "start_time": "2025-02-16T20:08:05.899673Z"
    }
   },
   "cell_type": "code",
   "source": [
    "import pandas as pd\n",
    "\n",
    "lista_idades = {\n",
    "\t\"Nome pessoais\": ['Márcio', 'Patrícia', 'Lorenzo', 'Lucas'],\n",
    "\t\"Idades de cada\": [35, 34, 9, 6],\n",
    "\t\"Cor preferida\": ['Azul', 'Rosa', 'Preto', 'Roxo']\n",
    "}\n",
    "\n",
    "lista_idades = pd.DataFrame(lista_idades).set_index(['Cor preferida','Nome pessoais'])\n",
    "\n",
    "lista_idades"
   ],
   "id": "d1c2b62a379849b8",
   "outputs": [
    {
     "data": {
      "text/plain": [
       "                             Idades de cada\n",
       "Cor preferida Nome pessoais                \n",
       "Azul          Márcio                     35\n",
       "Rosa          Patrícia                   34\n",
       "Preto         Lorenzo                     9\n",
       "Roxo          Lucas                       6"
      ],
      "text/html": [
       "<div>\n",
       "<style scoped>\n",
       "    .dataframe tbody tr th:only-of-type {\n",
       "        vertical-align: middle;\n",
       "    }\n",
       "\n",
       "    .dataframe tbody tr th {\n",
       "        vertical-align: top;\n",
       "    }\n",
       "\n",
       "    .dataframe thead th {\n",
       "        text-align: right;\n",
       "    }\n",
       "</style>\n",
       "<table border=\"1\" class=\"dataframe\">\n",
       "  <thead>\n",
       "    <tr style=\"text-align: right;\">\n",
       "      <th></th>\n",
       "      <th></th>\n",
       "      <th>Idades de cada</th>\n",
       "    </tr>\n",
       "    <tr>\n",
       "      <th>Cor preferida</th>\n",
       "      <th>Nome pessoais</th>\n",
       "      <th></th>\n",
       "    </tr>\n",
       "  </thead>\n",
       "  <tbody>\n",
       "    <tr>\n",
       "      <th>Azul</th>\n",
       "      <th>Márcio</th>\n",
       "      <td>35</td>\n",
       "    </tr>\n",
       "    <tr>\n",
       "      <th>Rosa</th>\n",
       "      <th>Patrícia</th>\n",
       "      <td>34</td>\n",
       "    </tr>\n",
       "    <tr>\n",
       "      <th>Preto</th>\n",
       "      <th>Lorenzo</th>\n",
       "      <td>9</td>\n",
       "    </tr>\n",
       "    <tr>\n",
       "      <th>Roxo</th>\n",
       "      <th>Lucas</th>\n",
       "      <td>6</td>\n",
       "    </tr>\n",
       "  </tbody>\n",
       "</table>\n",
       "</div>"
      ]
     },
     "execution_count": 1,
     "metadata": {},
     "output_type": "execute_result"
    }
   ],
   "execution_count": 1
  },
  {
   "metadata": {},
   "cell_type": "markdown",
   "source": "27. Troque o índice de um `DataFrame` para uma numeração sequencial e salve o índice antigo como uma coluna.",
   "id": "868139390254981f"
  },
  {
   "metadata": {
    "ExecuteTime": {
     "end_time": "2025-02-16T20:09:13.883600Z",
     "start_time": "2025-02-16T20:09:13.850367Z"
    }
   },
   "cell_type": "code",
   "source": [
    "import pandas as pd\n",
    "\n",
    "lista_idades = {\n",
    "\t\"Nome pessoais\": ['Márcio', 'Patrícia', 'Lorenzo', 'Lucas'],\n",
    "\t\"Idades de cada\": [35, 34, 9, 6],\n",
    "\t\"Cor preferida\": ['Azul', 'Rosa', 'Preto', 'Roxo']\n",
    "}\n",
    "\n",
    "lista_idades = pd.DataFrame(lista_idades).set_index(['Cor preferida','Nome pessoais'])\n",
    "\n",
    "lista_idades = lista_idades.reset_index()\n",
    "lista_idades"
   ],
   "id": "750f4f2302085cb0",
   "outputs": [
    {
     "data": {
      "text/plain": [
       "  Cor preferida Nome pessoais  Idades de cada\n",
       "0          Azul        Márcio              35\n",
       "1          Rosa      Patrícia              34\n",
       "2         Preto       Lorenzo               9\n",
       "3          Roxo         Lucas               6"
      ],
      "text/html": [
       "<div>\n",
       "<style scoped>\n",
       "    .dataframe tbody tr th:only-of-type {\n",
       "        vertical-align: middle;\n",
       "    }\n",
       "\n",
       "    .dataframe tbody tr th {\n",
       "        vertical-align: top;\n",
       "    }\n",
       "\n",
       "    .dataframe thead th {\n",
       "        text-align: right;\n",
       "    }\n",
       "</style>\n",
       "<table border=\"1\" class=\"dataframe\">\n",
       "  <thead>\n",
       "    <tr style=\"text-align: right;\">\n",
       "      <th></th>\n",
       "      <th>Cor preferida</th>\n",
       "      <th>Nome pessoais</th>\n",
       "      <th>Idades de cada</th>\n",
       "    </tr>\n",
       "  </thead>\n",
       "  <tbody>\n",
       "    <tr>\n",
       "      <th>0</th>\n",
       "      <td>Azul</td>\n",
       "      <td>Márcio</td>\n",
       "      <td>35</td>\n",
       "    </tr>\n",
       "    <tr>\n",
       "      <th>1</th>\n",
       "      <td>Rosa</td>\n",
       "      <td>Patrícia</td>\n",
       "      <td>34</td>\n",
       "    </tr>\n",
       "    <tr>\n",
       "      <th>2</th>\n",
       "      <td>Preto</td>\n",
       "      <td>Lorenzo</td>\n",
       "      <td>9</td>\n",
       "    </tr>\n",
       "    <tr>\n",
       "      <th>3</th>\n",
       "      <td>Roxo</td>\n",
       "      <td>Lucas</td>\n",
       "      <td>6</td>\n",
       "    </tr>\n",
       "  </tbody>\n",
       "</table>\n",
       "</div>"
      ]
     },
     "execution_count": 2,
     "metadata": {},
     "output_type": "execute_result"
    }
   ],
   "execution_count": 2
  },
  {
   "metadata": {},
   "cell_type": "markdown",
   "source": [
    "## **1.5 Tipos de Dados (`dtypes`, `convert_dtypes()`, `astype()`)**\n",
    "\n",
    "28. Verifique os tipos de dados (`dtypes`) de um `DataFrame` e liste quais são numéricos e quais são categóricos."
   ],
   "id": "92e2a0b21b030d22"
  },
  {
   "metadata": {
    "ExecuteTime": {
     "end_time": "2025-02-16T22:19:38.102338Z",
     "start_time": "2025-02-16T22:19:38.086049Z"
    }
   },
   "cell_type": "code",
   "source": [
    "import pandas as pd\n",
    "\n",
    "lista_idades = {\n",
    "\t\"Nome pessoais\": ['Márcio', 'Patrícia', 'Lorenzo', 'Lucas'],\n",
    "\t\"Idades de cada\": [35, 34, 9, 6],\n",
    "\t\"Cor preferida\": ['Azul', 'Rosa', 'Preto', 'Roxo']\n",
    "}\n",
    "lista_idades = pd.DataFrame(lista_idades)\n",
    "lista_idades.dtypes"
   ],
   "id": "6debf3a2fb7b9717",
   "outputs": [
    {
     "data": {
      "text/plain": [
       "Nome pessoais     object\n",
       "Idades de cada     int64\n",
       "Cor preferida     object\n",
       "dtype: object"
      ]
     },
     "execution_count": 5,
     "metadata": {},
     "output_type": "execute_result"
    }
   ],
   "execution_count": 5
  },
  {
   "metadata": {},
   "cell_type": "markdown",
   "source": "29. Converta uma coluna numérica para string usando `astype()`.",
   "id": "dc6e9c96b47a3f9f"
  },
  {
   "metadata": {
    "ExecuteTime": {
     "end_time": "2025-02-16T22:20:35.574537Z",
     "start_time": "2025-02-16T22:20:35.546516Z"
    }
   },
   "cell_type": "code",
   "source": [
    "import pandas as pd\n",
    "\n",
    "lista_idades = {\n",
    "\t\"Nome pessoais\": ['Márcio', 'Patrícia', 'Lorenzo', 'Lucas'],\n",
    "\t\"Idades de cada\": [35, 34, 9, 6],\n",
    "\t\"Cor preferida\": ['Azul', 'Rosa', 'Preto', 'Roxo']\n",
    "}\n",
    "lista_idades = pd.DataFrame(lista_idades)\n",
    "lista_idades['Idades de cada'] = lista_idades['Idades de cada'].astype('str')\n",
    "lista_idades"
   ],
   "id": "9bbc8a0e0d1ea61e",
   "outputs": [
    {
     "data": {
      "text/plain": [
       "  Nome pessoais Idades de cada Cor preferida\n",
       "0        Márcio             35          Azul\n",
       "1      Patrícia             34          Rosa\n",
       "2       Lorenzo              9         Preto\n",
       "3         Lucas              6          Roxo"
      ],
      "text/html": [
       "<div>\n",
       "<style scoped>\n",
       "    .dataframe tbody tr th:only-of-type {\n",
       "        vertical-align: middle;\n",
       "    }\n",
       "\n",
       "    .dataframe tbody tr th {\n",
       "        vertical-align: top;\n",
       "    }\n",
       "\n",
       "    .dataframe thead th {\n",
       "        text-align: right;\n",
       "    }\n",
       "</style>\n",
       "<table border=\"1\" class=\"dataframe\">\n",
       "  <thead>\n",
       "    <tr style=\"text-align: right;\">\n",
       "      <th></th>\n",
       "      <th>Nome pessoais</th>\n",
       "      <th>Idades de cada</th>\n",
       "      <th>Cor preferida</th>\n",
       "    </tr>\n",
       "  </thead>\n",
       "  <tbody>\n",
       "    <tr>\n",
       "      <th>0</th>\n",
       "      <td>Márcio</td>\n",
       "      <td>35</td>\n",
       "      <td>Azul</td>\n",
       "    </tr>\n",
       "    <tr>\n",
       "      <th>1</th>\n",
       "      <td>Patrícia</td>\n",
       "      <td>34</td>\n",
       "      <td>Rosa</td>\n",
       "    </tr>\n",
       "    <tr>\n",
       "      <th>2</th>\n",
       "      <td>Lorenzo</td>\n",
       "      <td>9</td>\n",
       "      <td>Preto</td>\n",
       "    </tr>\n",
       "    <tr>\n",
       "      <th>3</th>\n",
       "      <td>Lucas</td>\n",
       "      <td>6</td>\n",
       "      <td>Roxo</td>\n",
       "    </tr>\n",
       "  </tbody>\n",
       "</table>\n",
       "</div>"
      ]
     },
     "execution_count": 6,
     "metadata": {},
     "output_type": "execute_result"
    }
   ],
   "execution_count": 6
  },
  {
   "metadata": {},
   "cell_type": "markdown",
   "source": "30. Transforme uma coluna de valores decimais para inteiros sem arredondamento.",
   "id": "513a7a1697d0f208"
  },
  {
   "metadata": {
    "ExecuteTime": {
     "end_time": "2025-02-16T22:23:53.353089Z",
     "start_time": "2025-02-16T22:23:53.330995Z"
    }
   },
   "cell_type": "code",
   "source": [
    "import pandas as pd\n",
    "\n",
    "lista_idades = {\n",
    "\t\"Nome pessoais\": ['Márcio', 'Patrícia', 'Lorenzo', 'Lucas'],\n",
    "\t\"Idades de cada\": [35, 34, 9, 6],\n",
    "\t\"Cor preferida\": ['Azul', 'Rosa', 'Preto', 'Roxo'],\n",
    "\t\"Data Nascimento\":['1989-04-22','1990-02-12','2015-03-17','2018-06-10'],\n",
    "\t\"Peso\":[70.0, 49.9, 30.5, 19.8]\n",
    "}\n",
    "lista_idades = pd.DataFrame(lista_idades)\n",
    "lista_idades['Peso'] = lista_idades['Peso'].astype('int')\n",
    "lista_idades"
   ],
   "id": "f2cb2aa719378b01",
   "outputs": [
    {
     "data": {
      "text/plain": [
       "  Nome pessoais  Idades de cada Cor preferida Data Nascimento  Peso\n",
       "0        Márcio              35          Azul      1989-04-22    70\n",
       "1      Patrícia              34          Rosa      1990-02-12    49\n",
       "2       Lorenzo               9         Preto      2015-03-17    30\n",
       "3         Lucas               6          Roxo      2018-06-10    19"
      ],
      "text/html": [
       "<div>\n",
       "<style scoped>\n",
       "    .dataframe tbody tr th:only-of-type {\n",
       "        vertical-align: middle;\n",
       "    }\n",
       "\n",
       "    .dataframe tbody tr th {\n",
       "        vertical-align: top;\n",
       "    }\n",
       "\n",
       "    .dataframe thead th {\n",
       "        text-align: right;\n",
       "    }\n",
       "</style>\n",
       "<table border=\"1\" class=\"dataframe\">\n",
       "  <thead>\n",
       "    <tr style=\"text-align: right;\">\n",
       "      <th></th>\n",
       "      <th>Nome pessoais</th>\n",
       "      <th>Idades de cada</th>\n",
       "      <th>Cor preferida</th>\n",
       "      <th>Data Nascimento</th>\n",
       "      <th>Peso</th>\n",
       "    </tr>\n",
       "  </thead>\n",
       "  <tbody>\n",
       "    <tr>\n",
       "      <th>0</th>\n",
       "      <td>Márcio</td>\n",
       "      <td>35</td>\n",
       "      <td>Azul</td>\n",
       "      <td>1989-04-22</td>\n",
       "      <td>70</td>\n",
       "    </tr>\n",
       "    <tr>\n",
       "      <th>1</th>\n",
       "      <td>Patrícia</td>\n",
       "      <td>34</td>\n",
       "      <td>Rosa</td>\n",
       "      <td>1990-02-12</td>\n",
       "      <td>49</td>\n",
       "    </tr>\n",
       "    <tr>\n",
       "      <th>2</th>\n",
       "      <td>Lorenzo</td>\n",
       "      <td>9</td>\n",
       "      <td>Preto</td>\n",
       "      <td>2015-03-17</td>\n",
       "      <td>30</td>\n",
       "    </tr>\n",
       "    <tr>\n",
       "      <th>3</th>\n",
       "      <td>Lucas</td>\n",
       "      <td>6</td>\n",
       "      <td>Roxo</td>\n",
       "      <td>2018-06-10</td>\n",
       "      <td>19</td>\n",
       "    </tr>\n",
       "  </tbody>\n",
       "</table>\n",
       "</div>"
      ]
     },
     "execution_count": 7,
     "metadata": {},
     "output_type": "execute_result"
    }
   ],
   "execution_count": 7
  },
  {
   "metadata": {},
   "cell_type": "markdown",
   "source": "31. Altere uma coluna de datas para o tipo `datetime64` e extraia o ano de cada data.",
   "id": "b270a01ea79a4978"
  },
  {
   "metadata": {
    "ExecuteTime": {
     "end_time": "2025-02-16T22:26:23.961808Z",
     "start_time": "2025-02-16T22:26:23.929817Z"
    }
   },
   "cell_type": "code",
   "source": [
    "import pandas as pd\n",
    "\n",
    "lista_idades = {\n",
    "\t\"Nome pessoais\": ['Márcio', 'Patrícia', 'Lorenzo', 'Lucas'],\n",
    "\t\"Idades de cada\": [35, 34, 9, 6],\n",
    "\t\"Cor preferida\": ['Azul', 'Rosa', 'Preto', 'Roxo'],\n",
    "\t\"Data Nascimento\":['1989-04-22','1990-02-12','2015-03-17','2018-06-10'],\n",
    "\t\"Peso\":[70.0, 49.9, 30.5, 19.8]\n",
    "}\n",
    "lista_idades = pd.DataFrame(lista_idades)\n",
    "lista_idades['Data Nascimento'] = lista_idades['Data Nascimento'].astype('datetime64[ns]')\n",
    "lista_idades['Ano'] = lista_idades['Data Nascimento'].dt.year\n",
    "lista_idades['Mês'] = lista_idades['Data Nascimento'].dt.month\n",
    "lista_idades['Dia'] = lista_idades['Data Nascimento'].dt.day\n",
    "lista_idades"
   ],
   "id": "bb44927df9d773dc",
   "outputs": [
    {
     "data": {
      "text/plain": [
       "  Nome pessoais  Idades de cada Cor preferida Data Nascimento  Peso   Ano  \\\n",
       "0        Márcio              35          Azul      1989-04-22  70.0  1989   \n",
       "1      Patrícia              34          Rosa      1990-02-12  49.9  1990   \n",
       "2       Lorenzo               9         Preto      2015-03-17  30.5  2015   \n",
       "3         Lucas               6          Roxo      2018-06-10  19.8  2018   \n",
       "\n",
       "   Mês  Dia  \n",
       "0    4   22  \n",
       "1    2   12  \n",
       "2    3   17  \n",
       "3    6   10  "
      ],
      "text/html": [
       "<div>\n",
       "<style scoped>\n",
       "    .dataframe tbody tr th:only-of-type {\n",
       "        vertical-align: middle;\n",
       "    }\n",
       "\n",
       "    .dataframe tbody tr th {\n",
       "        vertical-align: top;\n",
       "    }\n",
       "\n",
       "    .dataframe thead th {\n",
       "        text-align: right;\n",
       "    }\n",
       "</style>\n",
       "<table border=\"1\" class=\"dataframe\">\n",
       "  <thead>\n",
       "    <tr style=\"text-align: right;\">\n",
       "      <th></th>\n",
       "      <th>Nome pessoais</th>\n",
       "      <th>Idades de cada</th>\n",
       "      <th>Cor preferida</th>\n",
       "      <th>Data Nascimento</th>\n",
       "      <th>Peso</th>\n",
       "      <th>Ano</th>\n",
       "      <th>Mês</th>\n",
       "      <th>Dia</th>\n",
       "    </tr>\n",
       "  </thead>\n",
       "  <tbody>\n",
       "    <tr>\n",
       "      <th>0</th>\n",
       "      <td>Márcio</td>\n",
       "      <td>35</td>\n",
       "      <td>Azul</td>\n",
       "      <td>1989-04-22</td>\n",
       "      <td>70.0</td>\n",
       "      <td>1989</td>\n",
       "      <td>4</td>\n",
       "      <td>22</td>\n",
       "    </tr>\n",
       "    <tr>\n",
       "      <th>1</th>\n",
       "      <td>Patrícia</td>\n",
       "      <td>34</td>\n",
       "      <td>Rosa</td>\n",
       "      <td>1990-02-12</td>\n",
       "      <td>49.9</td>\n",
       "      <td>1990</td>\n",
       "      <td>2</td>\n",
       "      <td>12</td>\n",
       "    </tr>\n",
       "    <tr>\n",
       "      <th>2</th>\n",
       "      <td>Lorenzo</td>\n",
       "      <td>9</td>\n",
       "      <td>Preto</td>\n",
       "      <td>2015-03-17</td>\n",
       "      <td>30.5</td>\n",
       "      <td>2015</td>\n",
       "      <td>3</td>\n",
       "      <td>17</td>\n",
       "    </tr>\n",
       "    <tr>\n",
       "      <th>3</th>\n",
       "      <td>Lucas</td>\n",
       "      <td>6</td>\n",
       "      <td>Roxo</td>\n",
       "      <td>2018-06-10</td>\n",
       "      <td>19.8</td>\n",
       "      <td>2018</td>\n",
       "      <td>6</td>\n",
       "      <td>10</td>\n",
       "    </tr>\n",
       "  </tbody>\n",
       "</table>\n",
       "</div>"
      ]
     },
     "execution_count": 10,
     "metadata": {},
     "output_type": "execute_result"
    }
   ],
   "execution_count": 10
  },
  {
   "metadata": {},
   "cell_type": "markdown",
   "source": "32. Utilize `convert_dtypes()` para transformar automaticamente os tipos de dados de um `DataFrame`.",
   "id": "b19ffd60cd64e0a4"
  },
  {
   "metadata": {
    "ExecuteTime": {
     "end_time": "2025-02-16T22:29:07.408069Z",
     "start_time": "2025-02-16T22:29:07.370198Z"
    }
   },
   "cell_type": "code",
   "source": [
    "import pandas as pd\n",
    "\n",
    "lista_idades = {\n",
    "\t\"Nome pessoais\": ['Márcio', 'Patrícia', 'Lorenzo', 'Lucas'],\n",
    "\t\"Idades de cada\": [35, 34, 9, 6],\n",
    "\t\"Cor preferida\": ['Azul', 'Rosa', 'Preto', 'Roxo'],\n",
    "\t\"Data Nascimento\":['1989-04-22','1990-02-12','2015-03-17','2018-06-10'],\n",
    "\t\"Peso\":[70.0, 49.9, 30.5, 19.8]\n",
    "}\n",
    "lista_idades = pd.DataFrame(lista_idades).convert_dtypes()\n",
    "lista_idades['Data Nascimento'] = lista_idades['Data Nascimento'].astype('datetime64[ns]')\n",
    "lista_idades['Ano'] = lista_idades['Data Nascimento'].dt.year\n",
    "lista_idades['Mês'] = lista_idades['Data Nascimento'].dt.month\n",
    "lista_idades['Dia'] = lista_idades['Data Nascimento'].dt.day\n",
    "lista_idades"
   ],
   "id": "a12b8270b5067379",
   "outputs": [
    {
     "data": {
      "text/plain": [
       "  Nome pessoais  Idades de cada Cor preferida Data Nascimento  Peso   Ano  \\\n",
       "0        Márcio              35          Azul      1989-04-22  70.0  1989   \n",
       "1      Patrícia              34          Rosa      1990-02-12  49.9  1990   \n",
       "2       Lorenzo               9         Preto      2015-03-17  30.5  2015   \n",
       "3         Lucas               6          Roxo      2018-06-10  19.8  2018   \n",
       "\n",
       "   Mês  Dia  \n",
       "0    4   22  \n",
       "1    2   12  \n",
       "2    3   17  \n",
       "3    6   10  "
      ],
      "text/html": [
       "<div>\n",
       "<style scoped>\n",
       "    .dataframe tbody tr th:only-of-type {\n",
       "        vertical-align: middle;\n",
       "    }\n",
       "\n",
       "    .dataframe tbody tr th {\n",
       "        vertical-align: top;\n",
       "    }\n",
       "\n",
       "    .dataframe thead th {\n",
       "        text-align: right;\n",
       "    }\n",
       "</style>\n",
       "<table border=\"1\" class=\"dataframe\">\n",
       "  <thead>\n",
       "    <tr style=\"text-align: right;\">\n",
       "      <th></th>\n",
       "      <th>Nome pessoais</th>\n",
       "      <th>Idades de cada</th>\n",
       "      <th>Cor preferida</th>\n",
       "      <th>Data Nascimento</th>\n",
       "      <th>Peso</th>\n",
       "      <th>Ano</th>\n",
       "      <th>Mês</th>\n",
       "      <th>Dia</th>\n",
       "    </tr>\n",
       "  </thead>\n",
       "  <tbody>\n",
       "    <tr>\n",
       "      <th>0</th>\n",
       "      <td>Márcio</td>\n",
       "      <td>35</td>\n",
       "      <td>Azul</td>\n",
       "      <td>1989-04-22</td>\n",
       "      <td>70.0</td>\n",
       "      <td>1989</td>\n",
       "      <td>4</td>\n",
       "      <td>22</td>\n",
       "    </tr>\n",
       "    <tr>\n",
       "      <th>1</th>\n",
       "      <td>Patrícia</td>\n",
       "      <td>34</td>\n",
       "      <td>Rosa</td>\n",
       "      <td>1990-02-12</td>\n",
       "      <td>49.9</td>\n",
       "      <td>1990</td>\n",
       "      <td>2</td>\n",
       "      <td>12</td>\n",
       "    </tr>\n",
       "    <tr>\n",
       "      <th>2</th>\n",
       "      <td>Lorenzo</td>\n",
       "      <td>9</td>\n",
       "      <td>Preto</td>\n",
       "      <td>2015-03-17</td>\n",
       "      <td>30.5</td>\n",
       "      <td>2015</td>\n",
       "      <td>3</td>\n",
       "      <td>17</td>\n",
       "    </tr>\n",
       "    <tr>\n",
       "      <th>3</th>\n",
       "      <td>Lucas</td>\n",
       "      <td>6</td>\n",
       "      <td>Roxo</td>\n",
       "      <td>2018-06-10</td>\n",
       "      <td>19.8</td>\n",
       "      <td>2018</td>\n",
       "      <td>6</td>\n",
       "      <td>10</td>\n",
       "    </tr>\n",
       "  </tbody>\n",
       "</table>\n",
       "</div>"
      ]
     },
     "execution_count": 11,
     "metadata": {},
     "output_type": "execute_result"
    }
   ],
   "execution_count": 11
  },
  {
   "metadata": {},
   "cell_type": "markdown",
   "source": "33. Converta uma coluna booleana para inteiro (`0` e `1`).",
   "id": "22fee791f506a20e"
  },
  {
   "metadata": {
    "ExecuteTime": {
     "end_time": "2025-02-23T12:53:24.359300Z",
     "start_time": "2025-02-23T12:53:24.342766Z"
    }
   },
   "cell_type": "code",
   "source": [
    "import pandas as pd\n",
    "\n",
    "def verificar(texto):\n",
    "\tif texto:\n",
    "\t\ttexto = '1'\n",
    "\telse:\n",
    "\t\ttexto = '0'\n",
    "\treturn texto\n",
    "df = {\n",
    "\t'Verdadeiro ou Falso':[True, False,True, False,True, False,True, False]\n",
    "}\n",
    "\n",
    "df = pd.DataFrame(df)\n",
    "\n",
    "df['Verdadeiro ou Falso'] = df['Verdadeiro ou Falso'].apply(lambda x: verificar(x))\n",
    "df"
   ],
   "id": "819fa0a9ae3c6dca",
   "outputs": [
    {
     "data": {
      "text/plain": [
       "  Verdadeiro ou Falso\n",
       "0                   1\n",
       "1                   0\n",
       "2                   1\n",
       "3                   0\n",
       "4                   1\n",
       "5                   0\n",
       "6                   1\n",
       "7                   0"
      ],
      "text/html": [
       "<div>\n",
       "<style scoped>\n",
       "    .dataframe tbody tr th:only-of-type {\n",
       "        vertical-align: middle;\n",
       "    }\n",
       "\n",
       "    .dataframe tbody tr th {\n",
       "        vertical-align: top;\n",
       "    }\n",
       "\n",
       "    .dataframe thead th {\n",
       "        text-align: right;\n",
       "    }\n",
       "</style>\n",
       "<table border=\"1\" class=\"dataframe\">\n",
       "  <thead>\n",
       "    <tr style=\"text-align: right;\">\n",
       "      <th></th>\n",
       "      <th>Verdadeiro ou Falso</th>\n",
       "    </tr>\n",
       "  </thead>\n",
       "  <tbody>\n",
       "    <tr>\n",
       "      <th>0</th>\n",
       "      <td>1</td>\n",
       "    </tr>\n",
       "    <tr>\n",
       "      <th>1</th>\n",
       "      <td>0</td>\n",
       "    </tr>\n",
       "    <tr>\n",
       "      <th>2</th>\n",
       "      <td>1</td>\n",
       "    </tr>\n",
       "    <tr>\n",
       "      <th>3</th>\n",
       "      <td>0</td>\n",
       "    </tr>\n",
       "    <tr>\n",
       "      <th>4</th>\n",
       "      <td>1</td>\n",
       "    </tr>\n",
       "    <tr>\n",
       "      <th>5</th>\n",
       "      <td>0</td>\n",
       "    </tr>\n",
       "    <tr>\n",
       "      <th>6</th>\n",
       "      <td>1</td>\n",
       "    </tr>\n",
       "    <tr>\n",
       "      <th>7</th>\n",
       "      <td>0</td>\n",
       "    </tr>\n",
       "  </tbody>\n",
       "</table>\n",
       "</div>"
      ]
     },
     "execution_count": 4,
     "metadata": {},
     "output_type": "execute_result"
    }
   ],
   "execution_count": 4
  },
  {
   "metadata": {},
   "cell_type": "markdown",
   "source": "34. Force a conversão de uma coluna para float e analise os possíveis erros.",
   "id": "e1d29f65580589ff"
  },
  {
   "metadata": {
    "ExecuteTime": {
     "end_time": "2025-02-23T13:09:58.329771Z",
     "start_time": "2025-02-23T13:09:58.308569Z"
    }
   },
   "cell_type": "code",
   "source": [
    "import pandas as pd\n",
    "\n",
    "df = {\n",
    "\t'numeros': [1,2,3,4,5,6,7,8,9]\n",
    "}\n",
    "df = pd.DataFrame(df)\n",
    "\n",
    "df['numeros'] = df['numeros'].astype(float)\n",
    "df"
   ],
   "id": "6b33a1f2ff1a079b",
   "outputs": [
    {
     "data": {
      "text/plain": [
       "   numeros\n",
       "0      1.0\n",
       "1      2.0\n",
       "2      3.0\n",
       "3      4.0\n",
       "4      5.0\n",
       "5      6.0\n",
       "6      7.0\n",
       "7      8.0\n",
       "8      9.0"
      ],
      "text/html": [
       "<div>\n",
       "<style scoped>\n",
       "    .dataframe tbody tr th:only-of-type {\n",
       "        vertical-align: middle;\n",
       "    }\n",
       "\n",
       "    .dataframe tbody tr th {\n",
       "        vertical-align: top;\n",
       "    }\n",
       "\n",
       "    .dataframe thead th {\n",
       "        text-align: right;\n",
       "    }\n",
       "</style>\n",
       "<table border=\"1\" class=\"dataframe\">\n",
       "  <thead>\n",
       "    <tr style=\"text-align: right;\">\n",
       "      <th></th>\n",
       "      <th>numeros</th>\n",
       "    </tr>\n",
       "  </thead>\n",
       "  <tbody>\n",
       "    <tr>\n",
       "      <th>0</th>\n",
       "      <td>1.0</td>\n",
       "    </tr>\n",
       "    <tr>\n",
       "      <th>1</th>\n",
       "      <td>2.0</td>\n",
       "    </tr>\n",
       "    <tr>\n",
       "      <th>2</th>\n",
       "      <td>3.0</td>\n",
       "    </tr>\n",
       "    <tr>\n",
       "      <th>3</th>\n",
       "      <td>4.0</td>\n",
       "    </tr>\n",
       "    <tr>\n",
       "      <th>4</th>\n",
       "      <td>5.0</td>\n",
       "    </tr>\n",
       "    <tr>\n",
       "      <th>5</th>\n",
       "      <td>6.0</td>\n",
       "    </tr>\n",
       "    <tr>\n",
       "      <th>6</th>\n",
       "      <td>7.0</td>\n",
       "    </tr>\n",
       "    <tr>\n",
       "      <th>7</th>\n",
       "      <td>8.0</td>\n",
       "    </tr>\n",
       "    <tr>\n",
       "      <th>8</th>\n",
       "      <td>9.0</td>\n",
       "    </tr>\n",
       "  </tbody>\n",
       "</table>\n",
       "</div>"
      ]
     },
     "execution_count": 6,
     "metadata": {},
     "output_type": "execute_result"
    }
   ],
   "execution_count": 6
  },
  {
   "metadata": {},
   "cell_type": "markdown",
   "source": [
    "## **Desafios**\n",
    "\n",
    "35. Crie um `DataFrame` que contenha uma hierarquia de índices (`MultiIndex`) e demonstre como acessar elementos específicos."
   ],
   "id": "ca981dc79e96592a"
  },
  {
   "metadata": {
    "ExecuteTime": {
     "end_time": "2025-02-23T13:26:12.979163Z",
     "start_time": "2025-02-23T13:26:12.957657Z"
    }
   },
   "cell_type": "code",
   "source": [
    "meses_ordenados = ['JAN', 'FEV', 'MAR', 'ABR', 'MAI', 'JUN', 'JUL', 'AGO', 'SET', 'OUT', 'NOV', 'DEZ']\n",
    "\n",
    "array = [[2022,2023,2022,2023,2022,2023],['JAN','JAN','FEV','FEV','MAR','MAR']]\n",
    "valores = [12,13,14,15,16,17]\n",
    "index = pd.MultiIndex.from_arrays(array, names=['Ano','Mes'], sortorder=0)\n",
    "\n",
    "df = pd.DataFrame({'Valores': valores}, index=index)\n",
    "\n",
    "df"
   ],
   "id": "e18334497933b047",
   "outputs": [
    {
     "data": {
      "text/plain": [
       "          Valores\n",
       "Ano  Mes         \n",
       "2022 JAN       12\n",
       "2023 JAN       13\n",
       "2022 FEV       14\n",
       "2023 FEV       15\n",
       "2022 MAR       16\n",
       "2023 MAR       17"
      ],
      "text/html": [
       "<div>\n",
       "<style scoped>\n",
       "    .dataframe tbody tr th:only-of-type {\n",
       "        vertical-align: middle;\n",
       "    }\n",
       "\n",
       "    .dataframe tbody tr th {\n",
       "        vertical-align: top;\n",
       "    }\n",
       "\n",
       "    .dataframe thead th {\n",
       "        text-align: right;\n",
       "    }\n",
       "</style>\n",
       "<table border=\"1\" class=\"dataframe\">\n",
       "  <thead>\n",
       "    <tr style=\"text-align: right;\">\n",
       "      <th></th>\n",
       "      <th></th>\n",
       "      <th>Valores</th>\n",
       "    </tr>\n",
       "    <tr>\n",
       "      <th>Ano</th>\n",
       "      <th>Mes</th>\n",
       "      <th></th>\n",
       "    </tr>\n",
       "  </thead>\n",
       "  <tbody>\n",
       "    <tr>\n",
       "      <th>2022</th>\n",
       "      <th>JAN</th>\n",
       "      <td>12</td>\n",
       "    </tr>\n",
       "    <tr>\n",
       "      <th>2023</th>\n",
       "      <th>JAN</th>\n",
       "      <td>13</td>\n",
       "    </tr>\n",
       "    <tr>\n",
       "      <th>2022</th>\n",
       "      <th>FEV</th>\n",
       "      <td>14</td>\n",
       "    </tr>\n",
       "    <tr>\n",
       "      <th>2023</th>\n",
       "      <th>FEV</th>\n",
       "      <td>15</td>\n",
       "    </tr>\n",
       "    <tr>\n",
       "      <th>2022</th>\n",
       "      <th>MAR</th>\n",
       "      <td>16</td>\n",
       "    </tr>\n",
       "    <tr>\n",
       "      <th>2023</th>\n",
       "      <th>MAR</th>\n",
       "      <td>17</td>\n",
       "    </tr>\n",
       "  </tbody>\n",
       "</table>\n",
       "</div>"
      ]
     },
     "execution_count": 18,
     "metadata": {},
     "output_type": "execute_result"
    }
   ],
   "execution_count": 18
  },
  {
   "metadata": {},
   "cell_type": "markdown",
   "source": "36. Leia um arquivo CSV, defina a primeira coluna como índice e depois salve como um novo arquivo CSV sem índice.",
   "id": "c50e941457b679de"
  },
  {
   "metadata": {
    "ExecuteTime": {
     "end_time": "2025-02-23T15:35:10.535404Z",
     "start_time": "2025-02-23T15:35:10.496526Z"
    }
   },
   "cell_type": "code",
   "source": [
    "import pandas as pd\n",
    "dados = pd.read_csv('auxiliar/dados.csv', sep=';', parse_dates=['Data'], date_format='%d/%m/%Y')\n",
    "dados"
   ],
   "id": "1d199eedd83497ea",
   "outputs": [
    {
     "data": {
      "text/plain": [
       "         Data  Valor\n",
       "0  2022-01-01    135\n",
       "1  2022-01-02    108\n",
       "2  2022-01-03    205\n",
       "3  2022-01-04    180\n",
       "4  2022-01-05    235\n",
       "5  2022-01-06    198\n",
       "6  2022-01-07    281\n",
       "7  2022-01-08    269\n",
       "8  2022-01-09    158\n",
       "9  2022-01-10    129\n",
       "10 2022-01-11    165\n",
       "11 2022-01-12    184\n",
       "12 2022-01-13    217\n",
       "13 2022-01-14    280"
      ],
      "text/html": [
       "<div>\n",
       "<style scoped>\n",
       "    .dataframe tbody tr th:only-of-type {\n",
       "        vertical-align: middle;\n",
       "    }\n",
       "\n",
       "    .dataframe tbody tr th {\n",
       "        vertical-align: top;\n",
       "    }\n",
       "\n",
       "    .dataframe thead th {\n",
       "        text-align: right;\n",
       "    }\n",
       "</style>\n",
       "<table border=\"1\" class=\"dataframe\">\n",
       "  <thead>\n",
       "    <tr style=\"text-align: right;\">\n",
       "      <th></th>\n",
       "      <th>Data</th>\n",
       "      <th>Valor</th>\n",
       "    </tr>\n",
       "  </thead>\n",
       "  <tbody>\n",
       "    <tr>\n",
       "      <th>0</th>\n",
       "      <td>2022-01-01</td>\n",
       "      <td>135</td>\n",
       "    </tr>\n",
       "    <tr>\n",
       "      <th>1</th>\n",
       "      <td>2022-01-02</td>\n",
       "      <td>108</td>\n",
       "    </tr>\n",
       "    <tr>\n",
       "      <th>2</th>\n",
       "      <td>2022-01-03</td>\n",
       "      <td>205</td>\n",
       "    </tr>\n",
       "    <tr>\n",
       "      <th>3</th>\n",
       "      <td>2022-01-04</td>\n",
       "      <td>180</td>\n",
       "    </tr>\n",
       "    <tr>\n",
       "      <th>4</th>\n",
       "      <td>2022-01-05</td>\n",
       "      <td>235</td>\n",
       "    </tr>\n",
       "    <tr>\n",
       "      <th>5</th>\n",
       "      <td>2022-01-06</td>\n",
       "      <td>198</td>\n",
       "    </tr>\n",
       "    <tr>\n",
       "      <th>6</th>\n",
       "      <td>2022-01-07</td>\n",
       "      <td>281</td>\n",
       "    </tr>\n",
       "    <tr>\n",
       "      <th>7</th>\n",
       "      <td>2022-01-08</td>\n",
       "      <td>269</td>\n",
       "    </tr>\n",
       "    <tr>\n",
       "      <th>8</th>\n",
       "      <td>2022-01-09</td>\n",
       "      <td>158</td>\n",
       "    </tr>\n",
       "    <tr>\n",
       "      <th>9</th>\n",
       "      <td>2022-01-10</td>\n",
       "      <td>129</td>\n",
       "    </tr>\n",
       "    <tr>\n",
       "      <th>10</th>\n",
       "      <td>2022-01-11</td>\n",
       "      <td>165</td>\n",
       "    </tr>\n",
       "    <tr>\n",
       "      <th>11</th>\n",
       "      <td>2022-01-12</td>\n",
       "      <td>184</td>\n",
       "    </tr>\n",
       "    <tr>\n",
       "      <th>12</th>\n",
       "      <td>2022-01-13</td>\n",
       "      <td>217</td>\n",
       "    </tr>\n",
       "    <tr>\n",
       "      <th>13</th>\n",
       "      <td>2022-01-14</td>\n",
       "      <td>280</td>\n",
       "    </tr>\n",
       "  </tbody>\n",
       "</table>\n",
       "</div>"
      ]
     },
     "execution_count": 20,
     "metadata": {},
     "output_type": "execute_result"
    }
   ],
   "execution_count": 20
  },
  {
   "metadata": {},
   "cell_type": "markdown",
   "source": "37. Construa um `DataFrame` a partir de um JSON aninhado e normalize seus dados.",
   "id": "c2c6e03d359eb8f5"
  },
  {
   "metadata": {
    "ExecuteTime": {
     "end_time": "2025-02-23T15:47:46.496679Z",
     "start_time": "2025-02-23T15:47:46.480342Z"
    }
   },
   "cell_type": "code",
   "source": [
    "import pandas as pd\n",
    "from pandas import json_normalize\n",
    "import json\n",
    "\n",
    "dados = json.loads(\n",
    "\topen('auxiliar/dados.json', 'r').read()\n",
    ")\n",
    "\n",
    "dados = pd.json_normalize(dados['dados'])\n",
    "\n",
    "dados"
   ],
   "id": "98646b4743c12fde",
   "outputs": [
    {
     "data": {
      "text/plain": [
       "     nome  idade        cidade\n",
       "0   JoÃ£o     30        Canoas\n",
       "1   Maria     25  Porto Alegre\n",
       "2  Carlos     35    SÃ£o Paulo"
      ],
      "text/html": [
       "<div>\n",
       "<style scoped>\n",
       "    .dataframe tbody tr th:only-of-type {\n",
       "        vertical-align: middle;\n",
       "    }\n",
       "\n",
       "    .dataframe tbody tr th {\n",
       "        vertical-align: top;\n",
       "    }\n",
       "\n",
       "    .dataframe thead th {\n",
       "        text-align: right;\n",
       "    }\n",
       "</style>\n",
       "<table border=\"1\" class=\"dataframe\">\n",
       "  <thead>\n",
       "    <tr style=\"text-align: right;\">\n",
       "      <th></th>\n",
       "      <th>nome</th>\n",
       "      <th>idade</th>\n",
       "      <th>cidade</th>\n",
       "    </tr>\n",
       "  </thead>\n",
       "  <tbody>\n",
       "    <tr>\n",
       "      <th>0</th>\n",
       "      <td>JoÃ£o</td>\n",
       "      <td>30</td>\n",
       "      <td>Canoas</td>\n",
       "    </tr>\n",
       "    <tr>\n",
       "      <th>1</th>\n",
       "      <td>Maria</td>\n",
       "      <td>25</td>\n",
       "      <td>Porto Alegre</td>\n",
       "    </tr>\n",
       "    <tr>\n",
       "      <th>2</th>\n",
       "      <td>Carlos</td>\n",
       "      <td>35</td>\n",
       "      <td>SÃ£o Paulo</td>\n",
       "    </tr>\n",
       "  </tbody>\n",
       "</table>\n",
       "</div>"
      ]
     },
     "execution_count": 29,
     "metadata": {},
     "output_type": "execute_result"
    }
   ],
   "execution_count": 29
  },
  {
   "metadata": {},
   "cell_type": "markdown",
   "source": "38. Compare a performance de conversões de tipos de dados entre `astype()` e `convert_dtypes()`.",
   "id": "c8c6c527c8a0f5ed"
  },
  {
   "metadata": {},
   "cell_type": "code",
   "outputs": [],
   "execution_count": null,
   "source": "",
   "id": "256fec0dcaed5db0"
  },
  {
   "metadata": {},
   "cell_type": "markdown",
   "source": "39. Escreva um `DataFrame` para um banco de dados SQLite e consulte apenas os registros em que a idade seja superior a 30 anos.",
   "id": "12db3077a216b8ba"
  },
  {
   "metadata": {},
   "cell_type": "code",
   "outputs": [],
   "execution_count": null,
   "source": "",
   "id": "49a43246ff438751"
  },
  {
   "metadata": {},
   "cell_type": "markdown",
   "source": "40. Leia um arquivo Excel contendo várias planilhas e combine todas elas em um único `DataFrame`.",
   "id": "5e16045f412221ba"
  },
  {
   "metadata": {},
   "cell_type": "code",
   "outputs": [],
   "execution_count": null,
   "source": "",
   "id": "93bc413ee266bc9b"
  },
  {
   "metadata": {},
   "cell_type": "markdown",
   "source": "41. Gere um `DataFrame` com valores aleatórios e substitua os valores negativos por `NaN`.",
   "id": "70b25032f7d49e21"
  },
  {
   "metadata": {},
   "cell_type": "code",
   "outputs": [],
   "execution_count": null,
   "source": "",
   "id": "cca8b4432cee41a7"
  },
  {
   "metadata": {},
   "cell_type": "markdown",
   "source": "42. Calcule a média, mediana e desvio padrão de uma coluna numérica de um `DataFrame`.",
   "id": "7063e394917e85ce"
  },
  {
   "metadata": {},
   "cell_type": "code",
   "outputs": [],
   "execution_count": null,
   "source": "",
   "id": "d6cd54f68ec52620"
  },
  {
   "metadata": {},
   "cell_type": "markdown",
   "source": "43. Substitua os valores `NaN` de um `DataFrame` pelo valor da média de cada coluna.",
   "id": "dcfdb7bf30b6fa91"
  },
  {
   "metadata": {},
   "cell_type": "code",
   "outputs": [],
   "execution_count": null,
   "source": "",
   "id": "559d69571329d836"
  },
  {
   "metadata": {},
   "cell_type": "markdown",
   "source": "44. Crie um `DataFrame` categórico com rótulos representando tipos de clientes e converta-o para `category`.",
   "id": "39880abd65b8aa6d"
  },
  {
   "metadata": {},
   "cell_type": "code",
   "outputs": [],
   "execution_count": null,
   "source": "",
   "id": "d7076a4072b435ac"
  },
  {
   "metadata": {},
   "cell_type": "markdown",
   "source": "45. A partir de um `DataFrame`, selecione apenas as linhas que contêm valores nulos em qualquer coluna.",
   "id": "d2cbb68d0a22ace6"
  },
  {
   "metadata": {},
   "cell_type": "code",
   "outputs": [],
   "execution_count": null,
   "source": "",
   "id": "69267b2b1e9996fe"
  },
  {
   "metadata": {},
   "cell_type": "markdown",
   "source": "46. Gere um `DataFrame` com colunas representando diferentes moedas e converta os valores entre elas com base em uma taxa de câmbio.",
   "id": "33df7dc16ebc601e"
  },
  {
   "metadata": {},
   "cell_type": "code",
   "outputs": [],
   "execution_count": null,
   "source": "",
   "id": "9688345a8094d166"
  },
  {
   "metadata": {},
   "cell_type": "markdown",
   "source": "47. Crie um `DataFrame` que contenha uma coluna de datas aleatórias e ordene as linhas por essa coluna.",
   "id": "d4947b1cbc04b6c4"
  },
  {
   "metadata": {},
   "cell_type": "code",
   "outputs": [],
   "execution_count": null,
   "source": "",
   "id": "408b2d0abd3122c4"
  },
  {
   "metadata": {},
   "cell_type": "markdown",
   "source": "48. Faça um `explode()` em um `DataFrame` contendo listas, mas antes converta os valores individuais para inteiro.",
   "id": "156dc7c6d9040e54"
  },
  {
   "metadata": {},
   "cell_type": "code",
   "outputs": [],
   "execution_count": null,
   "source": "",
   "id": "29d8c0e20e8b5966"
  },
  {
   "metadata": {},
   "cell_type": "markdown",
   "source": "49. Utilize `rename()` para alterar os índices de um `DataFrame`, transformando-os em valores mais compreensíveis.",
   "id": "f9038de5a412e853"
  },
  {
   "metadata": {},
   "cell_type": "code",
   "outputs": [],
   "execution_count": null,
   "source": "",
   "id": "3a002265fad7a1fa"
  },
  {
   "metadata": {},
   "cell_type": "markdown",
   "source": "50. Escreva um código que valide automaticamente os tipos de dados de um `DataFrame` e gere um relatório sobre a consistência das colunas.",
   "id": "d2d6f443bce57ce5"
  },
  {
   "metadata": {},
   "cell_type": "code",
   "outputs": [],
   "execution_count": null,
   "source": "",
   "id": "ab8deb34e98320be"
  }
 ],
 "metadata": {
  "kernelspec": {
   "display_name": "Python 3",
   "language": "python",
   "name": "python3"
  },
  "language_info": {
   "codemirror_mode": {
    "name": "ipython",
    "version": 2
   },
   "file_extension": ".py",
   "mimetype": "text/x-python",
   "name": "python",
   "nbconvert_exporter": "python",
   "pygments_lexer": "ipython2",
   "version": "2.7.6"
  }
 },
 "nbformat": 4,
 "nbformat_minor": 5
}
