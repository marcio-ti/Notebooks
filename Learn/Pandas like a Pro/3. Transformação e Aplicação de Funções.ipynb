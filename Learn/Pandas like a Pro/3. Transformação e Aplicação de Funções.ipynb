{
 "cells": [
  {
   "metadata": {},
   "cell_type": "markdown",
   "source": [
    "## **3. Transformação e Aplicação de Funções**\n",
    "- Aplicação de funções (`apply()`, `map()`, `applymap()`, `lambda`)\n",
    "- Expressões regulares (`str.contains()`, `str.replace()`, `str.extract()`, `str.match()`)\n",
    "- Manipulação de strings (`str.split()`, `str.upper()`, `str.strip()`)\n",
    "- Conversões de tipo (`astype()`, `to_numeric()`, `to_datetime()`)"
   ],
   "id": "45f018191f9b4088"
  },
  {
   "metadata": {},
   "cell_type": "code",
   "outputs": [],
   "execution_count": null,
   "source": "",
   "id": "f6e8856dc6576f24"
  }
 ],
 "metadata": {
  "kernelspec": {
   "display_name": "Python 3",
   "language": "python",
   "name": "python3"
  },
  "language_info": {
   "codemirror_mode": {
    "name": "ipython",
    "version": 2
   },
   "file_extension": ".py",
   "mimetype": "text/x-python",
   "name": "python",
   "nbconvert_exporter": "python",
   "pygments_lexer": "ipython2",
   "version": "2.7.6"
  }
 },
 "nbformat": 4,
 "nbformat_minor": 5
}
