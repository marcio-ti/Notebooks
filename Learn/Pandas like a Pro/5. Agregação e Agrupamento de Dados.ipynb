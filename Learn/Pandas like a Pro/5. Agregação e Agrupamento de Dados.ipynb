{
 "cells": [
  {
   "metadata": {},
   "cell_type": "markdown",
   "source": [
    "## **5. Agregação e Agrupamento de Dados**\n",
    "- Agrupamento com `groupby()`, `agg()`, `transform()`, `filter()`\n",
    "- Tabelas dinâmicas com `pivot_table()` e `crosstab()`\n",
    "- Operações de janela (`rolling()`, `expanding()`, `ewm()`)\n",
    "- Estatísticas sobre linhas e colunas (`sum()`, `mean()`, `median()`, `std()`, `var()`, `count()`, `corr()`, `cov()`)\n"
   ],
   "id": "4abfe11d412b8c98"
  },
  {
   "metadata": {},
   "cell_type": "code",
   "outputs": [],
   "execution_count": null,
   "source": "",
   "id": "8efb3a9b1356856"
  }
 ],
 "metadata": {
  "kernelspec": {
   "display_name": "Python 3",
   "language": "python",
   "name": "python3"
  },
  "language_info": {
   "codemirror_mode": {
    "name": "ipython",
    "version": 2
   },
   "file_extension": ".py",
   "mimetype": "text/x-python",
   "name": "python",
   "nbconvert_exporter": "python",
   "pygments_lexer": "ipython2",
   "version": "2.7.6"
  }
 },
 "nbformat": 4,
 "nbformat_minor": 5
}
