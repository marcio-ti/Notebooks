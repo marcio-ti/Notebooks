{
 "cells": [
  {
   "metadata": {},
   "cell_type": "markdown",
   "source": [
    "## **6. Mesclagem e Junção de Dados**\n",
    "- Concatenação (`concat()`)\n",
    "- Merge e Join (`merge()`, `join()`)\n",
    "- Combinação de DataFrames (`combine_first()`)\n",
    "- Uso de chaves compostas para junção eficiente"
   ],
   "id": "d961099a71b10fed"
  },
  {
   "metadata": {},
   "cell_type": "code",
   "outputs": [],
   "execution_count": null,
   "source": "",
   "id": "a9f0c44e7b4ed7e2"
  }
 ],
 "metadata": {
  "kernelspec": {
   "display_name": "Python 3",
   "language": "python",
   "name": "python3"
  },
  "language_info": {
   "codemirror_mode": {
    "name": "ipython",
    "version": 2
   },
   "file_extension": ".py",
   "mimetype": "text/x-python",
   "name": "python",
   "nbconvert_exporter": "python",
   "pygments_lexer": "ipython2",
   "version": "2.7.6"
  }
 },
 "nbformat": 4,
 "nbformat_minor": 5
}
