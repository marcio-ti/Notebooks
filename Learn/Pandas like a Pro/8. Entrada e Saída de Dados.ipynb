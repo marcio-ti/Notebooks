{
 "cells": [
  {
   "metadata": {},
   "cell_type": "markdown",
   "source": [
    "## **8. Entrada e Saída de Dados (I/O)**\n",
    "- Leitura de arquivos (`read_csv()`, `read_excel()`, `read_json()`, `read_sql()`)\n",
    "- Escrita de arquivos (`to_csv()`, `to_excel()`, `to_json()`, `to_sql()`)\n",
    "- Uso do **PyArrow** para otimização de leitura/escrita\n",
    "- Trabalhando com arquivos grandes (`chunksize`, `dask`)"
   ],
   "id": "ab5353ad926f17b"
  },
  {
   "metadata": {},
   "cell_type": "code",
   "outputs": [],
   "execution_count": null,
   "source": "",
   "id": "a7342f34c7843bb4"
  }
 ],
 "metadata": {
  "kernelspec": {
   "display_name": "Python 3",
   "language": "python",
   "name": "python3"
  },
  "language_info": {
   "codemirror_mode": {
    "name": "ipython",
    "version": 2
   },
   "file_extension": ".py",
   "mimetype": "text/x-python",
   "name": "python",
   "nbconvert_exporter": "python",
   "pygments_lexer": "ipython2",
   "version": "2.7.6"
  }
 },
 "nbformat": 4,
 "nbformat_minor": 5
}
