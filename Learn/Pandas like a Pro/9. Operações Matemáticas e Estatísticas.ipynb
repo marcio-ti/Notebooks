{
 "cells": [
  {
   "metadata": {},
   "cell_type": "markdown",
   "source": [
    "## **9. Operações Matemáticas e Estatísticas**\n",
    "- Operações sobre colunas e linhas (`+`, `-`, `*`, `/`, `**`)\n",
    "- Estatísticas básicas (`sum()`, `mean()`, `median()`, `std()`, `var()`, `min()`, `max()`)\n",
    "- Análise de correlação (`corr()`, `cov()`)\n",
    "- Aplicação de cálculos condicionais (`np.where()`, `apply()`)"
   ],
   "id": "9f254dc25804f858"
  },
  {
   "metadata": {},
   "cell_type": "code",
   "outputs": [],
   "execution_count": null,
   "source": "",
   "id": "e3026912cc58fa60"
  }
 ],
 "metadata": {
  "kernelspec": {
   "display_name": "Python 3",
   "language": "python",
   "name": "python3"
  },
  "language_info": {
   "codemirror_mode": {
    "name": "ipython",
    "version": 2
   },
   "file_extension": ".py",
   "mimetype": "text/x-python",
   "name": "python",
   "nbconvert_exporter": "python",
   "pygments_lexer": "ipython2",
   "version": "2.7.6"
  }
 },
 "nbformat": 4,
 "nbformat_minor": 5
}
