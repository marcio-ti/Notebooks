{
 "cells": [
  {
   "metadata": {},
   "cell_type": "markdown",
   "source": [
    "## **2. Seleção e Manipulação de Dados**\n",
    "- Seleção (`loc[]`, `iloc[]`, `at[]`, `iat[]`)\n",
    "- Filtragem (`query()`, `isin()`, `between()`, `mask()`, `where()`)\n",
    "- Adição e remoção de colunas/linhas (`assign()`, `drop()`, `insert()`, `append()`)\n",
    "- Trabalhando com dados ausentes (`isna()`, `fillna()`, `dropna()`, `interpolate()`)\n",
    "- Manipulação de listas e dicionários dentro de DataFrames (`apply()`, `map()`, `explode()`)\n",
    "- Uso de **loops e condicionais** para manipular e modificar dados (`for`, `if-else`, `apply(lambda)`)"
   ],
   "id": "b3cadb76682e2e26"
  },
  {
   "metadata": {},
   "cell_type": "code",
   "outputs": [],
   "execution_count": null,
   "source": "",
   "id": "7985dbc9201badad"
  }
 ],
 "metadata": {
  "kernelspec": {
   "display_name": "Python 3",
   "language": "python",
   "name": "python3"
  },
  "language_info": {
   "codemirror_mode": {
    "name": "ipython",
    "version": 2
   },
   "file_extension": ".py",
   "mimetype": "text/x-python",
   "name": "python",
   "nbconvert_exporter": "python",
   "pygments_lexer": "ipython2",
   "version": "2.7.6"
  }
 },
 "nbformat": 4,
 "nbformat_minor": 5
}
