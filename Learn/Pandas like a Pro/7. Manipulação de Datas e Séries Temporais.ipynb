{
 "cells": [
  {
   "metadata": {},
   "cell_type": "markdown",
   "source": [
    "## **7. Manipulação de Datas e Séries Temporais**\n",
    "- Conversão de datas (`to_datetime()`, `Timestamp`, `date_range()`)\n",
    "- Extração de informações (`dt.year`, `dt.month`, `dt.day`, `dt.weekday`)\n",
    "- Trabalhando com meses e trimestres (`dt.to_period('M')`, `dt.to_period('Q')`)\n",
    "- Diferenças e deslocamentos (`diff()`, `shift()`, `resample()`, `rolling()`)\n",
    "- Séries temporais e indexação por tempo"
   ],
   "id": "f5cba4873cfdfb67"
  },
  {
   "metadata": {},
   "cell_type": "code",
   "outputs": [],
   "execution_count": null,
   "source": "",
   "id": "98def112ea2e2fa6"
  }
 ],
 "metadata": {
  "kernelspec": {
   "display_name": "Python 3",
   "language": "python",
   "name": "python3"
  },
  "language_info": {
   "codemirror_mode": {
    "name": "ipython",
    "version": 2
   },
   "file_extension": ".py",
   "mimetype": "text/x-python",
   "name": "python",
   "nbconvert_exporter": "python",
   "pygments_lexer": "ipython2",
   "version": "2.7.6"
  }
 },
 "nbformat": 4,
 "nbformat_minor": 5
}
