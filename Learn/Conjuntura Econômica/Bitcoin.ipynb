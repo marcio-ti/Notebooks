{
 "cells": [
  {
   "cell_type": "code",
   "id": "initial_id",
   "metadata": {
    "collapsed": true,
    "jupyter": {
     "is_executing": true
    }
   },
   "source": [
    "import json\n",
    "import requests"
   ],
   "outputs": [],
   "execution_count": null
  },
  {
   "metadata": {
    "ExecuteTime": {
     "end_time": "2024-11-03T11:30:45.434068Z",
     "start_time": "2024-11-03T11:30:45.418810Z"
    }
   },
   "cell_type": "code",
   "source": [
    "def service_url(service_name):\n",
    "\treturn 'https://api.coinext.com.br:8443/AP/%s' % service_name\n",
    "\n",
    "\n",
    "def call_get(service_name, **kwargs):\n",
    "\tres = requests.get(service_url(service_name), **kwargs)\n",
    "\treturn json.loads(res.content)\n",
    "\n",
    "\n",
    "def call_post(service_name, payload={}, **kwargs):\n",
    "\tres = requests.post(service_url(service_name),\n",
    "\t\t\t\t\t\tjson.dumps(payload), **kwargs)\n",
    "\treturn json.loads(res.content)\n",
    "\n",
    "\n",
    "def main():\n",
    "\tauth = call_get('authenticate', auth=('your-email', 'your-password'))\n",
    "\tif auth['Authenticated']:\n",
    "\t\tuser_info = call_post('GetUserInfo', headers={\n",
    "\t\t\t'aptoken': auth['Token'],\n",
    "\t\t\t'Content-type': 'application/json'\n",
    "\t\t})\n",
    "\t\tprint(user_info)"
   ],
   "id": "507728ee157d0b3d",
   "outputs": [],
   "execution_count": 2
  },
  {
   "metadata": {
    "ExecuteTime": {
     "end_time": "2024-11-03T11:30:57.659442Z",
     "start_time": "2024-11-03T11:30:54.215423Z"
    }
   },
   "cell_type": "code",
   "source": [
    "x = main()\n",
    "x"
   ],
   "id": "263339ce4d88af48",
   "outputs": [],
   "execution_count": 3
  }
 ],
 "metadata": {
  "kernelspec": {
   "display_name": "Python 3",
   "language": "python",
   "name": "python3"
  },
  "language_info": {
   "codemirror_mode": {
    "name": "ipython",
    "version": 2
   },
   "file_extension": ".py",
   "mimetype": "text/x-python",
   "name": "python",
   "nbconvert_exporter": "python",
   "pygments_lexer": "ipython2",
   "version": "2.7.6"
  }
 },
 "nbformat": 4,
 "nbformat_minor": 5
}
