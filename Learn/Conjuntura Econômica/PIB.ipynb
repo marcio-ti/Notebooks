{
 "cells": [
  {
   "metadata": {},
   "cell_type": "markdown",
   "source": "# Análise do PIB",
   "id": "2e13dca0ccb8f178"
  },
  {
   "cell_type": "code",
   "execution_count": null,
   "id": "initial_id",
   "metadata": {
    "collapsed": true
   },
   "outputs": [],
   "source": [
    ""
   ]
  },
  {
   "metadata": {},
   "cell_type": "markdown",
   "source": [
    "## PIB sob a ótica da Demanda\n",
    "<hr>"
   ],
   "id": "9a670cca6468da39"
  },
  {
   "metadata": {},
   "cell_type": "code",
   "outputs": [],
   "execution_count": null,
   "source": "",
   "id": "7020e98b6c86de2a"
  },
  {
   "metadata": {},
   "cell_type": "markdown",
   "source": "### 1. Consumo das Famílias",
   "id": "b02497cfe78c65f6"
  },
  {
   "metadata": {},
   "cell_type": "code",
   "outputs": [],
   "execution_count": null,
   "source": "",
   "id": "345d850254c5210e"
  },
  {
   "metadata": {},
   "cell_type": "markdown",
   "source": "### 2. Despesas do Governo",
   "id": "6135df639b2120f1"
  },
  {
   "metadata": {},
   "cell_type": "code",
   "outputs": [],
   "execution_count": null,
   "source": "",
   "id": "cbf42fbb204e7ea0"
  },
  {
   "metadata": {},
   "cell_type": "markdown",
   "source": "### 3. Formação Bruta de Capital Fixo",
   "id": "bd3e101d5a9dc961"
  },
  {
   "metadata": {},
   "cell_type": "code",
   "outputs": [],
   "execution_count": null,
   "source": "",
   "id": "660d2e1ebd18ac96"
  },
  {
   "metadata": {},
   "cell_type": "markdown",
   "source": "### 4. Exportações",
   "id": "72d18c5a0190977b"
  },
  {
   "metadata": {},
   "cell_type": "code",
   "outputs": [],
   "execution_count": null,
   "source": "",
   "id": "7317a313fefbde76"
  },
  {
   "metadata": {},
   "cell_type": "markdown",
   "source": "### 5. Importações",
   "id": "58528cd98557cfd5"
  },
  {
   "metadata": {},
   "cell_type": "code",
   "outputs": [],
   "execution_count": null,
   "source": "",
   "id": "325741bcbc5fac4f"
  },
  {
   "metadata": {},
   "cell_type": "markdown",
   "source": "## PIB sob a ótica da Oferta",
   "id": "d8f8ac37f7112969"
  },
  {
   "metadata": {},
   "cell_type": "code",
   "outputs": [],
   "execution_count": null,
   "source": "",
   "id": "bc837233d215b05c"
  },
  {
   "metadata": {},
   "cell_type": "markdown",
   "source": "### 1. Agropecuária",
   "id": "5810808d34b3a22e"
  },
  {
   "metadata": {},
   "cell_type": "code",
   "outputs": [],
   "execution_count": null,
   "source": "",
   "id": "225a5df8f5d4ecc9"
  },
  {
   "metadata": {},
   "cell_type": "markdown",
   "source": "### 2. Indústria",
   "id": "dae81b43f544067"
  },
  {
   "metadata": {},
   "cell_type": "code",
   "outputs": [],
   "execution_count": null,
   "source": "",
   "id": "430289c8faadae58"
  },
  {
   "metadata": {},
   "cell_type": "markdown",
   "source": "### 3. Serviços",
   "id": "fe0b7a07f7dae843"
  },
  {
   "metadata": {},
   "cell_type": "code",
   "outputs": [],
   "execution_count": null,
   "source": "",
   "id": "dcd644248542dbe0"
  }
 ],
 "metadata": {
  "kernelspec": {
   "display_name": "Python 3",
   "language": "python",
   "name": "python3"
  },
  "language_info": {
   "codemirror_mode": {
    "name": "ipython",
    "version": 2
   },
   "file_extension": ".py",
   "mimetype": "text/x-python",
   "name": "python",
   "nbconvert_exporter": "python",
   "pygments_lexer": "ipython2",
   "version": "2.7.6"
  }
 },
 "nbformat": 4,
 "nbformat_minor": 5
}
