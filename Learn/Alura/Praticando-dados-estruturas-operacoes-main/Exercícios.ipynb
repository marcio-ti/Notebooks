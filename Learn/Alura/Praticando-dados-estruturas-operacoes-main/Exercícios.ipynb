{
 "cells": [
  {
   "cell_type": "code",
   "id": "initial_id",
   "metadata": {
    "collapsed": true,
    "ExecuteTime": {
     "end_time": "2025-01-25T10:23:59.552821Z",
     "start_time": "2025-01-25T10:23:50.387203Z"
    }
   },
   "source": "import pandas as pd",
   "outputs": [],
   "execution_count": 1
  },
  {
   "metadata": {},
   "cell_type": "markdown",
   "source": [
    "###  Análise de dados de atletas em uma lista\n",
    "Você é um cientista de dados trabalhando para um comitê olímpico. Você recebeu uma lista com informações de atletas de diversas modalidades, incluindo nome, altura (em metros) e peso (em kg). Esses dados estão organizados de forma um pouco confusa, dificultando a análise. Sua tarefa é usar um loop for em Python para processar essa lista e organizar as informações de cada atleta em um formato mais estruturado, facilitando futuras análises estatísticas e comparações.\n",
    "<br><br>\n",
    "A lista de atletas é representada da seguinte maneira:"
   ],
   "id": "baf36f3f030a2999"
  },
  {
   "metadata": {
    "ExecuteTime": {
     "end_time": "2025-01-25T10:24:32.503345Z",
     "start_time": "2025-01-25T10:24:32.489936Z"
    }
   },
   "cell_type": "code",
   "source": [
    "atletas = [\n",
    "\t[\"Maria Silva\", 1.75, 65],\n",
    "\t[\"João Santos\", 1.80, 72],\n",
    "\t[\"Ana Pereira\", 1.68, 58],\n",
    "\t[\"Pedro Oliveira\", 1.92, 85],\n",
    "\t[\"Carlos Lima\", 1.85, 78],\n",
    "\t[\"Beatriz Souza\", 1.70, 60],\n",
    "\t[\"Fernanda Costa\", 1.62, 55],\n",
    "\t[\"Lucas Almeida\", 1.88, 82],\n",
    "\t[\"Rafaela Gomes\", 1.74, 63],\n",
    "\t[\"Gustavo Ferreira\", 1.90, 88],\n",
    "\t[\"Larissa Rocha\", 1.66, 57],\n",
    "\t[\"Henrique Nunes\", 1.83, 76],\n",
    "\t[\"Juliana Martins\", 1.72, 59],\n",
    "\t[\"Ricardo Carvalho\", 1.86, 80],\n",
    "\t[\"Sofia Alves\", 1.64, 54],\n",
    "\t[\"Matheus Ribeiro\", 1.89, 84],\n",
    "\t[\"Camila Duarte\", 1.69, 61],\n",
    "\t[\"Gabriel Monteiro\", 1.77, 73],\n",
    "\t[\"Eduarda Farias\", 1.71, 62],\n",
    "\t[\"Thiago Mendes\", 1.84, 79],\n",
    "]"
   ],
   "id": "db6eda9d1d78ee18",
   "outputs": [],
   "execution_count": 2
  },
  {
   "metadata": {},
   "cell_type": "markdown",
   "source": [
    "<b>Objetivo:</b>\n",
    "\n",
    "Utilizando um loop for, crie um programa que processe a lista atletas e para cada atleta, imprima as informações no seguinte formato:<br>\n",
    "\n",
    "```\n",
    "Nome: <Nome do Atleta>\n",
    "Altura: <Altura do Atleta> m\n",
    "Peso: <Peso do Atleta> kg\n",
    "--------------------\n",
    "```\n",
    "Isso deve ser repetido para todos os atletas presentes na lista. Seu código deve funcionar independentemente do número de atletas presentes na lista."
   ],
   "id": "bc64dd3d0370100e"
  },
  {
   "metadata": {
    "ExecuteTime": {
     "end_time": "2025-01-25T10:28:31.608896Z",
     "start_time": "2025-01-25T10:28:31.590946Z"
    }
   },
   "cell_type": "code",
   "source": [
    "for item in atletas:\n",
    "\tprint(f\"Nome: {item[0]}\")\n",
    "\tprint(f\"Altura: {item[1]} m\")\n",
    "\tprint(f\"Peso: {item[2]} kg\")\n",
    "\tprint(\"-\" * 20)"
   ],
   "id": "ce4f57ff3729de17",
   "outputs": [
    {
     "name": "stdout",
     "output_type": "stream",
     "text": [
      "Nome: Maria Silva\n",
      "Altura: 1.75 m\n",
      "Peso: 65 kg\n",
      "--------------------\n",
      "Nome: João Santos\n",
      "Altura: 1.8 m\n",
      "Peso: 72 kg\n",
      "--------------------\n",
      "Nome: Ana Pereira\n",
      "Altura: 1.68 m\n",
      "Peso: 58 kg\n",
      "--------------------\n",
      "Nome: Pedro Oliveira\n",
      "Altura: 1.92 m\n",
      "Peso: 85 kg\n",
      "--------------------\n",
      "Nome: Carlos Lima\n",
      "Altura: 1.85 m\n",
      "Peso: 78 kg\n",
      "--------------------\n",
      "Nome: Beatriz Souza\n",
      "Altura: 1.7 m\n",
      "Peso: 60 kg\n",
      "--------------------\n",
      "Nome: Fernanda Costa\n",
      "Altura: 1.62 m\n",
      "Peso: 55 kg\n",
      "--------------------\n",
      "Nome: Lucas Almeida\n",
      "Altura: 1.88 m\n",
      "Peso: 82 kg\n",
      "--------------------\n",
      "Nome: Rafaela Gomes\n",
      "Altura: 1.74 m\n",
      "Peso: 63 kg\n",
      "--------------------\n",
      "Nome: Gustavo Ferreira\n",
      "Altura: 1.9 m\n",
      "Peso: 88 kg\n",
      "--------------------\n",
      "Nome: Larissa Rocha\n",
      "Altura: 1.66 m\n",
      "Peso: 57 kg\n",
      "--------------------\n",
      "Nome: Henrique Nunes\n",
      "Altura: 1.83 m\n",
      "Peso: 76 kg\n",
      "--------------------\n",
      "Nome: Juliana Martins\n",
      "Altura: 1.72 m\n",
      "Peso: 59 kg\n",
      "--------------------\n",
      "Nome: Ricardo Carvalho\n",
      "Altura: 1.86 m\n",
      "Peso: 80 kg\n",
      "--------------------\n",
      "Nome: Sofia Alves\n",
      "Altura: 1.64 m\n",
      "Peso: 54 kg\n",
      "--------------------\n",
      "Nome: Matheus Ribeiro\n",
      "Altura: 1.89 m\n",
      "Peso: 84 kg\n",
      "--------------------\n",
      "Nome: Camila Duarte\n",
      "Altura: 1.69 m\n",
      "Peso: 61 kg\n",
      "--------------------\n",
      "Nome: Gabriel Monteiro\n",
      "Altura: 1.77 m\n",
      "Peso: 73 kg\n",
      "--------------------\n",
      "Nome: Eduarda Farias\n",
      "Altura: 1.71 m\n",
      "Peso: 62 kg\n",
      "--------------------\n",
      "Nome: Thiago Mendes\n",
      "Altura: 1.84 m\n",
      "Peso: 79 kg\n",
      "--------------------\n"
     ]
    }
   ],
   "execution_count": 4
  },
  {
   "metadata": {},
   "cell_type": "markdown",
   "source": [
    "### Criando uma lista de tuplas\n",
    "Continuando o seu trabalho como cientista de dados do comitê olímpico, agora você deve reorganizar a lista de atletas, em uma lista de tuplas, onde cada tupla representa um atleta e contém as informações de nome, altura e peso, respectivamente. Essa estrutura permitirá o acesso aos dados de cada atleta de forma mais eficiente, e que esses dados não possam mais ser modificados. Essa organização é crucial para etapas posteriores da análise, como o cálculo do IMC (Índice de Massa Corporal) de cada atleta e a identificação de padrões nos dados.\n",
    "<br><br>\n",
    "<b>Objetivo:</b>\n",
    "<br>\n",
    "Escreva um programa Python que converta a lista atletas em uma lista de tuplas, onde cada tupla contém o nome, altura e peso de um atleta. Imprima a lista de tuplas resultante."
   ],
   "id": "cb85b13f6f8910c4"
  },
  {
   "metadata": {},
   "cell_type": "code",
   "outputs": [],
   "execution_count": null,
   "source": "",
   "id": "bcdee55a656640ee"
  }
 ],
 "metadata": {
  "kernelspec": {
   "display_name": "Python 3",
   "language": "python",
   "name": "python3"
  },
  "language_info": {
   "codemirror_mode": {
    "name": "ipython",
    "version": 2
   },
   "file_extension": ".py",
   "mimetype": "text/x-python",
   "name": "python",
   "nbconvert_exporter": "python",
   "pygments_lexer": "ipython2",
   "version": "2.7.6"
  }
 },
 "nbformat": 4,
 "nbformat_minor": 5
}
