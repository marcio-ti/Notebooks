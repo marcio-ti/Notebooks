{
  "nbformat": 4,
  "nbformat_minor": 0,
  "metadata": {
    "colab": {
      "provenance": []
    },
    "kernelspec": {
      "name": "python3",
      "display_name": "Python 3"
    },
    "language_info": {
      "name": "python"
    }
  },
  "cells": [
    {
      "cell_type": "markdown",
      "source": [
        "# Listas e tuplas"
      ],
      "metadata": {
        "id": "crS1XL-HYWyi"
      }
    },
    {
      "cell_type": "code",
      "execution_count": null,
      "metadata": {
        "id": "_MbXEGRG9cxq"
      },
      "outputs": [],
      "source": [
        "lista = [0, 'banana', 'pizza',3.14]\n",
        "tupla = (0, 'banana', 'pizza',3.14)"
      ]
    },
    {
      "cell_type": "code",
      "source": [
        "lista"
      ],
      "metadata": {
        "colab": {
          "base_uri": "https://localhost:8080/"
        },
        "id": "JBt2OyzB9lfh",
        "outputId": "dcfd3a67-91de-4640-b7bf-38a22aef1c9c"
      },
      "execution_count": null,
      "outputs": [
        {
          "output_type": "execute_result",
          "data": {
            "text/plain": [
              "[0, 'banana', 'pizza', 3.14]"
            ]
          },
          "metadata": {},
          "execution_count": 2
        }
      ]
    },
    {
      "cell_type": "code",
      "source": [
        "tupla"
      ],
      "metadata": {
        "colab": {
          "base_uri": "https://localhost:8080/"
        },
        "id": "wjCIs-M99_KJ",
        "outputId": "066044b7-a61d-440f-a15b-afa56c269a67"
      },
      "execution_count": null,
      "outputs": [
        {
          "output_type": "execute_result",
          "data": {
            "text/plain": [
              "(0, 'banana', 'pizza', 3.14)"
            ]
          },
          "metadata": {},
          "execution_count": 3
        }
      ]
    },
    {
      "cell_type": "code",
      "source": [
        "lista[0] = 10"
      ],
      "metadata": {
        "id": "4SwtMIRd9_4h"
      },
      "execution_count": null,
      "outputs": []
    },
    {
      "cell_type": "code",
      "source": [
        "lista"
      ],
      "metadata": {
        "colab": {
          "base_uri": "https://localhost:8080/"
        },
        "id": "rKKtBaJz-FOC",
        "outputId": "bd660fa4-7885-4ec9-bba2-1301856c60f4"
      },
      "execution_count": null,
      "outputs": [
        {
          "output_type": "execute_result",
          "data": {
            "text/plain": [
              "[10, 'banana', 'pizza', 3.14]"
            ]
          },
          "metadata": {},
          "execution_count": 5
        }
      ]
    },
    {
      "cell_type": "code",
      "source": [
        "#tupla(0) = 10"
      ],
      "metadata": {
        "id": "yLr1EYAe-GLl"
      },
      "execution_count": null,
      "outputs": []
    },
    {
      "cell_type": "markdown",
      "source": [
        "# Loop for"
      ],
      "metadata": {
        "id": "h4gkIVycYT6-"
      }
    },
    {
      "cell_type": "code",
      "source": [
        "for item in lista:\n",
        "\tprint(item)"
      ],
      "metadata": {
        "id": "S3FGX6aHZ64d",
        "colab": {
          "base_uri": "https://localhost:8080/"
        },
        "outputId": "b62e563f-f393-44ba-a6ae-65f2d4693fce"
      },
      "execution_count": null,
      "outputs": [
        {
          "output_type": "stream",
          "name": "stdout",
          "text": [
            "10\n",
            "banana\n",
            "pizza\n",
            "3.14\n"
          ]
        }
      ]
    },
    {
      "cell_type": "markdown",
      "source": [
        "# Lista de produtos de um mercado"
      ],
      "metadata": {
        "id": "vTNNNUCJbw4C"
      }
    },
    {
      "cell_type": "code",
      "source": [
        "# Lista de produtos: [nome, preço, quantidade]\n",
        "produtos = [\n",
        "    [\"Arroz\", 5.99, 30],\n",
        "    [\"Feijão\", 8.49, 20],\n",
        "    [\"Macarrão\", 4.79, 50],\n",
        "    [\"Óleo\", 7.89, 15],\n",
        "    [\"Açúcar\", 3.99, 40],\n",
        "    [\"Sal\", 2.49, 100],\n",
        "    [\"Café\", 14.99, 10],\n",
        "    [\"Leite\", 6.49, 25],\n",
        "]"
      ],
      "metadata": {
        "id": "9r64IJvdYVeF"
      },
      "execution_count": null,
      "outputs": []
    },
    {
      "cell_type": "code",
      "source": [
        "# Inicializa uma lista para armazenar os preços\n",
        "precos = []\n",
        "\n",
        "# Loop para extrair os preços\n",
        "for produto in produtos:\n",
        "    precos.append(produto[1])"
      ],
      "metadata": {
        "id": "3XXKQ6CYb135"
      },
      "execution_count": null,
      "outputs": []
    },
    {
      "cell_type": "code",
      "source": [
        "# Calcula a soma dos preços usando sum()\n",
        "soma_precos = sum(precos)\n",
        "soma_precos"
      ],
      "metadata": {
        "colab": {
          "base_uri": "https://localhost:8080/"
        },
        "id": "_UKS3s-6fGJc",
        "outputId": "b7527f89-10af-41e2-ee2e-c6c7ebd87562"
      },
      "execution_count": null,
      "outputs": [
        {
          "output_type": "execute_result",
          "data": {
            "text/plain": [
              "55.120000000000005"
            ]
          },
          "metadata": {},
          "execution_count": 10
        }
      ]
    },
    {
      "cell_type": "markdown",
      "source": [
        "# List comprehension"
      ],
      "metadata": {
        "id": "V05JAwRmfKzr"
      }
    },
    {
      "cell_type": "markdown",
      "source": [
        "> Dica do Allan: Antes de implementar a solução, certifique-se de compreender bem a estrutura dos dados. No caso, você está trabalhando com uma lista chamada produtos, onde cada elemento é uma lista contendo informações sobre um produto."
      ],
      "metadata": {
        "id": "yCwkZ777TBIz"
      }
    },
    {
      "cell_type": "code",
      "source": [
        "# Inicializa uma lista para armazenar os preços\n",
        "precos = []\n",
        "\n",
        "# Usando list comprehension\n",
        "precos = [produto[1] for produto in produtos]"
      ],
      "metadata": {
        "id": "jLnp9MJFfKKF"
      },
      "execution_count": null,
      "outputs": []
    },
    {
      "cell_type": "code",
      "source": [
        "# Calcula a soma dos preços usando sum()\n",
        "soma_precos = sum(precos)\n",
        "soma_precos"
      ],
      "metadata": {
        "id": "HwzMfWghf5Sd",
        "colab": {
          "base_uri": "https://localhost:8080/"
        },
        "outputId": "dbff639b-7755-4757-bf7f-2e298dfc764e"
      },
      "execution_count": null,
      "outputs": [
        {
          "output_type": "execute_result",
          "data": {
            "text/plain": [
              "55.120000000000005"
            ]
          },
          "metadata": {},
          "execution_count": 12
        }
      ]
    },
    {
      "cell_type": "code",
      "source": [
        "# Inicializa uma lista para armazenar os preços\n",
        "precos = []\n",
        "\n",
        "# Usando list comprehension\n",
        "soma_precos = sum([produto[1] for produto in produtos])\n",
        "soma_precos"
      ],
      "metadata": {
        "colab": {
          "base_uri": "https://localhost:8080/"
        },
        "id": "D9Dp4HdtIROz",
        "outputId": "3d55549b-93fa-4f8d-b03b-a32579e58a0b"
      },
      "execution_count": null,
      "outputs": [
        {
          "output_type": "execute_result",
          "data": {
            "text/plain": [
              "55.120000000000005"
            ]
          },
          "metadata": {},
          "execution_count": 13
        }
      ]
    },
    {
      "cell_type": "markdown",
      "source": [
        "# List comprehension com if e else"
      ],
      "metadata": {
        "id": "fgysGnyoIe5m"
      }
    },
    {
      "cell_type": "code",
      "source": [
        "# Verificar estoque e marcar como \"Estoque baixo\" ou \"Estoque OK\"\n",
        "status_estoque = [\n",
        "    [produto[0], \"Estoque baixo\" if produto[2] < 20 else \"Estoque OK\"]\n",
        "    for produto in produtos\n",
        "]"
      ],
      "metadata": {
        "id": "6EFZHamLIi1H"
      },
      "execution_count": null,
      "outputs": []
    },
    {
      "cell_type": "code",
      "source": [
        "status_estoque"
      ],
      "metadata": {
        "colab": {
          "base_uri": "https://localhost:8080/"
        },
        "id": "b0nTkXHFKy-y",
        "outputId": "dc6f2bbd-4721-47b9-9b0a-c220aa8b7ef1"
      },
      "execution_count": null,
      "outputs": [
        {
          "output_type": "execute_result",
          "data": {
            "text/plain": [
              "[['Arroz', 'Estoque OK'],\n",
              " ['Feijão', 'Estoque OK'],\n",
              " ['Macarrão', 'Estoque OK'],\n",
              " ['Óleo', 'Estoque baixo'],\n",
              " ['Açúcar', 'Estoque OK'],\n",
              " ['Sal', 'Estoque OK'],\n",
              " ['Café', 'Estoque baixo'],\n",
              " ['Leite', 'Estoque OK']]"
            ]
          },
          "metadata": {},
          "execution_count": 16
        }
      ]
    },
    {
      "cell_type": "markdown",
      "source": [
        "# Dict comprehension"
      ],
      "metadata": {
        "id": "AhIZO8CXK-3f"
      }
    },
    {
      "cell_type": "markdown",
      "source": [
        "Outra forma de armazenar os dados do nosso estoque é atavrés de um dicionário. Levando em conta o dicionário como podemos aplicar um desconto de 10% para produtos acima de 20 reais? Nesse caso podemos usar o dict comprehension. Como o processo é mais complicado que tal pedir para IA nos ajudar?"
      ],
      "metadata": {
        "id": "aClbSKQTdTds"
      }
    },
    {
      "cell_type": "code",
      "source": [
        "#Status do estoque:\n",
        "estoque = {\n",
        "    \"Arroz\": {\"quantidade\": 30, \"preco\": 25.00},\n",
        "    \"Feijão\": {\"quantidade\": 15, \"preco\": 18.50},\n",
        "    \"Macarrão\": {\"quantidade\": 50, \"preco\": 10.00},\n",
        "    \"Óleo\": {\"quantidade\": 10, \"preco\": 22.00},\n",
        "    \"Açúcar\": {\"quantidade\": 40, \"preco\": 8.00},\n",
        "    \"Café\": {\"quantidade\": 5, \"preco\": 30.00},\n",
        "}\n"
      ],
      "metadata": {
        "id": "6LoSSZKfLBTB"
      },
      "execution_count": null,
      "outputs": []
    },
    {
      "cell_type": "code",
      "source": [
        "# Aplicar desconto de 10% para produtos acima de R$ 20"
      ],
      "metadata": {
        "id": "S_Lad4E-RZDd"
      },
      "execution_count": null,
      "outputs": []
    },
    {
      "cell_type": "markdown",
      "source": [
        "> Dica do Allan: Tente pedir para o Gemini criar o código que soluciona o problema."
      ],
      "metadata": {
        "id": "V_v5KCHeSixW"
      }
    },
    {
      "cell_type": "code",
      "source": [
        "# prompt: Aplicar desconto de 10% para produtos acima de R$ 20\n",
        "\n",
        "# Aplicar desconto de 10% para produtos acima de R$ 20\n",
        "estoque_com_desconto = {\n",
        "    nome: {\n",
        "        \"quantidade\": dados[\"quantidade\"],\n",
        "        \"preco\": dados[\"preco\"] * 0.9 if dados[\"preco\"] > 20 else dados[\"preco\"]\n",
        "    }\n",
        "    for nome, dados in estoque.items()\n",
        "}\n",
        "estoque_com_desconto"
      ],
      "metadata": {
        "colab": {
          "base_uri": "https://localhost:8080/"
        },
        "id": "3iAeLH-_RmL3",
        "outputId": "8600206b-25d1-4c22-d9e8-7a770d08a666"
      },
      "execution_count": null,
      "outputs": [
        {
          "output_type": "execute_result",
          "data": {
            "text/plain": [
              "{'Arroz': {'quantidade': 30, 'preco': 22.5},\n",
              " 'Feijão': {'quantidade': 15, 'preco': 18.5},\n",
              " 'Macarrão': {'quantidade': 50, 'preco': 10.0},\n",
              " 'Óleo': {'quantidade': 10, 'preco': 19.8},\n",
              " 'Açúcar': {'quantidade': 40, 'preco': 8.0},\n",
              " 'Café': {'quantidade': 5, 'preco': 27.0}}"
            ]
          },
          "metadata": {},
          "execution_count": 19
        }
      ]
    },
    {
      "cell_type": "code",
      "source": [],
      "metadata": {
        "id": "IOZ883PqRve6"
      },
      "execution_count": null,
      "outputs": []
    }
  ]
}