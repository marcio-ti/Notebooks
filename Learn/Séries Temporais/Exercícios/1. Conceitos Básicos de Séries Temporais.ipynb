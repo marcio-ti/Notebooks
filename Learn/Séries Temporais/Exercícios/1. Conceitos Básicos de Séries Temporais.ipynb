{
 "cells": [
  {
   "metadata": {},
   "cell_type": "raw",
   "source": [
    "## **📌 Questões - Conceitos Básicos de Séries Temporais**\n",
    "\n",
    "### **🔹 Básico** (1 a 10)\n",
    "\n",
    "1. O que é uma série temporal e como ela difere de outros tipos de dados?\n",
    "2. Defina \"tendência\" em séries temporais e forneça um exemplo simples usando pandas.\n",
    "3. O que é \"sazonalidade\" em uma série temporal? Dê um exemplo de como ela pode ser identificada.\n",
    "4. Explique o que é \"ruído\" em uma série temporal e como ele pode afetar a análise.\n",
    "5. Quais são os principais componentes de uma série temporal?\n",
    "6. Dada uma série temporal univariada, como você pode visualizar suas características (tendência, sazonalidade e ruído) usando gráficos em Python?\n",
    "7. O que são séries temporais univariadas e multivariadas? Dê exemplos para cada tipo.\n",
    "8. Como identificar e tratar valores ausentes em uma série temporal usando pandas?\n",
    "9. Crie uma série temporal simples univariada com valores aleatórios e mostre como visualizá-la com Matplotlib.\n",
    "10. Como você pode verificar se uma série temporal apresenta tendências utilizando o Pandas?\n",
    "\n"
   ],
   "id": "5df67ead2ec22c92"
  },
  {
   "metadata": {},
   "cell_type": "code",
   "outputs": [],
   "execution_count": null,
   "source": "",
   "id": "e9798def1e48922"
  },
  {
   "metadata": {},
   "cell_type": "markdown",
   "source": [
    "### **🔹 Intermediário** (11 a 20)\n",
    "\n",
    "11. Explique como a decomposição de séries temporais funciona e como você pode realizar essa decomposição no Python.\n",
    "12. Como você pode separar os componentes de tendência, sazonalidade e ruído de uma série temporal usando `statsmodels`?\n",
    "13. Crie uma série temporal com tendência linear e sazonalidade sazonal e visualize-a.\n",
    "14. Como utilizar `Prophet` para prever uma série temporal com tendência e sazonalidade?\n",
    "15. O que são séries temporais estacionárias e como você pode verificar a estacionaridade de uma série temporal?\n",
    "16. Como ajustar os parâmetros de tendência e sazonalidade ao usar o `Prophet` para modelagem de séries temporais?\n",
    "17. Quais são as diferenças entre os dados univariados e multivariados ao trabalhar com séries temporais?\n",
    "18. Como a decomposição de uma série temporal pode ser usada para prever dados futuros?\n",
    "19. Utilize o método de suavização exponencial para modelar uma série temporal com tendência e ruído.\n",
    "20. Como utilizar a função `autocorr()` do Pandas para identificar padrões de autocorrelação em uma série temporal?"
   ],
   "id": "f85fdd9e53946aab"
  },
  {
   "metadata": {},
   "cell_type": "code",
   "outputs": [],
   "execution_count": null,
   "source": "",
   "id": "22a33e5f383600c1"
  },
  {
   "metadata": {},
   "cell_type": "markdown",
   "source": [
    "### **🔹 Avançado** (21 a 40)\n",
    "\n",
    "21. Como usar `statsmodels` para realizar a decomposição de séries temporais com a técnica de `seasonal_decompose()`?\n",
    "22. Como a transformação logarítmica pode ajudar na estabilização da variância em séries temporais?\n",
    "23. Explique como o modelo ARIMA pode ser aplicado em séries temporais e o que significa cada parte (p, d, q).\n",
    "24. Como a estacionaridade afeta a modelagem de séries temporais e o que é preciso fazer para tornar uma série temporal estacionária?\n",
    "25. Realize uma análise de autocorrelação de uma série temporal usando `acf()` e `pacf()` do `statsmodels`.\n",
    "26. Como utilizar o `Prophet` para modelar uma série temporal com eventos especiais e feriados?\n",
    "27. Demonstre como prever séries temporais utilizando o modelo ARIMA em uma série temporal univariada.\n",
    "28. Quais são os problemas comuns que podem surgir ao trabalhar com séries temporais multivariadas? Como você pode mitigá-los?\n",
    "29. Como você pode tratar outliers em séries temporais utilizando métodos robustos como o `winsorization`?\n",
    "30. Explique como a decomposição aditiva e multiplicativa de séries temporais difere e quando usar cada uma delas.\n",
    "31. Como você pode aplicar a técnica de diferenciação para transformar uma série temporal não estacionária em estacionária?\n",
    "32. Utilizando a biblioteca `matplotlib` ou `seaborn`, crie um gráfico que mostre a decomposição de uma série temporal em seus componentes.\n",
    "33. Como você pode usar o `Prophet` para gerar intervalos de previsão para dados de séries temporais?\n",
    "34. Explique a diferença entre os modelos SARIMA e ARIMA, e quando seria mais apropriado usar cada um deles.\n",
    "35. Como ajustar uma série temporal para remover a sazonalidade antes de aplicar um modelo de previsão?\n",
    "36. O que é a técnica de \"rolling forecast\" e como ela pode ser usada para previsão de séries temporais?\n",
    "37. Como utilizar o modelo de suavização exponencial `Holt-Winters` para capturar tendência e sazonalidade em séries temporais?\n",
    "38. Como usar o `statsmodels` para realizar uma análise de cointegração entre duas séries temporais?\n",
    "39. O que são modelos multivariados para séries temporais (como VAR) e como implementá-los em Python?\n",
    "40. Como realizar a validação cruzada em modelos de séries temporais utilizando a função `TimeSeriesSplit()` do `sklearn`?"
   ],
   "id": "44a3ea3168dcf6a6"
  },
  {
   "metadata": {},
   "cell_type": "code",
   "outputs": [],
   "execution_count": null,
   "source": "",
   "id": "51cb6f75d81d8d9e"
  },
  {
   "metadata": {},
   "cell_type": "markdown",
   "source": [
    "## **⚡ Desafios Avançados**\n",
    "\n",
    "41. **Decomposição Avançada**: Aplique a decomposição de uma série temporal utilizando a técnica aditiva e multiplicativa e compare os resultados.\n",
    "42. **Previsão com Prophet**: Utilize o `Prophet` para prever uma série temporal complexa, com múltiplas sazonalidades e feriados, e avalie o desempenho do modelo.\n",
    "43. **ARIMA e Comparação**: Aplique um modelo ARIMA em uma série temporal não estacionária, realize a diferenciação necessária, e compare os resultados com um modelo de suavização exponencial.\n",
    "44. **Sazonalidade em Séries Multivariadas**: Analise a sazonalidade em uma série temporal multivariada e modele os efeitos sazonais de forma independente para cada variável.\n",
    "45. **Previsão Multivariada**: Utilize o modelo VAR para prever uma série temporal multivariada, considerando a interdependência entre as variáveis.\n",
    "46. **Autocorrelação e Ajustes**: Aplique uma transformação de série temporal com base em autocorrelação e verifique a melhoria no modelo de previsão.\n",
    "47. **Detecção de Ruído**: Utilize técnicas estatísticas para detectar e mitigar ruídos em uma série temporal utilizando o `Pandas` e o `statsmodels`.\n",
    "48. **Avaliação de Modelos**: Compare os modelos ARIMA, Prophet e Holt-Winters em termos de precisão de previsão em um conjunto de dados de série temporal.\n",
    "49. **Modelagem de Tendência e Ruído**: Aplique um modelo de decomposição para separar a tendência, sazonalidade e ruído, e visualize cada componente com gráficos.\n",
    "50. **Previsão com Série Temporal Multivariada**: Modele uma série temporal multivariada utilizando a função `Prophet`, considerando diferentes colunas como variáveis independentes e dependentes."
   ],
   "id": "61a17d59b74e7d1e"
  }
 ],
 "metadata": {
  "kernelspec": {
   "display_name": "Python 3",
   "language": "python",
   "name": "python3"
  },
  "language_info": {
   "codemirror_mode": {
    "name": "ipython",
    "version": 2
   },
   "file_extension": ".py",
   "mimetype": "text/x-python",
   "name": "python",
   "nbconvert_exporter": "python",
   "pygments_lexer": "ipython2",
   "version": "2.7.6"
  }
 },
 "nbformat": 4,
 "nbformat_minor": 5
}
