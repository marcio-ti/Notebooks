{
 "cells": [
  {
   "metadata": {},
   "cell_type": "markdown",
   "source": [
    "## **Questões (do Básico ao Avançado)**\n",
    "\n",
    "#### **Básicas**\n",
    "\n",
    "1. O que são séries temporais e qual é a sua importância na análise de dados?\n",
    "2. Quais são as principais diferenças entre dados univariados e multivariados em séries temporais?\n",
    "3. O que significa dividir uma série temporal em conjuntos de treino e teste? Por que isso é importante?\n",
    "4. Como os dados de séries temporais devem ser divididos para garantir que a ordem temporal seja respeitada?\n",
    "5. O que são as métricas RMSE, MAE e MAPE e qual é a principal diferença entre elas?\n",
    "6. Como você calcula a métrica RMSE e para que ela é útil na previsão de séries temporais?\n",
    "7. Como você calcula o MAE e qual é o seu principal benefício em comparação com outras métricas?\n",
    "8. O que é MAPE e como ele pode ser usado para avaliar a precisão de modelos de previsão de séries temporais?\n",
    "9. Qual é o impacto de uma série temporal não estacionária nas métricas de erro, como RMSE e MAE?\n",
    "10. O que é overfitting e como ele pode afetar o desempenho de um modelo de previsão de séries temporais?\n",
    "\n",
    "#### **Intermediárias**\n",
    "\n",
    "11. Como você pode utilizar validação cruzada para avaliar modelos de previsão em séries temporais?\n",
    "12. O que é a validação cruzada \"TimeSeriesSplit\" e como ela se difere da validação cruzada convencional?\n",
    "13. Quais são os principais modelos utilizados para previsão de séries temporais (como ARIMA, SARIMA, Exponential Smoothing)?\n",
    "14. Como podemos aplicar a técnica de rolling forecast (previsão deslizante) para prever o futuro em séries temporais?\n",
    "15. Qual é a diferença entre dividir os dados por tempo ou por amostra ao treinar um modelo de previsão?\n",
    "16. O que significa usar dados \"out-of-sample\" e como isso afeta a avaliação de um modelo de previsão?\n",
    "17. Como o uso de métricas de erro como RMSE pode ajudar a comparar o desempenho de diferentes modelos de previsão?\n",
    "18. Como a sazonalidade de uma série temporal afeta as métricas de avaliação de erro, como MAE e MAPE?\n",
    "19. O que é a decomposição de uma série temporal e como isso pode influenciar a precisão de um modelo de previsão?\n",
    "20. Como a variabilidade nos dados pode afetar as métricas RMSE e MAE durante a avaliação de um modelo?\n",
    "\n",
    "#### **Avançadas**\n",
    "\n",
    "21. O que é o \"bias-variance tradeoff\" e como ele afeta a precisão de um modelo de previsão de séries temporais?\n",
    "22. Quais são os principais desafios ao aplicar validação cruzada em séries temporais e como evitá-los?\n",
    "23. Qual é a relação entre a complexidade do modelo e as métricas de erro, como RMSE e MAE?\n",
    "24. O que são resíduos em um modelo de previsão de séries temporais e como você pode analisá-los para melhorar o modelo?\n",
    "25. Como a transformação de dados (como a diferenciação) pode melhorar a previsão de séries temporais em modelos ARIMA?\n",
    "26. Como ajustar um modelo ARIMA para minimizar o erro RMSE em uma série temporal?\n",
    "27. Quais são os parâmetros (p, d, q) de um modelo ARIMA e como escolher os valores corretos para eles?\n",
    "28. O que é uma série temporal estacionária e por que isso é importante na modelagem de previsões?\n",
    "29. Como ajustar um modelo SARIMA para lidar com a sazonalidade de uma série temporal e melhorar as previsões?\n",
    "30. Como você pode usar a técnica de suavização exponencial (Holt-Winters) para ajustar modelos de previsão?\n",
    "\n",
    "#### **Desafios**\n",
    "\n",
    "1. **Desafio de Divisão de Dados:** Divida uma série temporal em conjuntos de treino e teste, respeitando a ordem temporal dos dados. Utilize essa divisão para treinar e testar um modelo ARIMA. Calcule as métricas RMSE e MAE para avaliação.\n",
    "2. **Desafio de Validação Cruzada:** Implemente validação cruzada com a técnica \"TimeSeriesSplit\" e compare a acurácia do modelo utilizando as métricas de erro (RMSE, MAE).\n",
    "3. **Desafio de Métricas de Avaliação:** Treine um modelo SARIMA em uma série temporal sazonal e calcule as métricas RMSE, MAE e MAPE. Compare essas métricas para ajustar o modelo.\n",
    "4. **Desafio de Ajuste de Hiperparâmetros:** Ajuste os parâmetros de um modelo ARIMA para melhorar sua previsão, utilizando o grid search para otimizar os valores de (p, d, q).\n",
    "5. **Desafio de Overfitting:** Treine um modelo de previsão e, em seguida, ajuste o modelo para evitar overfitting. Utilize validação cruzada para verificar a eficácia.\n",
    "6. **Desafio de Rolling Forecast:** Aplique a técnica de rolling forecast para prever os próximos valores de uma série temporal, ajustando o modelo a cada previsão e calculando a acurácia.\n",
    "7. **Desafio de Modelos Sazonais:** Treine um modelo SARIMA para capturar a sazonalidade em uma série temporal e compare sua previsão com um modelo ARIMA sem sazonalidade.\n",
    "8. **Desafio de Suavização Exponencial:** Implemente o modelo de suavização exponencial de Holt-Winters para prever dados de séries temporais com forte componente de tendência e sazonalidade.\n",
    "9. **Desafio de Estacionariedade:** Aplique a diferenciação para tornar uma série temporal estacionária e use o modelo ARIMA para prever os próximos valores.\n",
    "10. **Desafio de Avaliação com Múltiplos Modelos:** Compare diferentes modelos de previsão de séries temporais (ARIMA, SARIMA, Exponential Smoothing) utilizando métricas de erro como RMSE e MAE, e escolha o melhor modelo com base na acurácia.\n",
    "\n",
    "Essas questões e desafios abordam conceitos fundamentais e avançados sobre previsão de séries temporais, como divisão de dados, validação cruzada, métricas de avaliação e ajuste de modelos, ajudando no aprendizado e aplicação dessas técnicas para previsão de séries temporais."
   ],
   "id": "f98eba82ca4c4148"
  },
  {
   "metadata": {},
   "cell_type": "code",
   "outputs": [],
   "execution_count": null,
   "source": "",
   "id": "8029ea3ed197d327"
  }
 ],
 "metadata": {
  "kernelspec": {
   "display_name": "Python 3",
   "language": "python",
   "name": "python3"
  },
  "language_info": {
   "codemirror_mode": {
    "name": "ipython",
    "version": 2
   },
   "file_extension": ".py",
   "mimetype": "text/x-python",
   "name": "python",
   "nbconvert_exporter": "python",
   "pygments_lexer": "ipython2",
   "version": "2.7.6"
  }
 },
 "nbformat": 4,
 "nbformat_minor": 5
}
