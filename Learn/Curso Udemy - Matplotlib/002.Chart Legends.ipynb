{
 "cells": [
  {
   "cell_type": "code",
   "execution_count": null,
   "id": "initial_id",
   "metadata": {
    "collapsed": true
   },
   "outputs": [],
   "source": [
    ""
   ]
  },
  {
   "metadata": {},
   "cell_type": "markdown",
   "source": "## Exercícios Complementares",
   "id": "7e27c1ab07f5f451"
  },
  {
   "metadata": {},
   "cell_type": "markdown",
   "source": [
    "Básico:\n",
    "Crie um gráfico de linha com dois conjuntos de dados (x = [1, 2, 3, 4] e y1 = [10, 20, 30, 40], y2 = [40, 30, 20, 10]). Adicione uma legenda para cada linha com os rótulos \"Linha 1\" e \"Linha 2\"."
   ],
   "id": "e1031ac48ba9407b"
  },
  {
   "metadata": {},
   "cell_type": "code",
   "outputs": [],
   "execution_count": null,
   "source": "",
   "id": "aaa3777b755dce43"
  },
  {
   "metadata": {},
   "cell_type": "markdown",
   "source": [
    "Posicionamento da Legenda:\n",
    "Recrie o gráfico do exercício anterior, mas posicione a legenda no canto superior esquerdo do gráfico."
   ],
   "id": "5fdfbfef43add122"
  },
  {
   "metadata": {},
   "cell_type": "code",
   "outputs": [],
   "execution_count": null,
   "source": "",
   "id": "bdafbdb9a1a4cdce"
  },
  {
   "metadata": {},
   "cell_type": "markdown",
   "source": [
    "Alterando o Estilo da Legenda:\n",
    "Adicione uma legenda ao gráfico e personalize o fundo da legenda, alterando sua cor para cinza claro e adicionando bordas arredondadas."
   ],
   "id": "a654d53cb74f123e"
  },
  {
   "metadata": {},
   "cell_type": "code",
   "outputs": [],
   "execution_count": null,
   "source": "",
   "id": "42fbb20193114f63"
  },
  {
   "metadata": {},
   "cell_type": "markdown",
   "source": [
    "Tamanho da Fonte:\n",
    "Crie um gráfico de barras com dois conjuntos de dados e insira uma legenda personalizada. Ajuste o tamanho da fonte da legenda para 14."
   ],
   "id": "3eae19ae4796a692"
  },
  {
   "metadata": {},
   "cell_type": "code",
   "outputs": [],
   "execution_count": null,
   "source": "",
   "id": "b7a6a9c4877ac0da"
  },
  {
   "metadata": {},
   "cell_type": "markdown",
   "source": [
    "Legenda Fora do Gráfico:\n",
    "Coloque a legenda do gráfico fora da área de plotagem, à direita do gráfico, usando o parâmetro bbox_to_anchor."
   ],
   "id": "2a861c01d60272cc"
  },
  {
   "metadata": {},
   "cell_type": "code",
   "outputs": [],
   "execution_count": null,
   "source": "",
   "id": "419a03e2f02fe07f"
  },
  {
   "metadata": {},
   "cell_type": "markdown",
   "source": [
    "Legendas com Títulos:\n",
    "Adicione uma legenda com um título, como \"Tipos de Linhas\", e estilize o título com negrito."
   ],
   "id": "a977f18213cb2d47"
  },
  {
   "metadata": {},
   "cell_type": "code",
   "outputs": [],
   "execution_count": null,
   "source": "",
   "id": "49d5c1cb1bca8771"
  },
  {
   "metadata": {},
   "cell_type": "markdown",
   "source": [
    "Transparência na Legenda:\n",
    "Crie um gráfico e adicione uma legenda com uma caixa de fundo parcialmente transparente (alpha=0.5)."
   ],
   "id": "8ff9cbe5fa78101d"
  },
  {
   "metadata": {},
   "cell_type": "code",
   "outputs": [],
   "execution_count": null,
   "source": "",
   "id": "3d9fc9e8440502c5"
  },
  {
   "metadata": {},
   "cell_type": "markdown",
   "source": [
    "Desabilitar Bordas:\n",
    "Crie um gráfico e adicione uma legenda sem bordas ao redor, usando o parâmetro frameon=False."
   ],
   "id": "236bd4816313175e"
  },
  {
   "metadata": {},
   "cell_type": "code",
   "outputs": [],
   "execution_count": null,
   "source": "",
   "id": "da1047636a0e37eb"
  },
  {
   "metadata": {},
   "cell_type": "markdown",
   "source": [
    "Legendas para Linhas Personalizadas:\n",
    "Use o módulo Line2D do Matplotlib para criar uma legenda personalizada com linhas fictícias e rótulos específicos (exemplo: \"Linha Vermelha\", \"Linha Azul\")."
   ],
   "id": "6080ab7f59a94a81"
  },
  {
   "metadata": {},
   "cell_type": "code",
   "outputs": [],
   "execution_count": null,
   "source": "",
   "id": "62fece474a04488d"
  },
  {
   "metadata": {},
   "cell_type": "markdown",
   "source": [
    "Legenda Interativa:\n",
    "Crie um gráfico com várias linhas e implemente uma legenda que permita habilitar ou desabilitar a visualização de cada linha ao clicar em seu rótulo. Dica: Use eventos de clique e o método set_visible."
   ],
   "id": "2bf04db7fb29a7f7"
  },
  {
   "metadata": {},
   "cell_type": "code",
   "outputs": [],
   "execution_count": null,
   "source": "",
   "id": "92f8975768d4dac3"
  },
  {
   "metadata": {},
   "cell_type": "markdown",
   "source": [
    "Posicionamento à Direita:\n",
    "Crie um gráfico de linha com duas linhas e uma legenda. Use o parâmetro bbox_to_anchor para posicionar a legenda fora do gráfico, no canto superior direito (fora da área de plotagem)."
   ],
   "id": "fe730d1b111beb22"
  },
  {
   "metadata": {},
   "cell_type": "code",
   "outputs": [],
   "execution_count": null,
   "source": "",
   "id": "f44489d080564ed7"
  },
  {
   "metadata": {},
   "cell_type": "markdown",
   "source": [
    "Legenda na Parte Inferior do Gráfico:\n",
    "Crie um gráfico de dispersão com duas categorias e adicione uma legenda. Use bbox_to_anchor para posicionar a legenda abaixo do gráfico, centralizada horizontalmente."
   ],
   "id": "1d1acc87b667ad5c"
  },
  {
   "metadata": {},
   "cell_type": "code",
   "outputs": [],
   "execution_count": null,
   "source": "",
   "id": "a7c7a047bf278be2"
  },
  {
   "metadata": {},
   "cell_type": "markdown",
   "source": [
    "Posicionamento no Centro Esquerdo:\n",
    "Crie um gráfico de barras e adicione uma legenda. Use bbox_to_anchor para posicionar a legenda fora do gráfico, no centro esquerdo."
   ],
   "id": "c38c6b7e4ec80491"
  },
  {
   "metadata": {},
   "cell_type": "code",
   "outputs": [],
   "execution_count": null,
   "source": "",
   "id": "2a9d0d3de05d3b6e"
  },
  {
   "metadata": {},
   "cell_type": "markdown",
   "source": [
    "Legenda Parcialmente Sobreposta:\n",
    "Crie um gráfico de pizza com três fatias e adicione uma legenda. Use bbox_to_anchor para posicionar a legenda parcialmente sobre a área da plotagem (por exemplo, 50% dentro e 50% fora no lado direito)."
   ],
   "id": "3e1c9d24fe3f1330"
  },
  {
   "metadata": {},
   "cell_type": "code",
   "outputs": [],
   "execution_count": null,
   "source": "",
   "id": "fa6a5b35950cbf5"
  },
  {
   "metadata": {},
   "cell_type": "markdown",
   "source": [
    "Legenda Personalizada no Canto Inferior Direito:\n",
    "Crie um gráfico com múltiplas linhas e posicione a legenda no canto inferior direito do gráfico, fora da área de plotagem. Ajuste o bbox_to_anchor para alinhar a legenda de forma precisa, garantindo que ela não se sobreponha ao conteúdo do gráfico."
   ],
   "id": "4d194e78de3df633"
  },
  {
   "metadata": {},
   "cell_type": "code",
   "outputs": [],
   "execution_count": null,
   "source": "",
   "id": "2c335aaacbca36e2"
  }
 ],
 "metadata": {
  "kernelspec": {
   "display_name": "Python 3",
   "language": "python",
   "name": "python3"
  },
  "language_info": {
   "codemirror_mode": {
    "name": "ipython",
    "version": 2
   },
   "file_extension": ".py",
   "mimetype": "text/x-python",
   "name": "python",
   "nbconvert_exporter": "python",
   "pygments_lexer": "ipython2",
   "version": "2.7.6"
  }
 },
 "nbformat": 4,
 "nbformat_minor": 5
}
