{
 "cells": [
  {
   "metadata": {},
   "cell_type": "markdown",
   "source": [
    "---\n",
    "## **<font color='green'>Básico**\n",
    "---\n"
   ],
   "id": "dd5bd52a93b3340a"
  },
  {
   "metadata": {},
   "cell_type": "markdown",
   "source": [
    "### **Manipulação de listas**\n",
    "<code><b>1</b>.</code> Crie uma lista de números de 1 a 10 e imprima cada número em uma nova linha."
   ],
   "id": "5ece8175e68d593f"
  },
  {
   "metadata": {
    "ExecuteTime": {
     "end_time": "2025-01-13T18:26:23.928145Z",
     "start_time": "2025-01-13T18:26:23.918165Z"
    }
   },
   "cell_type": "code",
   "source": [
    "lista_numeros = [x for x in range(1,11)]\n",
    "for item in lista_numeros:\n",
    "    print(item)"
   ],
   "id": "6dba4e314034b15a",
   "outputs": [
    {
     "name": "stdout",
     "output_type": "stream",
     "text": [
      "1\n",
      "2\n",
      "3\n",
      "4\n",
      "5\n",
      "6\n",
      "7\n",
      "8\n",
      "9\n",
      "10\n"
     ]
    }
   ],
   "execution_count": 18
  },
  {
   "metadata": {},
   "cell_type": "markdown",
   "source": "<code><b>2.</b></code> Adicione o número 11 ao final de uma lista e o número 0 no início.",
   "id": "16e2abadbb6d8536"
  },
  {
   "metadata": {
    "ExecuteTime": {
     "end_time": "2025-01-13T18:26:23.998543Z",
     "start_time": "2025-01-13T18:26:23.990667Z"
    }
   },
   "cell_type": "code",
   "source": [
    "# Adiciona no final\n",
    "lista_numeros.append(11)\n",
    "\n",
    "# Adiciona na posição 0\n",
    "lista_numeros.insert(0,0)\n",
    "print(lista_numeros)"
   ],
   "id": "8fb5d13d53a93d91",
   "outputs": [
    {
     "name": "stdout",
     "output_type": "stream",
     "text": [
      "[0, 1, 2, 3, 4, 5, 6, 7, 8, 9, 10, 11]\n"
     ]
    }
   ],
   "execution_count": 19
  },
  {
   "metadata": {},
   "cell_type": "markdown",
   "source": "<code><b>3.</b></code> Remova o terceiro elemento de uma lista e imprima o resultado.",
   "id": "d86f97cfbc35b853"
  },
  {
   "metadata": {
    "ExecuteTime": {
     "end_time": "2025-01-13T18:26:24.067160Z",
     "start_time": "2025-01-13T18:26:24.049426Z"
    }
   },
   "cell_type": "code",
   "source": [
    "# Remove na posição informada\n",
    "lista_numeros.pop(2)\n",
    "print(lista_numeros)"
   ],
   "id": "dcfb79de290dfe41",
   "outputs": [
    {
     "name": "stdout",
     "output_type": "stream",
     "text": [
      "[0, 1, 3, 4, 5, 6, 7, 8, 9, 10, 11]\n"
     ]
    }
   ],
   "execution_count": 20
  },
  {
   "metadata": {},
   "cell_type": "markdown",
   "source": "<code><b>4.</b></code> Inverta a ordem dos elementos de uma lista.",
   "id": "dacdf7785aa0b6f2"
  },
  {
   "metadata": {
    "ExecuteTime": {
     "end_time": "2025-01-13T18:26:24.162129Z",
     "start_time": "2025-01-13T18:26:24.152979Z"
    }
   },
   "cell_type": "code",
   "source": [
    "lista_numeros.reverse()\n",
    "print(lista_numeros)"
   ],
   "id": "54f1cdd06195f493",
   "outputs": [
    {
     "name": "stdout",
     "output_type": "stream",
     "text": [
      "[11, 10, 9, 8, 7, 6, 5, 4, 3, 1, 0]\n"
     ]
    }
   ],
   "execution_count": 21
  },
  {
   "metadata": {},
   "cell_type": "markdown",
   "source": "<code><b>5.</b></code> Encontre o tamanho de uma lista sem usar a função `len()`.",
   "id": "750f5b44d1db2d2c"
  },
  {
   "metadata": {
    "ExecuteTime": {
     "end_time": "2025-01-13T18:26:24.240409Z",
     "start_time": "2025-01-13T18:26:24.207359Z"
    }
   },
   "cell_type": "code",
   "source": "len(lista_numeros)",
   "id": "437ea143dad7b6e",
   "outputs": [
    {
     "data": {
      "text/plain": [
       "11"
      ]
     },
     "execution_count": 22,
     "metadata": {},
     "output_type": "execute_result"
    }
   ],
   "execution_count": 22
  },
  {
   "metadata": {},
   "cell_type": "markdown",
   "source": [
    "### **Operações com listas**\n",
    "<code><b>6.</b></code> Verifique se o número 5 está presente em uma lista."
   ],
   "id": "eeba305d45af51bc"
  },
  {
   "metadata": {
    "ExecuteTime": {
     "end_time": "2025-01-13T18:26:24.377114Z",
     "start_time": "2025-01-13T18:26:24.358555Z"
    }
   },
   "cell_type": "code",
   "source": [
    "if 5 in lista_numeros:\n",
    "\tprint('ok. o Número 5 está na lista')"
   ],
   "id": "29fa8778699550d",
   "outputs": [
    {
     "name": "stdout",
     "output_type": "stream",
     "text": [
      "ok. o Número 5 está na lista\n"
     ]
    }
   ],
   "execution_count": 23
  },
  {
   "metadata": {},
   "cell_type": "markdown",
   "source": "<code><b>7.</b></code> Concatene duas listas: `[1, 2, 3]` e `[4, 5, 6]`.",
   "id": "6a617cb793363cd2"
  },
  {
   "metadata": {
    "ExecuteTime": {
     "end_time": "2025-01-13T18:26:24.536405Z",
     "start_time": "2025-01-13T18:26:24.516122Z"
    }
   },
   "cell_type": "code",
   "source": [
    "lista01 = [1,2,3]\n",
    "lista02 = [4,5,6]\n",
    "lista_concatenada = lista01 + lista02\n",
    "print(lista_concatenada)"
   ],
   "id": "b5d649be839edc3c",
   "outputs": [
    {
     "name": "stdout",
     "output_type": "stream",
     "text": [
      "[1, 2, 3, 4, 5, 6]\n"
     ]
    }
   ],
   "execution_count": 24
  },
  {
   "metadata": {},
   "cell_type": "markdown",
   "source": "<code><b>8.</b></code> Multiplique os elementos de uma lista por 2.",
   "id": "6427703803a307ab"
  },
  {
   "metadata": {
    "ExecuteTime": {
     "end_time": "2025-01-13T18:26:31.905040Z",
     "start_time": "2025-01-13T18:26:31.883325Z"
    }
   },
   "cell_type": "code",
   "source": [
    "lista_numeros_ao_quadrado = [x ** 2 for x in lista_numeros]\n",
    "print(lista_numeros_ao_quadrado)"
   ],
   "id": "c2a07ab971d3ef22",
   "outputs": [
    {
     "name": "stdout",
     "output_type": "stream",
     "text": [
      "[0, 1, 9, 16, 25, 36, 49, 64, 81, 100, 121]\n"
     ]
    }
   ],
   "execution_count": 26
  },
  {
   "metadata": {},
   "cell_type": "markdown",
   "source": "<code><b>9.</b></code> Crie uma lista com os primeiros 10 números pares.",
   "id": "f584d44499a73bea"
  },
  {
   "metadata": {
    "ExecuteTime": {
     "end_time": "2025-01-13T18:32:40.953430Z",
     "start_time": "2025-01-13T18:32:40.936514Z"
    }
   },
   "cell_type": "code",
   "source": [
    "lista_numeros_pares = []\n",
    "item = 0\n",
    "while len(lista_numeros_pares) != 10:\n",
    "        if (item % 2) == 0:\n",
    "            lista_numeros_pares.append(item)\n",
    "        item += 1\n",
    "print(lista_numeros_pares)"
   ],
   "id": "2f3229fb071adaca",
   "outputs": [
    {
     "name": "stdout",
     "output_type": "stream",
     "text": [
      "[0, 2, 4, 6, 8, 10, 12, 14, 16, 18]\n"
     ]
    }
   ],
   "execution_count": 30
  },
  {
   "metadata": {},
   "cell_type": "markdown",
   "source": "<code><b>10.</b></code> Divida todos os elementos de uma lista `[10, 20, 30, 40]` por 10.",
   "id": "8d7c823ae6410b9e"
  },
  {
   "metadata": {
    "ExecuteTime": {
     "end_time": "2025-01-13T18:34:21.304823Z",
     "start_time": "2025-01-13T18:34:21.292588Z"
    }
   },
   "cell_type": "code",
   "source": [
    "lista03 = [10, 20, 30, 40]\n",
    "lista_numeros_divididos = [(x / 10) for x in lista03 ]\n",
    "print(lista_numeros_divididos)"
   ],
   "id": "de0de5d39ebabc0c",
   "outputs": [
    {
     "name": "stdout",
     "output_type": "stream",
     "text": [
      "[1.0, 2.0, 3.0, 4.0]\n"
     ]
    }
   ],
   "execution_count": 31
  },
  {
   "metadata": {},
   "cell_type": "markdown",
   "source": [
    "### **List Comprehensions**\n",
    "<code><b>11.</b></code> Crie uma lista com os quadrados dos números de 1 a 10 usando list comprehension."
   ],
   "id": "c60bc712ae59d01c"
  },
  {
   "metadata": {
    "ExecuteTime": {
     "end_time": "2025-01-14T00:21:15.313693Z",
     "start_time": "2025-01-14T00:21:15.292905Z"
    }
   },
   "cell_type": "code",
   "source": [
    "lista_quadrados = [x**2 for x in range(1,11)]\n",
    "print(lista_quadrados)"
   ],
   "id": "1bdcee7b6839d2b6",
   "outputs": [
    {
     "name": "stdout",
     "output_type": "stream",
     "text": [
      "[1, 4, 9, 16, 25, 36, 49, 64, 81, 100]\n"
     ]
    }
   ],
   "execution_count": 1
  },
  {
   "metadata": {},
   "cell_type": "markdown",
   "source": "<code><b>12.</b></code> Gere uma lista de números ímpares entre 1 e 20 com list comprehension.",
   "id": "8036378f65a35094"
  },
  {
   "metadata": {
    "ExecuteTime": {
     "end_time": "2025-01-14T00:31:51.414487Z",
     "start_time": "2025-01-14T00:31:51.401670Z"
    }
   },
   "cell_type": "code",
   "source": [
    "lista_impares = [x if x % 2 != 0 else 99 for x in range(1,21)]\n",
    "print(lista_impares)"
   ],
   "id": "acf137e03f453a0d",
   "outputs": [
    {
     "name": "stdout",
     "output_type": "stream",
     "text": [
      "[1, 99, 3, 99, 5, 99, 7, 99, 9, 99, 11, 99, 13, 99, 15, 99, 17, 99, 19, 99]\n"
     ]
    }
   ],
   "execution_count": 7
  },
  {
   "metadata": {},
   "cell_type": "markdown",
   "source": "<code><b>13.</b></code> Crie uma lista com os primeiros 10 números e substitua os pares por \"Par\" e os ímpares por \"Ímpar\".\n",
   "id": "2ef3bf2608000d77"
  },
  {
   "metadata": {
    "ExecuteTime": {
     "end_time": "2025-01-14T00:33:30.281413Z",
     "start_time": "2025-01-14T00:33:30.272133Z"
    }
   },
   "cell_type": "code",
   "source": [
    "numeros = [x for x in range(1,11)]\n",
    "numeros = [\"Par\" if item % 2 == 0 else \"Impar\" for item in numeros]\n",
    "print(numeros)"
   ],
   "id": "971efb8b2558abb7",
   "outputs": [
    {
     "name": "stdout",
     "output_type": "stream",
     "text": [
      "['Impar', 'Par', 'Impar', 'Par', 'Impar', 'Par', 'Impar', 'Par', 'Impar', 'Par']\n"
     ]
    }
   ],
   "execution_count": 8
  },
  {
   "metadata": {},
   "cell_type": "markdown",
   "source": "<code><b>14.</b></code> Extraia apenas os números maiores que 5 de uma lista `[3, 5, 7, 9, 2]` com list comprehension.",
   "id": "da355681186f9514"
  },
  {
   "metadata": {
    "ExecuteTime": {
     "end_time": "2025-01-16T15:24:26.759338Z",
     "start_time": "2025-01-16T15:24:26.747674Z"
    }
   },
   "cell_type": "code",
   "source": [
    "lista_a = [3,5,7,9,2]\n",
    "\n",
    "extraindo_maiores_cinco = [x for x in lista_a if x >= 5]\n",
    "print(extraindo_maiores_cinco)"
   ],
   "id": "3789ccda22567abb",
   "outputs": [
    {
     "name": "stdout",
     "output_type": "stream",
     "text": [
      "[5, 7, 9]\n"
     ]
    }
   ],
   "execution_count": 1
  },
  {
   "metadata": {},
   "cell_type": "markdown",
   "source": "<code><b>15.</b></code> Transforme uma lista de strings `[\"a\", \"b\", \"c\"]` em uma lista com suas respectivas letras maiúsculas.",
   "id": "5231e3d973bd765c"
  },
  {
   "metadata": {
    "ExecuteTime": {
     "end_time": "2025-01-16T15:32:15.469789Z",
     "start_time": "2025-01-16T15:32:15.459719Z"
    }
   },
   "cell_type": "code",
   "source": [
    "lista_letras_min = ['a','b','c']\n",
    "lista_letras_maiusc = [letra.upper() for letra in lista_letras_min]\n",
    "print(lista_letras_maiusc)"
   ],
   "id": "49989618de1c35d7",
   "outputs": [
    {
     "name": "stdout",
     "output_type": "stream",
     "text": [
      "['A', 'B', 'C']\n"
     ]
    }
   ],
   "execution_count": 2
  },
  {
   "metadata": {},
   "cell_type": "markdown",
   "source": [
    "---\n",
    "## **<font color='blue'>Intermediário</font>** 👀\n",
    "---"
   ],
   "id": "b4b8e5f0b1646602"
  },
  {
   "metadata": {},
   "cell_type": "markdown",
   "source": [
    "### **Condicionais e listas**\n",
    "<code><b>16.</b></code> Escreva um programa que remove todos os valores negativos de uma lista."
   ],
   "id": "1a791fa30625af58"
  },
  {
   "metadata": {
    "ExecuteTime": {
     "end_time": "2025-01-16T15:40:26.591241Z",
     "start_time": "2025-01-16T15:40:26.582229Z"
    }
   },
   "cell_type": "code",
   "source": [
    "from random import randrange\n",
    "\n",
    "lista_inicial = [randrange(-10,10,1) for n in range(10)]\n",
    "print(f\"Lista inicial: {lista_inicial}\")\n",
    "\n",
    "lista_final = [elemento for elemento in lista_inicial if elemento >= 0]\n",
    "print(f\"Lista final: {lista_final}\")\n"
   ],
   "id": "ea6d20398c1b3b65",
   "outputs": [
    {
     "name": "stdout",
     "output_type": "stream",
     "text": [
      "Lista inicial: [-2, -7, -9, -10, 8, -7, 6, 4, 0, 4]\n",
      "Lista final: [8, 6, 4, 0, 4]\n"
     ]
    }
   ],
   "execution_count": 12
  },
  {
   "metadata": {},
   "cell_type": "markdown",
   "source": "<code><b>17.</b></code> Filtre os números maiores que 10 de uma lista e imprima o restante.",
   "id": "9a9e588753ea1d4c"
  },
  {
   "metadata": {
    "ExecuteTime": {
     "end_time": "2025-01-17T15:57:00.750122Z",
     "start_time": "2025-01-17T15:57:00.742125Z"
    }
   },
   "cell_type": "code",
   "source": [
    "from random import randint\n",
    "lista = [randint(1,100) for x in range(1,30)]\n",
    "lista = [x for x in lista if x < 10]\n",
    "\n",
    "print(lista)"
   ],
   "id": "397ae0390260a11d",
   "outputs": [
    {
     "name": "stdout",
     "output_type": "stream",
     "text": [
      "[3, 9]\n"
     ]
    }
   ],
   "execution_count": 13
  },
  {
   "metadata": {},
   "cell_type": "markdown",
   "source": "<code><b>18.</b></code> Substitua todos os elementos divisíveis por 3 em uma lista por `\"Fizz\"`.",
   "id": "9003c07e52fa68ff"
  },
  {
   "metadata": {
    "ExecuteTime": {
     "end_time": "2025-01-17T16:03:51.343933Z",
     "start_time": "2025-01-17T16:03:51.336312Z"
    }
   },
   "cell_type": "code",
   "source": [
    "from random import randint\n",
    "\n",
    "lista = [randint(1,100) for x in range(1,30)]\n",
    "\n",
    "for i in range(len(lista)):\n",
    "\tif lista[i] % 3 == 0:\n",
    "\t\tlista[i] = 'Fizz'\n",
    "\n",
    "print(lista)"
   ],
   "id": "4e72668e9783889",
   "outputs": [
    {
     "name": "stdout",
     "output_type": "stream",
     "text": [
      "[80, 'Fizz', 'Fizz', 1, 76, 67, 'Fizz', 'Fizz', 'Fizz', 23, 82, 'Fizz', 71, 'Fizz', 31, 59, 92, 32, 'Fizz', 20, 'Fizz', 44, 'Fizz', 82, 'Fizz', 37, 'Fizz', 16, 97]\n"
     ]
    }
   ],
   "execution_count": 21
  },
  {
   "metadata": {},
   "cell_type": "markdown",
   "source": "<code><b>19.</b></code> Converta uma lista de números em uma lista de strings somente se o número for maior que 5.",
   "id": "3df564479f8a4897"
  },
  {
   "metadata": {
    "ExecuteTime": {
     "end_time": "2025-01-18T12:54:15.589500Z",
     "start_time": "2025-01-18T12:54:15.576323Z"
    }
   },
   "cell_type": "code",
   "source": [
    "from random import randint\n",
    "\n",
    "lista = [randint(-30, 100) for _ in range(29)]\n",
    "\n",
    "for index, valor in enumerate(lista):\n",
    "\tif valor > 5:\n",
    "\t\tlista[index] = str(valor)\n",
    "\telif valor < 5:\n",
    "\t\tlista[index] = 'Menor'\n",
    "\n",
    "print(lista)\n"
   ],
   "id": "29db46291697ad46",
   "outputs": [
    {
     "name": "stdout",
     "output_type": "stream",
     "text": [
      "['78', '75', '66', '14', 'Menor', '49', '12', '88', 'Menor', '36', '81', 'Menor', 'Menor', '9', '97', 'Menor', 'Menor', '48', '12', '90', '76', '53', '33', 'Menor', '23', '10', '67', '38', '12']\n"
     ]
    }
   ],
   "execution_count": 6
  },
  {
   "metadata": {},
   "cell_type": "markdown",
   "source": "<code><b>20.</b></code> Verifique se uma lista está ordenada em ordem crescente.",
   "id": "fc56c74fe41c2db5"
  },
  {
   "metadata": {
    "ExecuteTime": {
     "end_time": "2025-01-18T13:11:16.471892Z",
     "start_time": "2025-01-18T13:11:16.447963Z"
    }
   },
   "cell_type": "code",
   "source": [
    "from random import randint\n",
    "\n",
    "def verifica_ordenacao(lista):\n",
    "\treturn lista == sorted(lista)\n",
    "\n",
    "lista = [randint(0, 30) for _ in range(10)]\n",
    "if verifica_ordenacao(lista):\n",
    "\tprint('Lista Ordenada')\n",
    "else:\n",
    "\tprint('Lista não ordenada')"
   ],
   "id": "b912f9b4cc3fc0b3",
   "outputs": [
    {
     "name": "stdout",
     "output_type": "stream",
     "text": [
      "Lista não ordenada\n"
     ]
    }
   ],
   "execution_count": 7
  },
  {
   "metadata": {},
   "cell_type": "markdown",
   "source": [
    "### **Loops e listas**\n",
    "<code><b>21.</b></code> Escreva um programa que realize a soma de todos os números de uma lista."
   ],
   "id": "397920f545054e0e"
  },
  {
   "metadata": {
    "ExecuteTime": {
     "end_time": "2025-01-18T13:14:59.119895Z",
     "start_time": "2025-01-18T13:14:59.105772Z"
    }
   },
   "cell_type": "code",
   "source": [
    "from random import randint\n",
    "lista = [randint(0, 30) for _ in range(10)]\n",
    "\n",
    "soma = 0\n",
    "\n",
    "for numero in lista:\n",
    "\tsoma += numero\n",
    "\n",
    "print(f\"A soma dos números armazenados é {soma}\")"
   ],
   "id": "8c90f87eabf8365d",
   "outputs": [
    {
     "name": "stdout",
     "output_type": "stream",
     "text": [
      "A soma dos números armazenados é 143\n"
     ]
    }
   ],
   "execution_count": 8
  },
  {
   "metadata": {},
   "cell_type": "markdown",
   "source": "<code><b>22.</b></code> Encontre o maior e o menor número em uma lista sem usar as funções `max()` e `min()`.",
   "id": "b3f137820e376cca"
  },
  {
   "metadata": {
    "ExecuteTime": {
     "end_time": "2025-01-18T13:16:35.007202Z",
     "start_time": "2025-01-18T13:16:34.998954Z"
    }
   },
   "cell_type": "code",
   "source": [
    "from random import randint\n",
    "lista = [randint(0, 30) for _ in range(10)]\n",
    "\n",
    "lista = sorted(lista)\n",
    "\n",
    "print(f\"O menor número da lista é {lista[0]}\")\n",
    "print(f\"O maior número da lista é {lista[-1]}\")\n",
    "print(lista)"
   ],
   "id": "15cb37bc8c0c66b1",
   "outputs": [
    {
     "name": "stdout",
     "output_type": "stream",
     "text": [
      "O menor número da lista é 1\n",
      "O maior número da lista é 29\n",
      "[1, 4, 5, 8, 8, 9, 11, 12, 18, 29]\n"
     ]
    }
   ],
   "execution_count": 9
  },
  {
   "metadata": {},
   "cell_type": "markdown",
   "source": "<code><b>23.</b></code> Calcule a média de uma lista de números.",
   "id": "aa32bd04509c82e"
  },
  {
   "metadata": {
    "ExecuteTime": {
     "end_time": "2025-01-18T13:18:05.494690Z",
     "start_time": "2025-01-18T13:18:05.485578Z"
    }
   },
   "cell_type": "code",
   "source": [
    "from random import randint\n",
    "\n",
    "lista = [randint(0, 30) for _ in range(10)]\n",
    "media = float(sum(lista) / len(lista))\n",
    "\n",
    "print(f'A média da lista é o número {media}')\n",
    "print(lista)"
   ],
   "id": "5c21fdee16e6cfb8",
   "outputs": [
    {
     "name": "stdout",
     "output_type": "stream",
     "text": [
      "A média da lista é o número 13.1\n",
      "[1, 22, 15, 3, 0, 24, 9, 25, 7, 25]\n"
     ]
    }
   ],
   "execution_count": 11
  },
  {
   "metadata": {},
   "cell_type": "markdown",
   "source": "<code><b>24.</b></code> Encontre os elementos duplicados em uma lista.",
   "id": "6a51cabc25cf252a"
  },
  {
   "metadata": {
    "ExecuteTime": {
     "end_time": "2025-01-18T13:22:47.827704Z",
     "start_time": "2025-01-18T13:22:47.818182Z"
    }
   },
   "cell_type": "code",
   "source": [
    "from random import randint\n",
    "\n",
    "lista = [randint(0, 30) for _ in range(30)]\n",
    "duplicados = []\n",
    "\n",
    "for elemento in lista:\n",
    "\tif lista.count(elemento) > 1:\n",
    "\t\tif elemento not in duplicados:\n",
    "\t\t\tduplicados.append(elemento)\n",
    "\n",
    "print(f'Os números que estão duplicados são: {duplicados}')\n",
    "print(lista)"
   ],
   "id": "92ee958072519a75",
   "outputs": [
    {
     "name": "stdout",
     "output_type": "stream",
     "text": [
      "Os números que estão duplicados são: [24, 0, 7, 9, 22, 23, 6, 25, 5]\n",
      "[24, 0, 7, 15, 9, 1, 14, 7, 4, 19, 22, 24, 22, 23, 23, 28, 24, 9, 6, 17, 25, 0, 5, 25, 26, 22, 6, 25, 11, 5]\n"
     ]
    }
   ],
   "execution_count": 25
  },
  {
   "metadata": {},
   "cell_type": "markdown",
   "source": "<code><b>25.</b></code> Gere uma nova lista onde cada elemento é a soma do elemento atual com o próximo, exceto para o último elemento.",
   "id": "74b5f10ac2f51976"
  },
  {
   "metadata": {
    "ExecuteTime": {
     "end_time": "2025-01-18T13:42:05.616965Z",
     "start_time": "2025-01-18T13:42:05.595047Z"
    }
   },
   "cell_type": "code",
   "source": [
    "from random import randint\n",
    "\n",
    "lista = [randint(0, 10) for _ in range(10)]\n",
    "nova_lista = []\n",
    "\n",
    "for index, valor in enumerate(lista):\n",
    "\tif index + 1 < len(lista):\n",
    "\t\tnova_lista.append(lista[index] + lista[(index + 1)])\n",
    "\telse:\n",
    "\t\tnova_lista.append(valor)\n",
    "\n",
    "print(lista)\n",
    "print(nova_lista)"
   ],
   "id": "5b6a1ec34e8cad9",
   "outputs": [
    {
     "name": "stdout",
     "output_type": "stream",
     "text": [
      "[1, 10, 8, 6, 8, 2, 9, 8, 7, 3]\n",
      "[11, 18, 14, 14, 10, 11, 17, 15, 10, 3]\n"
     ]
    }
   ],
   "execution_count": 31
  },
  {
   "metadata": {},
   "cell_type": "markdown",
   "source": [
    "### **List Comprehensions avançadas**\n",
    "<code><b>26.</b></code> Crie uma lista de tuplas com cada número de 1 a 5 e seu quadrado."
   ],
   "id": "64b242c12aec2a3a"
  },
  {
   "metadata": {
    "ExecuteTime": {
     "end_time": "2025-01-18T14:28:52.010923Z",
     "start_time": "2025-01-18T14:28:51.995075Z"
    }
   },
   "cell_type": "code",
   "source": [
    "lista = [(x, x*x) for x in range(1,6)]\n",
    "print(lista)"
   ],
   "id": "734818a970668750",
   "outputs": [
    {
     "name": "stdout",
     "output_type": "stream",
     "text": [
      "[(1, 1), (2, 4), (3, 9), (4, 16), (5, 25)]\n"
     ]
    }
   ],
   "execution_count": 32
  },
  {
   "metadata": {},
   "cell_type": "markdown",
   "source": "<code><b>27.</b></code> Gere uma lista com os números divisíveis por 3 e 5 no intervalo de 1 a 50.",
   "id": "f20f63f54eb51048"
  },
  {
   "metadata": {
    "ExecuteTime": {
     "end_time": "2025-01-18T14:30:24.262935Z",
     "start_time": "2025-01-18T14:30:24.254940Z"
    }
   },
   "cell_type": "code",
   "source": [
    "lista = [x for x in range(1,51) if (x % 3 == 0) and (x % 5 == 0)]\n",
    "\n",
    "print(lista)"
   ],
   "id": "23cb868221b75a3e",
   "outputs": [
    {
     "name": "stdout",
     "output_type": "stream",
     "text": [
      "[15, 30, 45]\n"
     ]
    }
   ],
   "execution_count": 33
  },
  {
   "metadata": {},
   "cell_type": "markdown",
   "source": "<code><b>28.</b></code> Converta uma lista de temperaturas em Celsius para Fahrenheit usando list comprehension.",
   "id": "7d753702908bd3c4"
  },
  {
   "metadata": {
    "ExecuteTime": {
     "end_time": "2025-01-18T14:37:54.049069Z",
     "start_time": "2025-01-18T14:37:54.031579Z"
    }
   },
   "cell_type": "code",
   "source": [
    "from random import randint\n",
    "\n",
    "def conversao_temp(celsius):\n",
    "\treturn (celsius * 9/5) + 32\n",
    "\n",
    "lista_ceusius = [randint(-5,35) for _ in range(10)]\n",
    "lista_convertida = [f'{conversao_temp(x)} Fº' for x in lista_ceusius]\n",
    "\n",
    "print(lista_ceusius)\n",
    "print(lista_convertida)"
   ],
   "id": "277e73330e55e623",
   "outputs": [
    {
     "name": "stdout",
     "output_type": "stream",
     "text": [
      "[6, 34, 18, 21, 8, 6, 14, 35, 16, 5]\n",
      "['42.8 Fº', '93.2 Fº', '64.4 Fº', '69.8 Fº', '46.4 Fº', '42.8 Fº', '57.2 Fº', '95.0 Fº', '60.8 Fº', '41.0 Fº']\n"
     ]
    }
   ],
   "execution_count": 36
  },
  {
   "metadata": {},
   "cell_type": "markdown",
   "source": "<code><b>29.</b></code> De uma lista de strings, extraia somente as que começam com uma vogal.",
   "id": "3888ac508fce04cf"
  },
  {
   "metadata": {
    "ExecuteTime": {
     "end_time": "2025-01-18T14:43:49.541168Z",
     "start_time": "2025-01-18T14:43:49.525916Z"
    }
   },
   "cell_type": "code",
   "source": [
    "def vogal_ou_nao(palavra):\n",
    "\tif palavra[0] in 'aeiou':\n",
    "\t\treturn True\n",
    "\telse:\n",
    "\t\treturn False\n",
    "\n",
    "lista_palavras = [\n",
    "\t\"Abacaxi\", \"Bicicleta\", \"Cachorro\", \"Dente\", \"Estrela\", \"Folha\",\n",
    "\t\"Gato\", \"Helicóptero\", \"Ilha\", \"Jardim\", \"Ketchup\", \"Laranja\",\n",
    "\t\"Máquina\", \"Noite\", \"Ouro\", \"Pássaro\", \"Queijo\", \"Relógio\",\n",
    "\t\"Sol\", \"Tartaruga\", \"Umbigo\", \"Vento\", \"Xícara\", \"Zebra\",\n",
    "\t\"Avião\", \"Caneta\", \"Dragão\", \"Escada\", \"Floresta\", \"Gelo\"\n",
    "]\n",
    "palavras_ini_vogais = [palavra for palavra in lista_palavras if palavra[0].lower() in \"aeiou\"]\n",
    "\n",
    "print(palavras_ini_vogais)\n"
   ],
   "id": "d100d22bd5535b18",
   "outputs": [
    {
     "name": "stdout",
     "output_type": "stream",
     "text": [
      "['Abacaxi', 'Estrela', 'Ilha', 'Ouro', 'Umbigo', 'Avião', 'Escada']\n"
     ]
    }
   ],
   "execution_count": 41
  },
  {
   "metadata": {},
   "cell_type": "markdown",
   "source": "<code><b>30.</b></code> Crie uma matriz 3x3 utilizando list comprehension.",
   "id": "c8210b1784962183"
  },
  {
   "metadata": {
    "ExecuteTime": {
     "end_time": "2025-01-29T15:47:26.701441Z",
     "start_time": "2025-01-29T15:47:26.671650Z"
    }
   },
   "cell_type": "code",
   "source": [
    "from random import randint\n",
    "matriz = [\n",
    "\t[randint(1,50) for i in range(5)],\n",
    "\t[randint(1,50) for i in range(5)],\n",
    "\t[randint(1,50) for i in range(5)]\n",
    "]\n",
    "\n",
    "print(matriz)"
   ],
   "id": "e57dc87a18a2b0d9",
   "outputs": [
    {
     "name": "stdout",
     "output_type": "stream",
     "text": [
      "[[14, 47, 24, 11, 21], [21, 35, 43, 38, 40], [34, 44, 6, 5, 35]]\n"
     ]
    }
   ],
   "execution_count": 1
  },
  {
   "metadata": {},
   "cell_type": "markdown",
   "source": [
    "---\n",
    "# **<font color=\"crinsom\">Avançado</font>** 🤯\n",
    "---"
   ],
   "id": "b81cd260c12fba75"
  },
  {
   "metadata": {},
   "cell_type": "markdown",
   "source": [
    "### **Manipulação complexa de listas**\n",
    "<code><b>31.</b></code> A partir de uma lista de listas, crie uma lista única contendo todos os elementos (flattening).\n"
   ],
   "id": "87afbc7605ab6b5a"
  },
  {
   "metadata": {
    "ExecuteTime": {
     "end_time": "2025-01-29T15:51:37.494935Z",
     "start_time": "2025-01-29T15:51:37.484287Z"
    }
   },
   "cell_type": "code",
   "source": [
    "from random import randint\n",
    "matriz = [\n",
    "\t[randint(1,50) for i in range(5)],\n",
    "\t[randint(1,50) for i in range(5)],\n",
    "\t[randint(1,50) for i in range(5)]\n",
    "]\n",
    "\n",
    "nova_lista = []\n",
    "for lista in matriz:\n",
    "\tfor elemento in lista:\n",
    "\t\tnova_lista.append(elemento)\n",
    "\n",
    "print(matriz)\n",
    "print(nova_lista)"
   ],
   "id": "5543870dbdb990c0",
   "outputs": [
    {
     "name": "stdout",
     "output_type": "stream",
     "text": [
      "[[25, 5, 24, 30, 34], [28, 41, 14, 38, 19], [34, 13, 2, 42, 39]]\n",
      "[25, 5, 24, 30, 34, 28, 41, 14, 38, 19, 34, 13, 2, 42, 39]\n"
     ]
    }
   ],
   "execution_count": 2
  },
  {
   "metadata": {},
   "cell_type": "markdown",
   "source": "<code><b>32.</b></code> Escreva um programa que identifique a sublista de maior soma em uma lista de listas.",
   "id": "ffb74d50c5411f8f"
  },
  {
   "metadata": {
    "ExecuteTime": {
     "end_time": "2025-01-29T15:57:16.563341Z",
     "start_time": "2025-01-29T15:57:16.555237Z"
    }
   },
   "cell_type": "code",
   "source": [
    "from random import randint\n",
    "\n",
    "matriz = [\n",
    "\t[randint(1,50) for i in range(5)],\n",
    "\t[randint(1,50) for i in range(5)],\n",
    "\t[randint(1,50) for i in range(5)]\n",
    "]\n",
    "\n",
    "somas = []\n",
    "for lista in matriz:\n",
    "\tsomas.append(sum(lista))\n",
    "\n",
    "maior_soma = max(somas)\n",
    "indice = somas.index(maior_soma)\n",
    "\n",
    "print(f\"O índice da lista com a maior soma é: {indice + 1}\")\n"
   ],
   "id": "8856926e3630c071",
   "outputs": [
    {
     "name": "stdout",
     "output_type": "stream",
     "text": [
      "O índice da lista com a maior soma é: 3\n"
     ]
    }
   ],
   "execution_count": 12
  },
  {
   "metadata": {},
   "cell_type": "markdown",
   "source": "<code><b>33.</b></code> Ordene uma lista de dicionários pelo valor de uma chave específica.",
   "id": "a40da92b0b3bb89b"
  },
  {
   "metadata": {
    "ExecuteTime": {
     "end_time": "2025-02-01T19:10:34.063020Z",
     "start_time": "2025-02-01T19:10:34.044903Z"
    }
   },
   "cell_type": "code",
   "source": [
    "dicionarios = [\n",
    "\t{\"C\": 3, \"D\": 4},\n",
    "\t{\"A\": 1, \"B\": 2},\n",
    "\t{\"E\": 5, \"F\": 6}\n",
    "]\n",
    "\n",
    "flat = {}\n",
    "\n",
    "# Achatando os dicionários\n",
    "for dicionario in dicionarios:\n",
    "\tflat.update(dicionario)\n",
    "\n",
    "# Ordenando colocando 'D' no início\n",
    "flat_ordenado = dict(sorted(flat.items(), key=lambda item: (item[0] != 'D', item[0])))\n",
    "\n",
    "print(flat_ordenado)  # Dicionário ordenado com 'D' primeiro\n",
    "print(flat.keys())  # Exibir apenas as chaves\n",
    "print(flat.values())  # Exibir apenas os valores\n"
   ],
   "id": "45ae2e154eb014ca",
   "outputs": [
    {
     "name": "stdout",
     "output_type": "stream",
     "text": [
      "{'D': 4, 'A': 1, 'B': 2, 'C': 3, 'E': 5, 'F': 6}\n",
      "dict_keys(['C', 'D', 'A', 'B', 'E', 'F'])\n",
      "dict_values([3, 4, 1, 2, 5, 6])\n"
     ]
    }
   ],
   "execution_count": 17
  },
  {
   "metadata": {},
   "cell_type": "markdown",
   "source": "<code><b>34.</b></code> Gere todas as combinações possíveis de duas listas diferentes.",
   "id": "15e07b1db0e0bde8"
  },
  {
   "metadata": {
    "ExecuteTime": {
     "end_time": "2025-02-01T19:15:22.952083Z",
     "start_time": "2025-02-01T19:15:22.933730Z"
    }
   },
   "cell_type": "code",
   "source": [
    "from random import randint\n",
    "from itertools import product\n",
    "\n",
    "lista_a = [ randint(1,50) for i in range(5) ]\n",
    "lista_b = [ randint(1,50) for i in range(5) ]\n",
    "\n",
    "lista_combinada = list(product(lista_a, lista_b))\n",
    "\n",
    "print(lista_combinada)"
   ],
   "id": "2e64e199f5f40e06",
   "outputs": [
    {
     "name": "stdout",
     "output_type": "stream",
     "text": [
      "[(41, 18), (41, 49), (41, 19), (41, 28), (41, 30), (33, 18), (33, 49), (33, 19), (33, 28), (33, 30), (44, 18), (44, 49), (44, 19), (44, 28), (44, 30), (20, 18), (20, 49), (20, 19), (20, 28), (20, 30), (49, 18), (49, 49), (49, 19), (49, 28), (49, 30)]\n"
     ]
    }
   ],
   "execution_count": 24
  },
  {
   "metadata": {
    "ExecuteTime": {
     "end_time": "2025-02-01T19:16:49.231987Z",
     "start_time": "2025-02-01T19:16:49.220135Z"
    }
   },
   "cell_type": "code",
   "source": [
    "from random import randint\n",
    "\n",
    "lista_a = [ randint(1,50) for i in range(5) ]\n",
    "lista_b = [ randint(1,50) for i in range(5) ]\n",
    "\n",
    "lista_combinada = [(x , y) for x in lista_a for y in lista_b]\n",
    "print(lista_combinada)"
   ],
   "id": "c0f46e4e0e3861fe",
   "outputs": [
    {
     "name": "stdout",
     "output_type": "stream",
     "text": [
      "[(45, 50), (45, 36), (45, 24), (45, 47), (45, 6), (37, 50), (37, 36), (37, 24), (37, 47), (37, 6), (18, 50), (18, 36), (18, 24), (18, 47), (18, 6), (43, 50), (43, 36), (43, 24), (43, 47), (43, 6), (40, 50), (40, 36), (40, 24), (40, 47), (40, 6)]\n"
     ]
    }
   ],
   "execution_count": 26
  },
  {
   "metadata": {},
   "cell_type": "markdown",
   "source": "<code><b>35.</b></code> Dada uma matriz 3x3, encontre a soma de cada linha e cada coluna.",
   "id": "6918563fe09a9d59"
  },
  {
   "metadata": {
    "ExecuteTime": {
     "end_time": "2025-02-01T19:45:20.101828Z",
     "start_time": "2025-02-01T19:45:20.084527Z"
    }
   },
   "cell_type": "code",
   "source": [
    "from random import randint\n",
    "\n",
    "matriz = [\n",
    "\t[randint(1,50) for i in range(3)],\n",
    "\t[randint(1,50) for i in range(3)],\n",
    "\t[randint(1,50) for i in range(3)]\n",
    "]\n",
    "\n",
    "for lista in matriz:\n",
    "\tprint(\"A soma da linha da lista é:\")\n",
    "\tprint(sum(lista))\n",
    "\n",
    "for lista in matriz:\n",
    "\tcoluna = []\n",
    "\tfor index in range(len(lista)):\n",
    "\t\tcoluna.append(lista[index])\n",
    "\t\tif lista[index]:\n",
    "\t\t\tcoluna.append(lista[0])\n",
    "\t\tprint('A soma da coluna é:')\n",
    "\t\tprint(sum(coluna))\n"
   ],
   "id": "1fa5a78ff4795b2d",
   "outputs": [
    {
     "name": "stdout",
     "output_type": "stream",
     "text": [
      "A soma da linha da lista é:\n",
      "72\n",
      "A soma da linha da lista é:\n",
      "93\n",
      "A soma da linha da lista é:\n",
      "119\n",
      "A soma da coluna é:\n",
      "28\n",
      "A soma da coluna é:\n",
      "74\n",
      "A soma da coluna é:\n",
      "114\n",
      "A soma da coluna é:\n",
      "92\n",
      "A soma da coluna é:\n",
      "159\n",
      "A soma da coluna é:\n",
      "231\n",
      "A soma da coluna é:\n",
      "92\n",
      "A soma da coluna é:\n",
      "169\n",
      "A soma da coluna é:\n",
      "257\n"
     ]
    }
   ],
   "execution_count": 31
  },
  {
   "metadata": {
    "ExecuteTime": {
     "end_time": "2025-02-01T19:47:06.819059Z",
     "start_time": "2025-02-01T19:47:06.792769Z"
    }
   },
   "cell_type": "code",
   "source": [
    "from random import randint\n",
    "\n",
    "# Definir tamanho da matriz\n",
    "linhas, colunas = 3, 3\n",
    "\n",
    "# Criar a matriz com números aleatórios\n",
    "matriz = [[randint(1, 50) for _ in range(colunas)] for _ in range(linhas)]\n",
    "\n",
    "# Exibir a matriz\n",
    "print(\"Matriz gerada:\")\n",
    "for linha in matriz:\n",
    "\tprint(linha)\n",
    "\n",
    "# Calcular e imprimir a soma de cada linha\n",
    "print(\"\\nSoma das linhas:\")\n",
    "for i, linha in enumerate(matriz):\n",
    "\tprint(f\"Linha {i + 1}: {sum(linha)}\")\n",
    "\n",
    "# Calcular e imprimir a soma de cada coluna\n",
    "print(\"\\nSoma das colunas:\")\n",
    "for j, coluna in enumerate(zip(*matriz)):  # zip agrupa os elementos de cada coluna\n",
    "\tprint(f\"Coluna {j + 1}: {sum(coluna)}\")\n"
   ],
   "id": "9479a480430c969c",
   "outputs": [
    {
     "name": "stdout",
     "output_type": "stream",
     "text": [
      "Matriz gerada:\n",
      "[25, 17, 27]\n",
      "[4, 11, 11]\n",
      "[2, 16, 24]\n",
      "\n",
      "Soma das linhas:\n",
      "Linha 1: 69\n",
      "Linha 2: 26\n",
      "Linha 3: 42\n",
      "\n",
      "Soma das colunas:\n",
      "Coluna 1: 31\n",
      "Coluna 2: 44\n",
      "Coluna 3: 62\n"
     ]
    }
   ],
   "execution_count": 32
  },
  {
   "metadata": {},
   "cell_type": "markdown",
   "source": [
    "### **Funções e listas**\n",
    "<code><b>36.</b></code> Crie uma função que receba uma lista e retorne outra com os elementos únicos."
   ],
   "id": "9e7b889a1c2e18f5"
  },
  {
   "metadata": {
    "ExecuteTime": {
     "end_time": "2025-02-01T19:50:59.928817Z",
     "start_time": "2025-02-01T19:50:59.908485Z"
    }
   },
   "cell_type": "code",
   "source": [
    "from random import randint\n",
    "\n",
    "def elementos_unicos(lista):\n",
    "\treturn list(set(lista))\n",
    "\n",
    "lista = [randint(1,30) for i in range(100)]\n",
    "print(lista)\n",
    "print(\"**********************************\")\n",
    "print(elementos_unicos(lista))"
   ],
   "id": "608af9b42717230f",
   "outputs": [
    {
     "name": "stdout",
     "output_type": "stream",
     "text": [
      "[10, 16, 10, 18, 28, 24, 22, 20, 6, 11, 10, 27, 6, 18, 9, 7, 19, 15, 2, 22, 28, 8, 9, 24, 25, 24, 18, 22, 18, 23, 3, 30, 20, 12, 10, 30, 17, 14, 4, 2, 18, 16, 3, 20, 6, 17, 1, 14, 4, 24, 6, 9, 19, 5, 4, 6, 14, 25, 28, 16, 29, 2, 28, 12, 14, 20, 22, 8, 19, 5, 22, 16, 24, 2, 26, 30, 25, 4, 27, 21, 3, 4, 9, 19, 26, 5, 30, 9, 3, 27, 28, 15, 10, 2, 2, 15, 20, 1, 19, 16]\n",
      "**********************************\n",
      "[1, 2, 3, 4, 5, 6, 7, 8, 9, 10, 11, 12, 14, 15, 16, 17, 18, 19, 20, 21, 22, 23, 24, 25, 26, 27, 28, 29, 30]\n"
     ]
    }
   ],
   "execution_count": 35
  },
  {
   "metadata": {},
   "cell_type": "markdown",
   "source": "<code><b>37.</b></code> Desenvolva uma função que encontre o índice de um elemento em uma lista (sem usar `index()`).",
   "id": "2cedbabff24e3139"
  },
  {
   "metadata": {
    "ExecuteTime": {
     "end_time": "2025-02-01T19:54:26.374627Z",
     "start_time": "2025-02-01T19:54:26.357765Z"
    }
   },
   "cell_type": "code",
   "source": [
    "def encontrando_indice(lista, indice):\n",
    "\tfor elemento in lista:\n",
    "\t\tif lista[indice] == elemento:\n",
    "\t\t\treturn elemento\n",
    "\n",
    "lista = [randint(1,30) for i in range(10)]\n",
    "indice = 0\n",
    "print(encontrando_indice(lista, indice))\n",
    "\n",
    "print(lista[indice])"
   ],
   "id": "aaa784e282d6d786",
   "outputs": [
    {
     "name": "stdout",
     "output_type": "stream",
     "text": [
      "12\n",
      "12\n"
     ]
    }
   ],
   "execution_count": 36
  },
  {
   "metadata": {
    "ExecuteTime": {
     "end_time": "2025-02-01T19:56:20.168287Z",
     "start_time": "2025-02-01T19:56:20.151914Z"
    }
   },
   "cell_type": "code",
   "source": [
    "from random import randint\n",
    "\n",
    "def encontrando_indice(lista, indice):\n",
    "\tif 0 <= indice < len(lista):  # Verifica se o índice é válido\n",
    "\t\treturn lista[indice]\n",
    "\telse:\n",
    "\t\treturn \"Índice inválido!\"\n",
    "\n",
    "# Criando uma lista aleatória\n",
    "lista = [randint(1, 30) for _ in range(10)]\n",
    "indice = 0  # Índice a ser buscado\n",
    "\n",
    "# Testando a função\n",
    "print(f\"Valor retornado pela função: {encontrando_indice(lista, indice)}\")\n",
    "print(f\"Valor acessado diretamente: {lista[indice]}\")\n",
    "print(f\"Lista completa: {lista}\")\n"
   ],
   "id": "b09de7752067ac08",
   "outputs": [
    {
     "name": "stdout",
     "output_type": "stream",
     "text": [
      "Valor retornado pela função: 18\n",
      "Valor acessado diretamente: 18\n",
      "Lista completa: [18, 27, 28, 28, 21, 14, 22, 8, 19, 24]\n"
     ]
    }
   ],
   "execution_count": 37
  },
  {
   "metadata": {},
   "cell_type": "markdown",
   "source": "<code><b>38.</b></code> Implemente uma função que divida uma lista em duas partes iguais.",
   "id": "46fe17c49f356be2"
  },
  {
   "metadata": {
    "ExecuteTime": {
     "end_time": "2025-02-02T13:32:21.531434Z",
     "start_time": "2025-02-02T13:32:21.509864Z"
    }
   },
   "cell_type": "code",
   "source": [
    "from random import randint\n",
    "\n",
    "def divide_lista(lista):\n",
    "\ttamanho = len(lista)\n",
    "\tif tamanho == 0:\n",
    "\t\treturn 'Lista vazia'\n",
    "\telse:\n",
    "\t\tmeio = (tamanho + 1) // 2  # Ajusta o cálculo do meio para lidar com listas ímpares\n",
    "\t\tlista_a = lista[:meio]\n",
    "\t\tlista_b = lista[meio:]\n",
    "\t\treturn lista_a, lista_b\n",
    "\n",
    "# Gerar uma lista aleatória com 11 elementos (para testar a divisão com uma lista ímpar)\n",
    "lista = [randint(1, 30) for _ in range(11)]\n",
    "lista_a, lista_b = divide_lista(lista)\n",
    "print('Lista original:', lista)\n",
    "print('Lista A:', lista_a)\n",
    "print('Lista B:', lista_b)\n"
   ],
   "id": "b1f02994389b96fe",
   "outputs": [
    {
     "name": "stdout",
     "output_type": "stream",
     "text": [
      "Lista original: [30, 26, 20, 18, 3, 9, 22, 13, 29, 8, 22]\n",
      "Lista A: [30, 26, 20, 18, 3, 9]\n",
      "Lista B: [22, 13, 29, 8, 22]\n"
     ]
    }
   ],
   "execution_count": 1
  },
  {
   "metadata": {},
   "cell_type": "markdown",
   "source": "<code><b>39.</b></code> Escreva uma função que receba duas listas e retorne a interseção entre elas.",
   "id": "3f515875471dc8f3"
  },
  {
   "metadata": {
    "ExecuteTime": {
     "end_time": "2025-02-02T14:00:52.283044Z",
     "start_time": "2025-02-02T14:00:52.277277Z"
    }
   },
   "cell_type": "code",
   "source": [
    "from random import randint\n",
    "\n",
    "def intercessao(lista_a, lista_b):\n",
    "\treturn list(set(lista_a) & set(lista_b))\n",
    "\n",
    "lista_a = [randint(1, 30) for _ in range(11)]\n",
    "lista_b = [randint(1, 30) for _ in range(11)]\n",
    "\n",
    "print(lista_a)\n",
    "print(lista_b)\n",
    "print(intercessao(lista_a, lista_b))"
   ],
   "id": "ee704debb2f8d4b",
   "outputs": [
    {
     "name": "stdout",
     "output_type": "stream",
     "text": [
      "[19, 25, 19, 23, 29, 11, 6, 30, 6, 14, 13]\n",
      "[17, 25, 13, 29, 13, 1, 20, 23, 18, 18, 26]\n",
      "[25, 29, 13, 23]\n"
     ]
    }
   ],
   "execution_count": 2
  },
  {
   "metadata": {},
   "cell_type": "markdown",
   "source": "<code><b>40.</b></code> Faça uma função que verifique se uma lista é palíndroma.",
   "id": "5b5df6f50f324e7f"
  },
  {
   "metadata": {
    "ExecuteTime": {
     "end_time": "2025-02-02T14:07:07.661663Z",
     "start_time": "2025-02-02T14:07:07.655794Z"
    }
   },
   "cell_type": "code",
   "source": [
    "x = 'osso'\n",
    "\n",
    "print(x[::-1])"
   ],
   "id": "f8d32fc3d40b157f",
   "outputs": [
    {
     "name": "stdout",
     "output_type": "stream",
     "text": [
      "osso\n"
     ]
    }
   ],
   "execution_count": 5
  },
  {
   "metadata": {
    "ExecuteTime": {
     "end_time": "2025-02-02T14:46:08.434144Z",
     "start_time": "2025-02-02T14:46:08.422355Z"
    }
   },
   "cell_type": "code",
   "source": [
    "lista = [\"ovo\", \"osso\", \"reler\", \"anilina\", \"1001\", \"ana\", \"otto\", \"natan\", \"marcio\", \"patricia\"]\n",
    "\n",
    "def lista_palindroma(lista):\n",
    "\tpalindromo = []\n",
    "\tfor item in lista:\n",
    "\t\tif item == item[::-1]:\n",
    "\t\t\tpalindromo.append(item)\n",
    "\treturn palindromo\n",
    "\n",
    "print(lista_palindroma(lista))\n"
   ],
   "id": "c073729e7bfa3a00",
   "outputs": [
    {
     "name": "stdout",
     "output_type": "stream",
     "text": [
      "['ovo', 'osso', 'reler', 'anilina', '1001', 'ana', 'otto', 'natan']\n"
     ]
    }
   ],
   "execution_count": 8
  },
  {
   "metadata": {},
   "cell_type": "markdown",
   "source": [
    "### **List Comprehensions complexas**\n",
    "<code><b>41.</b></code> Gere uma lista de listas com as tabelas de multiplicação de 1 a 5."
   ],
   "id": "4faea3977a95397a"
  },
  {
   "metadata": {},
   "cell_type": "code",
   "outputs": [],
   "execution_count": null,
   "source": "",
   "id": "6b8f3d7d1df4afae"
  },
  {
   "metadata": {},
   "cell_type": "markdown",
   "source": "<code><b>42.</b></code> Crie uma lista com as posições dos números pares em uma lista dada.",
   "id": "8d4eb87d4c32799d"
  },
  {
   "metadata": {},
   "cell_type": "code",
   "outputs": [],
   "execution_count": null,
   "source": "",
   "id": "a9f9cdb5adac6824"
  },
  {
   "metadata": {},
   "cell_type": "markdown",
   "source": "<code><b>43.</b></code> Crie uma lista de listas que represente um tabuleiro de xadrez 8x8.",
   "id": "a5009dc31c646ac8"
  },
  {
   "metadata": {},
   "cell_type": "code",
   "outputs": [],
   "execution_count": null,
   "source": "",
   "id": "23450b0ea13dcd97"
  },
  {
   "metadata": {},
   "cell_type": "markdown",
   "source": "<code><b>44.</b></code> Converta uma lista de palavras em suas respectivas contagens de caracteres usando list comprehension.",
   "id": "defe3a7f53d5e901"
  },
  {
   "metadata": {},
   "cell_type": "code",
   "outputs": [],
   "execution_count": null,
   "source": "",
   "id": "bc08ec7612b5e925"
  },
  {
   "metadata": {},
   "cell_type": "markdown",
   "source": "<code><b>45.</b></code> Substitua os múltiplos de 4 por `\"M4\"` e os múltiplos de 6 por `\"M6\"` em uma lista de 1 a 30.",
   "id": "c66facbb830a4339"
  },
  {
   "metadata": {},
   "cell_type": "markdown",
   "source": [
    "### **Desafios adicionais**\n",
    "<code><b>46.</b></code> Escreva um programa que gere todos os subconjuntos possíveis de uma lista.\n",
    "<code><b>47.</b></code> Desenvolva uma função que classifique uma lista em ordem decrescente de frequência dos elementos.\n",
    "<code><b>48.</b></code> Faça uma função que verifique se duas listas são anagramas.\n",
    "<code><b>49.</b></code> Dada uma lista de números, agrupe os elementos consecutivos em sublistas.\n",
    "<code><b>50.</b></code> Crie uma função que gere o produto cartesiano de duas listas."
   ],
   "id": "e2ad8cbb977a8953"
  }
 ],
 "metadata": {
  "kernelspec": {
   "display_name": "Python 3",
   "language": "python",
   "name": "python3"
  },
  "language_info": {
   "codemirror_mode": {
    "name": "ipython",
    "version": 2
   },
   "file_extension": ".py",
   "mimetype": "text/x-python",
   "name": "python",
   "nbconvert_exporter": "python",
   "pygments_lexer": "ipython2",
   "version": "2.7.6"
  }
 },
 "nbformat": 4,
 "nbformat_minor": 5
}
