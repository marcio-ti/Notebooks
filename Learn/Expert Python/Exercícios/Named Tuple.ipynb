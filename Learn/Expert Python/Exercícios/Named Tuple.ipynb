{
 "cells": [
  {
   "metadata": {},
   "cell_type": "markdown",
   "source": [
    "### Exercícios: Aprendendo e Praticando `NamedTuple`\n",
    "\n",
    "#### Básico\n",
    "1. **Criando sua primeira `NamedTuple`:**\n",
    "   Crie uma `NamedTuple` chamada `Book` com os campos `title`, `author` e `pages`. Em seguida, instancie um livro com os valores `\"1984\"`, `\"George Orwell\"` e `328`.\n",
    "\n",
    "2. **Acessando campos:**\n",
    "   Use a `NamedTuple` criada no exercício anterior para acessar e imprimir os valores dos campos `title` e `author` do objeto `Book`.\n",
    "\n",
    "3. **Imutabilidade:**\n",
    "   Tente modificar o valor do campo `pages` de um objeto `Book` criado no exercício anterior. Observe o erro gerado.\n",
    "\n",
    "4. **Lista de `NamedTuple`:**\n",
    "   Crie uma lista de objetos `Book` contendo três livros diferentes e, usando um loop, imprima os títulos de todos os livros.\n",
    "\n",
    "---\n",
    "\n",
    "#### Intermediário\n",
    "5. **Usando métodos de tupla:**\n",
    "   Crie uma `NamedTuple` chamada `Point` com os campos `x` e `y`. Instancie um ponto e utilize métodos padrão de tuplas, como `._asdict()` para converter o objeto em um dicionário e `._replace()` para alterar o valor de `x`.\n",
    "\n",
    "6. **Campos opcionais:**\n",
    "   Crie uma `NamedTuple` chamada `Student` com os campos `name`, `age` e `grade`, onde `grade` deve ter um valor padrão de `\"Not Assigned\"`. Instancie dois estudantes: um com e outro sem especificar o campo `grade`.\n",
    "\n",
    "7. **Ordenando objetos `NamedTuple`:**\n",
    "   Crie uma `NamedTuple` chamada `Product` com os campos `name` e `price`. Em seguida, crie uma lista de produtos e ordene-a pelo preço.\n",
    "\n",
    "8. **Uso com funções:**\n",
    "   Crie uma `NamedTuple` chamada `Rectangle` com os campos `length` e `width`. Em seguida, escreva uma função que receba um objeto `Rectangle` e retorne sua área.\n",
    "\n",
    "---\n",
    "\n",
    "#### Avançado\n",
    "9. **Herança e NamedTuple:**\n",
    "   Crie uma `NamedTuple` chamada `Vehicle` com os campos `brand` e `model`. Em seguida, crie uma subclasse chamada `Car` que adicione o campo `year`. Instancie um objeto da subclasse.\n",
    "\n",
    "10. **Simulando uma API:**\n",
    "    Imagine que você está trabalhando com uma API que retorna informações sobre filmes. Crie uma `NamedTuple` chamada `Movie` com os campos `title`, `director`, `year` e `rating`.\n",
    "    - Crie uma lista de objetos `Movie` simulando os dados retornados.\n",
    "    - Filtre os filmes com rating acima de 8.\n",
    "    - Converta os resultados filtrados em uma lista de dicionários usando o método `._asdict()`."
   ],
   "id": "46d3085e1ea0e7f0"
  },
  {
   "metadata": {},
   "cell_type": "code",
   "outputs": [],
   "execution_count": null,
   "source": "",
   "id": "9c7af8221b84d1e9"
  }
 ],
 "metadata": {
  "kernelspec": {
   "display_name": "Python 3",
   "language": "python",
   "name": "python3"
  },
  "language_info": {
   "codemirror_mode": {
    "name": "ipython",
    "version": 2
   },
   "file_extension": ".py",
   "mimetype": "text/x-python",
   "name": "python",
   "nbconvert_exporter": "python",
   "pygments_lexer": "ipython2",
   "version": "2.7.6"
  }
 },
 "nbformat": 4,
 "nbformat_minor": 5
}
